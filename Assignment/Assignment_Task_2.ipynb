{
 "cells": [
  {
   "cell_type": "markdown",
   "metadata": {},
   "source": [
    "Q1. Create a Python function to check whether the password entered by the user is correct or not."
   ]
  },
  {
   "cell_type": "code",
   "execution_count": 1,
   "metadata": {},
   "outputs": [
    {
     "name": "stdout",
     "output_type": "stream",
     "text": [
      "Invalid Password\n",
      "Invalid Password\n",
      "Invalid Password\n",
      "Invalid Password\n"
     ]
    }
   ],
   "source": [
    "import re\n",
    "\n",
    "def check_password(password):\n",
    "    if len(password) < 10:\n",
    "        return \"Invalid Password\"\n",
    "    \n",
    "    if len(re.findall(r'[A-Z]', password)) < 2:\n",
    "        return \"Invalid Password\"\n",
    "    \n",
    "    if len(re.findall(r'[a-z]', password)) < 2:\n",
    "        return \"Invalid Password\"\n",
    "    \n",
    "    if len(re.findall(r'\\d', password)) < 1:\n",
    "        return \"Invalid Password\"\n",
    "    \n",
    "    if len(re.findall(r'[^a-zA-Z0-9]', password)) < 3:\n",
    "        return \"Invalid Password\"\n",
    "    \n",
    "    return \"Valid Password\"\n",
    "\n",
    "# Test the function\n",
    "print(check_password(\"Aa1!@#$abc\"))  # Output: Valid Password\n",
    "print(check_password(\"Aa1!@#\"))      # Output: Invalid Password\n",
    "print(check_password(\"Aa1abcdabcd\")) # Output: Invalid Password\n",
    "print(check_password(\"A1!@#$%^\"))    # Output: Invalid Password\n"
   ]
  },
  {
   "cell_type": "markdown",
   "metadata": {},
   "source": [
    "Q2. Solve the given questions using lambda function, filter function, map function, or list comprehension."
   ]
  },
  {
   "cell_type": "code",
   "execution_count": 2,
   "metadata": {},
   "outputs": [
    {
     "name": "stdout",
     "output_type": "stream",
     "text": [
      "True\n",
      "False\n",
      "True\n",
      "False\n",
      "[('orange', 80), ('mango', 99), ('grapes', 1000)]\n",
      "[1, 4, 9, 16, 25, 36, 49, 64, 81, 100]\n",
      "[1.0, 1.26, 1.44, 1.59, 1.71, 1.82, 1.91, 2.0, 2.08, 2.15]\n",
      "True\n",
      "False\n",
      "[1, 3, 5, 7, 9]\n",
      "[0, 1, 2, 3, 4, 5, 6]\n",
      "[-5, -4, -3, -2, -1]\n"
     ]
    }
   ],
   "source": [
    "starts_with = lambda s, letter: s.startswith(letter)\n",
    "print(starts_with(\"hello\", \"h\"))  \n",
    "print(starts_with(\"world\", \"h\")) \n",
    "\n",
    "\n",
    "is_numeric = lambda s: s.isdigit()\n",
    "print(is_numeric(\"12345\"))  \n",
    "print(is_numeric(\"123a45\")) \n",
    "\n",
    "\n",
    "fruits = [(\"mango\", 99), (\"orange\", 80), (\"grapes\", 1000)]\n",
    "sorted_fruits = sorted(fruits, key=lambda x: x[1])\n",
    "print(sorted_fruits)  \n",
    "\n",
    "squares = [x**2 for x in range(1, 11)]\n",
    "print(squares)  \n",
    "\n",
    "import math\n",
    "cube_roots = [round(math.pow(x, 1/3), 2) for x in range(1, 11)]\n",
    "print(cube_roots)  \n",
    "\n",
    "is_even = lambda x: x % 2 == 0\n",
    "print(is_even(4))  \n",
    "print(is_even(5))  \n",
    "\n",
    "\n",
    "numbers = [1, 2, 3, 4, 5, 6, 7, 8, 9, 10]\n",
    "odd_numbers = list(filter(lambda x: x % 2 != 0, numbers))\n",
    "print(odd_numbers)  \n",
    "\n",
    "\n",
    "integers = [1, 2, 3, 4, 5, 6, -1, -2, -3, -4, -5, 0]\n",
    "positive_integers = sorted([x for x in integers if x >= 0])\n",
    "negative_integers = sorted([x for x in integers if x < 0])\n",
    "print(positive_integers)  \n",
    "print(negative_integers)  \n",
    "\n",
    "\n"
   ]
  },
  {
   "cell_type": "code",
   "execution_count": null,
   "metadata": {},
   "outputs": [],
   "source": []
  }
 ],
 "metadata": {
  "kernelspec": {
   "display_name": "base",
   "language": "python",
   "name": "python3"
  },
  "language_info": {
   "codemirror_mode": {
    "name": "ipython",
    "version": 3
   },
   "file_extension": ".py",
   "mimetype": "text/x-python",
   "name": "python",
   "nbconvert_exporter": "python",
   "pygments_lexer": "ipython3",
   "version": "3.12.4"
  }
 },
 "nbformat": 4,
 "nbformat_minor": 2
}
