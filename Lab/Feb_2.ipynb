{
 "cells": [
  {
   "cell_type": "markdown",
   "id": "aaf5dc32-3e3a-46a9-b493-47f40fc6bf79",
   "metadata": {},
   "source": [
    "# Tuple"
   ]
  },
  {
   "cell_type": "code",
   "execution_count": 1,
   "id": "377bd876-014e-416a-b1a5-c1ae253a3bac",
   "metadata": {},
   "outputs": [],
   "source": [
    "t = ()"
   ]
  },
  {
   "cell_type": "code",
   "execution_count": 2,
   "id": "9c161fb9-eb4b-4ca2-82d1-46efd2eb0cfe",
   "metadata": {},
   "outputs": [
    {
     "data": {
      "text/plain": [
       "tuple"
      ]
     },
     "execution_count": 2,
     "metadata": {},
     "output_type": "execute_result"
    }
   ],
   "source": [
    "type(t)"
   ]
  },
  {
   "cell_type": "code",
   "execution_count": 8,
   "id": "2bb4aff0-57f0-4d93-9a4e-12ec2f0a9e88",
   "metadata": {},
   "outputs": [],
   "source": [
    "t1 = (1, 2, 3, 2.5, 'hi', 45+7j, True, False)"
   ]
  },
  {
   "cell_type": "code",
   "execution_count": 9,
   "id": "7f5a5074-a7c7-48d2-9188-304071a8f64f",
   "metadata": {},
   "outputs": [
    {
     "data": {
      "text/plain": [
       "(1, 2, 3, 2.5, 'hi', (45+7j), True, False)"
      ]
     },
     "execution_count": 9,
     "metadata": {},
     "output_type": "execute_result"
    }
   ],
   "source": [
    "t1"
   ]
  },
  {
   "cell_type": "code",
   "execution_count": 10,
   "id": "9355cd88-f187-48d8-a966-8190e4af78a1",
   "metadata": {},
   "outputs": [
    {
     "data": {
      "text/plain": [
       "complex"
      ]
     },
     "execution_count": 10,
     "metadata": {},
     "output_type": "execute_result"
    }
   ],
   "source": [
    "type(t1[5])"
   ]
  },
  {
   "cell_type": "code",
   "execution_count": 11,
   "id": "d81b07c7-5936-46d0-9189-b6fbcb9d4ef0",
   "metadata": {},
   "outputs": [
    {
     "data": {
      "text/plain": [
       "(False, True, (45+7j), 'hi', 2.5, 3, 2, 1)"
      ]
     },
     "execution_count": 11,
     "metadata": {},
     "output_type": "execute_result"
    }
   ],
   "source": [
    "t1[::-1]"
   ]
  },
  {
   "cell_type": "code",
   "execution_count": 12,
   "id": "8b6c0e93-d7bd-42fa-8325-963dcc9602a6",
   "metadata": {},
   "outputs": [
    {
     "name": "stdout",
     "output_type": "stream",
     "text": [
      "False\n",
      "True\n",
      "(45+7j)\n",
      "hi\n",
      "2.5\n",
      "3\n",
      "2\n",
      "1\n"
     ]
    }
   ],
   "source": [
    "for i in reversed(t1):\n",
    "    print(i)"
   ]
  },
  {
   "cell_type": "markdown",
   "id": "5e87dd53-b0cc-4ca9-963f-b7bb1825c1e7",
   "metadata": {},
   "source": [
    "### Inbuild functions"
   ]
  },
  {
   "cell_type": "markdown",
   "id": "e32a82c3-8d50-463f-b4a3-22a491bbbd97",
   "metadata": {},
   "source": [
    "#### it has only 2 functions"
   ]
  },
  {
   "cell_type": "code",
   "execution_count": 14,
   "id": "b0bca346-7cee-4bfd-a982-29f1e996d2b4",
   "metadata": {},
   "outputs": [
    {
     "data": {
      "text/plain": [
       "1"
      ]
     },
     "execution_count": 14,
     "metadata": {},
     "output_type": "execute_result"
    }
   ],
   "source": [
    "t1.count(2)"
   ]
  },
  {
   "cell_type": "code",
   "execution_count": 15,
   "id": "53bc36be-d28c-4e7f-a9ae-24ff45b7631f",
   "metadata": {},
   "outputs": [
    {
     "data": {
      "text/plain": [
       "2"
      ]
     },
     "execution_count": 15,
     "metadata": {},
     "output_type": "execute_result"
    }
   ],
   "source": [
    "t1.index(3)"
   ]
  },
  {
   "cell_type": "code",
   "execution_count": 18,
   "id": "a20627ff-e7f7-48b8-860b-e12e1f8cd201",
   "metadata": {},
   "outputs": [
    {
     "data": {
      "text/plain": [
       "2"
      ]
     },
     "execution_count": 18,
     "metadata": {},
     "output_type": "execute_result"
    }
   ],
   "source": [
    "t1.count(True) ## True is saved as 1 "
   ]
  },
  {
   "cell_type": "code",
   "execution_count": 19,
   "id": "0696bf63-bd38-4cc0-ac40-fff96eefa70f",
   "metadata": {},
   "outputs": [
    {
     "data": {
      "text/plain": [
       "2"
      ]
     },
     "execution_count": 19,
     "metadata": {},
     "output_type": "execute_result"
    }
   ],
   "source": [
    "t1.count(1)"
   ]
  },
  {
   "cell_type": "code",
   "execution_count": 17,
   "id": "5bdec084-8dcd-44fa-b6dc-696155136d8b",
   "metadata": {},
   "outputs": [
    {
     "name": "stdout",
     "output_type": "stream",
     "text": [
      "1\n"
     ]
    }
   ],
   "source": [
    "t = (1,2,3,\"vithurshan\",True)\n",
    "count = sum(1 for x in t if x == 1 and not isinstance(x, bool))\n",
    "print(count)"
   ]
  },
  {
   "cell_type": "code",
   "execution_count": 2,
   "id": "31329aa7-98fb-4362-907a-d9b3edca7be0",
   "metadata": {},
   "outputs": [],
   "source": [
    "t = (1,2,3,4)"
   ]
  },
  {
   "cell_type": "code",
   "execution_count": 3,
   "id": "8c082a80-2f3d-4edf-a447-0edfefec328b",
   "metadata": {},
   "outputs": [
    {
     "data": {
      "text/plain": [
       "(1, 2, 3, 4, 1, 2, 3, 4, 1, 2, 3, 4)"
      ]
     },
     "execution_count": 3,
     "metadata": {},
     "output_type": "execute_result"
    }
   ],
   "source": [
    "t * 3"
   ]
  },
  {
   "cell_type": "code",
   "execution_count": 4,
   "id": "77f58b91-4936-43f4-8d1d-39671072727b",
   "metadata": {},
   "outputs": [
    {
     "data": {
      "text/plain": [
       "1"
      ]
     },
     "execution_count": 4,
     "metadata": {},
     "output_type": "execute_result"
    }
   ],
   "source": [
    "min(t)"
   ]
  },
  {
   "cell_type": "code",
   "execution_count": 5,
   "id": "433e7862-0fe8-48bc-9b5d-c678554b16ab",
   "metadata": {},
   "outputs": [
    {
     "data": {
      "text/plain": [
       "4"
      ]
     },
     "execution_count": 5,
     "metadata": {},
     "output_type": "execute_result"
    }
   ],
   "source": [
    "max(t)"
   ]
  },
  {
   "cell_type": "code",
   "execution_count": 8,
   "id": "21edd3ee-f513-467e-910f-1de028a14cb8",
   "metadata": {},
   "outputs": [
    {
     "data": {
      "text/plain": [
       "1"
      ]
     },
     "execution_count": 8,
     "metadata": {},
     "output_type": "execute_result"
    }
   ],
   "source": [
    "t[0]"
   ]
  },
  {
   "cell_type": "code",
   "execution_count": 9,
   "id": "13fbc3ae-8a87-4f27-82e7-8640e972b40c",
   "metadata": {},
   "outputs": [],
   "source": [
    "t1 = (1,2,3)\n",
    "t2 = (4,5,6)"
   ]
  },
  {
   "cell_type": "code",
   "execution_count": 11,
   "id": "888ee0f0-9514-4460-beab-b82d03637b76",
   "metadata": {},
   "outputs": [
    {
     "data": {
      "text/plain": [
       "((1, 2, 3), (4, 5, 6))"
      ]
     },
     "execution_count": 11,
     "metadata": {},
     "output_type": "execute_result"
    }
   ],
   "source": [
    "t3 = (t1,t2)\n",
    "t3"
   ]
  },
  {
   "cell_type": "code",
   "execution_count": 16,
   "id": "eb3d4ea5-3320-4584-9746-fd71ec9ca2fb",
   "metadata": {},
   "outputs": [
    {
     "data": {
      "text/plain": [
       "(1, 2, 3, 4, 5, 6)"
      ]
     },
     "execution_count": 16,
     "metadata": {},
     "output_type": "execute_result"
    }
   ],
   "source": [
    "tt = t1 + t2\n",
    "tt"
   ]
  },
  {
   "cell_type": "code",
   "execution_count": 20,
   "id": "8c7a62c1-2a7b-4eaa-96bd-adeb3129dc84",
   "metadata": {},
   "outputs": [
    {
     "data": {
      "text/plain": [
       "((1, 2, 3), [5, 5, 5])"
      ]
     },
     "execution_count": 20,
     "metadata": {},
     "output_type": "execute_result"
    }
   ],
   "source": [
    "t4 = (t1,[5,5,5])\n",
    "t4"
   ]
  },
  {
   "cell_type": "code",
   "execution_count": 22,
   "id": "ab7434bf-a3bf-437b-a9d3-75a3124cdf88",
   "metadata": {},
   "outputs": [
    {
     "data": {
      "text/plain": [
       "[5, 5, 5]"
      ]
     },
     "execution_count": 22,
     "metadata": {},
     "output_type": "execute_result"
    }
   ],
   "source": [
    "t4[1]"
   ]
  },
  {
   "cell_type": "code",
   "execution_count": 14,
   "id": "aca201ed-9086-48f7-903c-6dd91de03c92",
   "metadata": {},
   "outputs": [],
   "source": [
    "# deleting\n",
    "del t4"
   ]
  },
  {
   "cell_type": "code",
   "execution_count": 18,
   "id": "3019e165-e708-47ea-9472-87308f047e0d",
   "metadata": {},
   "outputs": [
    {
     "data": {
      "text/plain": [
       "True"
      ]
     },
     "execution_count": 18,
     "metadata": {},
     "output_type": "execute_result"
    }
   ],
   "source": [
    "1 in t1"
   ]
  },
  {
   "cell_type": "markdown",
   "id": "72b5fd74-2ade-48f3-9cb3-8c2e891823f2",
   "metadata": {},
   "source": [
    "# Sets"
   ]
  },
  {
   "cell_type": "code",
   "execution_count": 39,
   "id": "dcd1c98b-66eb-426d-8a91-f6379bdabe02",
   "metadata": {},
   "outputs": [],
   "source": [
    "s = {i for i in range(5)}"
   ]
  },
  {
   "cell_type": "code",
   "execution_count": 25,
   "id": "0fa76add-53ff-4291-8dbe-df2c97d56b74",
   "metadata": {},
   "outputs": [
    {
     "data": {
      "text/plain": [
       "{0, 1, 2, 3, 4}"
      ]
     },
     "execution_count": 25,
     "metadata": {},
     "output_type": "execute_result"
    }
   ],
   "source": [
    "s"
   ]
  },
  {
   "cell_type": "code",
   "execution_count": 40,
   "id": "e48df608-a5d1-4190-8ab2-5f8cef225318",
   "metadata": {},
   "outputs": [],
   "source": [
    "s1 = {1 for i in range(5)}"
   ]
  },
  {
   "cell_type": "code",
   "execution_count": 41,
   "id": "d81ca5ba-700a-48c3-8fd5-0a36d6a8c269",
   "metadata": {},
   "outputs": [
    {
     "data": {
      "text/plain": [
       "{0, 1, 2, 3, 4}"
      ]
     },
     "execution_count": 41,
     "metadata": {},
     "output_type": "execute_result"
    }
   ],
   "source": [
    "s"
   ]
  },
  {
   "cell_type": "code",
   "execution_count": 42,
   "id": "1d7423d8-6221-4531-aa34-7b8d808b5361",
   "metadata": {},
   "outputs": [],
   "source": [
    "a = [1,(2,),[3],{4}]"
   ]
  },
  {
   "cell_type": "code",
   "execution_count": 43,
   "id": "070277bd-209b-40b4-8255-98b5867b8e2f",
   "metadata": {},
   "outputs": [
    {
     "data": {
      "text/plain": [
       "set"
      ]
     },
     "execution_count": 43,
     "metadata": {},
     "output_type": "execute_result"
    }
   ],
   "source": [
    "type(a[3])"
   ]
  },
  {
   "cell_type": "code",
   "execution_count": 44,
   "id": "f7df145d-e765-491c-87d3-145218f5ac73",
   "metadata": {},
   "outputs": [
    {
     "data": {
      "text/plain": [
       "[0, 1, 2, 3, 4]"
      ]
     },
     "execution_count": 44,
     "metadata": {},
     "output_type": "execute_result"
    }
   ],
   "source": [
    "list(s)"
   ]
  },
  {
   "cell_type": "code",
   "execution_count": 45,
   "id": "ecb92be5-95f7-4e45-9fe1-54ac2afd00ec",
   "metadata": {},
   "outputs": [
    {
     "data": {
      "text/plain": [
       "(0, 1, 2, 3, 4)"
      ]
     },
     "execution_count": 45,
     "metadata": {},
     "output_type": "execute_result"
    }
   ],
   "source": [
    "tuple(s)"
   ]
  },
  {
   "cell_type": "markdown",
   "id": "fb66e237-56dd-4a10-bd13-f88b68776afb",
   "metadata": {},
   "source": [
    "## list can not be inserted inside the set but, tuple can be added\n",
    "## Why"
   ]
  },
  {
   "cell_type": "raw",
   "id": "9a43193a-0b55-410c-8b24-4aa3c28b8da7",
   "metadata": {},
   "source": [
    "Lists are mutable in Python, which means that their contents can be changed after they are created. On the other hand, tuples are immutable, meaning that their contents cannot be changed after they are created.\n",
    "\n",
    "Sets in Python are unordered collections of unique elements, and adding an element to a set requires checking if it already exists in the set. To check for the existence of an element, the set must perform a hash operation, which is a fast way to determine equality. However, for this operation to work, the elements must be hashable, which means that they must be immutable.\n",
    "\n",
    "Since lists are mutable, their hash value can change after they are added to the set, which would cause the hash operation to fail and make it impossible to accurately determine if an element already exists in the set. This is why lists cannot be inserted into sets, as they are not hashable.\n",
    "\n",
    "Tuples, on the other hand, are immutable and hashable, so they can be inserted into sets without any issues. When you add a tuple to a set, the set can perform a hash operation on the tuple to determine if it already exists in the set, and if not, add it to the set.\n",
    "\n",
    "In short, the reason why tuples can be inserted into sets but lists cannot is due to the immutability requirement for hashability of the elements in a set."
   ]
  },
  {
   "cell_type": "code",
   "execution_count": 46,
   "id": "3df82312-a601-4934-afc4-fb36055215f4",
   "metadata": {},
   "outputs": [
    {
     "ename": "TypeError",
     "evalue": "unhashable type: 'list'",
     "output_type": "error",
     "traceback": [
      "\u001b[0;31m---------------------------------------------------------------------------\u001b[0m",
      "\u001b[0;31mTypeError\u001b[0m                                 Traceback (most recent call last)",
      "Cell \u001b[0;32mIn[46], line 1\u001b[0m\n\u001b[0;32m----> 1\u001b[0m s4 \u001b[38;5;241m=\u001b[39m {\u001b[38;5;241m1\u001b[39m,\u001b[38;5;241m2\u001b[39m,\u001b[38;5;241m3\u001b[39m,\u001b[38;5;241m4\u001b[39m,[\u001b[38;5;241m1\u001b[39m,\u001b[38;5;241m2\u001b[39m,\u001b[38;5;241m3\u001b[39m,\u001b[38;5;241m4\u001b[39m]}\n",
      "\u001b[0;31mTypeError\u001b[0m: unhashable type: 'list'"
     ]
    }
   ],
   "source": [
    "s4 = {1,2,3,4,[1,2,3,4]}"
   ]
  },
  {
   "cell_type": "code",
   "execution_count": 50,
   "id": "c81e1fce-b1d1-40b3-9717-777fe52f4eae",
   "metadata": {},
   "outputs": [
    {
     "data": {
      "text/plain": [
       "{(1, 2, 3), 1, 2}"
      ]
     },
     "execution_count": 50,
     "metadata": {},
     "output_type": "execute_result"
    }
   ],
   "source": [
    "s5 = {1,2,(1,2,3)}\n",
    "s5"
   ]
  },
  {
   "cell_type": "code",
   "execution_count": null,
   "id": "7270ade9-4005-4aff-a33c-c563fdbe6353",
   "metadata": {},
   "outputs": [
    {
     "ename": "TypeError",
     "evalue": "'set' object is not subscriptable",
     "output_type": "error",
     "traceback": [
      "\u001b[0;31m---------------------------------------------------------------------------\u001b[0m",
      "\u001b[0;31mTypeError\u001b[0m                                 Traceback (most recent call last)",
      "Cell \u001b[0;32mIn[51], line 1\u001b[0m\n\u001b[0;32m----> 1\u001b[0m \u001b[43ms5\u001b[49m\u001b[43m[\u001b[49m\u001b[38;5;241;43m0\u001b[39;49m\u001b[43m]\u001b[49m\n",
      "\u001b[0;31mTypeError\u001b[0m: 'set' object is not subscriptable"
     ]
    }
   ],
   "source": [
    "s5[0]"
   ]
  },
  {
   "cell_type": "code",
   "execution_count": 52,
   "id": "9c06a831-8cb1-46ec-b86e-778797ce87b9",
   "metadata": {},
   "outputs": [
    {
     "name": "stdout",
     "output_type": "stream",
     "text": [
      "1\n",
      "2\n",
      "(1, 2, 3)\n"
     ]
    }
   ],
   "source": [
    "for i in s5:\n",
    "    print(i)"
   ]
  },
  {
   "cell_type": "code",
   "execution_count": 1,
   "id": "7854cda9-7d88-4ded-bcac-738f63b3b55b",
   "metadata": {},
   "outputs": [
    {
     "ename": "TypeError",
     "evalue": "unhashable type: 'dict'",
     "output_type": "error",
     "traceback": [
      "\u001b[0;31m---------------------------------------------------------------------------\u001b[0m",
      "\u001b[0;31mTypeError\u001b[0m                                 Traceback (most recent call last)",
      "Cell \u001b[0;32mIn[1], line 1\u001b[0m\n\u001b[0;32m----> 1\u001b[0m s6 \u001b[38;5;241m=\u001b[39m {\u001b[38;5;241m1\u001b[39m,\u001b[38;5;241m2\u001b[39m,{\u001b[38;5;241m3\u001b[39m:\u001b[38;5;241m3.5\u001b[39m}}\n",
      "\u001b[0;31mTypeError\u001b[0m: unhashable type: 'dict'"
     ]
    }
   ],
   "source": [
    "s6 = {1,2,{3:3.5}}"
   ]
  },
  {
   "cell_type": "markdown",
   "id": "51222f2c-f43b-4e08-b334-1debd87a171a",
   "metadata": {},
   "source": [
    "### Functions"
   ]
  },
  {
   "cell_type": "code",
   "execution_count": 53,
   "id": "7bb25c8b-9ceb-43d8-872a-d26fce5f9242",
   "metadata": {},
   "outputs": [],
   "source": [
    "s7 = {i for i in range(5)}"
   ]
  },
  {
   "cell_type": "code",
   "execution_count": 55,
   "id": "4bde7d55-02cf-4de4-b686-39fe2df1c05e",
   "metadata": {},
   "outputs": [
    {
     "data": {
      "text/plain": [
       "{0, 1, 2, 3, 4, 30}"
      ]
     },
     "execution_count": 55,
     "metadata": {},
     "output_type": "execute_result"
    }
   ],
   "source": [
    "s7.add(30)\n",
    "s7.add(30)\n",
    "s7"
   ]
  },
  {
   "cell_type": "code",
   "execution_count": 56,
   "id": "d1068359-cb82-455f-beaf-45e3340f59d8",
   "metadata": {},
   "outputs": [
    {
     "data": {
      "text/plain": [
       "6"
      ]
     },
     "execution_count": 56,
     "metadata": {},
     "output_type": "execute_result"
    }
   ],
   "source": [
    "len(s7)"
   ]
  },
  {
   "cell_type": "markdown",
   "id": "ea3398b9-5903-449d-8b0d-03b50ef4cf65",
   "metadata": {},
   "source": [
    "#### pop removes elements according to the hashing order"
   ]
  },
  {
   "cell_type": "code",
   "execution_count": 57,
   "id": "e76501dd-8b43-4f40-a8b9-47759ca7aaf0",
   "metadata": {},
   "outputs": [
    {
     "data": {
      "text/plain": [
       "0"
      ]
     },
     "execution_count": 57,
     "metadata": {},
     "output_type": "execute_result"
    }
   ],
   "source": [
    "s7.pop()"
   ]
  },
  {
   "cell_type": "code",
   "execution_count": 58,
   "id": "909c82fe-a20f-4022-8ac2-e10d6ea703f2",
   "metadata": {},
   "outputs": [
    {
     "data": {
      "text/plain": [
       "{1, 2, 3, 4, 30}"
      ]
     },
     "execution_count": 58,
     "metadata": {},
     "output_type": "execute_result"
    }
   ],
   "source": [
    "s7"
   ]
  },
  {
   "cell_type": "code",
   "execution_count": 59,
   "id": "f06b01c4-77cb-43af-916a-e9c935780e0b",
   "metadata": {},
   "outputs": [
    {
     "data": {
      "text/plain": [
       "1"
      ]
     },
     "execution_count": 59,
     "metadata": {},
     "output_type": "execute_result"
    }
   ],
   "source": [
    "s7.pop()"
   ]
  },
  {
   "cell_type": "code",
   "execution_count": 60,
   "id": "121936a1-ec4c-4d48-853a-089f123b0e36",
   "metadata": {},
   "outputs": [
    {
     "data": {
      "text/plain": [
       "2"
      ]
     },
     "execution_count": 60,
     "metadata": {},
     "output_type": "execute_result"
    }
   ],
   "source": [
    "s7.pop()"
   ]
  },
  {
   "cell_type": "code",
   "execution_count": 61,
   "id": "73f5c389-0630-400d-bd81-5389f3d82177",
   "metadata": {},
   "outputs": [],
   "source": [
    "s7.clear()"
   ]
  },
  {
   "cell_type": "code",
   "execution_count": 62,
   "id": "105378a4-224d-4d4c-bd36-763197c67391",
   "metadata": {},
   "outputs": [
    {
     "data": {
      "text/plain": [
       "set()"
      ]
     },
     "execution_count": 62,
     "metadata": {},
     "output_type": "execute_result"
    }
   ],
   "source": [
    "s7"
   ]
  },
  {
   "cell_type": "code",
   "execution_count": 63,
   "id": "1c0cdd1e-9df9-4378-a420-437c77cf9916",
   "metadata": {},
   "outputs": [],
   "source": [
    "s8 = {1,2,3,4}\n",
    "s9 = {1,2,3,5}"
   ]
  },
  {
   "cell_type": "code",
   "execution_count": 64,
   "id": "50a76924-85cc-4da9-9550-5b6f42957968",
   "metadata": {},
   "outputs": [
    {
     "data": {
      "text/plain": [
       "{4}"
      ]
     },
     "execution_count": 64,
     "metadata": {},
     "output_type": "execute_result"
    }
   ],
   "source": [
    "s8.difference(s9)"
   ]
  },
  {
   "cell_type": "code",
   "execution_count": 65,
   "id": "6c979e5d-f6c2-4be5-8fb2-5207caf078df",
   "metadata": {},
   "outputs": [
    {
     "data": {
      "text/plain": [
       "{5}"
      ]
     },
     "execution_count": 65,
     "metadata": {},
     "output_type": "execute_result"
    }
   ],
   "source": [
    "s9.difference(s8)"
   ]
  },
  {
   "cell_type": "markdown",
   "id": "dc5c28bb-75bb-448d-867f-93965b80529e",
   "metadata": {},
   "source": [
    "# Dictionary"
   ]
  },
  {
   "cell_type": "code",
   "execution_count": 66,
   "id": "392e11b1-bed2-4107-a37f-15ce4e0844e4",
   "metadata": {},
   "outputs": [],
   "source": [
    "d1 = {True:\"yes\",False:\"no\"}"
   ]
  },
  {
   "cell_type": "code",
   "execution_count": 68,
   "id": "ae22f7d6-05fa-4dab-9d79-41e1b1f7c7d6",
   "metadata": {},
   "outputs": [
    {
     "data": {
      "text/plain": [
       "'yes'"
      ]
     },
     "execution_count": 68,
     "metadata": {},
     "output_type": "execute_result"
    }
   ],
   "source": [
    "d1[True]"
   ]
  },
  {
   "cell_type": "code",
   "execution_count": 69,
   "id": "55548f77-f047-417f-98d1-3e62835f9ee9",
   "metadata": {},
   "outputs": [],
   "source": [
    "d2 = {\"@\":'at',\"#\":'hash'}"
   ]
  },
  {
   "cell_type": "code",
   "execution_count": 70,
   "id": "612c4e1b-7ff2-4e2f-b227-b52734c96167",
   "metadata": {},
   "outputs": [
    {
     "data": {
      "text/plain": [
       "{'@': 'at', '#': 'hash'}"
      ]
     },
     "execution_count": 70,
     "metadata": {},
     "output_type": "execute_result"
    }
   ],
   "source": [
    "d2"
   ]
  },
  {
   "cell_type": "code",
   "execution_count": 71,
   "id": "81b96e70-59ba-4f89-9da7-38127746cdcd",
   "metadata": {},
   "outputs": [
    {
     "ename": "TypeError",
     "evalue": "unhashable type: 'list'",
     "output_type": "error",
     "traceback": [
      "\u001b[0;31m---------------------------------------------------------------------------\u001b[0m",
      "\u001b[0;31mTypeError\u001b[0m                                 Traceback (most recent call last)",
      "Cell \u001b[0;32mIn[71], line 1\u001b[0m\n\u001b[0;32m----> 1\u001b[0m d3 \u001b[38;5;241m=\u001b[39m {[\u001b[38;5;241m1\u001b[39m,\u001b[38;5;241m2\u001b[39m,\u001b[38;5;241m3\u001b[39m]:\u001b[38;5;124m\"\u001b[39m\u001b[38;5;124mfirst\u001b[39m\u001b[38;5;124m\"\u001b[39m}\n",
      "\u001b[0;31mTypeError\u001b[0m: unhashable type: 'list'"
     ]
    }
   ],
   "source": [
    "d3 = {[1,2,3]:\"first\"}"
   ]
  },
  {
   "cell_type": "code",
   "execution_count": 72,
   "id": "136af36c-5ce8-420b-977f-fe255c07ff36",
   "metadata": {},
   "outputs": [],
   "source": [
    "d4 = {(1,2,3):\"first\"}"
   ]
  },
  {
   "cell_type": "code",
   "execution_count": 75,
   "id": "e8d2ee5d-e2f9-454f-9acf-e966417a1da1",
   "metadata": {},
   "outputs": [
    {
     "data": {
      "text/plain": [
       "'first'"
      ]
     },
     "execution_count": 75,
     "metadata": {},
     "output_type": "execute_result"
    }
   ],
   "source": [
    "d4[1,2,3]"
   ]
  },
  {
   "cell_type": "code",
   "execution_count": 76,
   "id": "5e48cc11-f904-43dc-897e-21beb937a389",
   "metadata": {},
   "outputs": [
    {
     "ename": "TypeError",
     "evalue": "unhashable type: 'set'",
     "output_type": "error",
     "traceback": [
      "\u001b[0;31m---------------------------------------------------------------------------\u001b[0m",
      "\u001b[0;31mTypeError\u001b[0m                                 Traceback (most recent call last)",
      "Cell \u001b[0;32mIn[76], line 1\u001b[0m\n\u001b[0;32m----> 1\u001b[0m d5 \u001b[38;5;241m=\u001b[39m {{\u001b[38;5;241m1\u001b[39m,\u001b[38;5;241m2\u001b[39m,\u001b[38;5;241m3\u001b[39m}:\u001b[38;5;124m\"\u001b[39m\u001b[38;5;124mfirst\u001b[39m\u001b[38;5;124m\"\u001b[39m}\n",
      "\u001b[0;31mTypeError\u001b[0m: unhashable type: 'set'"
     ]
    }
   ],
   "source": [
    "d5 = {{1,2,3}:\"first\"}"
   ]
  },
  {
   "cell_type": "code",
   "execution_count": 78,
   "id": "57abdcd0-257d-4558-b296-4d6dc144cbf8",
   "metadata": {},
   "outputs": [
    {
     "ename": "SyntaxError",
     "evalue": "invalid syntax (2566477184.py, line 1)",
     "output_type": "error",
     "traceback": [
      "\u001b[0;36m  Cell \u001b[0;32mIn[78], line 1\u001b[0;36m\u001b[0m\n\u001b[0;31m    d6 = {{1:\"hi\",2:\"how\"},2:\"hi\"}\u001b[0m\n\u001b[0m                            ^\u001b[0m\n\u001b[0;31mSyntaxError\u001b[0m\u001b[0;31m:\u001b[0m invalid syntax\n"
     ]
    }
   ],
   "source": [
    "d6 = {{1:\"hi\",2:\"how\"},2:\"hi\"}"
   ]
  },
  {
   "cell_type": "raw",
   "id": "0683a3dc-722d-40b4-9db4-220dad3857a1",
   "metadata": {},
   "source": [
    "The code is incorrect because it uses double curly braces {{...}} which is not valid syntax in Python. Only one set of curly braces {...} is used to define a dictionary. The correct syntax would be:"
   ]
  },
  {
   "cell_type": "markdown",
   "id": "e5cb30e8-9c24-48f7-a7c1-8fef144f3602",
   "metadata": {},
   "source": [
    "### *only tuple can be used as a key*"
   ]
  },
  {
   "cell_type": "code",
   "execution_count": 79,
   "id": "ab07576a-2099-4eae-ac00-cb4feebf200e",
   "metadata": {},
   "outputs": [],
   "source": [
    "d7 = {\"course_name\":[\"data science\",\"web dev\", \"java\", \"python\"]}"
   ]
  },
  {
   "cell_type": "code",
   "execution_count": 80,
   "id": "928c662e-2667-47b7-9248-83d858556dfc",
   "metadata": {},
   "outputs": [],
   "source": [
    "d8 = {\"course_name\":(\"data science\",\"web dev\", \"java\", \"python\")}"
   ]
  },
  {
   "cell_type": "code",
   "execution_count": 82,
   "id": "c5e780f2-bf75-47ea-9b0f-c5254fe51eda",
   "metadata": {},
   "outputs": [],
   "source": [
    "d9 = {\"course_name\":{\"data science\",\"web dev\", \"java\", \"python\"}}"
   ]
  },
  {
   "cell_type": "code",
   "execution_count": 85,
   "id": "9b062fb2-9aa8-4fac-b9d0-09f31189d0a1",
   "metadata": {},
   "outputs": [],
   "source": [
    "d10 = {\"Bio\":{\"name\":\"vithu\",\"class\":\"DSM\"}} ## Nested dictionay "
   ]
  },
  {
   "cell_type": "code",
   "execution_count": 125,
   "id": "f9a84c9a-c7df-4166-8092-fc3e8c043da1",
   "metadata": {},
   "outputs": [],
   "source": [
    "d11 = {\"Batch_name\" : [\"DSM\",\"Web dev\",\"Java\"], \"Start_date\":(28,14,21),\"Mentor\":{\"KN\",\"SS\",\"VV\"}}"
   ]
  },
  {
   "cell_type": "code",
   "execution_count": 126,
   "id": "e5285818-7999-49a9-9c35-2b9ff31dbcce",
   "metadata": {},
   "outputs": [
    {
     "data": {
      "text/plain": [
       "{'Batch_name': ['DSM', 'Web dev', 'Java'],\n",
       " 'Start_date': (28, 14, 21),\n",
       " 'Mentor': {'KN', 'SS', 'VV'}}"
      ]
     },
     "execution_count": 126,
     "metadata": {},
     "output_type": "execute_result"
    }
   ],
   "source": [
    "d11"
   ]
  },
  {
   "cell_type": "code",
   "execution_count": 127,
   "id": "f688e5b5-87f2-49cc-9886-a0a7173ef71e",
   "metadata": {},
   "outputs": [],
   "source": [
    "d11[\"timing\"] = (8,8,8)"
   ]
  },
  {
   "cell_type": "code",
   "execution_count": 128,
   "id": "6487dfec-9e8f-4a20-b15c-ac4ac1dc6025",
   "metadata": {},
   "outputs": [
    {
     "data": {
      "text/plain": [
       "{'Batch_name': ['DSM', 'Web dev', 'Java'],\n",
       " 'Start_date': (28, 14, 21),\n",
       " 'Mentor': {'KN', 'SS', 'VV'},\n",
       " 'timing': (8, 8, 8)}"
      ]
     },
     "execution_count": 128,
     "metadata": {},
     "output_type": "execute_result"
    }
   ],
   "source": [
    "d11"
   ]
  },
  {
   "cell_type": "code",
   "execution_count": 129,
   "id": "8cc06c6a-bee9-4140-8174-3144f86b1562",
   "metadata": {},
   "outputs": [],
   "source": [
    "d11[\"timing\"] = (8,8,10)"
   ]
  },
  {
   "cell_type": "code",
   "execution_count": 130,
   "id": "4df0a732-9e3e-4f95-bb1f-c1d02f8c6910",
   "metadata": {},
   "outputs": [
    {
     "data": {
      "text/plain": [
       "{'Batch_name': ['DSM', 'Web dev', 'Java'],\n",
       " 'Start_date': (28, 14, 21),\n",
       " 'Mentor': {'KN', 'SS', 'VV'},\n",
       " 'timing': (8, 8, 10)}"
      ]
     },
     "execution_count": 130,
     "metadata": {},
     "output_type": "execute_result"
    }
   ],
   "source": [
    "d11"
   ]
  },
  {
   "cell_type": "code",
   "execution_count": 131,
   "id": "4b3fb1c1-7c4e-42f1-95d7-5a00def52867",
   "metadata": {},
   "outputs": [
    {
     "data": {
      "text/plain": [
       "['DSM', 'Web dev', 'Java']"
      ]
     },
     "execution_count": 131,
     "metadata": {},
     "output_type": "execute_result"
    }
   ],
   "source": [
    "d11[\"Batch_name\"]"
   ]
  },
  {
   "cell_type": "code",
   "execution_count": 132,
   "id": "d1e02cba-135f-4859-83aa-2f900ca2b3ec",
   "metadata": {},
   "outputs": [],
   "source": [
    "d11[\"programming_language\"] = {\"python\":3.1,\"java\":16}"
   ]
  },
  {
   "cell_type": "code",
   "execution_count": 133,
   "id": "cf15b0ba-c371-4636-8c1d-ec0fc719d6e0",
   "metadata": {},
   "outputs": [
    {
     "data": {
      "text/plain": [
       "3.1"
      ]
     },
     "execution_count": 133,
     "metadata": {},
     "output_type": "execute_result"
    }
   ],
   "source": [
    "d11[\"programming_language\"]['python']"
   ]
  },
  {
   "cell_type": "code",
   "execution_count": 134,
   "id": "edc90804-3b1c-4ea9-80c1-3ea848220f16",
   "metadata": {},
   "outputs": [],
   "source": [
    "d11[\"key\"] = \"abc\""
   ]
  },
  {
   "cell_type": "code",
   "execution_count": 135,
   "id": "cf084924-df54-4fe9-b22c-e7769bb98eeb",
   "metadata": {},
   "outputs": [
    {
     "data": {
      "text/plain": [
       "{'Batch_name': ['DSM', 'Web dev', 'Java'],\n",
       " 'Start_date': (28, 14, 21),\n",
       " 'Mentor': {'KN', 'SS', 'VV'},\n",
       " 'timing': (8, 8, 10),\n",
       " 'programming_language': {'python': 3.1, 'java': 16},\n",
       " 'key': 'abc'}"
      ]
     },
     "execution_count": 135,
     "metadata": {},
     "output_type": "execute_result"
    }
   ],
   "source": [
    "d11"
   ]
  },
  {
   "cell_type": "code",
   "execution_count": 136,
   "id": "cc8fcdd9-bb0f-4145-9904-aab0490dc13d",
   "metadata": {},
   "outputs": [],
   "source": [
    "del d11[\"key\"]"
   ]
  },
  {
   "cell_type": "code",
   "execution_count": 137,
   "id": "f13a8911-bb23-4bb5-af7d-345b569fd8b5",
   "metadata": {},
   "outputs": [
    {
     "data": {
      "text/plain": [
       "{'Batch_name': ['DSM', 'Web dev', 'Java'],\n",
       " 'Start_date': (28, 14, 21),\n",
       " 'Mentor': {'KN', 'SS', 'VV'},\n",
       " 'timing': (8, 8, 10),\n",
       " 'programming_language': {'python': 3.1, 'java': 16}}"
      ]
     },
     "execution_count": 137,
     "metadata": {},
     "output_type": "execute_result"
    }
   ],
   "source": [
    "d11"
   ]
  },
  {
   "cell_type": "code",
   "execution_count": 138,
   "id": "a6a82407-c877-4cef-b3c4-db75e9189d3e",
   "metadata": {},
   "outputs": [
    {
     "data": {
      "text/plain": [
       "dict_keys(['Batch_name', 'Start_date', 'Mentor', 'timing', 'programming_language'])"
      ]
     },
     "execution_count": 138,
     "metadata": {},
     "output_type": "execute_result"
    }
   ],
   "source": [
    "## extract only keys\n",
    "d11.keys()"
   ]
  },
  {
   "cell_type": "code",
   "execution_count": 139,
   "id": "2180ddb7-afc8-4f92-afba-88e7a3cd038a",
   "metadata": {},
   "outputs": [
    {
     "data": {
      "text/plain": [
       "dict_values([['DSM', 'Web dev', 'Java'], (28, 14, 21), {'SS', 'VV', 'KN'}, (8, 8, 10), {'python': 3.1, 'java': 16}])"
      ]
     },
     "execution_count": 139,
     "metadata": {},
     "output_type": "execute_result"
    }
   ],
   "source": [
    "d11.values()"
   ]
  },
  {
   "cell_type": "code",
   "execution_count": 140,
   "id": "9bd20919-c12e-4b47-9d5c-af71175d9270",
   "metadata": {},
   "outputs": [
    {
     "data": {
      "text/plain": [
       "[['DSM', 'Web dev', 'Java'],\n",
       " (28, 14, 21),\n",
       " {'KN', 'SS', 'VV'},\n",
       " (8, 8, 10),\n",
       " {'python': 3.1, 'java': 16}]"
      ]
     },
     "execution_count": 140,
     "metadata": {},
     "output_type": "execute_result"
    }
   ],
   "source": [
    "## convert to list\n",
    "list(d11.values())"
   ]
  },
  {
   "cell_type": "code",
   "execution_count": 141,
   "id": "18a64e08-cf85-4278-8428-438f4b962f5a",
   "metadata": {},
   "outputs": [
    {
     "data": {
      "text/plain": [
       "['Batch_name', 'Start_date', 'Mentor', 'timing', 'programming_language']"
      ]
     },
     "execution_count": 141,
     "metadata": {},
     "output_type": "execute_result"
    }
   ],
   "source": [
    "list(d11.keys())"
   ]
  },
  {
   "cell_type": "code",
   "execution_count": 142,
   "id": "71c1149e-fd76-47cb-919d-40888c503c88",
   "metadata": {},
   "outputs": [
    {
     "data": {
      "text/plain": [
       "dict_items([('Batch_name', ['DSM', 'Web dev', 'Java']), ('Start_date', (28, 14, 21)), ('Mentor', {'SS', 'VV', 'KN'}), ('timing', (8, 8, 10)), ('programming_language', {'python': 3.1, 'java': 16})])"
      ]
     },
     "execution_count": 142,
     "metadata": {},
     "output_type": "execute_result"
    }
   ],
   "source": [
    "## extract key value pair\n",
    "d11.items()"
   ]
  },
  {
   "cell_type": "code",
   "execution_count": 143,
   "id": "3f9c9fb5-40b0-4f5a-9900-12783220d21a",
   "metadata": {},
   "outputs": [
    {
     "data": {
      "text/plain": [
       "[('Batch_name', ['DSM', 'Web dev', 'Java']),\n",
       " ('Start_date', (28, 14, 21)),\n",
       " ('Mentor', {'KN', 'SS', 'VV'}),\n",
       " ('timing', (8, 8, 10)),\n",
       " ('programming_language', {'python': 3.1, 'java': 16})]"
      ]
     },
     "execution_count": 143,
     "metadata": {},
     "output_type": "execute_result"
    }
   ],
   "source": [
    "list(d11.items()) ## list of tuples"
   ]
  },
  {
   "cell_type": "code",
   "execution_count": 144,
   "id": "663e3726-ab90-4c60-9b37-761de4b83c31",
   "metadata": {},
   "outputs": [],
   "source": [
    "d12 = d11.copy()"
   ]
  },
  {
   "cell_type": "code",
   "execution_count": 145,
   "id": "0b371432-5383-4e12-af7d-670119e4d7d5",
   "metadata": {},
   "outputs": [
    {
     "data": {
      "text/plain": [
       "{'Batch_name': ['DSM', 'Web dev', 'Java'],\n",
       " 'Start_date': (28, 14, 21),\n",
       " 'Mentor': {'KN', 'SS', 'VV'},\n",
       " 'timing': (8, 8, 10),\n",
       " 'programming_language': {'python': 3.1, 'java': 16}}"
      ]
     },
     "execution_count": 145,
     "metadata": {},
     "output_type": "execute_result"
    }
   ],
   "source": [
    "d12"
   ]
  },
  {
   "cell_type": "code",
   "execution_count": 146,
   "id": "0eda0c55-b497-4fec-9814-6fe4a8dc2e2b",
   "metadata": {},
   "outputs": [
    {
     "data": {
      "text/plain": [
       "False"
      ]
     },
     "execution_count": 146,
     "metadata": {},
     "output_type": "execute_result"
    }
   ],
   "source": [
    "d11 is d12"
   ]
  },
  {
   "cell_type": "code",
   "execution_count": 147,
   "id": "72b3faa8-a48e-403f-bba3-63ab42111afb",
   "metadata": {},
   "outputs": [
    {
     "data": {
      "text/plain": [
       "True"
      ]
     },
     "execution_count": 147,
     "metadata": {},
     "output_type": "execute_result"
    }
   ],
   "source": [
    "d11 == d12"
   ]
  },
  {
   "cell_type": "code",
   "execution_count": 148,
   "id": "f1cc9213-9a50-47b8-b559-b9f4a277646c",
   "metadata": {},
   "outputs": [],
   "source": [
    "d13 = d11"
   ]
  },
  {
   "cell_type": "code",
   "execution_count": 149,
   "id": "1642090d-9160-4812-be26-b30e029f16eb",
   "metadata": {},
   "outputs": [
    {
     "data": {
      "text/plain": [
       "True"
      ]
     },
     "execution_count": 149,
     "metadata": {},
     "output_type": "execute_result"
    }
   ],
   "source": [
    "d13 == d13"
   ]
  },
  {
   "cell_type": "raw",
   "id": "77904848-04fb-465c-88d7-114c1ce2544a",
   "metadata": {},
   "source": [
    "copy() will make a different object."
   ]
  },
  {
   "cell_type": "code",
   "execution_count": 150,
   "id": "4e628757-b81a-4e38-b6fb-f911dd012e32",
   "metadata": {},
   "outputs": [],
   "source": [
    "del d12['timing']"
   ]
  },
  {
   "cell_type": "code",
   "execution_count": 151,
   "id": "a33c4351-3a0f-4f1d-88fb-ac2a73721791",
   "metadata": {},
   "outputs": [
    {
     "data": {
      "text/plain": [
       "{'Batch_name': ['DSM', 'Web dev', 'Java'],\n",
       " 'Start_date': (28, 14, 21),\n",
       " 'Mentor': {'KN', 'SS', 'VV'},\n",
       " 'programming_language': {'python': 3.1, 'java': 16}}"
      ]
     },
     "execution_count": 151,
     "metadata": {},
     "output_type": "execute_result"
    }
   ],
   "source": [
    "d12"
   ]
  },
  {
   "cell_type": "code",
   "execution_count": 152,
   "id": "fa067a95-38ef-46d8-8d37-640b0b867b64",
   "metadata": {},
   "outputs": [
    {
     "data": {
      "text/plain": [
       "{'Batch_name': ['DSM', 'Web dev', 'Java'],\n",
       " 'Start_date': (28, 14, 21),\n",
       " 'Mentor': {'KN', 'SS', 'VV'},\n",
       " 'timing': (8, 8, 10),\n",
       " 'programming_language': {'python': 3.1, 'java': 16}}"
      ]
     },
     "execution_count": 152,
     "metadata": {},
     "output_type": "execute_result"
    }
   ],
   "source": [
    "d11"
   ]
  },
  {
   "cell_type": "code",
   "execution_count": 153,
   "id": "d7d1e44b-0a91-464c-aa40-38ae04487273",
   "metadata": {},
   "outputs": [],
   "source": [
    "del d13['timing']"
   ]
  },
  {
   "cell_type": "code",
   "execution_count": 154,
   "id": "4cc831dd-9674-4e49-9ff9-227ab3a75c33",
   "metadata": {},
   "outputs": [
    {
     "data": {
      "text/plain": [
       "{'Batch_name': ['DSM', 'Web dev', 'Java'],\n",
       " 'Start_date': (28, 14, 21),\n",
       " 'Mentor': {'KN', 'SS', 'VV'},\n",
       " 'programming_language': {'python': 3.1, 'java': 16}}"
      ]
     },
     "execution_count": 154,
     "metadata": {},
     "output_type": "execute_result"
    }
   ],
   "source": [
    "d11"
   ]
  },
  {
   "cell_type": "code",
   "execution_count": 155,
   "id": "167de981-8370-477a-8315-c407800a49e9",
   "metadata": {},
   "outputs": [
    {
     "ename": "TypeError",
     "evalue": "pop expected at least 1 argument, got 0",
     "output_type": "error",
     "traceback": [
      "\u001b[0;31m---------------------------------------------------------------------------\u001b[0m",
      "\u001b[0;31mTypeError\u001b[0m                                 Traceback (most recent call last)",
      "Cell \u001b[0;32mIn[155], line 1\u001b[0m\n\u001b[0;32m----> 1\u001b[0m \u001b[43md12\u001b[49m\u001b[38;5;241;43m.\u001b[39;49m\u001b[43mpop\u001b[49m\u001b[43m(\u001b[49m\u001b[43m)\u001b[49m\n",
      "\u001b[0;31mTypeError\u001b[0m: pop expected at least 1 argument, got 0"
     ]
    }
   ],
   "source": [
    "d12.pop()"
   ]
  },
  {
   "cell_type": "code",
   "execution_count": 156,
   "id": "5a1cb797-b49a-404f-b08c-c9e8be8b7430",
   "metadata": {},
   "outputs": [
    {
     "data": {
      "text/plain": [
       "{'KN', 'SS', 'VV'}"
      ]
     },
     "execution_count": 156,
     "metadata": {},
     "output_type": "execute_result"
    }
   ],
   "source": [
    "d12.pop('Mentor')"
   ]
  },
  {
   "cell_type": "code",
   "execution_count": 157,
   "id": "2cd910c5-64b0-4c11-85a7-30a518026721",
   "metadata": {},
   "outputs": [
    {
     "data": {
      "text/plain": [
       "(28, 14, 21)"
      ]
     },
     "execution_count": 157,
     "metadata": {},
     "output_type": "execute_result"
    }
   ],
   "source": [
    "d12.pop('Start_date')"
   ]
  },
  {
   "cell_type": "code",
   "execution_count": 160,
   "id": "8e43bdc3-d94f-48f6-9a24-1294d11429e8",
   "metadata": {},
   "outputs": [],
   "source": [
    "d18 = {}"
   ]
  },
  {
   "cell_type": "code",
   "execution_count": 161,
   "id": "d4047cf7-4dd3-493c-9738-1940a5dda341",
   "metadata": {},
   "outputs": [
    {
     "data": {
      "text/plain": [
       "{1: ('a', 'b', 'c'), 2: ('a', 'b', 'c'), 3: ('a', 'b', 'c')}"
      ]
     },
     "execution_count": 161,
     "metadata": {},
     "output_type": "execute_result"
    }
   ],
   "source": [
    "d18.fromkeys((1,2,3),('a','b','c'))"
   ]
  },
  {
   "cell_type": "code",
   "execution_count": 162,
   "id": "2ca2dace-422c-4744-bd6c-5a7df7f85d1d",
   "metadata": {},
   "outputs": [],
   "source": [
    "d19 = {\"key1\":\"value\",\"key2\":\"value2\"}\n",
    "d20 = {\"key3\":\"value3\",\"key4\":\"value4\"}"
   ]
  },
  {
   "cell_type": "code",
   "execution_count": 163,
   "id": "ef767c71-9d34-42b7-9122-bf89ba0e67c7",
   "metadata": {},
   "outputs": [
    {
     "data": {
      "text/plain": [
       "({'key1': 'value', 'key2': 'value2'}, {'key3': 'value3', 'key4': 'value4'})"
      ]
     },
     "execution_count": 163,
     "metadata": {},
     "output_type": "execute_result"
    }
   ],
   "source": [
    "(d19,d20)"
   ]
  },
  {
   "cell_type": "code",
   "execution_count": 164,
   "id": "43f16fa8-d1d6-4735-a637-7d60ce8b9f34",
   "metadata": {},
   "outputs": [],
   "source": [
    "d19.update(d20)"
   ]
  },
  {
   "cell_type": "code",
   "execution_count": 165,
   "id": "13e8d96b-5d85-4f92-a3e0-acebcbb83c58",
   "metadata": {},
   "outputs": [
    {
     "data": {
      "text/plain": [
       "{'key1': 'value', 'key2': 'value2', 'key3': 'value3', 'key4': 'value4'}"
      ]
     },
     "execution_count": 165,
     "metadata": {},
     "output_type": "execute_result"
    }
   ],
   "source": [
    "d19"
   ]
  },
  {
   "cell_type": "code",
   "execution_count": 166,
   "id": "7b7b731e-b90d-439d-a1e0-bede3b26baa5",
   "metadata": {},
   "outputs": [
    {
     "data": {
      "text/plain": [
       "{'key3': 'value3', 'key4': 'value4'}"
      ]
     },
     "execution_count": 166,
     "metadata": {},
     "output_type": "execute_result"
    }
   ],
   "source": [
    "d20"
   ]
  },
  {
   "cell_type": "code",
   "execution_count": 167,
   "id": "51cf0551-9e35-48e0-96e2-a7066c92bb9f",
   "metadata": {},
   "outputs": [],
   "source": [
    "d20.update(d19)"
   ]
  },
  {
   "cell_type": "code",
   "execution_count": 168,
   "id": "0efb5c11-cb80-4c06-9f60-3ed4523f4223",
   "metadata": {},
   "outputs": [
    {
     "data": {
      "text/plain": [
       "{'key3': 'value3', 'key4': 'value4', 'key1': 'value', 'key2': 'value2'}"
      ]
     },
     "execution_count": 168,
     "metadata": {},
     "output_type": "execute_result"
    }
   ],
   "source": [
    "d20"
   ]
  },
  {
   "cell_type": "code",
   "execution_count": 172,
   "id": "aef197f6-9fda-4c01-a4ef-216161c153cd",
   "metadata": {},
   "outputs": [],
   "source": [
    "d20.get(\"k\") ## never gives any error"
   ]
  },
  {
   "cell_type": "code",
   "execution_count": 173,
   "id": "95fb617d-a259-40eb-ba80-504834897b36",
   "metadata": {},
   "outputs": [
    {
     "data": {
      "text/plain": [
       "'value3'"
      ]
     },
     "execution_count": 173,
     "metadata": {},
     "output_type": "execute_result"
    }
   ],
   "source": [
    "d20.get('key3')"
   ]
  },
  {
   "cell_type": "code",
   "execution_count": 174,
   "id": "d6a05ef0-ec51-496e-9838-fb4cc32911bc",
   "metadata": {},
   "outputs": [
    {
     "ename": "KeyError",
     "evalue": "'k'",
     "output_type": "error",
     "traceback": [
      "\u001b[0;31m---------------------------------------------------------------------------\u001b[0m",
      "\u001b[0;31mKeyError\u001b[0m                                  Traceback (most recent call last)",
      "Cell \u001b[0;32mIn[174], line 1\u001b[0m\n\u001b[0;32m----> 1\u001b[0m \u001b[43md20\u001b[49m\u001b[43m[\u001b[49m\u001b[38;5;124;43m'\u001b[39;49m\u001b[38;5;124;43mk\u001b[39;49m\u001b[38;5;124;43m'\u001b[39;49m\u001b[43m]\u001b[49m\n",
      "\u001b[0;31mKeyError\u001b[0m: 'k'"
     ]
    }
   ],
   "source": [
    "d20['k']"
   ]
  },
  {
   "cell_type": "markdown",
   "id": "bc1ce874-2c29-4aff-9c91-16e9b9aac198",
   "metadata": {},
   "source": [
    "## Dictionay comprehension"
   ]
  },
  {
   "cell_type": "code",
   "execution_count": 178,
   "id": "3fce8618-a1a2-4c16-85c2-b503ecded61c",
   "metadata": {},
   "outputs": [
    {
     "data": {
      "text/plain": [
       "{1: 1, 2: 4, 3: 9, 4: 16, 5: 25, 6: 36, 7: 49, 8: 64, 9: 81, 10: 100}"
      ]
     },
     "execution_count": 178,
     "metadata": {},
     "output_type": "execute_result"
    }
   ],
   "source": [
    "{i : i*i for i in range(1,11)}"
   ]
  },
  {
   "cell_type": "code",
   "execution_count": 181,
   "id": "fab8b170-9f20-4f4c-82f4-2a688451938d",
   "metadata": {},
   "outputs": [
    {
     "data": {
      "text/plain": [
       "{1: 0.0,\n",
       " 2: 0.3010299956639812,\n",
       " 3: 0.47712125471966244,\n",
       " 4: 0.6020599913279624,\n",
       " 5: 0.6989700043360189,\n",
       " 6: 0.7781512503836436,\n",
       " 7: 0.8450980400142568,\n",
       " 8: 0.9030899869919435,\n",
       " 9: 0.9542425094393249,\n",
       " 10: 1.0}"
      ]
     },
     "execution_count": 181,
     "metadata": {},
     "output_type": "execute_result"
    }
   ],
   "source": [
    "import math\n",
    "{i : math.log10(i) for i in range(1,11)}"
   ]
  },
  {
   "cell_type": "code",
   "execution_count": 10,
   "id": "541fa1dd-8ec9-4f49-9263-a6acbb4bc195",
   "metadata": {},
   "outputs": [],
   "source": [
    "from math import log10\n",
    "d21 = {i : log10(i) for i in range(1,11)}"
   ]
  },
  {
   "cell_type": "code",
   "execution_count": 3,
   "id": "8b026163-1d14-427c-8b2e-e4734734e534",
   "metadata": {},
   "outputs": [
    {
     "ename": "NameError",
     "evalue": "name 'd11' is not defined",
     "output_type": "error",
     "traceback": [
      "\u001b[0;31m---------------------------------------------------------------------------\u001b[0m",
      "\u001b[0;31mNameError\u001b[0m                                 Traceback (most recent call last)",
      "Cell \u001b[0;32mIn[3], line 1\u001b[0m\n\u001b[0;32m----> 1\u001b[0m \u001b[38;5;124m'\u001b[39m\u001b[38;5;124mbatch_name\u001b[39m\u001b[38;5;124m'\u001b[39m \u001b[38;5;129;01min\u001b[39;00m \u001b[43md11\u001b[49m\n",
      "\u001b[0;31mNameError\u001b[0m: name 'd11' is not defined"
     ]
    }
   ],
   "source": [
    "'batch_name' in d11"
   ]
  },
  {
   "cell_type": "code",
   "execution_count": 26,
   "id": "6257e234-4152-4279-8b57-f4b40f0fa196",
   "metadata": {},
   "outputs": [
    {
     "name": "stdout",
     "output_type": "stream",
     "text": [
      "1 0.0\n",
      "2 0.3010299956639812\n",
      "3 0.47712125471966244\n",
      "4 0.6020599913279624\n",
      "5 0.6989700043360189\n",
      "6 0.7781512503836436\n",
      "7 0.8450980400142568\n",
      "8 0.9030899869919435\n",
      "9 0.9542425094393249\n",
      "10 1.0\n"
     ]
    }
   ],
   "source": [
    "for i, j in d21.items():\n",
    "    print(i,j)"
   ]
  },
  {
   "cell_type": "code",
   "execution_count": 30,
   "id": "8280f377-fd65-4445-8d02-0aa2c8ac60f0",
   "metadata": {},
   "outputs": [
    {
     "name": "stdout",
     "output_type": "stream",
     "text": [
      "1 : 0.0\n",
      "2 : 0.3010299956639812\n",
      "3 : 0.47712125471966244\n",
      "4 : 0.6020599913279624\n",
      "5 : 0.6989700043360189\n",
      "6 : 0.7781512503836436\n",
      "7 : 0.8450980400142568\n",
      "8 : 0.9030899869919435\n",
      "9 : 0.9542425094393249\n",
      "10 : 1.0\n"
     ]
    }
   ],
   "source": [
    "for i in d21:\n",
    "    print(i,\":\", d21[i])"
   ]
  },
  {
   "cell_type": "code",
   "execution_count": 31,
   "id": "9a3408a3-9c04-4e59-87a0-00e90068e44d",
   "metadata": {},
   "outputs": [],
   "source": [
    "d22 = {1:\"hi\"}"
   ]
  },
  {
   "cell_type": "code",
   "execution_count": 32,
   "id": "c80391c8-26a0-45a5-ba6e-2cf9653a8a57",
   "metadata": {},
   "outputs": [],
   "source": [
    "d22.setdefault(2)"
   ]
  },
  {
   "cell_type": "code",
   "execution_count": 34,
   "id": "8a02fe74-6a3e-45c2-8858-470c18f7a5ca",
   "metadata": {},
   "outputs": [
    {
     "data": {
      "text/plain": [
       "'hi'"
      ]
     },
     "execution_count": 34,
     "metadata": {},
     "output_type": "execute_result"
    }
   ],
   "source": [
    "d22[1]"
   ]
  },
  {
   "cell_type": "code",
   "execution_count": 36,
   "id": "2eb22f8c-4553-417b-a29a-f68079aa1b25",
   "metadata": {},
   "outputs": [
    {
     "data": {
      "text/plain": [
       "(2, None)"
      ]
     },
     "execution_count": 36,
     "metadata": {},
     "output_type": "execute_result"
    }
   ],
   "source": [
    "d22.popitem()"
   ]
  },
  {
   "cell_type": "code",
   "execution_count": 37,
   "id": "b42d25ad-1bb4-4061-a98a-7953b1757f32",
   "metadata": {},
   "outputs": [
    {
     "data": {
      "text/plain": [
       "{1: 'hi'}"
      ]
     },
     "execution_count": 37,
     "metadata": {},
     "output_type": "execute_result"
    }
   ],
   "source": [
    "d22"
   ]
  },
  {
   "cell_type": "code",
   "execution_count": 47,
   "id": "6089eba9-b437-40e3-a3b1-c4301506810e",
   "metadata": {},
   "outputs": [],
   "source": [
    "d22 =d22.fromkeys(range(10),[i**2 for i in range(10)])"
   ]
  },
  {
   "cell_type": "code",
   "execution_count": 48,
   "id": "2b74f47c-004f-4091-bae5-2f6e622a91f5",
   "metadata": {},
   "outputs": [
    {
     "data": {
      "text/plain": [
       "[0, 1, 4, 9, 16, 25, 36, 49, 64, 81]"
      ]
     },
     "execution_count": 48,
     "metadata": {},
     "output_type": "execute_result"
    }
   ],
   "source": [
    "d22[0]"
   ]
  },
  {
   "cell_type": "code",
   "execution_count": null,
   "id": "fe5a1c29-a5ab-4dd5-9a3d-dead2e4ae42b",
   "metadata": {},
   "outputs": [],
   "source": []
  }
 ],
 "metadata": {
  "kernelspec": {
   "display_name": "Python 3 (ipykernel)",
   "language": "python",
   "name": "python3"
  },
  "language_info": {
   "codemirror_mode": {
    "name": "ipython",
    "version": 3
   },
   "file_extension": ".py",
   "mimetype": "text/x-python",
   "name": "python",
   "nbconvert_exporter": "python",
   "pygments_lexer": "ipython3",
   "version": "3.10.8"
  }
 },
 "nbformat": 4,
 "nbformat_minor": 5
}
