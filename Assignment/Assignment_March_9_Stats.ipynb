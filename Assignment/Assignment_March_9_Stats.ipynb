{
 "cells": [
  {
   "cell_type": "markdown",
   "id": "4fe9a0fb-2fca-46fd-a29d-8f67f6e16e1c",
   "metadata": {},
   "source": [
    "## Q1: What are the Probability Mass Function (PMF) and Probability Density Function (PDF)? Explain with an example."
   ]
  },
  {
   "cell_type": "markdown",
   "id": "fe75695f-1ba8-4ddc-a3d9-bb5999821b3b",
   "metadata": {},
   "source": [
    "Both PMF and PDF are used to describe the probability distribution of a random variable. \n",
    "PMF is used to describe the probability distrubution of descrete random variable. It is a function that gives the probability of each possible value of the random variable.\n",
    "Eg : rolling dice, pmf of the random variable is a function that assigns probability of 1/6 to each possible outcome and probability of 0 to other values.\n",
    "While PDF is used to describe the probability distrubution of contiuous random variable.It is a function that describes the relative likelihood of different values of the random variable.\n",
    "For example, consider the weight of apples produced by a particular orchard. The PDF for this random variable would be a function that describes the relative likelihood of different weights, such as a bell-shaped curve centered around the mean weight."
   ]
  },
  {
   "cell_type": "markdown",
   "id": "232c19d4-0da9-4010-b138-6bd392661045",
   "metadata": {},
   "source": [
    "## Q2: What is Cumulative Density Function (CDF)? Explain with an example. Why CDF is used?"
   ]
  },
  {
   "cell_type": "markdown",
   "id": "12f14f88-f459-4955-b1a3-f322b11b804a",
   "metadata": {},
   "source": [
    "CDF describes the probability of a random variable taking a value less than or equal to a specific value. It gives the cumulative probability of a random variable upto a certain point.\n",
    "\n",
    "Eg : rolling a dice\n",
    "if we want to find the probability of getting 3 or less than 3. we have to do the following things.\n",
    "P(x <= 3 ) = p(x=1) + p(x=2) + p(x=3)\n",
    "However, using CDF we can directly look at when x = 3 to get the cumulative probability without needing to sum up individual probabilities of 1, 2, and 3 separately."
   ]
  },
  {
   "cell_type": "markdown",
   "id": "383d580e-c698-400f-8d89-bad511fe6dec",
   "metadata": {},
   "source": [
    "## Q3: What are some examples of situations where the normal distribution might be used as a model? Explain how the parameters of the normal distribution relate to the shape of the distribution."
   ]
  },
  {
   "cell_type": "markdown",
   "id": "cce7cfc5-5971-45de-b67e-bc0870d81a6f",
   "metadata": {},
   "source": [
    "Eg : height, weight, IQ\n",
    "\n",
    "The shape of the normal distribution is affected by two parameters: the mean and the standard deviation. If the mean is increased, the distribution will shift to the right, while a decrease in mean will shift it to the left. Similarly, an increase in standard deviation will result in a wider distribution, while a decrease in standard deviation will result in a narrower distribution."
   ]
  },
  {
   "cell_type": "markdown",
   "id": "e5882119-90fe-4e23-8d14-5d8842753354",
   "metadata": {},
   "source": [
    "## Q4: Explain the importance of Normal Distribution. Give a few real-life examples of Normal Distribution."
   ]
  },
  {
   "cell_type": "markdown",
   "id": "bd8bbf15-aba6-4375-bcbc-76de7bbe7160",
   "metadata": {},
   "source": [
    "The normal distribution is important because it is widely observed distribution in the nature. Many statistical techniques such as confidence interval, hypothesis testing, and regression analysis are based on the assumption that the data is normally distributed. At the same time, according to central limit theorem, sample mean of any distribution is normally distributed. Therefore, normal distribution is so important. \n",
    "Eg : distribution of exam scores, height, weight, IQ."
   ]
  },
  {
   "cell_type": "markdown",
   "id": "4a1b7829-3b3d-41f8-a739-5bef686a4b80",
   "metadata": {},
   "source": [
    "## Q5: What is Bernaulli Distribution? Give an Example. What is the difference between Bernoulli Distribution and Binomial Distribution?"
   ]
  },
  {
   "cell_type": "markdown",
   "id": "4acd1906-1475-4743-b413-8801de3d2a81",
   "metadata": {},
   "source": [
    "Bernaulli distribution represents the outcomes of a single binary event. It has a single parameter p, which represents the probability of success, and often denoted by the notation Bern(p).\n",
    "Eg : coin toss\n",
    "\n",
    "The Bernaulli distribution represents the distribution of a single trial which has two possible outcomes. While binomial distribution represents the distribution of n number of independent bernaulli trails."
   ]
  },
  {
   "cell_type": "markdown",
   "id": "3285c8b4-1b5c-4a89-9716-226afa87efd0",
   "metadata": {},
   "source": [
    "## Q6. Consider a dataset with a mean of 50 and a standard deviation of 10. If we assume that the dataset is normally distributed, what is the probability that a randomly selected observation will be greater than 60? Use the appropriate formula and show your calculations."
   ]
  },
  {
   "cell_type": "markdown",
   "id": "1d5fa819-4acd-46ac-a050-7d16f9e92338",
   "metadata": {},
   "source": [
    "since 60 is one standard deviation away from the mean. The z-score of 60 is 1. If we find the p value for z = 1, it gives the area under the curve left to x = 60. However, the total area of the curve is 1. So, 1 - p(z=1) gives the area for x > 60.\n",
    "\n",
    "z = (x - mean)/std\n",
    "\n",
    "z = (60 - 50)/ 10 <br>\n",
    "z = 1\n",
    "\n",
    "p(z=1) = 0.8413\n",
    "\n",
    "p(x > 60) = 1- p(z=1) <br>\n",
    "p (x>60) = 1 - 0.8413 <br>\n",
    "**p ( x > 60 ) = 0.1587**\n",
    "\n"
   ]
  },
  {
   "cell_type": "markdown",
   "id": "8e7ab4eb-895c-4e01-b7eb-2f5a30a0f376",
   "metadata": {},
   "source": [
    "## Q7: Explain uniform Distribution with an example."
   ]
  },
  {
   "cell_type": "markdown",
   "id": "2ebced23-ff06-44ad-923a-9befa9917d87",
   "metadata": {},
   "source": [
    "Uniform distribution is a continuous probability distribution where the probability of an event occurring is equally likely across the entire range of possible values. In other words, the probability of an event occurring is constant or uniform throughout the distribution.\n",
    "\n",
    "For example, consider a fair coin flip. The probability of getting heads or tails is equal, i.e., 0.5. This means that the coin flip follows a uniform distribution, as the probability of getting either outcome is the same across the entire range of possible outcomes."
   ]
  },
  {
   "cell_type": "markdown",
   "id": "02d7d16c-cffa-4c16-a92c-3e33bc3e021d",
   "metadata": {},
   "source": [
    "## Q8: What is the z score? State the importance of the z score."
   ]
  },
  {
   "cell_type": "markdown",
   "id": "b619f47a-b9c1-4b21-b1b4-4ee90d6fce5f",
   "metadata": {},
   "source": [
    "The z-score, also known as the standard score, is a measure of how many standard deviations an observation or data point is above or below the mean of a population or sample. It is a way to standardize and compare values from different distributions.\n",
    "\n",
    "It is used to standarize the data.\n",
    "With the help of z-score, distribution with different scales can be compared in a meaningful way by converting them to the standard scale."
   ]
  },
  {
   "cell_type": "markdown",
   "id": "81660ad7-4b9e-47c5-b27d-e292865ffaca",
   "metadata": {},
   "source": [
    "## Q9: What is Central Limit Theorem? State the significance of the Central Limit Theorem."
   ]
  },
  {
   "cell_type": "markdown",
   "id": "35febea6-7446-4bf8-9aa9-ac793e3501b5",
   "metadata": {},
   "source": [
    "sample mean of any distribution is normally distributed.\n",
    "\n",
    " It enables us to use normal distribution-based techniques for hypothesis testing and confidence interval estimation even when the population distribution is unknown or non-normal."
   ]
  },
  {
   "cell_type": "markdown",
   "id": "40f26b4f-cc76-4027-9610-b9ac0d6f7d80",
   "metadata": {},
   "source": [
    "## Q10: State the assumptions of the Central Limit Theorem."
   ]
  },
  {
   "cell_type": "markdown",
   "id": "887096be-1463-4215-b4aa-cf7cd4a24434",
   "metadata": {},
   "source": [
    "1. The sample size should be large enough. \n",
    "2. The sample should be selected randomly from the population.\n",
    "3. The population should have a finite variance.\n",
    "4. The observations in the sample should be independent of each other."
   ]
  },
  {
   "cell_type": "code",
   "execution_count": null,
   "id": "450ce55a-eb59-40ab-b854-de0720954891",
   "metadata": {},
   "outputs": [],
   "source": []
  }
 ],
 "metadata": {
  "kernelspec": {
   "display_name": "Python 3 (ipykernel)",
   "language": "python",
   "name": "python3"
  },
  "language_info": {
   "codemirror_mode": {
    "name": "ipython",
    "version": 3
   },
   "file_extension": ".py",
   "mimetype": "text/x-python",
   "name": "python",
   "nbconvert_exporter": "python",
   "pygments_lexer": "ipython3",
   "version": "3.10.8"
  }
 },
 "nbformat": 4,
 "nbformat_minor": 5
}
