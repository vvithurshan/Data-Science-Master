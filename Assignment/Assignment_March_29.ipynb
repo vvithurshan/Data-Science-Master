{
 "cells": [
  {
   "cell_type": "markdown",
   "id": "b63d09c3-9eff-4d7f-89fa-a9a63546a6cc",
   "metadata": {},
   "source": [
    "## Q1. What is Lasso Regression, and how does it differ from other regression techniques?"
   ]
  },
  {
   "cell_type": "markdown",
   "id": "365cbac4-bd19-4119-b3ec-e1f0e63d0930",
   "metadata": {},
   "source": [
    "Lasso regression is a type of regression that performs both feature selection and regularization. It aims to improve the prediction accuracy and interpretability of the model by shrinking some of the coefficients to zero and excluding from the model. Therefore, it helps to reduce the problem due to overfitting and multicollinearity that occurs in oridal least square regression."
   ]
  },
  {
   "cell_type": "markdown",
   "id": "a3fa98e8-21b2-449a-8d35-0f9779a8507f",
   "metadata": {},
   "source": [
    "## Q2. What is the main advantage of using Lasso Regression in feature selection?"
   ]
  },
  {
   "cell_type": "markdown",
   "id": "637b3d13-d217-4e3b-8d86-cd3727f91cad",
   "metadata": {},
   "source": [
    "It does the feature selection by shrinking some of the coefficients to zero and exclude them from the model. This brings a lot of advantages such as\n",
    "- It removes the unwanted features from the model which makes the computation more effective.\n",
    "- when features are highly correlated with each other, it keep only one feature and discard the other feature."
   ]
  },
  {
   "cell_type": "markdown",
   "id": "cb7d5e02-eb6e-4c42-9940-25ddb41f5ac4",
   "metadata": {},
   "source": [
    "## Q3. How do you interpret the coefficients of a Lasso Regression model?"
   ]
  },
  {
   "cell_type": "markdown",
   "id": "8ead0c6a-5817-4f09-b6a3-afd1c81b02d9",
   "metadata": {},
   "source": [
    "Features with high coefficients are more important for the model to make a prediction while features with low or zero coefficients are irrelevant for the model to make prediction."
   ]
  },
  {
   "cell_type": "markdown",
   "id": "5e120dbf-ac5e-4597-9caf-7bb11ea9a343",
   "metadata": {},
   "source": [
    "## Q4. What are the tuning parameters that can be adjusted in Lasso Regression, and how do they affect the model's performance?"
   ]
  },
  {
   "cell_type": "markdown",
   "id": "cca4cef8-ac2f-4ed4-a502-d115f4276fc0",
   "metadata": {},
   "source": [
    "Tunning parameter that can affect the Lasso regression is lambda. It controls the strength of the regularization, which is the absolute value of the coefficient multiplied by lambda. When lambda is very low, the regularization term becomes zero and the Laso regression becomes a normal regression. Similarly, when it is very high, the coefficient of all features become zero, making the model very simple. Therefore, the tunning parameter labmda affects the trade-off between bias and variance. "
   ]
  },
  {
   "cell_type": "markdown",
   "id": "4f44ffd0-db19-486e-8467-a773dfe8fe8b",
   "metadata": {},
   "source": [
    "## Q5. Can Lasso Regression be used for non-linear regression problems? If yes, how?"
   ]
  },
  {
   "cell_type": "markdown",
   "id": "3b23efc7-9ef7-44ae-87d1-05545178db60",
   "metadata": {},
   "source": [
    "Yes, Lasso regression can be used for non-linear regression with some modification, it cannot be applied directly for the non-linear regerssion. For this to be used, one can use kernel methods to map the predictor variables x to a higher-dimensional feature space where they may be more linearly related to y. Then one can apply lasso regression in the feature space to select and regularize the coefficients."
   ]
  },
  {
   "cell_type": "markdown",
   "id": "46d9dc75-3d9b-4ea7-a8f9-12617101da03",
   "metadata": {},
   "source": [
    "## Q6. What is the difference between Ridge Regression and Lasso Regression?"
   ]
  },
  {
   "cell_type": "markdown",
   "id": "917abe20-3113-4e01-9e44-b6992fe3e3cc",
   "metadata": {},
   "source": [
    "Both Ridge regression and Laso are variants of regression models. In both methods, in addition to the least regression term, a penalty term is added to shrink the coefficients. In Ridge regression, coefficients are shrinked close to zero, however, it never become zero. However, in Lasso regression, some coefficients are shrinked to zero. Ridge regeression is mainly used to reduce overfitting of the model, whereas Lasso regression is mainly used for the features selection process. "
   ]
  },
  {
   "cell_type": "markdown",
   "id": "0d307a87-3fbb-4cd9-bc92-4171eaf8f2c2",
   "metadata": {},
   "source": [
    "## Q7. Can Lasso Regression handle multicollinearity in the input features? If yes, how?"
   ]
  },
  {
   "cell_type": "markdown",
   "id": "3703aa09-14e7-4d82-bbf4-e0983c8e2f96",
   "metadata": {},
   "source": [
    "Yes, it can handle multicollinearity in the input features. Multicollinearity is the case where features are highly correlated with each other. It does this by shrinking some of the coefficients of the features to zero. However, It is not the perfet methods for handling multicollinearity as ride and elastic regression do. "
   ]
  },
  {
   "cell_type": "markdown",
   "id": "bbaa2de3-723f-4bad-bb90-d052f6a0dad9",
   "metadata": {},
   "source": [
    "## Q8. How do you choose the optimal value of the regularization parameter (lambda) in Lasso Regression?"
   ]
  },
  {
   "cell_type": "markdown",
   "id": "597be9a4-53d0-4f95-a747-ec1f789b8c29",
   "metadata": {},
   "source": [
    "Lambda affects the trade-off between variance and bias. Therefore, the optimal value of lambda must be selected. To do this, cross validation can be used. Lambda value with low validation loss can be selected with cross validation methods. "
   ]
  },
  {
   "cell_type": "code",
   "execution_count": null,
   "id": "276cee59-e105-4007-8c16-7626c12fa159",
   "metadata": {},
   "outputs": [],
   "source": []
  }
 ],
 "metadata": {
  "kernelspec": {
   "display_name": "Python 3 (ipykernel)",
   "language": "python",
   "name": "python3"
  },
  "language_info": {
   "codemirror_mode": {
    "name": "ipython",
    "version": 3
   },
   "file_extension": ".py",
   "mimetype": "text/x-python",
   "name": "python",
   "nbconvert_exporter": "python",
   "pygments_lexer": "ipython3",
   "version": "3.10.8"
  }
 },
 "nbformat": 4,
 "nbformat_minor": 5
}
