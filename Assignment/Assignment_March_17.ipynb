{
 "cells": [
  {
   "cell_type": "markdown",
   "id": "7afbcdef-1428-493f-b2d6-dfb3771c0c16",
   "metadata": {},
   "source": [
    "## Q1: What are missing values in a dataset? Why is it essential to handle missing values? Name some algorithms that are not affected by missing values."
   ]
  },
  {
   "cell_type": "markdown",
   "id": "c11490b5-9b5f-491b-b13f-b4547ab3aaa1",
   "metadata": {},
   "source": [
    "- Missing values in a dataset refer to the absence of an observation in a particular column or feature. \n",
    "\n",
    "- Handling missing values is essential because it can lead to biased or incorrect results if ignored. Missing values can impact statistical analysis, data mining, and machine learning algorithms.\n",
    "\n",
    "## algorithms that are not affected by missing values\n",
    "\n",
    "1. Decision Trees\n",
    "\n",
    "2. Random Forest\n",
    "\n",
    "3. K-Nearest Neighbor\n",
    "\n",
    "4. Support Vector Machines (SVM)\n",
    "\n",
    "5. Naive Bayes"
   ]
  },
  {
   "cell_type": "markdown",
   "id": "ab96d36d-b010-4f43-a8b7-02370fc59183",
   "metadata": {},
   "source": [
    "## Q2: List down techniques used to handle missing data. Give an example of each with python code."
   ]
  },
  {
   "cell_type": "markdown",
   "id": "5af40ff0-7a64-4f2e-8fcf-609f28f6777b",
   "metadata": {},
   "source": [
    "1. drop all the rows with nan - df.dropna()\n",
    "2. drop columns with nan - df.dropna(axis=1)\n",
    "3. replace missing values with mean value of the column - df['age'].fillna(df['age'].mean())\n",
    "4. replace missing values with median value of the column - df['age'].fillna(df['age'].median())\n",
    "5. replace missing values with mode value of the column - <br>\n",
    "df['age'].fillna(df['age'].mode()) <br>\n",
    "mode = df[df['age'].notna()]['age'].mode()[0] <br>\n",
    "df['age'].fillna(mode)"
   ]
  },
  {
   "cell_type": "markdown",
   "id": "aba79a72-1c5d-4d77-bf87-3170ac149f94",
   "metadata": {},
   "source": [
    "## Q3: Explain the imbalanced data. What will happen if imbalanced data is not handled?"
   ]
  },
  {
   "cell_type": "markdown",
   "id": "68dce23e-0080-48a0-acb6-0b5d7c67fdb8",
   "metadata": {},
   "source": [
    "Imbalanced data refers to a situation where the distribution of classes in a dataset is not equal, meaning that some classes have significantly fewer instances than others.\n",
    "\n",
    "If imbalanced data is not handled, it can lead to biased models with poor performance. Most machine learning algorithms are designed to minimize the overall error, and they can be heavily influenced by the majority class, causing the minority class to be ignored. As a result, the model will perform well on the majority class but poorly on the minority class, leading to poor generalization and classification accuracy."
   ]
  },
  {
   "cell_type": "markdown",
   "id": "6d22f552-bc43-4ad7-bc8d-a41aa402736a",
   "metadata": {},
   "source": [
    "## Q4: What are Up-sampling and Down-sampling? Explain with an example when up-sampling and down- sampling are required."
   ]
  },
  {
   "cell_type": "markdown",
   "id": "b254a741-0c7c-42a4-b966-d3a85631728c",
   "metadata": {},
   "source": [
    "Upsampling involves increasing the number of instances in the minority class to match the majority class's size. Down-sampling, on the other hand, involves reducing the number of instances in the majority class to match the minority class's size.\n",
    "\n",
    "suppose we have a dataset with 1000 instances where 900 belong to class A and 100 belong to class B.  To balance the dataset, we can up-sample class B by duplicating its instances randomly until it has the same number of samples as class A or we can down-sample class A by removing its instances randomly until it has the same number of samples as class B.\n",
    "\n"
   ]
  },
  {
   "cell_type": "markdown",
   "id": "f44c4099-744a-489a-bc90-c7dc33606f69",
   "metadata": {},
   "source": [
    "## Q5: What is data Augmentation? Explain SMOTE."
   ]
  },
  {
   "cell_type": "markdown",
   "id": "fa6969fc-ce25-44c9-81c9-6f62d66bbdd3",
   "metadata": {},
   "source": [
    "Data augmentation is a technique used in machine learning to increase the size of a dataset by creating new samples by applying various transformations to the existing samples, such as flipping, rotating, or zooming in or out.\n",
    "\n",
    "SMOTE is a technique used for handling imbalanced datasets. SMOTE creates synthetic samples for the minority class by taking each sample from the minority class and introducing synthetic samples along the line segments joining any/all of the k minority class nearest neighbors.\n",
    "\n"
   ]
  },
  {
   "cell_type": "markdown",
   "id": "4d474639-6a39-4073-8137-b380d3856a59",
   "metadata": {},
   "source": [
    "## Q6: What are outliers in a dataset? Why is it essential to handle outliers?"
   ]
  },
  {
   "cell_type": "markdown",
   "id": "a79a28f8-1109-46bd-831f-8ad6bc77805d",
   "metadata": {},
   "source": [
    "Outliers in a dataset refer to observations that are significantly different from other observations in the dataset. \n",
    "\n",
    "It is essential to handle outliers because they can have a significant impact on the results of data analysis and modeling. Outliers can skew statistical measures such as the mean and standard deviation, leading to inaccurate results. They can also affect the performance of machine learning models by introducing bias in the training process."
   ]
  },
  {
   "cell_type": "markdown",
   "id": "f891ef46-1f6e-4f7a-9fd9-16e39f4b3359",
   "metadata": {},
   "source": [
    "## Q7: You are working on a project that requires analyzing customer data. However, you notice that some of the data is missing. What are some techniques you can use to handle the missing data in your analysis?"
   ]
  },
  {
   "cell_type": "markdown",
   "id": "d6634c06-5c8c-43a1-8653-8069f53f5c51",
   "metadata": {},
   "source": [
    "1. Deletion: drop the rows or columns where the missing values are.\n",
    "\n",
    "2. Imputation: replace the missing values with mean, mode, or median of the column.\n",
    "\n",
    "3. Predictive modeling: it involves using machine learning techniques to handles it.\n"
   ]
  },
  {
   "cell_type": "markdown",
   "id": "6e0629de-445a-4d22-8679-da64222b52b8",
   "metadata": {},
   "source": [
    "## Q8: You are working with a large dataset and find that a small percentage of the data is missing. What are some strategies you can use to determine if the missing data is missing at random or if there is a pattern to the missing data?"
   ]
  },
  {
   "cell_type": "markdown",
   "id": "d89082c7-0632-45e1-912c-336a5eae4b20",
   "metadata": {},
   "source": [
    "1. Analysis of patterns: This can be done by plotting missing values with time. If there is a clear pattern to the missingness, then it is likely that the data is not missing at random.\n",
    "\n",
    "2. Imputation methods: compare the results of imputation methods when the missing data is ignored versus when it is imputed. If the results are similar, then it is likely that the missing data is MAR.\n",
    "\n",
    "3. Statistical tests: One approach is to compare the distribution of the observed data to the distribution of the missing data. If the distributions are similar, then it is likely that the data is MAR. \n",
    "\n",
    "4. Regression models to predict the missing values and then compare the observed and predicted values. If the predictions are accurate, then it is likely that the data is MAR."
   ]
  },
  {
   "cell_type": "markdown",
   "id": "989edb5c-63cf-4e82-bc90-0abbf5e0f762",
   "metadata": {},
   "source": [
    "## Q9: Suppose you are working on a medical diagnosis project and find that the majority of patients in the dataset do not have the condition of interest, while a small percentage do. What are some strategies you can use to evaluate the performance of your machine learning model on this imbalanced dataset?"
   ]
  },
  {
   "cell_type": "markdown",
   "id": "ca6df5fb-1455-4e81-9f36-5f4e026c503d",
   "metadata": {},
   "source": [
    "1. Ensemble methods: Ensemble methods like bagging, boosting, and stacking can be used to improve model performance on imbalanced datasets.\n",
    "\n",
    "2. Resampling techniques: up-sampling and down-sampling can be used to balance the dataset. These techniques can help in improving model performance by providing more balanced data to the algorithm.\n",
    "\n",
    "3. Data augmentation: Data augmentation involves creating new synthetic data points from the existing data (SMOTE). This technique can help in balancing the dataset and improving model performance on imbalanced datasets.\n",
    "\n",
    "4. Use metrics that are robust to imbalanced datasets: As accuracy is not an appropriate metric to evaluate model performance on imbalanced datasets, metrics like precision, recall, F1 score, and area under the receiver operating characteristic curve (AUC-ROC) can be used to evaluate model performance."
   ]
  },
  {
   "cell_type": "markdown",
   "id": "8bee370f-633b-47fe-8145-ca2cd20c8f22",
   "metadata": {},
   "source": [
    "## Q10: When attempting to estimate customer satisfaction for a project, you discover that the dataset is unbalanced, with the bulk of customers reporting being satisfied. What methods can you employ to balance the dataset and down-sample the majority class?"
   ]
  },
  {
   "cell_type": "markdown",
   "id": "4609a9cc-e920-404c-98f2-0147064f78cd",
   "metadata": {},
   "source": [
    "1. Down sampling - This technique involves randomly selecting instances from the majority class to match the number of instances in the minority class..\n",
   ]
  },
  {
   "cell_type": "markdown",
   "id": "7453865d-7226-4d80-a595-33ba1731ea19",
   "metadata": {},
   "source": [
    "## Q11: You discover that the dataset is unbalanced with a low percentage of occurrences while working on a project that requires you to estimate the occurrence of a rare event. What methods can you employ to balance the dataset and up-sample the minority class?"
   ]
  },
  {
   "cell_type": "markdown",
   "id": "f77a4a09-e2e0-42d3-8a3a-6a2e409fce1a",
   "metadata": {},
   "source": [
    "1. Up sampling - using upsampling to increase the number of minority dataset.\n",
    "2. Data augmentation: Data augmentation involves creating new synthetic data points from the existing data."
   ]
  }
 ],
 "metadata": {
  "kernelspec": {
   "display_name": "Python 3 (ipykernel)",
   "language": "python",
   "name": "python3"
  },
  "language_info": {
   "codemirror_mode": {
    "name": "ipython",
    "version": 3
   },
   "file_extension": ".py",
   "mimetype": "text/x-python",
   "name": "python",
   "nbconvert_exporter": "python",
   "pygments_lexer": "ipython3",
   "version": "3.10.8"
  }
 },
 "nbformat": 4,
 "nbformat_minor": 5
}
