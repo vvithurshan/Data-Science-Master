{
 "cells": [
  {
   "cell_type": "markdown",
   "id": "5b67cf13-a06f-481a-9993-0dc8011c65da",
   "metadata": {},
   "source": [
    "## Q1. What is the Probability density function?"
   ]
  },
  {
   "cell_type": "markdown",
   "id": "73de1cf5-6f25-4f5d-b24f-b7eda2c62bcf",
   "metadata": {},
   "source": [
    "The Probability density function (PDF) is a statistical function that describes the likelihood of obtaining a particular value from a continuous random variable. The PDF is calculated by taking the derivative of the cumulative distribution function (CDF) of the random variable. The area under the curve of a PDF between two points represents the probability that the random variable falls within that range."
   ]
  },
  {
   "cell_type": "markdown",
   "id": "c005ab27-58d5-44c1-8fa8-95000dcd56ee",
   "metadata": {},
   "source": [
    "## Q2. What are the types of Probability distribution?"
   ]
  },
  {
   "cell_type": "markdown",
   "id": "d875895b-94a6-4aca-b7c4-f10f673de1d2",
   "metadata": {},
   "source": [
    "1. Normal distribution.\n",
    "2. Bernouli distribution.\n",
    "3. Uniform distribution.\n",
    "4. Log normal distribution\n",
    "5. poisson distribution.\n",
    "6. power law distribution.\n",
    "7. Binomial distribution."
   ]
  },
  {
   "cell_type": "markdown",
   "id": "c14918ee-fb5b-49cb-89bc-d0ec9105bd05",
   "metadata": {},
   "source": [
    "## Q3. Write a Python function to calculate the probability density function of a normal distribution with given mean and standard deviation at a given point."
   ]
  },
  {
   "cell_type": "code",
   "execution_count": 39,
   "id": "c0928e49-36dd-4f87-bd31-175c6672e91d",
   "metadata": {},
   "outputs": [],
   "source": [
    "import numpy as np\n",
    "import math \n",
    "def PDF_noraml_dist(mean, std, point):\n",
    "    f = 1/(std * np.sqrt(2 * math.pi))* np.exp((-(point - mean)**2)/(2*std**2))\n",
    "    return f"
   ]
  },
  {
   "cell_type": "code",
   "execution_count": 40,
   "id": "9bbbcb73-cebc-445a-bfac-0690bf488b68",
   "metadata": {},
   "outputs": [
    {
     "name": "stdout",
     "output_type": "stream",
     "text": [
      "PDF of normal distribution with mean 10, std 5, and point 2 is 0.022184166935891116\n"
     ]
    }
   ],
   "source": [
    "mean = 10\n",
    "std = 5\n",
    "x = 2\n",
    "ans = PDF_noraml_dist(mean, std, x)\n",
    "print(\"PDF of normal distribution with mean {}, std {}, and point {} is {}\".format(mean, std, x, ans))"
   ]
  },
  {
   "cell_type": "markdown",
   "id": "fc58cfd0-beb3-413c-a45c-fa5114b0a176",
   "metadata": {},
   "source": [
    "## Q4. What are the properties of Binomial distribution? Give two examples of events where binomial distribution can be applied."
   ]
  },
  {
   "cell_type": "markdown",
   "id": "f44b8c66-61fa-4752-a4c0-27f99af2ef8e",
   "metadata": {},
   "source": [
    "1. Each trial has only two possible outcomes, success or failure.\n",
    "2. The trials must be independent of each other.\n",
    "3. The number of successes is a discrete random variable, meaning that it can only take on integer values.\n",
    "4. The probability of success is constant for each trial.\n",
    "5. The binomial distribution assumes that there is a fixed number of independent trials."
   ]
  },
  {
   "cell_type": "markdown",
   "id": "9179fda2-4df2-4157-b60e-8aad0597949c",
   "metadata": {},
   "source": [
    "## Q5. Generate a random sample of size 1000 from a binomial distribution with probability of success 0.4 and plot a histogram of the results using matplotlib."
   ]
  },
  {
   "cell_type": "code",
   "execution_count": 6,
   "id": "9970348b-60a5-4127-be45-e4ece534de26",
   "metadata": {},
   "outputs": [
    {
     "data": {
      "image/png": "[encoded data removed]",
      "text/plain": [
       "<Figure size 1000x500 with 1 Axes>"
      ]
     },
     "metadata": {},
     "output_type": "display_data"
    }
   ],
   "source": [
    "import numpy as np\n",
    "import matplotlib.pyplot as plt\n",
    "\n",
    "sample = np.random.binomial(1000, 0.4)\n",
    "plt.figure(figsize=(10,5))\n",
    "plt.hist(sample, bins=10)\n",
    "plt.title(\"Binomial Distribution\")\n",
    "plt.xlabel(\"Number of Successes\")\n",
    "plt.ylabel(\"Frequency\")\n",
    "plt.show()\n"
   ]
  },
  {
   "cell_type": "markdown",
   "id": "846e75b3-3afe-412e-a8b8-430037acf100",
   "metadata": {},
   "source": [
    "## Q6. Write a Python function to calculate the cumulative distribution function of a Poisson distribution with given mean at a given point."
   ]
  },
  {
   "cell_type": "code",
   "execution_count": 16,
   "id": "57097ba5-8050-4cdf-abf0-27681e644699",
   "metadata": {},
   "outputs": [],
   "source": [
    "fact = lambda x : 1 if x == 0 else x * fact(x-1)"
   ]
  },
  {
   "cell_type": "code",
   "execution_count": 19,
   "id": "ed48ca2a-7856-4af9-94d8-a526bc5e6bb3",
   "metadata": {},
   "outputs": [],
   "source": [
    "import numpy as np\n",
    "def CDF_poisson(lam, point):\n",
    "    cdf = 0\n",
    "    for i in range(point+1):\n",
    "        cdf += np.exp(-lam) * lam**point/fact(point)\n",
    "    return cdf"
   ]
  },
  {
   "cell_type": "code",
   "execution_count": 20,
   "id": "dc3a27fe-fe0a-4c25-8aaf-107dd1e07fa8",
   "metadata": {},
   "outputs": [
    {
     "name": "stdout",
     "output_type": "stream",
     "text": [
      "CDF of poisson distribution with mean 12 and point 8 is 0.5897095643455837\n"
     ]
    }
   ],
   "source": [
    "mean = 12\n",
    "point =8 \n",
    "cdf = CDF_poisson(mean, point)\n",
    "print(\"CDF of poisson distribution with mean {} and point {} is {}\".format(mean, point, cdf))"
   ]
  },
  {
   "cell_type": "markdown",
   "id": "beff5ac2-c083-4ef8-a2bf-59ed7d1eaf52",
   "metadata": {},
   "source": [
    "## Q7. How Binomial distribution different from Poisson distribution?"
   ]
  },
  {
   "cell_type": "markdown",
   "id": "b242efa5-4079-4deb-924b-b11e3b9df403",
   "metadata": {},
   "source": [
    "1. Binomial distribution models the number of successes in a fixed number of trials, whereas Poisson distribution models the number of events occurring in a fixed time interval.\n",
    "\n",
    "2.  Binomial distribution has two parameters, the number of trials and the probability of success. Poisson distribution has only one parameter, the mean number of events.\n",
    "\n",
    "3. Binomial distribution assumes that each trial is independent and has a fixed probability of success. Poisson distribution assumes that events occur randomly and independently of each other.\n",
    "\n",
    "4. The shape of the binomial distribution is generally symmetric, while the shape of the Poisson distribution is skewed to the right."
   ]
  },
  {
   "cell_type": "markdown",
   "id": "9a555040-4a11-49df-9ffa-2b13b57989ba",
   "metadata": {},
   "source": [
    "## Q8. Generate a random sample of size 1000 from a Poisson distribution with mean 5 and calculate the sample mean and variance."
   ]
  },
  {
   "cell_type": "markdown",
   "id": "21215db3-d39c-4374-aa82-4704dab8227c",
   "metadata": {},
   "source": [
    "In poisson distrubution both sample mean and variance are approximately equl."
   ]
  },
  {
   "cell_type": "code",
   "execution_count": 33,
   "id": "1b09df65-d33a-4712-96d8-ab502ae81417",
   "metadata": {},
   "outputs": [
    {
     "name": "stdout",
     "output_type": "stream",
     "text": [
      "Sample mean: 4.874 Sample variance 4.784123999999999\n"
     ]
    }
   ],
   "source": [
    "import numpy as np\n",
    "\n",
    "sample = np.random.poisson(lam=5, size=1000)\n",
    "\n",
    "sample_mean = np.mean(sample)\n",
    "sample_var = np.var(sample)\n",
    "\n",
    "print(\"Sample mean: {} Sample variance {}\".format(sample_mean, sample_var))\n"
   ]
  },
  {
   "cell_type": "markdown",
   "id": "687fb4df-f36b-4c1a-9441-c1ef63307a3a",
   "metadata": {},
   "source": [
    "## Q9. How mean and variance are related in Binomial distribution and Poisson distribution?"
   ]
  },
  {
   "cell_type": "markdown",
   "id": "0307871f-1c4b-4f19-99c3-3e067c784e6c",
   "metadata": {},
   "source": [
    "**Binomial distribution**\n",
    "1. mean is the product of number of trials and the probability of success\n",
    "2. variance is the product of number of trials, the probability of success, and the probability of failure\n",
    "\n",
    "**Poisson distribution**\n",
    "Both mean and variance are same and equal to the lambda."
   ]
  },
  {
   "cell_type": "markdown",
   "id": "46ee8bac-1e8f-468d-9f58-552c89be0b1f",
   "metadata": {},
   "source": [
    "## Q10. In normal distribution with respect to mean position, where does the least frequent data appear?"
   ]
  },
  {
   "cell_type": "markdown",
   "id": "448aa635-6be6-427d-90ed-11e57bdbba14",
   "metadata": {},
   "source": [
    "The least frequent data appear at the tails. "
   ]
  }
 ],
 "metadata": {
  "kernelspec": {
   "display_name": "Python 3 (ipykernel)",
   "language": "python",
   "name": "python3"
  },
  "language_info": {
   "codemirror_mode": {
    "name": "ipython",
    "version": 3
   },
   "file_extension": ".py",
   "mimetype": "text/x-python",
   "name": "python",
   "nbconvert_exporter": "python",
   "pygments_lexer": "ipython3",
   "version": "3.10.8"
  }
 },
 "nbformat": 4,
 "nbformat_minor": 5
}
