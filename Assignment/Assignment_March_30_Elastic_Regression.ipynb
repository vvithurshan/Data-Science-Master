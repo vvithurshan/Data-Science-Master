{
  "nbformat": 4,
  "nbformat_minor": 0,
  "metadata": {
    "colab": {
      "provenance": [],
      "authorship_tag": "ABX9TyOh4wVmLE/sE1KnRA3iVPG/",
      "include_colab_link": true
    },
    "kernelspec": {
      "name": "python3",
      "display_name": "Python 3"
    },
    "language_info": {
      "name": "python"
    }
  },
  "cells": [
    {
      "cell_type": "markdown",
      "metadata": {
        "id": "view-in-github",
        "colab_type": "text"
      },
      "source": [
        "<a href=\"https://colab.research.google.com/github/vvithurshan/Data-Science-Master/blob/main/Assignment/Assignment_March_30_Elastic_Regression.ipynb\" target=\"_parent\"><img src=\"https://colab.research.google.com/assets/colab-badge.svg\" alt=\"Open In Colab\"/></a>"
      ]
    },
    {
      "cell_type": "markdown",
      "source": [
        "## Q1. What is Elastic Net Regression and how does it differ from other regression techniques?"
      ],
      "metadata": {
        "id": "EV6fVhf-uJ-k"
      }
    },
    {
      "cell_type": "markdown",
      "source": [
        "Elastic regression is a type of regression technique that combines beth Lesso regression and Ride regression. Ridge regression uses L2 penalty to penalize the coefficients while Lessor regression uses L1 penalty. Elastic regerssion linearly combines both the L1 and L2 penalties."
      ],
      "metadata": {
        "id": "BUaUg0aHueOX"
      }
    },
    {
      "cell_type": "markdown",
      "source": [
        " ## Q2. How do you choose the optimal values of the regularization parameters for Elastic Net Regression?"
      ],
      "metadata": {
        "id": "U6BgMEfHuJ7_"
      }
    },
    {
      "cell_type": "markdown",
      "source": [
        "Oplimal values of the regularization parameters can be choosen with cross validation."
      ],
      "metadata": {
        "id": "EwggnAdhv4gO"
      }
    },
    {
      "cell_type": "markdown",
      "source": [
        "## Q3. What are the advantages and disadvantages of Elastic Net Regression?"
      ],
      "metadata": {
        "id": "cEQ8beYmuJ5L"
      }
    },
    {
      "cell_type": "markdown",
      "source": [
        "Advantages\n",
        "\n",
        "*   As Elastic net regression uses both Ridge regression and Lesso regression,\n",
        "\n",
        "        1. it can be used to prevent overfitting and for feature selection.\n",
        "        2. it makes the model more robust.\n",
        "        3. It addresses multicollinearity.\n",
        "Disadvantages\n",
        "\n",
        "*   As it combines both Elastin regression and Ridge regression terms, choosing the optimal values for parameters can be challenging."
      ],
      "metadata": {
        "id": "0cgm7GI8wKMF"
      }
    },
    {
      "cell_type": "markdown",
      "source": [
        "## Q4. What are some common use cases for Elastic Net Regression?"
      ],
      "metadata": {
        "id": "ZBoGse7TwAWr"
      }
    },
    {
      "cell_type": "markdown",
      "source": [
        "Elastin Net regression can be used for the following tasks such as feature selection and regularization."
      ],
      "metadata": {
        "id": "YPWS8UUUuJ2u"
      }
    },
    {
      "cell_type": "markdown",
      "source": [
        "## Q5. How do you interpret the coefficients in Elastic Net Regression?"
      ],
      "metadata": {
        "id": "tz6Df79luJ0M"
      }
    },
    {
      "cell_type": "markdown",
      "source": [
        "- A positive coefficient indicates the corresponding feature is positively correlated with the target variable.\n",
        "- A negative coefficient indicates the corresponding feature is negatively correlated with the target variable.\n",
        "- A coefficient that is close to zero indicates that the corresponding feature is less important for the prediction.\n",
        "- A coefficient that is zero indicates that the corresponding feature has been removed by the regularizatioin term."
      ],
      "metadata": {
        "id": "uBnU11b1uJvE"
      }
    },
    {
      "cell_type": "markdown",
      "source": [
        "## Q6. How do you handle missing values when using Elastic Net Regression?"
      ],
      "metadata": {
        "id": "0T8wP9OPuJsS"
      }
    },
    {
      "cell_type": "markdown",
      "source": [
        "1. Deletion - it involves removing the rows or columns with missing values.\n",
        "2. Mean imputation - fill missing values with mean value\n",
        "3. Median imputation - fill missing values with median value\n",
        "4. Mode imputation - fill missing values with mode value\n",
        "5. Random impulatioin - fill missing values with random numbers."
      ],
      "metadata": {
        "id": "YrsBRFc6uJqB"
      }
    },
    {
      "cell_type": "markdown",
      "source": [
        "## Q7. How do you use Elastic Net Regression for feature selection?"
      ],
      "metadata": {
        "id": "tHcjPOkQuJnp"
      }
    },
    {
      "cell_type": "markdown",
      "source": [
        "With the help of cross validation, optimal value of lambda can be selected for the Lasso regression term. This causes feature selection by setting the coefficients of the features that are not important for making prediction."
      ],
      "metadata": {
        "id": "freMpLnxuJkj"
      }
    },
    {
      "cell_type": "markdown",
      "source": [
        "## Q8. How do you pickle and unpickle a trained Elastic Net Regression model in Python?"
      ],
      "metadata": {
        "id": "YxOQk0pTuJXD"
      }
    },
    {
      "cell_type": "code",
      "execution_count": null,
      "metadata": {
        "id": "GG8Yudpmt_eG"
      },
      "outputs": [],
      "source": [
        "import pickle\n",
        "from sklearn.linear_model import ElasticNet\n",
        "\n",
        "Elastic_regressor = ElasticNet()\n",
        "\n",
        "## Saving model\n",
        "with open('Elastic_regressor.pkl','wb') as file:\n",
        "    pickle.dump(Elastic_regressor, file)\n",
        "## Loading model\n",
        "with open('Elastic_regressor.pkl', 'rb') as file:\n",
        "    load_model = pickle.load(file)\n"
      ]
    },
    {
      "cell_type": "markdown",
      "source": [
        "## Q9. What is the purpose of pickling a model in machine learning?"
      ],
      "metadata": {
        "id": "a2tBFiMC4qTL"
      }
    },
    {
      "cell_type": "markdown",
      "source": [
        "By pickling a model, model with learned parameters can be saved into the computer which can be used for making prediction without training again."
      ],
      "metadata": {
        "id": "cau89gEU5BDf"
      }
    },
    {
      "cell_type": "code",
      "source": [],
      "metadata": {
        "id": "5UpXKO0O4rFx"
      },
      "execution_count": null,
      "outputs": []
    }
  ]
}