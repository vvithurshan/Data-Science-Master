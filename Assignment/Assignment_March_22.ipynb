{
 "cells": [
  {
   "cell_type": "markdown",
   "id": "521d99fe-4f12-489f-940b-d28e84f916e1",
   "metadata": {},
   "source": [
    "## Q1. Pearson correlation coefficient is a measure of the linear relationship between two variables. Suppose you have collected data on the amount of time students spend studying for an exam and their final exam scores. Calculate the Pearson correlation coefficient between these two variables and interpret the result."
   ]
  },
  {
   "cell_type": "code",
   "execution_count": 9,
   "id": "b776dd4e-d601-4314-8ea8-64e8f658db33",
   "metadata": {},
   "outputs": [
    {
     "name": "stdout",
     "output_type": "stream",
     "text": [
      "Pearson correlation coefficient: 0.83\n"
     ]
    }
   ],
   "source": [
    "import pandas as pd\n",
    "\n",
    "# create a DataFrame with the data\n",
    "data = {'Study Time': [10, 8, 5, 7, 9, 12, 6, 3, 8, 11],\n",
    "        'Exam Score': [85, 78, 60, 60, 80, 80, 75, 55, 77, 80]}\n",
    "df = pd.DataFrame(data)\n",
    "\n",
    "r = df['Study Time'].corr(df['Exam Score'])\n",
    "\n",
    "print(f\"Pearson correlation coefficient: {r:.2f}\")\n"
   ]
  },
  {
   "cell_type": "markdown",
   "id": "89964bba-2c9c-4b86-8f35-39d4cf6ddde9",
   "metadata": {},
   "source": [
    " The Pearson correlation coefficient is 0.83, which indicates a strong positive linear relationship between the amount of time students spend studying for an exam and their final exam scores. In other words, students who study more tend to perform better on the exam."
   ]
  },
  {
   "cell_type": "markdown",
   "id": "69c08ea0-6970-488f-841d-b2f50d1164b1",
   "metadata": {},
   "source": [
    "## Q2. Spearman's rank correlation is a measure of the monotonic relationship between two variables. Suppose you have collected data on the amount of sleep individuals get each night and their overall job satisfaction level on a scale of 1 to 10. Calculate the Spearman's rank correlation between these two variables and interpret the result."
   ]
  },
  {
   "cell_type": "code",
   "execution_count": 13,
   "id": "45271623-8f47-4568-887b-9e9d17fb89e4",
   "metadata": {},
   "outputs": [
    {
     "name": "stdout",
     "output_type": "stream",
     "text": [
      "Spearman's rank correlation: 0.37\n"
     ]
    }
   ],
   "source": [
    "import pandas as pd\n",
    "from scipy.stats import spearmanr\n",
    "\n",
    "data = {'Sleep Hours': [7, 8, 6, 5, 7, 9, 8, 6, 7, 5],\n",
    "        'Job Satisfaction': [5, 7, 6, 5, 7, 8, 7, 6, 9, 8]}\n",
    "df = pd.DataFrame(data)\n",
    "\n",
    "rho, pval = spearmanr(df['Sleep Hours'], df['Job Satisfaction'])\n",
    "\n",
    "print(f\"Spearman's rank correlation: {rho:.2f}\")\n"
   ]
  },
  {
   "cell_type": "markdown",
   "id": "9033cdaa-b52c-4796-ac56-57192e7ddf68",
   "metadata": {},
   "source": [
    "The Spearman's rank correlation coefficient is 0.37, which indicates a weak positive monotonic relationship between the amount of sleep individuals get each night and their overall job satisfaction level."
   ]
  },
  {
   "cell_type": "markdown",
   "id": "5b5fb4a5-d6ed-4737-b47d-c4e0f21dc0d1",
   "metadata": {},
   "source": [
    "## Q3. Suppose you are conducting a study to examine the relationship between the number of hours of exercise per week and body mass index (BMI) in a sample of adults. You collected data on both variables for 50 participants. Calculate the Pearson correlation coefficient and the Spearman's rank correlation between these two variables and compare the results."
   ]
  },
  {
   "cell_type": "code",
   "execution_count": 27,
   "id": "348a1db9-4edb-4966-aa8f-0b1119143bc1",
   "metadata": {},
   "outputs": [
    {
     "name": "stdout",
     "output_type": "stream",
     "text": [
      "Pearson correlation coefficient: 0.24\n",
      "Spearman's rank correlation: 0.23\n"
     ]
    }
   ],
   "source": [
    "import pandas as pd\n",
    "from scipy.stats import pearsonr, spearmanr\n",
    "import numpy as np\n",
    "hrs = np.random.randint(1, 5, size=100)\n",
    "bmi = hrs * 0.22 + np.random.normal(size=100)\n",
    "data = {'Exercise Hours': hrs,\n",
    "        'BMI': bmi}\n",
    "df = pd.DataFrame(data)\n",
    "\n",
    "r, pval = pearsonr(df['Exercise Hours'], df['BMI'])\n",
    "\n",
    "rho, pval = spearmanr(df['Exercise Hours'], df['BMI'])\n",
    "\n",
    "print(f\"Pearson correlation coefficient: {r:.2f}\")\n",
    "print(f\"Spearman's rank correlation: {rho:.2f}\")\n"
   ]
  },
  {
   "cell_type": "markdown",
   "id": "f3873cc0-d92b-4194-92aa-6fcbd0167e66",
   "metadata": {},
   "source": [
    "A Pearson correlation coefficient of 0.24 indicates a weak positive linear relationship between two variables, while a Spearman's rank correlation coefficient of 0.23 indicates a slightly stronger positive monotonic relationship between the same variables."
   ]
  },
  {
   "cell_type": "markdown",
   "id": "bd5df24e-7d14-4977-be50-de3989185c70",
   "metadata": {},
   "source": [
    "## Q4. A researcher is interested in examining the relationship between the number of hours individuals spend watching television per day and their level of physical activity. The researcher collected data on both variables from a sample of 50 participants. Calculate the Pearson correlation coefficient between these two variables."
   ]
  },
  {
   "cell_type": "code",
   "execution_count": 36,
   "id": "2dfd08ee-8f55-4a7c-a449-f1b02ebd0821",
   "metadata": {},
   "outputs": [
    {
     "name": "stdout",
     "output_type": "stream",
     "text": [
      "Pearson correlation coefficient: 0.26420136392007015\n"
     ]
    }
   ],
   "source": [
    "import pandas as pd\n",
    "import numpy as np\n",
    "\n",
    "tv_hours = np.random.normal(3, 1, 50)\n",
    "activity_level = np.random.normal(5, 1, 50)\n",
    "\n",
    "corr_coef = np.corrcoef(tv_hours, activity_level)[0, 1]\n",
    "\n",
    "print(\"Pearson correlation coefficient:\", corr_coef)\n"
   ]
  },
  {
   "cell_type": "markdown",
   "id": "a86e2125-1686-4e2c-b866-e07a436ce23e",
   "metadata": {},
   "source": [
    "Pearson correlation of 0.26 siggest that there is a moderate correlation between the number of hours individuals spend watching television per day and their level of physical activity"
   ]
  },
  {
   "cell_type": "markdown",
   "id": "68575b1f-6d19-4f09-803d-13c975092c9a",
   "metadata": {},
   "source": [
    "## Q5. A survey was conducted to examine the relationship between age and preference for a particular brand of soft drink. The survey results are shown below:"
   ]
  },
  {
   "cell_type": "code",
   "execution_count": 42,
   "id": "a2dfe478-d2b6-4d28-95e1-a1147eae9d87",
   "metadata": {},
   "outputs": [],
   "source": [
    "df = pd.DataFrame({'age' : [25,42, 37, 19, 31, 28], 'brand' : ['coke','pepsi','Mountain dew','coke','pepsi','coke']})\n",
    "from sklearn.preprocessing import OneHotEncoder\n",
    "encoder = OneHotEncoder()\n",
    "E = encoder.fit_transform(df[['brand']]).toarray()\n",
    "df_encoded = pd.DataFrame(E, columns=encoder.get_feature_names_out())"
   ]
  },
  {
   "cell_type": "code",
   "execution_count": 43,
   "id": "6dca93c3-7622-4fde-b6fa-0ea7fde0b826",
   "metadata": {},
   "outputs": [
    {
     "data": {
      "text/html": [
       "<div>\n",
       "<style scoped>\n",
       "    .dataframe tbody tr th:only-of-type {\n",
       "        vertical-align: middle;\n",
       "    }\n",
       "\n",
       "    .dataframe tbody tr th {\n",
       "        vertical-align: top;\n",
       "    }\n",
       "\n",
       "    .dataframe thead th {\n",
       "        text-align: right;\n",
       "    }\n",
       "</style>\n",
       "<table border=\"1\" class=\"dataframe\">\n",
       "  <thead>\n",
       "    <tr style=\"text-align: right;\">\n",
       "      <th></th>\n",
       "      <th>brand_Mountain dew</th>\n",
       "      <th>brand_coke</th>\n",
       "      <th>brand_pepsi</th>\n",
       "    </tr>\n",
       "  </thead>\n",
       "  <tbody>\n",
       "    <tr>\n",
       "      <th>0</th>\n",
       "      <td>0.0</td>\n",
       "      <td>1.0</td>\n",
       "      <td>0.0</td>\n",
       "    </tr>\n",
       "    <tr>\n",
       "      <th>1</th>\n",
       "      <td>0.0</td>\n",
       "      <td>0.0</td>\n",
       "      <td>1.0</td>\n",
       "    </tr>\n",
       "    <tr>\n",
       "      <th>2</th>\n",
       "      <td>1.0</td>\n",
       "      <td>0.0</td>\n",
       "      <td>0.0</td>\n",
       "    </tr>\n",
       "    <tr>\n",
       "      <th>3</th>\n",
       "      <td>0.0</td>\n",
       "      <td>1.0</td>\n",
       "      <td>0.0</td>\n",
       "    </tr>\n",
       "    <tr>\n",
       "      <th>4</th>\n",
       "      <td>0.0</td>\n",
       "      <td>0.0</td>\n",
       "      <td>1.0</td>\n",
       "    </tr>\n",
       "    <tr>\n",
       "      <th>5</th>\n",
       "      <td>0.0</td>\n",
       "      <td>1.0</td>\n",
       "      <td>0.0</td>\n",
       "    </tr>\n",
       "  </tbody>\n",
       "</table>\n",
       "</div>"
      ],
      "text/plain": [
       "   brand_Mountain dew  brand_coke  brand_pepsi\n",
       "0                 0.0         1.0          0.0\n",
       "1                 0.0         0.0          1.0\n",
       "2                 1.0         0.0          0.0\n",
       "3                 0.0         1.0          0.0\n",
       "4                 0.0         0.0          1.0\n",
       "5                 0.0         1.0          0.0"
      ]
     },
     "execution_count": 43,
     "metadata": {},
     "output_type": "execute_result"
    }
   ],
   "source": [
    "df_encoded"
   ]
  },
  {
   "cell_type": "code",
   "execution_count": 45,
   "id": "ceb9ba95-e308-4210-993f-15bae624a4ac",
   "metadata": {},
   "outputs": [],
   "source": [
    "df_encod = pd.concat([df, df_encoded], axis = 1)"
   ]
  },
  {
   "cell_type": "code",
   "execution_count": 46,
   "id": "42625c55-367c-4b7f-ae3f-0473d07c6298",
   "metadata": {},
   "outputs": [
    {
     "data": {
      "text/html": [
       "<div>\n",
       "<style scoped>\n",
       "    .dataframe tbody tr th:only-of-type {\n",
       "        vertical-align: middle;\n",
       "    }\n",
       "\n",
       "    .dataframe tbody tr th {\n",
       "        vertical-align: top;\n",
       "    }\n",
       "\n",
       "    .dataframe thead th {\n",
       "        text-align: right;\n",
       "    }\n",
       "</style>\n",
       "<table border=\"1\" class=\"dataframe\">\n",
       "  <thead>\n",
       "    <tr style=\"text-align: right;\">\n",
       "      <th></th>\n",
       "      <th>age</th>\n",
       "      <th>brand</th>\n",
       "      <th>brand_Mountain dew</th>\n",
       "      <th>brand_coke</th>\n",
       "      <th>brand_pepsi</th>\n",
       "    </tr>\n",
       "  </thead>\n",
       "  <tbody>\n",
       "    <tr>\n",
       "      <th>0</th>\n",
       "      <td>25</td>\n",
       "      <td>coke</td>\n",
       "      <td>0.0</td>\n",
       "      <td>1.0</td>\n",
       "      <td>0.0</td>\n",
       "    </tr>\n",
       "    <tr>\n",
       "      <th>1</th>\n",
       "      <td>42</td>\n",
       "      <td>pepsi</td>\n",
       "      <td>0.0</td>\n",
       "      <td>0.0</td>\n",
       "      <td>1.0</td>\n",
       "    </tr>\n",
       "    <tr>\n",
       "      <th>2</th>\n",
       "      <td>37</td>\n",
       "      <td>Mountain dew</td>\n",
       "      <td>1.0</td>\n",
       "      <td>0.0</td>\n",
       "      <td>0.0</td>\n",
       "    </tr>\n",
       "    <tr>\n",
       "      <th>3</th>\n",
       "      <td>19</td>\n",
       "      <td>coke</td>\n",
       "      <td>0.0</td>\n",
       "      <td>1.0</td>\n",
       "      <td>0.0</td>\n",
       "    </tr>\n",
       "    <tr>\n",
       "      <th>4</th>\n",
       "      <td>31</td>\n",
       "      <td>pepsi</td>\n",
       "      <td>0.0</td>\n",
       "      <td>0.0</td>\n",
       "      <td>1.0</td>\n",
       "    </tr>\n",
       "    <tr>\n",
       "      <th>5</th>\n",
       "      <td>28</td>\n",
       "      <td>coke</td>\n",
       "      <td>0.0</td>\n",
       "      <td>1.0</td>\n",
       "      <td>0.0</td>\n",
       "    </tr>\n",
       "  </tbody>\n",
       "</table>\n",
       "</div>"
      ],
      "text/plain": [
       "   age         brand  brand_Mountain dew  brand_coke  brand_pepsi\n",
       "0   25          coke                 0.0         1.0          0.0\n",
       "1   42         pepsi                 0.0         0.0          1.0\n",
       "2   37  Mountain dew                 1.0         0.0          0.0\n",
       "3   19          coke                 0.0         1.0          0.0\n",
       "4   31         pepsi                 0.0         0.0          1.0\n",
       "5   28          coke                 0.0         1.0          0.0"
      ]
     },
     "execution_count": 46,
     "metadata": {},
     "output_type": "execute_result"
    }
   ],
   "source": [
    "df_encod"
   ]
  },
  {
   "cell_type": "code",
   "execution_count": 48,
   "id": "33bddd51-b030-4162-8e76-f987073f8483",
   "metadata": {},
   "outputs": [
    {
     "name": "stderr",
     "output_type": "stream",
     "text": [
      "/tmp/ipykernel_2574/4197927462.py:1: FutureWarning: The default value of numeric_only in DataFrame.corr is deprecated. In a future version, it will default to False. Select only valid columns or specify the value of numeric_only to silence this warning.\n",
      "  df_encod.corr(method = 'pearson')\n"
     ]
    },
    {
     "data": {
      "text/html": [
       "<div>\n",
       "<style scoped>\n",
       "    .dataframe tbody tr th:only-of-type {\n",
       "        vertical-align: middle;\n",
       "    }\n",
       "\n",
       "    .dataframe tbody tr th {\n",
       "        vertical-align: top;\n",
       "    }\n",
       "\n",
       "    .dataframe thead th {\n",
       "        text-align: right;\n",
       "    }\n",
       "</style>\n",
       "<table border=\"1\" class=\"dataframe\">\n",
       "  <thead>\n",
       "    <tr style=\"text-align: right;\">\n",
       "      <th></th>\n",
       "      <th>age</th>\n",
       "      <th>brand_Mountain dew</th>\n",
       "      <th>brand_coke</th>\n",
       "      <th>brand_pepsi</th>\n",
       "    </tr>\n",
       "  </thead>\n",
       "  <tbody>\n",
       "    <tr>\n",
       "      <th>age</th>\n",
       "      <td>1.000000</td>\n",
       "      <td>0.394132</td>\n",
       "      <td>-0.837240</td>\n",
       "      <td>0.576439</td>\n",
       "    </tr>\n",
       "    <tr>\n",
       "      <th>brand_Mountain dew</th>\n",
       "      <td>0.394132</td>\n",
       "      <td>1.000000</td>\n",
       "      <td>-0.447214</td>\n",
       "      <td>-0.316228</td>\n",
       "    </tr>\n",
       "    <tr>\n",
       "      <th>brand_coke</th>\n",
       "      <td>-0.837240</td>\n",
       "      <td>-0.447214</td>\n",
       "      <td>1.000000</td>\n",
       "      <td>-0.707107</td>\n",
       "    </tr>\n",
       "    <tr>\n",
       "      <th>brand_pepsi</th>\n",
       "      <td>0.576439</td>\n",
       "      <td>-0.316228</td>\n",
       "      <td>-0.707107</td>\n",
       "      <td>1.000000</td>\n",
       "    </tr>\n",
       "  </tbody>\n",
       "</table>\n",
       "</div>"
      ],
      "text/plain": [
       "                         age  brand_Mountain dew  brand_coke  brand_pepsi\n",
       "age                 1.000000            0.394132   -0.837240     0.576439\n",
       "brand_Mountain dew  0.394132            1.000000   -0.447214    -0.316228\n",
       "brand_coke         -0.837240           -0.447214    1.000000    -0.707107\n",
       "brand_pepsi         0.576439           -0.316228   -0.707107     1.000000"
      ]
     },
     "execution_count": 48,
     "metadata": {},
     "output_type": "execute_result"
    }
   ],
   "source": [
    "df_encod.corr(method = 'pearson')"
   ]
  },
  {
   "cell_type": "markdown",
   "id": "7cc531f8-3ca7-4921-832b-83c2ecc423a7",
   "metadata": {},
   "source": [
    "According to the pearson correlation, there is a strong positive correlation between age and pepsi and moderative positive correlation between age and mountain_dew. This suggest that as the age of the people increases they are likely to purchase pepsi and mountain_dew. However, there is a strong negative correlation between coke and age."
   ]
  },
  {
   "cell_type": "markdown",
   "id": "158a6991-05dd-4ad5-81ec-cca3daad08fd",
   "metadata": {},
   "source": [
    "## Q6. A company is interested in examining the relationship between the number of sales calls made per day and the number of sales made per week. The company collected data on both variables from a sample of 30 sales representatives. Calculate the Pearson correlation coefficient between these two variables."
   ]
  },
  {
   "cell_type": "code",
   "execution_count": 51,
   "id": "b7626848-aca7-461f-a305-66ed4756dcb5",
   "metadata": {},
   "outputs": [
    {
     "name": "stdout",
     "output_type": "stream",
     "text": [
      "Pearson correlation coefficient: 0.9690929999583497\n"
     ]
    }
   ],
   "source": [
    "calls_per_day = [10, 8, 15, 12, 7, 9, 11, 14, 18, 20, 6, 13, 16, 17, 9, 12, 14, 7, 10, 8, 11, 13, 15, 19, 21, 7, 9, 10, 11, 12]\n",
    "sales_per_week = [2, 1, 3, 2, 1, 2, 2, 3, 4, 5, 1, 3, 4, 4, 2, 2, 3, 1, 2, 1, 2, 3, 3, 5, 6, 1, 2, 2, 2, 2]\n",
    "\n",
    "\n",
    "from scipy.stats import pearsonr\n",
    "\n",
    "corr, p_val = pearsonr(calls_per_day, sales_per_week)\n",
    "\n",
    "print(\"Pearson correlation coefficient:\", corr)\n"
   ]
  },
  {
   "cell_type": "markdown",
   "id": "11f57e57-6ac8-4a90-9394-348bf1dea0fe",
   "metadata": {},
   "source": [
    "According to the pearson correlation there is a strong positive correlation between calls per day and sales per week."
   ]
  },
  {
   "cell_type": "code",
   "execution_count": null,
   "id": "7d0a39ee-090b-4284-a9af-885132cfe229",
   "metadata": {},
   "outputs": [],
   "source": []
  }
 ],
 "metadata": {
  "kernelspec": {
   "display_name": "Python 3 (ipykernel)",
   "language": "python",
   "name": "python3"
  },
  "language_info": {
   "codemirror_mode": {
    "name": "ipython",
    "version": 3
   },
   "file_extension": ".py",
   "mimetype": "text/x-python",
   "name": "python",
   "nbconvert_exporter": "python",
   "pygments_lexer": "ipython3",
   "version": "3.10.8"
  }
 },
 "nbformat": 4,
 "nbformat_minor": 5
}
