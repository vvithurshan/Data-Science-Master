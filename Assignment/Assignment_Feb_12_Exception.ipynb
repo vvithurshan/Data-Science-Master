{
 "cells": [
  {
   "cell_type": "markdown",
   "id": "86d20478-346b-4dbd-a839-8733caa41442",
   "metadata": {
    "tags": []
   },
   "source": [
    "# Assignment Feb 12"
   ]
  },
  {
   "cell_type": "markdown",
   "id": "9c447e92-fae6-4fa0-b528-c85d1df2bd85",
   "metadata": {
    "tags": []
   },
   "source": [
    "## Q1 - Exception vs syntax error"
   ]
  },
  {
   "cell_type": "raw",
   "id": "1a231cc4-3e73-4cfb-a4e2-895db3b0860d",
   "metadata": {},
   "source": [
    "An exception is an event in python that happens during the execution of the program and interrupts the normal flow of the program. It occurs for the following reasons: division by zero, trying to access a file that does not exist, and accessing an element that is out of the list range, etc. when an exception is raised, the normal flow of the program gets interrupted and the \n",
    "A syntax error occurs when the code is not written according to the rules of the Python language, such as forgetting to add a colon, using reserved keywords as a variable name, or trying to use an undefined variable. Exceptions, on the other hand, happen during the execution of the code, when the code has correct syntax, but fails to run due to issues such as dividing by zero, trying to access a non-existent file, or accessing a list element out of range. Exceptions can be handled properly and do not interrupt the normal flow of the program. Syntax errors, on the other hand, can only be avoided by writing the code in the proper syntax."
   ]
  },
  {
   "cell_type": "markdown",
   "id": "49dd94f9-a644-4abe-b7a2-93d991ef86e8",
   "metadata": {
    "tags": []
   },
   "source": [
    "## Q2 - What happens when an exception is not handled"
   ]
  },
  {
   "cell_type": "raw",
   "id": "de3514b0-abd0-470e-aacc-db9f49e82fed",
   "metadata": {},
   "source": [
    "If an exception is not handled properly, the normal flow of the code is interrupted, preventing further execution of the code"
   ]
  },
  {
   "cell_type": "raw",
   "id": "8cce9a43-c932-4c9a-b931-fffc6ef6a753",
   "metadata": {},
   "source": [
    "For example, the square root of a negative number cannot be found. However, if a negative number is passed to the math.sqrt() function, it will raise an error and interrupt the execution of the code."
   ]
  },
  {
   "cell_type": "code",
   "execution_count": 14,
   "id": "9f5c1b5e-00a8-497e-a1b4-fa25996731d8",
   "metadata": {},
   "outputs": [
    {
     "ename": "ValueError",
     "evalue": "math domain error",
     "output_type": "error",
     "traceback": [
      "\u001b[0;31m---------------------------------------------------------------------------\u001b[0m",
      "\u001b[0;31mValueError\u001b[0m                                Traceback (most recent call last)",
      "Cell \u001b[0;32mIn[14], line 3\u001b[0m\n\u001b[1;32m      1\u001b[0m \u001b[38;5;28;01mimport\u001b[39;00m \u001b[38;5;21;01mmath\u001b[39;00m\n\u001b[1;32m      2\u001b[0m a \u001b[38;5;241m=\u001b[39m \u001b[38;5;241m-\u001b[39m\u001b[38;5;241m10\u001b[39m\n\u001b[0;32m----> 3\u001b[0m \u001b[38;5;28mprint\u001b[39m(\u001b[38;5;124m\"\u001b[39m\u001b[38;5;124msquare root of \u001b[39m\u001b[38;5;132;01m{}\u001b[39;00m\u001b[38;5;124m is \u001b[39m\u001b[38;5;132;01m{}\u001b[39;00m\u001b[38;5;124m\"\u001b[39m\u001b[38;5;241m.\u001b[39mformat(a,\u001b[43mmath\u001b[49m\u001b[38;5;241;43m.\u001b[39;49m\u001b[43msqrt\u001b[49m\u001b[43m(\u001b[49m\u001b[43ma\u001b[49m\u001b[43m)\u001b[49m))\n\u001b[1;32m      4\u001b[0m \u001b[38;5;28mprint\u001b[39m(\u001b[38;5;124m\"\u001b[39m\u001b[38;5;124mThe square of \u001b[39m\u001b[38;5;132;01m{}\u001b[39;00m\u001b[38;5;124m is \u001b[39m\u001b[38;5;132;01m{}\u001b[39;00m\u001b[38;5;124m\"\u001b[39m\u001b[38;5;241m.\u001b[39mformat(a,a\u001b[38;5;241m*\u001b[39m\u001b[38;5;241m*\u001b[39m\u001b[38;5;241m2\u001b[39m))\n",
      "\u001b[0;31mValueError\u001b[0m: math domain error"
     ]
    }
   ],
   "source": [
    "import math\n",
    "a = -10\n",
    "print(\"square root of {} is {}\".format(a,math.sqrt(a)))\n",
    "print(\"The square of {} is {}\".format(a,a**2))"
   ]
  },
  {
   "cell_type": "raw",
   "id": "d57b7f9a-4d6f-430d-ad0f-ec038209c20d",
   "metadata": {},
   "source": [
    "However, it can be handled with exception handler"
   ]
  },
  {
   "cell_type": "code",
   "execution_count": 16,
   "id": "d7f1fc5f-eabc-4b4a-b0ad-2d5497f34c12",
   "metadata": {},
   "outputs": [
    {
     "name": "stdout",
     "output_type": "stream",
     "text": [
      "square root of 10 is 3.1622776601683795\n",
      "The square of 10 is 100\n"
     ]
    }
   ],
   "source": [
    "import math\n",
    "a = 10\n",
    "try:\n",
    "    print(\"square root of {} is {}\".format(a,math.sqrt(a)))\n",
    "except:\n",
    "    print(\"the square root of a negative number cannot be found\")\n",
    "else:\n",
    "    print(\"The square of {} is {}\".format(a,a**2))"
   ]
  },
  {
   "cell_type": "markdown",
   "id": "64f31cc5-f84a-4d9a-a3f7-1006ca18a2aa",
   "metadata": {
    "tags": []
   },
   "source": [
    "## Q3 - Statements to handle exception"
   ]
  },
  {
   "cell_type": "raw",
   "id": "6a2c983c-3a73-4271-8b1e-6b853ddcaafc",
   "metadata": {},
   "source": [
    "1. try \n",
    "2. except\n",
    "3. else\n",
    "4. finally\n",
    "5. raise\n",
    "\n",
    "The program written below shows how all these statements can be used."
   ]
  },
  {
   "cell_type": "code",
   "execution_count": 27,
   "id": "1eb1ea32-481d-4462-9182-997bd9efb8a7",
   "metadata": {},
   "outputs": [
    {
     "name": "stdout",
     "output_type": "stream",
     "text": [
      "Welcome to Sqrare root finder tool\n"
     ]
    },
    {
     "name": "stdin",
     "output_type": "stream",
     "text": [
      "Enter your Number -20\n"
     ]
    },
    {
     "name": "stdout",
     "output_type": "stream",
     "text": [
      "Error  the square root of a negative number cannot be found\n",
      "Thank you for using our service\n"
     ]
    }
   ],
   "source": [
    "import math\n",
    "print(\"Welcome to Sqrare root finder tool\")\n",
    "n = int(input(\"Enter your Number\"))\n",
    "def SQRT(r):\n",
    "    if r < 0:\n",
    "        ## raise is used to raise an error explicitly\n",
    "        raise Exception(\"the square root of a negative number cannot be found\")\n",
    "    else:\n",
    "        return math.sqrt(r)\n",
    "\n",
    "## try block contains the code that might raise an error\n",
    "try:\n",
    "    Sqrt = SQRT(n)\n",
    "\n",
    "## except block is executed when an exception occurs\n",
    "except Exception as E:\n",
    "    print(\"Error \",E)\n",
    "## else block is executed when an except block is not executed.\n",
    "else:\n",
    "    print(\"The square root of {} is {}\".format(n,Sqrt))\n",
    "## finally will always executed\n",
    "finally:\n",
    "    print(\"Thank you for using our service\")\n",
    "    "
   ]
  },
  {
   "cell_type": "markdown",
   "id": "562d73ef-cf50-4e7f-a212-7e1fb2b5c6b6",
   "metadata": {
    "tags": []
   },
   "source": [
    "## Q4 "
   ]
  },
  {
   "cell_type": "markdown",
   "id": "a4d2f8ff-fe16-455b-9cd9-df88c60eff4d",
   "metadata": {},
   "source": [
    "### try and else"
   ]
  },
  {
   "cell_type": "raw",
   "id": "26d18ff2-cfe3-4f18-bc0b-794477dd88b7",
   "metadata": {},
   "source": [
    "try block contains the code that might raise an error, eg sqrt(-10). If try block raises an error, code inside the else block will not be exected. However, if try block does not raise an error, codes inside the else block is executed."
   ]
  },
  {
   "cell_type": "markdown",
   "id": "7dee97a8-d148-424f-8615-8148839163ad",
   "metadata": {},
   "source": [
    "### finally"
   ]
  },
  {
   "cell_type": "raw",
   "id": "5db8bf51-256e-42fc-ae37-c07b2abbaa44",
   "metadata": {},
   "source": [
    "This block contains code that will be executed regardless of whether an exception occurs or not"
   ]
  },
  {
   "cell_type": "markdown",
   "id": "8b9538a4-eaf7-4fad-be70-c44675839c10",
   "metadata": {},
   "source": [
    "### raise"
   ]
  },
  {
   "cell_type": "raw",
   "id": "b26dfeb4-9435-4ea0-bd69-33b78ff5bba4",
   "metadata": {},
   "source": [
    "This statement is used to raise an exception explicitly"
   ]
  },
  {
   "cell_type": "markdown",
   "id": "5f42acfb-8023-4a78-a94d-722167918a26",
   "metadata": {},
   "source": [
    "#### example"
   ]
  },
  {
   "cell_type": "raw",
   "id": "2e1edcaa-6851-4331-99f4-d18b5f66cf86",
   "metadata": {},
   "source": [
    "In this code, since the number(n) is nagative, exception is raised by raise and code inside the except is executed. At the same time, code inside the finally block is executed regardless of error."
   ]
  },
  {
   "cell_type": "code",
   "execution_count": 29,
   "id": "5d7cc05e-7b2b-4e31-a60a-043df80c7a6b",
   "metadata": {},
   "outputs": [
    {
     "name": "stdout",
     "output_type": "stream",
     "text": [
      "Welcome to Sqrare root finder tool\n",
      "Error  the square root of a negative number cannot be found\n",
      "Thank you for using our service\n"
     ]
    }
   ],
   "source": [
    "import math\n",
    "print(\"Welcome to Sqrare root finder tool\")\n",
    "n = -10\n",
    "def SQRT(r):\n",
    "    if r < 0:\n",
    "        ## raise is used to raise an error explicitly\n",
    "        raise Exception(\"the square root of a negative number cannot be found\")\n",
    "    else:\n",
    "        return math.sqrt(r)\n",
    "\n",
    "## try block contains the code that might raise an error\n",
    "try:\n",
    "    Sqrt = SQRT(n)\n",
    "\n",
    "## except block is executed when an exception occurs\n",
    "except Exception as E:\n",
    "    print(\"Error \",E)\n",
    "## else block is executed when an except block is not executed.\n",
    "else:\n",
    "    print(\"The square root of {} is {}\".format(n,Sqrt))\n",
    "## finally will always executed regardless of what happend above\n",
    "finally:\n",
    "    print(\"Thank you for using our service\")\n",
    "    "
   ]
  },
  {
   "cell_type": "markdown",
   "id": "631e82f2-95d8-4c77-afe1-4ced2db8e2d4",
   "metadata": {},
   "source": [
    "#### example - 2 "
   ]
  },
  {
   "cell_type": "raw",
   "id": "0f231be7-1d00-4f8d-8fc5-d6b168ea0b48",
   "metadata": {},
   "source": [
    "In this code, since the number(n) is positive, exception is not raised by raise and code inside the else block is executed. At the same time, code inside the finally block is also executed."
   ]
  },
  {
   "cell_type": "code",
   "execution_count": 30,
   "id": "ee16ce45-00fb-43c1-ba6d-0d118cec637f",
   "metadata": {},
   "outputs": [
    {
     "name": "stdout",
     "output_type": "stream",
     "text": [
      "Welcome to Sqrare root finder tool\n",
      "The square root of 10 is 3.1622776601683795\n",
      "Thank you for using our service\n"
     ]
    }
   ],
   "source": [
    "import math\n",
    "print(\"Welcome to Sqrare root finder tool\")\n",
    "n = 10\n",
    "def SQRT(r):\n",
    "    if r < 0:\n",
    "        ## raise is used to raise an error explicitly\n",
    "        raise Exception(\"the square root of a negative number cannot be found\")\n",
    "    else:\n",
    "        return math.sqrt(r)\n",
    "\n",
    "## try block contains the code that might raise an error\n",
    "try:\n",
    "    Sqrt = SQRT(n)\n",
    "\n",
    "## except block is executed when an exception occurs\n",
    "except Exception as E:\n",
    "    print(\"Error \",E)\n",
    "## else block is executed when an except block is not executed.\n",
    "else:\n",
    "    print(\"The square root of {} is {}\".format(n,Sqrt))\n",
    "## finally will always executed regardless of what happend above\n",
    "finally:\n",
    "    print(\"Thank you for using our service\")\n",
    "    "
   ]
  },
  {
   "cell_type": "markdown",
   "id": "90b8dfb7-457c-4109-9105-bf535a47b814",
   "metadata": {
    "tags": []
   },
   "source": [
    "## Q5"
   ]
  },
  {
   "cell_type": "markdown",
   "id": "bce27382-92be-45d0-ba97-ad5021ab669f",
   "metadata": {},
   "source": [
    "### what are custom exceptions"
   ]
  },
  {
   "cell_type": "raw",
   "id": "40a96f74-861b-4309-9fee-92974e0dc816",
   "metadata": {},
   "source": [
    "Custom exceptions are the user-defined exceptions that can be as same as python inbuilt exceptions. "
   ]
  },
  {
   "cell_type": "markdown",
   "id": "921d1ca8-5dce-481c-a315-52c2121d3d66",
   "metadata": {},
   "source": [
    "### why we need them"
   ]
  },
  {
   "cell_type": "raw",
   "id": "aff24ff4-fd1b-48f2-acb6-5ce763864dfd",
   "metadata": {},
   "source": [
    "In some situation, program may not raise an error for some logical error. In such situations, a user has to define custom exceptions to handle those situations."
   ]
  },
  {
   "cell_type": "markdown",
   "id": "ed334c6b-329e-4e1e-abee-732b4e0d63de",
   "metadata": {},
   "source": [
    "### Example"
   ]
  },
  {
   "cell_type": "raw",
   "id": "c04983bc-8ef3-491e-8ba4-4e3fd549c57a",
   "metadata": {},
   "source": [
    "In a program, if a user is asked to input the number of wheels their vehicle has, an error should be raised if the number of wheels entered is less than two. However, if the program allows the user to enter a number of wheels less than the minimum threshold, such situations need to be handled by defining custom exceptions"
   ]
  },
  {
   "cell_type": "code",
   "execution_count": 35,
   "id": "515edfd5-030c-450a-8d5f-6903b80177a9",
   "metadata": {},
   "outputs": [
    {
     "name": "stdin",
     "output_type": "stream",
     "text": [
      "How many wheels your vehicle have? 1\n"
     ]
    },
    {
     "name": "stdout",
     "output_type": "stream",
     "text": [
      "Error  Wheel number cannot be less than two\n"
     ]
    }
   ],
   "source": [
    "w = int(input(\"How many wheels your vehicle have?\"))\n",
    "def validation(w):\n",
    "    if w < 2:\n",
    "        raise Exception(\"Wheel number cannot be less than two\")\n",
    "    else:\n",
    "        return w\n",
    "try:\n",
    "    wheel = validation(w)\n",
    "\n",
    "except Exception as E:\n",
    "    print(\"Error \",E)\n",
    "else:\n",
    "    print(\"Your vehicle has {} wheels\".format(wheel))\n",
    "    "
   ]
  },
  {
   "cell_type": "markdown",
   "id": "6535ad1d-db4f-45b1-9f88-6a1ad0bf5ecd",
   "metadata": {
    "tags": []
   },
   "source": [
    "## Q6 - Custom class to handle an exception"
   ]
  },
  {
   "cell_type": "code",
   "execution_count": 36,
   "id": "77e72ebe-750d-4371-b977-a12669d9a793",
   "metadata": {},
   "outputs": [],
   "source": [
    "class wheel_validation(Exception):\n",
    "    def __init__(self, msg):\n",
    "        self.msg = msg"
   ]
  },
  {
   "cell_type": "code",
   "execution_count": 37,
   "id": "6bb914ba-276e-45ca-92f4-2ad3f29177b4",
   "metadata": {},
   "outputs": [
    {
     "name": "stdin",
     "output_type": "stream",
     "text": [
      "How many wheels your vehicle have? 1\n"
     ]
    },
    {
     "name": "stdout",
     "output_type": "stream",
     "text": [
      "Error  Wheel number cannot be less than two\n"
     ]
    }
   ],
   "source": [
    "w = int(input(\"How many wheels your vehicle have?\"))\n",
    "def validation(w):\n",
    "    if w < 2:\n",
    "        raise wheel_validation(\"Wheel number cannot be less than two\")\n",
    "    else:\n",
    "        return w\n",
    "try:\n",
    "    wheel = validation(w)\n",
    "\n",
    "except Exception as E:\n",
    "    print(\"Error \",E)\n",
    "else:\n",
    "    print(\"Your vehicle has {} wheels\".format(wheel))\n",
    "    "
   ]
  },
  {
   "cell_type": "code",
   "execution_count": null,
   "id": "17a7314a-333c-4f96-b181-6def82b3dca6",
   "metadata": {},
   "outputs": [],
   "source": []
  }
 ],
 "metadata": {
  "kernelspec": {
   "display_name": "Python 3 (ipykernel)",
   "language": "python",
   "name": "python3"
  },
  "language_info": {
   "codemirror_mode": {
    "name": "ipython",
    "version": 3
   },
   "file_extension": ".py",
   "mimetype": "text/x-python",
   "name": "python",
   "nbconvert_exporter": "python",
   "pygments_lexer": "ipython3",
   "version": "3.10.8"
  }
 },
 "nbformat": 4,
 "nbformat_minor": 5
}
