{
  "nbformat": 4,
  "nbformat_minor": 0,
  "metadata": {
    "colab": {
      "provenance": [],
      "authorship_tag": "ABX9TyMXRyFVknGWkgfHmJ2Ve45I"
    },
    "kernelspec": {
      "name": "python3",
      "display_name": "Python 3"
    },
    "language_info": {
      "name": "python"
    }
  },
  "cells": [
    {
      "cell_type": "markdown",
      "source": [
        "## Q1. What is the KNN algorithm?\n",
        "\n",
        "KNN is a supervised machine learning algorithm which can be used for both classification and regression."
      ],
      "metadata": {
        "id": "AeNuJZKcrZYn"
      }
    },
    {
      "cell_type": "markdown",
      "source": [
        "## Q2. How do you choose the value of K in KNN?\n",
        "\n",
        "Either with Eluclidian distance and manhanttan distance."
      ],
      "metadata": {
        "id": "mSLNYEQMrZV0"
      }
    },
    {
      "cell_type": "markdown",
      "source": [
        "## Q3. What is the difference between KNN classifier and KNN regressor?\n",
        "\n",
        "The key differences are: KNN regression tries to predict the value of the output variable by using a local average. KNN classification attempts to predict the class to which the output variable belong by computing the local probability."
      ],
      "metadata": {
        "id": "hxINKIibrZTj"
      }
    },
    {
      "cell_type": "markdown",
      "source": [
        "## Q4. How do you measure the performance of KNN?\n",
        "\n",
        "For classification task - accuracy, precisioin, recall, F1\n",
        "\n",
        "For regerssioin task - MSE, MAE, RMSE"
      ],
      "metadata": {
        "id": "dlFq33TjrZPP"
      }
    },
    {
      "cell_type": "markdown",
      "source": [
        "## Q5. What is the curse of dimensionality in KNN?\n",
        "\n",
        "The curse of dimensionality occurs when the number of features in a dataset is too high. In this case, the data becomes sparse and the distance between data points becomes less meaningful. This can make it difficult for KNN to find the K most similar data points to a new data point, and can lead to poor performance."
      ],
      "metadata": {
        "id": "mHY-YRHvrZMW"
      }
    },
    {
      "cell_type": "markdown",
      "source": [
        "## Q6. How do you handle missing values in KNN?\n",
        "\n",
        "* remove data points with missing values.\n",
        "* impute missing values."
      ],
      "metadata": {
        "id": "3PPb93RrrZJu"
      }
    },
    {
      "cell_type": "markdown",
      "source": [
        "## Q7. Compare and contrast the performance of the KNN classifier and regressor. Which one is better for which type of problem?\n",
        "\n",
        "* KNN classifier: Used for classification tasks. Performs well on datasets with a small number of features\n",
        "\n",
        "* KNN regressor: Used for regression tasks Performs well on datasets with a large number of features\n",
        "\n",
        "KNN classifier: Better for classification tasks\n",
        "KNN regressor: Better for regression tasks"
      ],
      "metadata": {
        "id": "8QB30H3ErZHB"
      }
    },
    {
      "cell_type": "markdown",
      "source": [
        "## Q8. What are the strengths and weaknesses of the KNN algorithm for classification and regression tasks, and how can these be addressed?\n",
        "\n",
        "Strengths of KNN:\n",
        "* Simple to understand and implement\n",
        "* Versatile and can be used for both classification and regression tasks\n",
        "* Non-parametric and does not make any assumptions about the underlying distribution of the data\n",
        "\n",
        "\n",
        "Weaknesses of KNN:\n",
        "\n",
        "* computationally expensive for large datasets\n",
        "* Sensitive to the choice of distance metric\n",
        "* Can be overfitting to the training data\n",
        "\n",
        "How to address the weaknesses:\n",
        "\n",
        "* Use a small number of features for classification tasks, and a large number of features for regression tasks.\n",
        "\n",
        "* Normalize the data before using KNN.\n",
        "* Use a distance metric that is robust to missing values.\n",
        ""
      ],
      "metadata": {
        "id": "QI5EfvaxrZEb"
      }
    },
    {
      "cell_type": "markdown",
      "source": [
        "## Q9. What is the difference between Euclidean distance and Manhattan distance in KNN?\n",
        "\n",
        "Euclidean distance is the length of the straight line between two points. It is calculated using the following formula:\n",
        "\n",
        "            sqrt((x1 - x2)^2 + (y1 - y2)^2)\n",
        "\n",
        "Manhattan distance is the sum of the absolute differences between the coordinates of two points. It is calculated using the following formula:\n",
        "\n",
        "            |x1 - x2| + |y1 - y2|"
      ],
      "metadata": {
        "id": "3wUV8A4GrZB1"
      }
    },
    {
      "cell_type": "markdown",
      "source": [
        "## Q10. What is the role of feature scaling in KNN?\n",
        "\n",
        "Feature scaling is important in KNN because it ensures that all features contribute equally to the distance calculation. Without feature scaling, features with larger magnitudes can dominate the distance calculation, leading to biased results.Feature scaling improves the accuracy of KNN models and makes them more robust to outliers."
      ],
      "metadata": {
        "id": "Hx8zFFmurY_c"
      }
    },
    {
      "cell_type": "markdown",
      "source": [],
      "metadata": {
        "id": "ua00X51ArY81"
      }
    },
    {
      "cell_type": "markdown",
      "source": [],
      "metadata": {
        "id": "_5kU6n7hrY6N"
      }
    },
    {
      "cell_type": "markdown",
      "source": [],
      "metadata": {
        "id": "tYtvVg2CrY3l"
      }
    },
    {
      "cell_type": "markdown",
      "source": [],
      "metadata": {
        "id": "KtELh6enrY1B"
      }
    },
    {
      "cell_type": "code",
      "execution_count": null,
      "metadata": {
        "id": "o6sO5nUBrRTJ"
      },
      "outputs": [],
      "source": []
    }
  ]
}