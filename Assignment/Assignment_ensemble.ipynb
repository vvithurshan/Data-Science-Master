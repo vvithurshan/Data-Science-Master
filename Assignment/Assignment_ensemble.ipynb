{
 "cells": [
  {
   "cell_type": "markdown",
   "metadata": {},
   "source": [
    "### Q1. What is an ensemble technique in machine learning?\n",
    "\n",
    "An ensemble technique in machine learning involves combining the predictions of multiple models (called base learners) to produce a single, more accurate prediction. The idea is to leverage the strengths of each model to improve overall performance.\n",
    "\n",
    "### Q2. Why are ensemble techniques used in machine learning?\n",
    "\n",
    "Ensemble techniques are used in machine learning because they can:\n",
    "- Improve the accuracy and robustness of models.\n",
    "- Reduce the risk of overfitting.\n",
    "- Combine the strengths of different models to handle various aspects of the data.\n",
    "- Provide more reliable predictions by averaging out biases and errors from individual models.\n",
    "\n",
    "### Q3. What is bagging?\n",
    "\n",
    "Bagging, short for Bootstrap Aggregating, is an ensemble technique that involves training multiple instances of a model on different subsets of the training data, obtained through random sampling with replacement (bootstrap samples). The predictions from all the models are then aggregated, usually by averaging for regression or voting for classification, to make the final prediction.\n",
    "\n",
    "### Q4. What is boosting?\n",
    "\n",
    "Boosting is an ensemble technique that sequentially trains models, with each new model focusing on correcting the errors made by the previous ones. It adjusts the weights of misclassified instances so that subsequent models pay more attention to those cases. The final prediction is a weighted sum of the predictions of all the models.\n",
    "\n",
    "### Q5. What are the benefits of using ensemble techniques?\n",
    "\n",
    "The benefits of using ensemble techniques include:\n",
    "- Higher accuracy: Combining multiple models can reduce errors compared to individual models.\n",
    "- Robustness: Ensembles can generalize better to new data and reduce overfitting.\n",
    "- Flexibility: Different types of models can be combined to handle various aspects of the data.\n",
    "- Improved stability: Variance in predictions is reduced, leading to more stable results.\n",
    "\n",
    "### Q6. Are ensemble techniques always better than individual models?\n",
    "\n",
    "Ensemble techniques are not always better than individual models. They can be less effective if:\n",
    "- The base models are highly correlated and do not provide diverse perspectives.\n",
    "- The individual models are already very strong and accurate.\n",
    "- They increase computational complexity and require more resources.\n",
    "- The problem or dataset does not benefit significantly from model combination.\n",
    "\n",
    "### Q7. How is the confidence interval calculated using bootstrap?\n",
    "\n",
    "To calculate the confidence interval using bootstrap, follow these steps:\n",
    "1. Generate a large number of bootstrap samples from the original data by sampling with replacement.\n",
    "2. Compute the statistic of interest (e.g., mean) for each bootstrap sample.\n",
    "3. Arrange the bootstrap estimates in ascending order.\n",
    "4. Determine the percentiles corresponding to the desired confidence level (e.g., 2.5th and 97.5th percentiles for a 95% confidence interval).\n",
    "\n",
    "### Q8. How does bootstrap work and what are the steps involved in bootstrap?\n",
    "\n",
    "Bootstrap works by resampling the data with replacement to create multiple simulated samples. The steps involved in bootstrap are:\n",
    "1. Draw a large number of bootstrap samples from the original dataset by sampling with replacement.\n",
    "2. Calculate the statistic of interest (e.g., mean, median) for each bootstrap sample.\n",
    "3. Analyze the distribution of the bootstrap estimates to make inferences about the population parameter.\n",
    "4. Calculate confidence intervals or standard errors using the distribution of the bootstrap estimates.\n",
    "\n",
    "### Q9. Estimating the 95% confidence interval for the population mean height using bootstrap\n",
    "\n",
    "Given:\n",
    "- Sample mean height = 15 meters\n",
    "- Sample standard deviation = 2 meters\n",
    "- Sample size = 50 trees\n",
    "\n",
    "We can use the bootstrap method to estimate the 95% confidence interval for the population mean height as follows:\n"
   ]
  },
  {
   "cell_type": "code",
   "execution_count": 1,
   "metadata": {},
   "outputs": [
    {
     "name": "stdout",
     "output_type": "stream",
     "text": [
      "Intel MKL WARNING: Support of Intel(R) Streaming SIMD Extensions 4.2 (Intel(R) SSE4.2) enabled only processors has been deprecated. Intel oneAPI Math Kernel Library 2025.0 will require Intel(R) Advanced Vector Extensions (Intel(R) AVX) instructions.\n",
      "Intel MKL WARNING: Support of Intel(R) Streaming SIMD Extensions 4.2 (Intel(R) SSE4.2) enabled only processors has been deprecated. Intel oneAPI Math Kernel Library 2025.0 will require Intel(R) Advanced Vector Extensions (Intel(R) AVX) instructions.\n",
      "95% Confidence Interval for the mean height: (14.03, 15.06) meters\n"
     ]
    }
   ],
   "source": [
    "import numpy as np\n",
    "\n",
    "# Sample data (assuming normal distribution for demonstration purposes)\n",
    "np.random.seed(42)  # For reproducibility\n",
    "sample_data = np.random.normal(loc=15, scale=2, size=50)\n",
    "\n",
    "# Number of bootstrap samples\n",
    "n_bootstrap_samples = 10000\n",
    "\n",
    "# Generate bootstrap samples and calculate mean for each\n",
    "bootstrap_means = []\n",
    "for _ in range(n_bootstrap_samples):\n",
    "    bootstrap_sample = np.random.choice(sample_data, size=50, replace=True)\n",
    "    bootstrap_means.append(np.mean(bootstrap_sample))\n",
    "\n",
    "# Calculate the 95% confidence interval\n",
    "lower_bound = np.percentile(bootstrap_means, 2.5)\n",
    "upper_bound = np.percentile(bootstrap_means, 97.5)\n",
    "\n",
    "print(f\"95% Confidence Interval for the mean height: ({lower_bound:.2f}, {upper_bound:.2f}) meters\")"
   ]
  },
  {
   "cell_type": "markdown",
   "metadata": {},
   "source": [
    "This code will generate a 95% confidence interval for the population mean height based on the bootstrap method."
   ]
  },
  {
   "cell_type": "markdown",
   "metadata": {},
   "source": []
  }
 ],
 "metadata": {
  "kernelspec": {
   "display_name": "base",
   "language": "python",
   "name": "python3"
  },
  "language_info": {
   "codemirror_mode": {
    "name": "ipython",
    "version": 3
   },
   "file_extension": ".py",
   "mimetype": "text/x-python",
   "name": "python",
   "nbconvert_exporter": "python",
   "pygments_lexer": "ipython3",
   "version": "3.12.4"
  }
 },
 "nbformat": 4,
 "nbformat_minor": 2
}
