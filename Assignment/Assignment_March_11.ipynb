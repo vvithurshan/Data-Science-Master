{
 "cells": [
  {
   "cell_type": "markdown",
   "id": "199ad370-84c9-4f3d-8615-c99f505ea815",
   "metadata": {},
   "source": [
    "## Q1: What is the difference between a t-test and a z-test? Provide an example scenario where you would use each type of test."
   ]
  },
  {
   "cell_type": "markdown",
   "id": "1c7f54ca-e862-4848-9f7a-58c907daf4ed",
   "metadata": {},
   "source": [
    "Both t-test and z-test are used to determine whether the mean of a sample differs significantly from a population mean. However, z-test is used for the sample size of more than 30 with known standard deviation of the population. While t-test is used for the sample size less than 30 and when the standard devition of the population is not known.\n",
    "\n",
    "For example, if a researcher wants to test whether the average height of male students at a university is significantly different from the average height of male adults in the country, and the population standard deviation of the height of male adults in the country is known, a z-test can be used.\n",
    "if a researcher wants to test whether a new teaching method has a significant effect on the test scores of students in a small class, a t-test can be used to compare the mean scores of the two groups.\n",
    "\n"
   ]
  },
  {
   "cell_type": "markdown",
   "id": "7d6d9bfd-2b5f-4b2a-b988-828eebf4e26d",
   "metadata": {},
   "source": [
    "## Q2: Differentiate between one-tailed and two-tailed tests."
   ]
  },
  {
   "cell_type": "markdown",
   "id": "357c11ba-37fe-4cef-ab6b-10cd5659f7d1",
   "metadata": {},
   "source": [
    "one-tailed tests will only have one critical region whereas two-tailed tests will have two critical regions"
   ]
  },
  {
   "cell_type": "markdown",
   "id": "d718ce7f-fd4e-485d-9806-dbd3f8d0ea9b",
   "metadata": {},
   "source": [
    "## Q3: Explain the concept of Type 1 and Type 2 errors in hypothesis testing. Provide an example scenario for each type of error."
   ]
  },
  {
   "cell_type": "markdown",
   "id": "d164c001-8842-4ff0-b434-de5a3e4a058c",
   "metadata": {},
   "source": [
    "Type 1 error is rejecting the null hypothesis while it is true in reality. \n",
    "Type 2 error is accepting the null hypothesis while it is false in reality\n",
    "\n",
    "If a researcher is testing whether the drug is effective in treating the disease. A type error 1 would occur if the researcher concluded that the drug is effective while it's no, while a type error 2 would occur if the reseaarcher concluded that the drug is not effective while it is not."
   ]
  },
  {
   "cell_type": "markdown",
   "id": "8b8333c5-f64d-4f26-b2f2-1467cd8882ea",
   "metadata": {},
   "source": [
    "## Q4: Explain Bayes's theorem with an example."
   ]
  },
  {
   "cell_type": "markdown",
   "id": "3939bcda-ff43-4992-b40e-ec1d09857203",
   "metadata": {},
   "source": [
    "Bayes's theorem is a mathematical formula that helps in updating the probability of an \tevent occurring based on new information or evidence. \n",
    "\n",
    "Bayes' theorem states that the probability of a hypothesis (H) given the observed evidence (E) is proportional to the product of the probability of the evidence given the hypothesis (P(E|H)) and the prior probability of the hypothesis (P(H)), divided by the probability of the evidence (P(E)):\n",
    "\n",
    "Consider mobile Brands A and B. Brand A has a reputation for being reliable, with a failure rate of 5%. Brand B is relatively new, and you are not sure about its reliability, with a failure rate of 3%. \n",
    "\n",
    "if choose any brand randomly, and it fails and what is the probability that it came from Brand A? "
   ]
  },
  {
   "cell_type": "code",
   "execution_count": 2,
   "id": "ef86287a-523c-440a-b7b3-3e38c7dc4b04",
   "metadata": {
    "tags": []
   },
   "outputs": [],
   "source": [
    "# A - the event that the phone came from brand A\n",
    "# B - the event that the phone failed\n",
    "\n",
    "# P(A|B) = P(B|A) * P(A) / P(B)\n",
    "\n",
    "# total probability of failing, \n",
    "# P(B) = P(B|A) * P(A) + P(B|~A) * P(~A)\n",
    "#      =  0.05 * 0.5 + 0.03 * 0.5\n",
    "#      =  0.04\n",
    "# P(A|B) = 0.05 * 0.5/0.04\n",
    "#        = 0.625\n",
    "# So, the probability of failing and it is brand A is 62.5 %."
   ]
  },
  {
   "cell_type": "markdown",
   "id": "e349d59c-8a5e-4c86-a9b8-b092175693d5",
   "metadata": {},
   "source": [
    "## Q5: What is a confidence interval? How to calculate the confidence interval, explain with an example."
   ]
  },
  {
   "cell_type": "markdown",
   "id": "f073642e-8ba2-4f9b-816c-7efd16841189",
   "metadata": {},
   "source": [
    "A confidence interval is a range of values that provides a measure of the uncertainty associated with an estimate of a population parameter (such as the mean or proportion) based on a sample from that population. \n",
    "\n",
    "if we want to estimate the mean height of all students in a school based on a random sample of 50 students with sample mean to be 67 inches, with a standard deviation of 2 inches. if We want to compute the population mean with a 95% confidence interva.\n",
    "\n",
    "the following equation can be used.\n",
    "\n",
    "standard error = std/square root of sample size<br>\n",
    "std error = 2/sqrt(50) <br>\n",
    "alpha = 1 - confidence interval<br>\n",
    "alpha = 1 - 0.95<br>\n",
    "alpha = 0.05<br>\n",
    "alph/2 = 0.025<br>\n",
    "next we need to find the t-value for alpha/2 with dof of 49.<br>\n",
    "t-value = 2.009 <br>\n",
    "\n",
    "Then the following equation can be used to get the range.\n",
    "\n",
    "confidence interval = sample mean ± (t-value * standard error)\n",
    "\n",
    "confidence interval = 67 ± (2.009 * 0.28)\n",
    "                    = [66.45, 67.55] <br>\n",
    "**The mean of the population will be between 66.45 and 67.55 with the confidence interval of 95 %.**\n"
   ]
  },
  {
   "cell_type": "markdown",
   "id": "4988627e-9f07-4758-aca4-e06253db7813",
   "metadata": {},
   "source": [
    "## Q6. Use Bayes' Theorem to calculate the probability of an event occurring given prior knowledge of the event's probability and new evidence. Provide a sample problem and solution."
   ]
  },
  {
   "cell_type": "markdown",
   "id": "9967c366-6fd5-4457-9f6a-d3e0f00238f5",
   "metadata": {},
   "source": [
    "Consider mobile Brands A and B. Brand A has a reputation for being reliable, with a failure rate of 5%. Brand B is relatively new, and you are not sure about its reliability, with a failure rate of 3%.\n",
    "\n",
    "if choose any brand randomly, and it fails and what is the probability that it came from Brand A?"
   ]
  },
  {
   "cell_type": "code",
   "execution_count": null,
   "id": "7e47bfab-291a-4e32-8935-834b375172fe",
   "metadata": {},
   "outputs": [],
   "source": [
    "# A - the event that the phone came from brand A\n",
    "# B - the event that the phone failed\n",
    "\n",
    "# P(A|B) = P(B|A) * P(A) / P(B)\n",
    "\n",
    "# total probability of failing, \n",
    "# P(B) = P(B|A) * P(A) + P(B|~A) * P(~A)\n",
    "#      =  0.05 * 0.5 + 0.03 * 0.5\n",
    "#      =  0.04\n",
    "# P(A|B) = 0.05 * 0.5/0.04\n",
    "#        = 0.625\n",
    "# So, the probability of failing and it is brand A is 62.5 %."
   ]
  },
  {
   "cell_type": "markdown",
   "id": "c25cde56-1ee7-4266-a899-28eb896418b9",
   "metadata": {},
   "source": [
    "## Q7. Calculate the 95% confidence interval for a sample of data with a mean of 50 and a standard deviation of 5. Interpret the results."
   ]
  },
  {
   "cell_type": "markdown",
   "id": "420b777d-becc-49c1-88d3-39394d1563d5",
   "metadata": {},
   "source": [
    "confidence interval = sample mean ± (t-value * standard error)\n",
    "\n",
    "assumed sample size = 30"
   ]
  },
  {
   "cell_type": "code",
   "execution_count": 6,
   "id": "a1b5ff71-6008-4491-a423-fb880cb2a707",
   "metadata": {},
   "outputs": [
    {
     "name": "stdout",
     "output_type": "stream",
     "text": [
      "Range is 48.1329693162095 and 51.8670306837905\n"
     ]
    }
   ],
   "source": [
    "import numpy as np\n",
    "from scipy.stats import t\n",
    "n = 30\n",
    "alpha = 0.05\n",
    "std = 5\n",
    "df = n - 1\n",
    "mean = 50\n",
    "std_error = std/np.sqrt(n)\n",
    "t_value = t.ppf(1- alpha/2, df)\n",
    "lower = mean - t_value * std_error\n",
    "upper = mean + t_value * std_error\n",
    "\n",
    "print(\"Range is {} and {}\".format(lower,upper))"
   ]
  },
  {
   "cell_type": "markdown",
   "id": "f068d8cc-23cc-4a3d-bd3f-9eb8a2745ce3",
   "metadata": {},
   "source": [
    "## Q8. What is the margin of error in a confidence interval? How does sample size affect the margin of error? Provide an example of a scenario where a larger sample size would result in a smaller margin of error."
   ]
  },
  {
   "cell_type": "markdown",
   "id": "db342002-ca8d-460f-8408-4cece7cc4bab",
   "metadata": {},
   "source": [
    "It represents the amount of uncertainty or variability associated with the estimate due to sampling error.\n",
    "it can be calculated using the folloing equation\n",
    "standard error = std/(square root of sample size)\n",
    "\n",
    "according to the equation, when the sample size increases the error decreases, while lower sample size increases the error."
   ]
  },
  {
   "cell_type": "code",
   "execution_count": 9,
   "id": "c9a0135a-5924-4f76-bbf9-46c39b195275",
   "metadata": {},
   "outputs": [
    {
     "name": "stdout",
     "output_type": "stream",
     "text": [
      "standard error when sample size is 30 : 0.9128709291752769 and standard error when sample size is 100 : 0.5\n"
     ]
    }
   ],
   "source": [
    "n1 = 30\n",
    "std = 5\n",
    "std_error_low_sample = std/np.sqrt(n1)\n",
    "\n",
    "n2 = 100\n",
    "std_error_high_sample = std/np.sqrt(n2)\n",
    "\n",
    "print(\"standard error when sample size is {} : {} and standard error when sample size is {} : {}\".format(n1, std_error_low_sample, n2, std_error_high_sample))\n"
   ]
  },
  {
   "cell_type": "markdown",
   "id": "adc49df1-442b-42e6-8a7f-6a204450ccea",
   "metadata": {},
   "source": [
    "# Q9. Calculate the z-score for a data point with a value of 75, a population mean of 70, and a population standard deviation of 5. Interpret the results."
   ]
  },
  {
   "cell_type": "code",
   "execution_count": 11,
   "id": "99126d1a-383c-41cb-a2d1-fe49581459ac",
   "metadata": {},
   "outputs": [
    {
     "data": {
      "text/plain": [
       "1.0"
      ]
     },
     "execution_count": 11,
     "metadata": {},
     "output_type": "execute_result"
    }
   ],
   "source": [
    "z_score = (75 - 70)/5\n",
    "z_score"
   ]
  },
  {
   "cell_type": "markdown",
   "id": "94003f37-d179-49d4-a8ca-34eb0c5a0c0c",
   "metadata": {},
   "source": [
    "since the z score is 1, the data point 75 is located exactly one standard deviation right from the mean which is 70."
   ]
  },
  {
   "cell_type": "markdown",
   "id": "590ef673-9392-499e-9d49-a1a6255312cc",
   "metadata": {},
   "source": [
    "## Q10. In a study of the effectiveness of a new weight loss drug, a sample of 50 participants lost an average of 6 pounds with a standard deviation of 2.5 pounds. Conduct a hypothesis test to determine if the drug is significantly effective at a 95% confidence level using a t-test."
   ]
  },
  {
   "cell_type": "markdown",
   "id": "594a2493-37a1-4391-9edd-f6e1a97bc5fb",
   "metadata": {},
   "source": [
    "(H0): The population mean weight loss is not significantly different from 0 pounds.\n",
    "\n",
    "(HA): The population mean weight loss is significantly greater than 0 pounds."
   ]
  },
  {
   "cell_type": "code",
   "execution_count": 21,
   "id": "f5b55842-e368-4908-857a-322cb45d01c5",
   "metadata": {},
   "outputs": [
    {
     "name": "stdout",
     "output_type": "stream",
     "text": [
      "There is a significant difference between mean, null hypothesis is rejected\n"
     ]
    }
   ],
   "source": [
    "mean = 6\n",
    "std = 2.5\n",
    "n = 50\n",
    "alpha = 0.95\n",
    "df = n - 1\n",
    "import numpy as np\n",
    "from scipy.stats import t\n",
    "import scipy.stats as stats\n",
    "\n",
    "t_critical = t.ppf(alpha, df)\n",
    "\n",
    "t_value = (6 - 0)/(std/np.sqrt(n))\n",
    "\n",
    "if t_value > t_critical:\n",
    "    print(\"There is a significant difference between mean, null hypothesis is rejected\")\n",
    "else:\n",
    "    print(\"There is not a significant difference between mean, null hypothesis is not rejected\")    "
   ]
  },
  {
   "cell_type": "markdown",
   "id": "ad60a8a2-4365-4f6d-9328-bd9ad3681c9b",
   "metadata": {},
   "source": [
    "## Q11. In a survey of 500 people, 65% reported being satisfied with their current job. Calculate the 95% confidence interval for the true proportion of people who are satisfied with their job."
   ]
  },
  {
   "cell_type": "markdown",
   "id": "a842f65c-3785-49c1-9142-4a977e063ffe",
   "metadata": {},
   "source": [
    "CI = p ± zsqrt(p(1-p)/n) <br>\n",
    "p = 0.65 <br>\n",
    "z = 1.96<br>\n",
    "n = 500<br>"
   ]
  },
  {
   "cell_type": "code",
   "execution_count": 9,
   "id": "353ca00b-caf8-4edc-ba93-db81172a7463",
   "metadata": {},
   "outputs": [
    {
     "name": "stdout",
     "output_type": "stream",
     "text": [
      "With 95% confidence that the true proportion of people who are satisfied with their job lies between 0.608191771144905 and 0.6918082288550951\n"
     ]
    }
   ],
   "source": [
    "import numpy as np\n",
    "#CI = p ± zsqrt(p(1-p)/n)\n",
    "p = 0.65\n",
    "z = 1.96\n",
    "n = 500\n",
    "lower = p - z * np.sqrt(p * ( 1 - p ) / n)\n",
    "upper = p + z * np.sqrt(p * ( 1 - p ) / n)\n",
    "print(\"With 95% confidence that the true proportion of people who are satisfied with their job lies between {} and {}\".format(lower, upper))"
   ]
  },
  {
   "cell_type": "markdown",
   "id": "aa23e7b0-5d0c-4152-90dd-f3186ac504e0",
   "metadata": {},
   "source": [
    "## Q12. A researcher is testing the effectiveness of two different teaching methods on student performance. Sample A has a mean score of 85 with a standard deviation of 6, while sample B has a mean score of 82 with a standard deviation of 5. Conduct a hypothesis test to determine if the two teaching methods have a significant difference in student performance using a t-test with a significance level of 0.01."
   ]
  },
  {
   "cell_type": "markdown",
   "id": "a0499593-b0cb-4b15-9a6f-f76cbcc7c8e0",
   "metadata": {},
   "source": [
    "H0: The mean score of sample A is equal to the mean score of sample B (μA = μB) <br>\n",
    "HA: The mean score of sample A is not equal to the mean score of sample B (μA ≠ μB)"
   ]
  },
  {
   "cell_type": "code",
   "execution_count": 14,
   "id": "0425f0b3-b65c-4ea6-891f-e4bf7cb45ddd",
   "metadata": {},
   "outputs": [
    {
     "name": "stdout",
     "output_type": "stream",
     "text": [
      "There is a significant difference between the mean of two groups, null hypothesis is rejected\n"
     ]
    }
   ],
   "source": [
    "import numpy as np\n",
    "from scipy import stats\n",
    "\n",
    "mean_1 = 85\n",
    "std_1 = 6\n",
    "n1 = 85\n",
    "mean_2 = 82\n",
    "std_2 = 5\n",
    "n2 = 80\n",
    "\n",
    "alpha = 0.01\n",
    "sp = np.sqrt(((n1-1)*std_1**2 + (n2-1)*std_2**2)/(n1+n2-2))\n",
    "s = sp * np.sqrt(1/n1 + 1/n2)\n",
    "t = (mean_1 - mean_2)/s\n",
    "\n",
    "p_value = stats.t.cdf(t, (n1 + n2 - 2))\n",
    "# print(t, p_value)\n",
    "## two tailed test\n",
    "\n",
    "if p_value < alpha/2 or p_value > (1-alpha)/2:\n",
    "    print(\"There is a significant difference between the mean of two groups, null hypothesis is rejected\")\n",
    "else:\n",
    "    print(\"There is not a significant difference between the mean of two groups, null hypothesis is accepted\")    "
   ]
  },
  {
   "cell_type": "markdown",
   "id": "519aea59-9af3-46e9-a30c-4724c71998b4",
   "metadata": {},
   "source": [
    "## Q13. A population has a mean of 60 and a standard deviation of 8. A sample of 50 observations has a mean of 65. Calculate the 90% confidence interval for the true population mean."
   ]
  },
  {
   "cell_type": "code",
   "execution_count": 24,
   "id": "1e8ec601-b597-4bca-9154-20c0be2cbb6e",
   "metadata": {},
   "outputs": [
    {
     "name": "stdout",
     "output_type": "stream",
     "text": [
      "Range is 63.14 and 66.86\n"
     ]
    }
   ],
   "source": [
    "n = 50\n",
    "alpha = 0.1\n",
    "std = 8\n",
    "mean = 65\n",
    "std_error = std/np.sqrt(n)\n",
    "z = statistics.NormalDist().inv_cdf(alpha/2)\n",
    "lower = mean - (abs(z) * std_error)\n",
    "upper = mean + (abs(z) * std_error)\n",
    "\n",
    "print(f\"Range is {lower:.2f} and {upper:.2f}\")"
   ]
  },
  {
   "cell_type": "markdown",
   "id": "e025e4cd-812a-4c33-a086-2df241a4e0ea",
   "metadata": {},
   "source": [
    "## Q14. In a study of the effects of caffeine on reaction time, a sample of 30 participants had an average reaction time of 0.25 seconds with a standard deviation of 0.05 seconds. Conduct a hypothesis test to determine if the caffeine has a significant effect on reaction time at a 90% confidence level using a t-test."
   ]
  },
  {
   "cell_type": "markdown",
   "id": "c0e6eb50-d421-411f-97bf-9fdbd13e92a0",
   "metadata": {},
   "source": [
    "(H0) is that there is no significant difference between the mean reaction time of the participants who consumed caffeine and those who did not. \n",
    "\n",
    "(Ha) is that there is a significant difference between the mean reaction time of the participants who consumed caffeine and those who did not .\n",
    "\n",
    "**In the question, mean reaction time for the people who did not consume caffeine is not given, So, I am going to assume it to be 0.27 Second.**"
   ]
  },
  {
   "cell_type": "code",
   "execution_count": 10,
   "id": "e7d0ea71-237d-43b3-9df8-e2e0e90f08d2",
   "metadata": {},
   "outputs": [
    {
     "name": "stdout",
     "output_type": "stream",
     "text": [
      "There is a significant difference between mean, null hypothesis is rejected\n"
     ]
    }
   ],
   "source": [
    "n = 30\n",
    "mean = 0.25\n",
    "std = 0.05\n",
    "alpha = 0.1\n",
    "df = n - 1 \n",
    "mean_pop = 0.27\n",
    "\n",
    "import numpy as np\n",
    "from scipy.stats import t\n",
    "import scipy.stats as stats\n",
    "\n",
    "t_critical = t.ppf(alpha/2, df)\n",
    "\n",
    "t_value = (mean - mean_pop)/(std/np.sqrt(n))\n",
    "\n",
    "if t_value < t_critical or t_value > abs(t_critical):\n",
    "    print(\"There is a significant difference between mean, null hypothesis is rejected\")\n",
    "else:\n",
    "    print(\"There is not a significant difference between mean, null hypothesis is not rejected\")    "
   ]
  },
  {
   "cell_type": "code",
   "execution_count": null,
   "id": "7959d11a-4e9e-4c69-a545-20e85a912ce5",
   "metadata": {},
   "outputs": [],
   "source": []
  }
 ],
 "metadata": {
  "kernelspec": {
   "display_name": "Python 3 (ipykernel)",
   "language": "python",
   "name": "python3"
  },
  "language_info": {
   "codemirror_mode": {
    "name": "ipython",
    "version": 3
   },
   "file_extension": ".py",
   "mimetype": "text/x-python",
   "name": "python",
   "nbconvert_exporter": "python",
   "pygments_lexer": "ipython3",
   "version": "3.10.8"
  }
 },
 "nbformat": 4,
 "nbformat_minor": 5
}
