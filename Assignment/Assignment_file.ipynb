{
 "cells": [
  {
   "cell_type": "markdown",
   "metadata": {},
   "source": [
    "Q1. Which function is used to open a file? What are the different modes of opening a file? Explain each mode of file opening.\n",
    "\n",
    "\n",
    "The open() function is used to open a file in Python. The different modes of opening a file are:\n",
    "\n",
    "'r': Read mode. This is the default mode. It opens a file for reading, and if the file does not exist, it raises a FileNotFoundError.\n",
    "'w': Write mode. It opens a file for writing. If the file exists, it truncates it to zero length. If the file does not exist, it creates a new file.\n",
    "'a': Append mode. It opens a file for writing. If the file exists, the file pointer is at the end of the file. If the file does not exist, it creates a new file.\n",
    "'x': Exclusive creation mode. It creates a new file and opens it for writing. If the file already exists, the operation fails.\n",
    "'b': Binary mode. It opens a file in binary mode. This mode should be used for non-text files like images or executable files.\n",
    "'t': Text mode. This is the default mode. It opens a file in text mode.\n",
    "'+': Update mode. It opens a file for updating (reading and writing)."
   ]
  },
  {
   "cell_type": "markdown",
   "metadata": {},
   "source": [
    "Q2. Why close() function is used? Why is it important to close a file?\n",
    "\n",
    "\n",
    "The close() function is used to close an opened file. It is important to close a file because:\n",
    "\n",
    "It frees up system resources that were allocated for the file.\n",
    "It ensures that all data is written to the file (in case of writing operations).\n",
    "It prevents potential data corruption or loss.\n",
    "It avoids reaching the limit of the number of files that can be opened simultaneously."
   ]
  },
  {
   "cell_type": "markdown",
   "metadata": {},
   "source": [
    "Q3. Write a Python program to create a text file. Write ‘I want to become a Data Scientist’ in that file. Then close the file. Open this file and read the content of the file."
   ]
  },
  {
   "cell_type": "code",
   "execution_count": 2,
   "metadata": {},
   "outputs": [
    {
     "name": "stdout",
     "output_type": "stream",
     "text": [
      "I want to become a Data Scientist\n"
     ]
    }
   ],
   "source": [
    "# Writing to the file\n",
    "with open('data_scientist.txt', 'w') as file:\n",
    "    file.write('I want to become a Data Scientist')\n",
    "\n",
    "# Reading from the file\n",
    "with open('data_scientist.txt', 'r') as file:\n",
    "    content = file.read()\n",
    "    print(content)\n"
   ]
  },
  {
   "cell_type": "markdown",
   "metadata": {},
   "source": [
    "Q4. Explain the following with Python code: read(), readline(), and readlines().\n",
    "\n",
    "\n",
    "read(): Reads the entire content of the file.\n",
    "readline(): Reads a single line from the file.\n",
    "readlines(): Reads all the lines of the file and returns them as a list of strings."
   ]
  },
  {
   "cell_type": "markdown",
   "metadata": {},
   "source": [
    "Q5. Explain why with statement is used with open(). What is the advantage of using with statement and open() together?"
   ]
  },
  {
   "cell_type": "markdown",
   "metadata": {},
   "source": [
    "The with statement is used with open() to ensure that the file is properly closed after its suite finishes, even if an exception is raised. This is known as context management.\n",
    "\n",
    "Advantages:\n",
    "\n",
    "It simplifies the code by handling the closing of the file automatically.\n",
    "It prevents resource leaks by ensuring that the file is closed properly.\n",
    "It improves readability and maintainability of the code."
   ]
  },
  {
   "cell_type": "markdown",
   "metadata": {},
   "source": [
    "Q6. Explain the write() and writelines() functions. Give a suitable example.\n",
    "\n",
    "\n",
    "write(): Writes a single string to the file.\n",
    "writelines(): Writes a list of strings to the file."
   ]
  },
  {
   "cell_type": "markdown",
   "metadata": {},
   "source": []
  }
 ],
 "metadata": {
  "kernelspec": {
   "display_name": "base",
   "language": "python",
   "name": "python3"
  },
  "language_info": {
   "codemirror_mode": {
    "name": "ipython",
    "version": 3
   },
   "file_extension": ".py",
   "mimetype": "text/x-python",
   "name": "python",
   "nbconvert_exporter": "python",
   "pygments_lexer": "ipython3",
   "version": "3.12.4"
  }
 },
 "nbformat": 4,
 "nbformat_minor": 2
}
