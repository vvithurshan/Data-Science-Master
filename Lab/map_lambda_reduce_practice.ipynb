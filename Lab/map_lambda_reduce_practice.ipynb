{
 "cells": [
  {
   "cell_type": "markdown",
   "id": "b8f64830-f34f-4cfe-81dd-46471845d7b2",
   "metadata": {},
   "source": [
    "## 1. Finding the sum of a list of numbers:"
   ]
  },
  {
   "cell_type": "code",
   "execution_count": 2,
   "id": "2f655a05-f3a5-4f9c-aa73-220c80dd94e9",
   "metadata": {},
   "outputs": [
    {
     "data": {
      "text/plain": [
       "15"
      ]
     },
     "execution_count": 2,
     "metadata": {},
     "output_type": "execute_result"
    }
   ],
   "source": [
    "from functools import reduce\n",
    "numbers = [1, 2, 3, 4, 5]\n",
    "sum = reduce(lambda x,y:x+y,numbers)\n",
    "sum"
   ]
  },
  {
   "cell_type": "markdown",
   "id": "c9f24bf0-7ed6-4ef1-90b0-198bdddc7cef",
   "metadata": {},
   "source": [
    "## 2. Multiplying all elements of a list:"
   ]
  },
  {
   "cell_type": "code",
   "execution_count": 4,
   "id": "d6999fe0-cb36-4fc3-9893-959185ae1d70",
   "metadata": {},
   "outputs": [
    {
     "data": {
      "text/plain": [
       "120"
      ]
     },
     "execution_count": 4,
     "metadata": {},
     "output_type": "execute_result"
    }
   ],
   "source": [
    "from functools import reduce\n",
    "numbers = [1, 2, 3, 4, 5]\n",
    "product = reduce(lambda x,y:x*y, numbers)\n",
    "product"
   ]
  },
  {
   "cell_type": "code",
   "execution_count": 47,
   "id": "0f3528b1-67af-410a-bdba-7056f382fd1d",
   "metadata": {},
   "outputs": [
    {
     "name": "stdout",
     "output_type": "stream",
     "text": [
      "14400\n",
      "14400\n"
     ]
    }
   ],
   "source": [
    "from functools import reduce\n",
    "\n",
    "numbers = [1, 2, 3, 4, 5]\n",
    "numbers_2 = [i*i for i in numbers]\n",
    "\n",
    "def multiply(x, y):\n",
    "    return x * y\n",
    "\n",
    "product = reduce(multiply, map(lambda x: x**2, numbers))\n",
    "product_2 = reduce(lambda x,y:x*y,[i*i for i in numbers])\n",
    "print(product) # 14400\n",
    "print(product)"
   ]
  },
  {
   "cell_type": "markdown",
   "id": "fdb30440-a341-4324-b38a-7751f2221ff2",
   "metadata": {},
   "source": [
    "## 3. Finding the maximum element in a list"
   ]
  },
  {
   "cell_type": "code",
   "execution_count": 5,
   "id": "a1614fb1-7e23-4e9e-b854-71420da99119",
   "metadata": {},
   "outputs": [
    {
     "data": {
      "text/plain": [
       "5"
      ]
     },
     "execution_count": 5,
     "metadata": {},
     "output_type": "execute_result"
    }
   ],
   "source": [
    "from functools import reduce\n",
    "number = [1,2,3,4,5]\n",
    "max = reduce(lambda x,y:x if x > y else y,number)\n",
    "max"
   ]
  },
  {
   "cell_type": "markdown",
   "id": "a29a8b4f-5cb9-4a2a-89da-2b9f4b3c8822",
   "metadata": {},
   "source": [
    "## 4. Sorting a list of tuples based on the second element:"
   ]
  },
  {
   "cell_type": "code",
   "execution_count": 13,
   "id": "eba2fe59-06ba-4314-8017-1215a4333270",
   "metadata": {},
   "outputs": [
    {
     "name": "stdout",
     "output_type": "stream",
     "text": [
      "[(1, 'a'), (3, 'b'), (2, 'c')]\n"
     ]
    }
   ],
   "source": [
    "## sort it based on second value\n",
    "tuples = [(1, 'a'), (2, 'c'), (3, 'b')]\n",
    "print(sorted(tuples, key = lambda x :x[1]))"
   ]
  },
  {
   "cell_type": "code",
   "execution_count": 15,
   "id": "3d32bac9-81ec-4fb9-b262-02f143d150db",
   "metadata": {},
   "outputs": [
    {
     "name": "stdout",
     "output_type": "stream",
     "text": [
      "['Steve Aardvark', 'Mike Mo', 'Alf Zed']\n",
      "['Steve Aardvark', 'Mike Mo', 'Alf Zed']\n"
     ]
    }
   ],
   "source": [
    "#list sorting according to the last name\n",
    "names = ['Alf Zed', 'Mike Mo', 'Steve Aardvark']\n",
    "names.sort(key = lambda x: x.split()[-1].lower())\n",
    "print(names)\n",
    "print(sorted(names, key=lambda x:x.split()[-1]))"
   ]
  },
  {
   "cell_type": "markdown",
   "id": "2ee79bc7-f88d-4bc2-8e56-c3a95fb540db",
   "metadata": {},
   "source": [
    "### **what's the difference between sort method and sort function in python**\n",
    "#### The sort method is used to sort a list in place, whereas the sorted function returns a new sorted list while leaving the original list unchanged."
   ]
  },
  {
   "cell_type": "code",
   "execution_count": null,
   "id": "2de475c9-7ca9-4fc6-a4c7-6c80b090037d",
   "metadata": {},
   "outputs": [],
   "source": [
    "numbers = [1, 5, 2, 4, 3]\n",
    "numbers.sort()\n",
    "print(numbers) # [1, 2, 3, 4, 5]\n",
    "\n",
    "numbers = [1, 5, 2, 4, 3]\n",
    "sorted_numbers = sorted(numbers)\n",
    "print(sorted_numbers) # [1, 2, 3, 4, 5]\n",
    "print(numbers) # [1, 5, 2, 4, 3]"
   ]
  },
  {
   "cell_type": "markdown",
   "id": "db375ccc-7383-4c38-b48c-f86f0ae4946b",
   "metadata": {},
   "source": [
    "## 5. Extracting first letters of a list of words:"
   ]
  },
  {
   "cell_type": "code",
   "execution_count": 16,
   "id": "a14ce532-9a29-47be-a8ac-9c40d0c7beaf",
   "metadata": {},
   "outputs": [
    {
     "data": {
      "text/plain": [
       "['a', 'b', 'c']"
      ]
     },
     "execution_count": 16,
     "metadata": {},
     "output_type": "execute_result"
    }
   ],
   "source": [
    "words = ['apple', 'banana', 'cherry']\n",
    "first = list(map(lambda x:x[0],words))\n",
    "first"
   ]
  },
  {
   "cell_type": "markdown",
   "id": "6d85db05-4a74-44aa-83c5-c931048af625",
   "metadata": {},
   "source": [
    "## 6. Multiplying each element in a list by a given number:"
   ]
  },
  {
   "cell_type": "code",
   "execution_count": 17,
   "id": "dc09c431-6cb0-4a89-8489-39904387395f",
   "metadata": {},
   "outputs": [
    {
     "data": {
      "text/plain": [
       "[3, 6, 9, 12, 15]"
      ]
     },
     "execution_count": 17,
     "metadata": {},
     "output_type": "execute_result"
    }
   ],
   "source": [
    "numbers = [1, 2, 3, 4, 5]\n",
    "multiplied_numbers = list(map(lambda x:x*3,numbers))\n",
    "multiplied_numbers"
   ]
  },
  {
   "cell_type": "markdown",
   "id": "cf42c233-e302-4645-8795-47d132afb0c3",
   "metadata": {},
   "source": [
    "## 7. Filtering elements from a list based on a condition:"
   ]
  },
  {
   "cell_type": "code",
   "execution_count": 19,
   "id": "ff7643f5-8cb8-41d2-b578-ff6919c34519",
   "metadata": {},
   "outputs": [
    {
     "data": {
      "text/plain": [
       "[False, True, False, True, False, True, False, True, False, True]"
      ]
     },
     "execution_count": 19,
     "metadata": {},
     "output_type": "execute_result"
    }
   ],
   "source": [
    "## extract only even numbers\n",
    "numbers = [1, 2, 3, 4, 5, 6, 7, 8, 9, 10]\n",
    "even = list(map(lambda x :x % 2 == 0,numbers))\n",
    "even"
   ]
  },
  {
   "cell_type": "code",
   "execution_count": 23,
   "id": "78c41441-d45a-49a7-bb60-f8cfe57cad35",
   "metadata": {},
   "outputs": [
    {
     "data": {
      "text/plain": [
       "[False, True, False, True, False, True, False, True, False, True]"
      ]
     },
     "execution_count": 23,
     "metadata": {},
     "output_type": "execute_result"
    }
   ],
   "source": [
    "## with generator\n",
    "def even(num):\n",
    "    for n in num:\n",
    "        if n % 2 == 0:\n",
    "            yield True\n",
    "        else:\n",
    "            yield False\n",
    "[i for i in even(numbers)]"
   ]
  },
  {
   "cell_type": "code",
   "execution_count": 24,
   "id": "7aee284e-9fe3-4c13-b831-09e7a4cad1a4",
   "metadata": {},
   "outputs": [
    {
     "data": {
      "text/plain": [
       "[2, 4, 6, 8, 10]"
      ]
     },
     "execution_count": 24,
     "metadata": {},
     "output_type": "execute_result"
    }
   ],
   "source": [
    "## with generator\n",
    "def even(num):\n",
    "    for n in num:\n",
    "        if n % 2 == 0:\n",
    "            yield n\n",
    "[i for i in even(numbers)]"
   ]
  },
  {
   "cell_type": "code",
   "execution_count": 20,
   "id": "f0c357cb-6bfe-4ff2-8783-470d8b25d3e4",
   "metadata": {},
   "outputs": [
    {
     "data": {
      "text/plain": [
       "[2, 4, 6, 8, 10]"
      ]
     },
     "execution_count": 20,
     "metadata": {},
     "output_type": "execute_result"
    }
   ],
   "source": [
    "## extract only even numbers\n",
    "numbers = [1, 2, 3, 4, 5, 6, 7, 8, 9, 10]\n",
    "even = list(filter(lambda x :x % 2 == 0,numbers))\n",
    "even"
   ]
  },
  {
   "cell_type": "markdown",
   "id": "aab47c45-95b0-4f9d-a1e7-15259b83ea89",
   "metadata": {},
   "source": [
    "## 8. Finding the maximum or minimum element in a list with max"
   ]
  },
  {
   "cell_type": "code",
   "execution_count": 27,
   "id": "46182144-3963-48a1-b215-46ad4f4b2571",
   "metadata": {},
   "outputs": [
    {
     "ename": "TypeError",
     "evalue": "'int' object is not callable",
     "output_type": "error",
     "traceback": [
      "\u001b[0;31m---------------------------------------------------------------------------\u001b[0m",
      "\u001b[0;31mTypeError\u001b[0m                                 Traceback (most recent call last)",
      "Cell \u001b[0;32mIn[27], line 2\u001b[0m\n\u001b[1;32m      1\u001b[0m numbers \u001b[38;5;241m=\u001b[39m [\u001b[38;5;241m1\u001b[39m, \u001b[38;5;241m2\u001b[39m, \u001b[38;5;241m3\u001b[39m, \u001b[38;5;241m4\u001b[39m, \u001b[38;5;241m5\u001b[39m]\n\u001b[0;32m----> 2\u001b[0m maximum \u001b[38;5;241m=\u001b[39m \u001b[38;5;28;43mmax\u001b[39;49m\u001b[43m(\u001b[49m\u001b[43mnumbers\u001b[49m\u001b[43m,\u001b[49m\u001b[43m \u001b[49m\u001b[43mkey\u001b[49m\u001b[38;5;241;43m=\u001b[39;49m\u001b[38;5;28;43;01mlambda\u001b[39;49;00m\u001b[43m \u001b[49m\u001b[43mx\u001b[49m\u001b[43m:\u001b[49m\u001b[43m \u001b[49m\u001b[43mx\u001b[49m\u001b[43m)\u001b[49m\n\u001b[1;32m      3\u001b[0m \u001b[38;5;28mprint\u001b[39m(maximum) \u001b[38;5;66;03m# 5\u001b[39;00m\n",
      "\u001b[0;31mTypeError\u001b[0m: 'int' object is not callable"
     ]
    }
   ],
   "source": [
    "numbers = [1, 2, 3, 4, 5]\n",
    "maximum = max(numbers, key=lambda x: x)\n",
    "print(maximum) # 5"
   ]
  },
  {
   "cell_type": "markdown",
   "id": "74cb22e3-fc55-4a2d-b998-7e341df71732",
   "metadata": {},
   "source": [
    "### Why it produces an error\n",
    "#### The error is occurring because the variable \"maximum\" is shadowing the built-in max function, and you are trying to call the \n",
    "#### int object which is not callable. To avoid this issue, you can either change the name of the variable or use the \n",
    "#### built-in max function by accessing it through the builtins module like this:"
   ]
  },
  {
   "cell_type": "code",
   "execution_count": 51,
   "id": "9a898b1f-c815-49d1-bd83-73e9ba11300d",
   "metadata": {},
   "outputs": [
    {
     "name": "stdout",
     "output_type": "stream",
     "text": [
      "5\n"
     ]
    }
   ],
   "source": [
    "numbers = [1, 2, 3, 4, 5]\n",
    "maximum = __builtins__.max(numbers, key=lambda x: x)\n",
    "print(maximum) # 5"
   ]
  },
  {
   "cell_type": "markdown",
   "id": "c5ef2272-91f1-497f-a244-33df36a50f51",
   "metadata": {},
   "source": [
    "## 9. Concatenating a list of strings"
   ]
  },
  {
   "cell_type": "code",
   "execution_count": 31,
   "id": "f795ccd8-8573-49fc-aebc-93cbfa56a880",
   "metadata": {},
   "outputs": [
    {
     "data": {
      "text/plain": [
       "'Hello world'"
      ]
     },
     "execution_count": 31,
     "metadata": {},
     "output_type": "execute_result"
    }
   ],
   "source": [
    "words = [\"Hello\", \"world\"]\n",
    "conc = reduce(lambda x,y:x+ \" \"+y,words)\n",
    "conc"
   ]
  },
  {
   "cell_type": "markdown",
   "id": "a367672d-0538-4053-9bb5-38caf29a9ea7",
   "metadata": {},
   "source": [
    "## 10. Flattening a list of lists:"
   ]
  },
  {
   "cell_type": "code",
   "execution_count": 32,
   "id": "a982c0cd-f763-4bb6-926c-8af56a70dfae",
   "metadata": {},
   "outputs": [
    {
     "data": {
      "text/plain": [
       "[1, 2, 3, 4, 5, 6, 7, 8, 9]"
      ]
     },
     "execution_count": 32,
     "metadata": {},
     "output_type": "execute_result"
    }
   ],
   "source": [
    "nested_lists = [[1, 2, 3], [4, 5, 6], [7, 8, 9]]\n",
    "flatten = reduce(lambda x,y:x+y,nested_lists)\n",
    "flatten"
   ]
  },
  {
   "cell_type": "code",
   "execution_count": 36,
   "id": "98a8708d-97c4-4bf9-b0ed-1f25a0f7f1c8",
   "metadata": {},
   "outputs": [
    {
     "data": {
      "text/plain": [
       "[1, 2, 3, 4, 5, 6, 7, 8, 9]"
      ]
     },
     "execution_count": 36,
     "metadata": {},
     "output_type": "execute_result"
    }
   ],
   "source": [
    "[j for i in nested_lists for j in i]"
   ]
  },
  {
   "cell_type": "markdown",
   "id": "a160aa5b-30ca-41dd-920a-d8e456bf5d6e",
   "metadata": {},
   "source": [
    "## 11. Palindrome"
   ]
  },
  {
   "cell_type": "code",
   "execution_count": 10,
   "id": "eddcec5c-1845-4388-97ab-1f2d0c231c01",
   "metadata": {},
   "outputs": [],
   "source": [
    "S = \"MADAM\"\n",
    "is_palindrome = lambda x:\"yes\" if x == x[::-1] else \"NO\""
   ]
  },
  {
   "cell_type": "code",
   "execution_count": 9,
   "id": "faf1dabf-642c-46b4-8caf-551390297889",
   "metadata": {},
   "outputs": [
    {
     "data": {
      "text/plain": [
       "'NO'"
      ]
     },
     "execution_count": 9,
     "metadata": {},
     "output_type": "execute_result"
    }
   ],
   "source": [
    "is_palindrome(S)"
   ]
  },
  {
   "cell_type": "code",
   "execution_count": 13,
   "id": "b0be76fe-208e-488a-8e3b-e38e0060a34b",
   "metadata": {},
   "outputs": [],
   "source": [
    "S = \"MADAMM\"\n",
    "is_palindrome = lambda x:\"yes\" if x == x[::-1] else \"NO\""
   ]
  },
  {
   "cell_type": "code",
   "execution_count": 15,
   "id": "cf07a767-91fe-4f3b-9ffb-369ec9902f68",
   "metadata": {},
   "outputs": [
    {
     "data": {
      "text/plain": [
       "'NO'"
      ]
     },
     "execution_count": 15,
     "metadata": {},
     "output_type": "execute_result"
    }
   ],
   "source": [
    "is_palindrome(S)"
   ]
  },
  {
   "cell_type": "markdown",
   "id": "3a43f2cd-cc80-48b6-bc72-45b08968bbbd",
   "metadata": {},
   "source": [
    "## 12. Factorial"
   ]
  },
  {
   "cell_type": "code",
   "execution_count": 18,
   "id": "41b9bd8d-0c04-429f-bd1b-15cbb28b3d4c",
   "metadata": {},
   "outputs": [],
   "source": [
    "fact = lambda x: 1 if x == 0 else x*fact(x-1)"
   ]
  },
  {
   "cell_type": "code",
   "execution_count": 19,
   "id": "348c85ca-3c70-4072-a3d0-5d62a2b7cc4c",
   "metadata": {},
   "outputs": [
    {
     "data": {
      "text/plain": [
       "120"
      ]
     },
     "execution_count": 19,
     "metadata": {},
     "output_type": "execute_result"
    }
   ],
   "source": [
    "fact(5)"
   ]
  },
  {
   "cell_type": "markdown",
   "id": "085d19fa-9ab8-44c7-9369-97d6cf1b872d",
   "metadata": {},
   "source": [
    "## 13. Fibonacci"
   ]
  },
  {
   "cell_type": "code",
   "execution_count": 145,
   "id": "f56e5995-57a3-4afc-acf6-29037e85e3b6",
   "metadata": {},
   "outputs": [],
   "source": [
    "fibo = lambda x: 1 if x == 1 or x == 2 else fibo(x-1) + fibo(x-2)"
   ]
  },
  {
   "cell_type": "code",
   "execution_count": 146,
   "id": "f7d6fcf4-473f-40f6-9d57-300f3f2d2b49",
   "metadata": {},
   "outputs": [
    {
     "data": {
      "text/plain": [
       "144"
      ]
     },
     "execution_count": 146,
     "metadata": {},
     "output_type": "execute_result"
    }
   ],
   "source": [
    "fibo(12)"
   ]
  },
  {
   "cell_type": "markdown",
   "id": "b8366d84-7b37-493a-81aa-d7979a6054d0",
   "metadata": {},
   "source": [
    "### first n fibonacci series"
   ]
  },
  {
   "cell_type": "code",
   "execution_count": 91,
   "id": "426bd34a-c4b6-4708-a7c2-07df7dc81bf7",
   "metadata": {},
   "outputs": [
    {
     "data": {
      "text/plain": [
       "[(1, 1),\n",
       " (2, 1),\n",
       " (3, 2),\n",
       " (4, 3),\n",
       " (5, 5),\n",
       " (6, 8),\n",
       " (7, 13),\n",
       " (8, 21),\n",
       " (9, 34),\n",
       " (10, 55)]"
      ]
     },
     "execution_count": 91,
     "metadata": {},
     "output_type": "execute_result"
    }
   ],
   "source": [
    "list(enumerate((map(fibo,[i for i in range(1,11)])),start=1))"
   ]
  },
  {
   "cell_type": "code",
   "execution_count": 56,
   "id": "3fd80c3a-61b2-4cc3-bd6c-49e602764d08",
   "metadata": {},
   "outputs": [],
   "source": [
    "## with generator\n",
    "def fibo_with_gen(x):\n",
    "    if x == 1 or x == 2:\n",
    "        return 1\n",
    "    else:\n",
    "         yield fibo_with_gen(x-1) + fibo_with_gen(x-2)\n",
    "        # yield f"
   ]
  },
  {
   "cell_type": "code",
   "execution_count": 57,
   "id": "6795a61a-b785-4396-8e46-57d7fdbba22f",
   "metadata": {},
   "outputs": [
    {
     "ename": "TypeError",
     "evalue": "unsupported operand type(s) for +: 'generator' and 'generator'",
     "output_type": "error",
     "traceback": [
      "\u001b[0;31m---------------------------------------------------------------------------\u001b[0m",
      "\u001b[0;31mTypeError\u001b[0m                                 Traceback (most recent call last)",
      "Cell \u001b[0;32mIn[57], line 1\u001b[0m\n\u001b[0;32m----> 1\u001b[0m y \u001b[38;5;241m=\u001b[39m [\u001b[38;5;28mnext\u001b[39m(fibo_with_gen(i)) \u001b[38;5;28;01mfor\u001b[39;00m i \u001b[38;5;129;01min\u001b[39;00m \u001b[38;5;28mrange\u001b[39m(\u001b[38;5;241m10\u001b[39m)]\n\u001b[1;32m      2\u001b[0m y\n",
      "Cell \u001b[0;32mIn[57], line 1\u001b[0m, in \u001b[0;36m<listcomp>\u001b[0;34m(.0)\u001b[0m\n\u001b[0;32m----> 1\u001b[0m y \u001b[38;5;241m=\u001b[39m [\u001b[38;5;28;43mnext\u001b[39;49m\u001b[43m(\u001b[49m\u001b[43mfibo_with_gen\u001b[49m\u001b[43m(\u001b[49m\u001b[43mi\u001b[49m\u001b[43m)\u001b[49m\u001b[43m)\u001b[49m \u001b[38;5;28;01mfor\u001b[39;00m i \u001b[38;5;129;01min\u001b[39;00m \u001b[38;5;28mrange\u001b[39m(\u001b[38;5;241m10\u001b[39m)]\n\u001b[1;32m      2\u001b[0m y\n",
      "Cell \u001b[0;32mIn[56], line 6\u001b[0m, in \u001b[0;36mfibo_with_gen\u001b[0;34m(x)\u001b[0m\n\u001b[1;32m      4\u001b[0m     \u001b[38;5;28;01mreturn\u001b[39;00m \u001b[38;5;241m1\u001b[39m\n\u001b[1;32m      5\u001b[0m \u001b[38;5;28;01melse\u001b[39;00m:\n\u001b[0;32m----> 6\u001b[0m      \u001b[38;5;28;01myield\u001b[39;00m \u001b[43mfibo_with_gen\u001b[49m\u001b[43m(\u001b[49m\u001b[43mx\u001b[49m\u001b[38;5;241;43m-\u001b[39;49m\u001b[38;5;241;43m1\u001b[39;49m\u001b[43m)\u001b[49m\u001b[43m \u001b[49m\u001b[38;5;241;43m+\u001b[39;49m\u001b[43m \u001b[49m\u001b[43mfibo_with_gen\u001b[49m\u001b[43m(\u001b[49m\u001b[43mx\u001b[49m\u001b[38;5;241;43m-\u001b[39;49m\u001b[38;5;241;43m2\u001b[39;49m\u001b[43m)\u001b[49m\n",
      "\u001b[0;31mTypeError\u001b[0m: unsupported operand type(s) for +: 'generator' and 'generator'"
     ]
    }
   ],
   "source": [
    "y = [next(fibo_with_gen(i)) for i in range(10)]\n",
    "y"
   ]
  },
  {
   "cell_type": "code",
   "execution_count": 54,
   "id": "9315fddd-7aeb-40c5-804f-68af0c86d290",
   "metadata": {},
   "outputs": [
    {
     "data": {
      "text/plain": [
       "[0, 1, 1, 2, 3, 5, 8, 13, 21, 34]"
      ]
     },
     "execution_count": 54,
     "metadata": {},
     "output_type": "execute_result"
    }
   ],
   "source": [
    "def fib(n, a = 0, b = 1): \n",
    "    if n == 0:\n",
    "        yield a\n",
    "    if n == 1: \n",
    "        yield b\n",
    "    yield from fib(n - 1, b, a + b)\n",
    "y = [next(fib(i)) for i in range(10)]\n",
    "y\n"
   ]
  },
  {
   "cell_type": "markdown",
   "id": "f0af9bdd-1ad4-490f-9be9-b4a7549a885a",
   "metadata": {},
   "source": [
    "## 14. Prime number"
   ]
  },
  {
   "cell_type": "code",
   "execution_count": 141,
   "id": "259862db-d13a-45b8-ae72-0a0c4cf112e6",
   "metadata": {},
   "outputs": [],
   "source": [
    "prime = lambda x:\"{} is a Prime number\".format(x) if x > 1 and not sum(list(map(lambda n:1 if x % n == 0 else 0, [i for i in range(2,x)]))) else \"{} is not a prime number\".format(x)"
   ]
  },
  {
   "cell_type": "code",
   "execution_count": 142,
   "id": "67c16192-f733-442d-8875-b0a3427f6274",
   "metadata": {},
   "outputs": [
    {
     "data": {
      "text/plain": [
       "'2 is a Prime number'"
      ]
     },
     "execution_count": 142,
     "metadata": {},
     "output_type": "execute_result"
    }
   ],
   "source": [
    "prime(2)"
   ]
  },
  {
   "cell_type": "code",
   "execution_count": 123,
   "id": "864d6f08-ff09-4538-927a-c5a90a5681ee",
   "metadata": {},
   "outputs": [
    {
     "data": {
      "text/plain": [
       "[(1, '1 is not a prime number'),\n",
       " (2, '2 is a Prime number'),\n",
       " (3, '3 is a Prime number'),\n",
       " (4, '4 is not a prime number'),\n",
       " (5, '5 is a Prime number'),\n",
       " (6, '6 is not a prime number'),\n",
       " (7, '7 is a Prime number'),\n",
       " (8, '8 is not a prime number'),\n",
       " (9, '9 is not a prime number'),\n",
       " (10, '10 is not a prime number')]"
      ]
     },
     "execution_count": 123,
     "metadata": {},
     "output_type": "execute_result"
    }
   ],
   "source": [
    "prime_list = list(enumerate(map(prime,[i for i in range(1,11)]),start=1))\n",
    "prime_list"
   ]
  },
  {
   "cell_type": "code",
   "execution_count": 127,
   "id": "16aacdc5-dd41-47e1-ae47-3690f28faf13",
   "metadata": {},
   "outputs": [],
   "source": [
    "prime_dict= {x:y for x, y in prime_list}"
   ]
  },
  {
   "cell_type": "code",
   "execution_count": 128,
   "id": "89988cae-d1ab-423c-8b04-857c3c83d7be",
   "metadata": {},
   "outputs": [
    {
     "data": {
      "text/plain": [
       "{1: '1 is not a prime number',\n",
       " 2: '2 is a Prime number',\n",
       " 3: '3 is a Prime number',\n",
       " 4: '4 is not a prime number',\n",
       " 5: '5 is a Prime number',\n",
       " 6: '6 is not a prime number',\n",
       " 7: '7 is a Prime number',\n",
       " 8: '8 is not a prime number',\n",
       " 9: '9 is not a prime number',\n",
       " 10: '10 is not a prime number'}"
      ]
     },
     "execution_count": 128,
     "metadata": {},
     "output_type": "execute_result"
    }
   ],
   "source": [
    "prime_dict"
   ]
  },
  {
   "cell_type": "code",
   "execution_count": 129,
   "id": "ca50c85a-8627-4e5a-943b-faae05c42f95",
   "metadata": {},
   "outputs": [
    {
     "data": {
      "text/plain": [
       "['1 is not a prime number',\n",
       " '2 is a Prime number',\n",
       " '3 is a Prime number',\n",
       " '4 is not a prime number',\n",
       " '5 is a Prime number',\n",
       " '6 is not a prime number',\n",
       " '7 is a Prime number',\n",
       " '8 is not a prime number',\n",
       " '9 is not a prime number',\n",
       " '10 is not a prime number']"
      ]
     },
     "execution_count": 129,
     "metadata": {},
     "output_type": "execute_result"
    }
   ],
   "source": [
    "prime_list = list(map(prime,[i for i in range(1,11)]))\n",
    "prime_list"
   ]
  },
  {
   "cell_type": "code",
   "execution_count": 140,
   "id": "2be4b83c-aa46-456b-9621-5b88740f7355",
   "metadata": {},
   "outputs": [
    {
     "data": {
      "text/plain": [
       "{1: '1 is not a prime number',\n",
       " 2: '2 is a Prime number',\n",
       " 3: '3 is a Prime number',\n",
       " 4: '4 is not a prime number',\n",
       " 5: '5 is a Prime number',\n",
       " 6: '6 is not a prime number',\n",
       " 7: '7 is a Prime number',\n",
       " 8: '8 is not a prime number',\n",
       " 9: '9 is not a prime number',\n",
       " 10: '10 is not a prime number'}"
      ]
     },
     "execution_count": 140,
     "metadata": {},
     "output_type": "execute_result"
    }
   ],
   "source": [
    "## it is also possible\n",
    "prime_dict_2 = {x:y for x, y in enumerate(prime_list,start=1)}\n",
    "prime_dict_2"
   ]
  },
  {
   "cell_type": "code",
   "execution_count": 135,
   "id": "ea8920b9-ae14-4a65-9c44-93a9b4ba9457",
   "metadata": {},
   "outputs": [
    {
     "name": "stdout",
     "output_type": "stream",
     "text": [
      "1 : apple\n",
      "2 : banana\n",
      "3 : mango\n",
      "4 : cherry\n"
     ]
    }
   ],
   "source": [
    "##\n",
    "fruits = ['apple', 'banana', 'mango', 'cherry']\n",
    "for index, fruit in enumerate(fruits, start=1):\n",
    "    print(index, ':', fruit)"
   ]
  },
  {
   "cell_type": "code",
   "execution_count": null,
   "id": "47004955-68c9-46a5-ad0a-3fa1960934cc",
   "metadata": {},
   "outputs": [],
   "source": []
  }
 ],
 "metadata": {
  "kernelspec": {
   "display_name": "Python 3 (ipykernel)",
   "language": "python",
   "name": "python3"
  },
  "language_info": {
   "codemirror_mode": {
    "name": "ipython",
    "version": 3
   },
   "file_extension": ".py",
   "mimetype": "text/x-python",
   "name": "python",
   "nbconvert_exporter": "python",
   "pygments_lexer": "ipython3",
   "version": "3.10.8"
  }
 },
 "nbformat": 4,
 "nbformat_minor": 5
}
