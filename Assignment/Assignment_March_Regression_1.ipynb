{
 "cells": [
  {
   "cell_type": "markdown",
   "id": "fd34f70d-fb51-44a7-8479-d05b78de73b3",
   "metadata": {},
   "source": [
    "## Q1. Explain the difference between simple linear regression and multiple linear regression. Provide an example of each."
   ]
  },
  {
   "cell_type": "markdown",
   "id": "dcb1e2e8-7071-4294-bacd-2128d9095361",
   "metadata": {},
   "source": [
    "Simple linear regression - only one independent feature is used.\n",
    "eg: the relationship between height and weight. In this case, the dependent variable is weight and the independent variable is height. <br />\n",
    "Multiple linear regression - more than one independent featuresare used.\n",
    "eg: house price prediction\n",
    "more independent features like area, number of rooms, distance from town, and parking facility are used as independent feature and price of the house is dependent variable."
   ]
  },
  {
   "cell_type": "markdown",
   "id": "c2177117-32ae-4400-9ba2-d7107d95c067",
   "metadata": {},
   "source": [
    "## Q2. Discuss the assumptions of linear regression. How can you check whether these assumptions hold in a given dataset?"
   ]
  },
  {
   "cell_type": "markdown",
   "id": "424ffb4e-6397-44b6-a119-9471fb0acdcf",
   "metadata": {},
   "source": [
    "The relationship between dependent variable and independent variable is linear. If pearson correlation, and hoeffding correlation between dependent variable and independent variable are high and low, respectively, the relationship is linear."
   ]
  },
  {
   "cell_type": "markdown",
   "id": "74d984da-3209-4e2d-a47f-24674c79c4d5",
   "metadata": {},
   "source": [
    "## Q3. How do you interpret the slope and intercept in a linear regression model? Provide an example using a real-world scenario."
   ]
  },
  {
   "cell_type": "markdown",
   "id": "69b9054c-01d7-4cc9-a7db-756de0121a63",
   "metadata": {},
   "source": [
    "Slope - The rate at which dependent variable is moving with respect to independent variable.\n",
    "Intercept - It is the point at which the regression line intercepts the y-axis\n",
    "\n",
    "let's consider a real-world scenario where we want to predict the price of a house based on its square footage. In this case, the slope of the linear regression model will represent the increase in the house price for each additional square foot of living space. The intercept, on the other hand, will represent the predicted house price when the square footage is zero"
   ]
  },
  {
   "cell_type": "markdown",
   "id": "c23c9385-57db-4c1a-9462-0c8e2ed672ff",
   "metadata": {},
   "source": [
    "## Q4. Explain the concept of gradient descent. How is it used in machine learning?"
   ]
  },
  {
   "cell_type": "markdown",
   "id": "d7b3c3fb-106a-4caf-b50a-e0c15670ec98",
   "metadata": {},
   "source": [
    "Gradient Descent is a type of convergence algorithm used to find the optimal solution for an optimization problem. It works by iteratively moving in the direction of steepest descent of the objective function. In machine learning problems, it is commonly used to minimize the error of a model by iteratively adjusting the parameters of the model in the direction of steepest descent of the error function. Therefore, the optimal values for the parameters, which yield the minimum error, can be found."
   ]
  },
  {
   "cell_type": "markdown",
   "id": "e71f87c9-a9f4-4534-bb38-08c5b34bcdf6",
   "metadata": {},
   "source": [
    "## Q5. Describe the multiple linear regression model. How does it differ from simple linear regression?"
   ]
  },
  {
   "cell_type": "markdown",
   "id": "45cb9d7a-54bc-40cd-a858-982777eac1ab",
   "metadata": {},
   "source": [
    "in multiple linear regression more than one independent features are used. In simple linear regression, only one independent feature is used. Therefore, in simple linear regression, a best fit line is found by adjusting the parameters, and in multiple linear regression model, hyperplane is found by adjusting the parameters that minimizes the sum of squared errors between the predicted values and actual values of the dependent variable."
   ]
  },
  {
   "cell_type": "markdown",
   "id": "19f81ff3-60d4-4f5d-aea4-3bb631e3fac1",
   "metadata": {},
   "source": [
    "## Q6. Explain the concept of multicollinearity in multiple linear regression. How can you detect and address this issue?"
   ]
  },
  {
   "cell_type": "markdown",
   "id": "f90e3fc1-6b96-447b-b775-f4adb947a233",
   "metadata": {},
   "source": [
    "Multicollinearity is a situation that occurs when two or more independent variables in a multiple linear regression model are highly correlated with each other. This can cause several issues in the model, \n",
    "- unstable and inaccurate coefficient estimates\n",
    "- increased standard errors\n",
    "- reduced predictive power.\n",
    "\n",
    "This can be detected by using correlation matrix.\n",
    "\n",
    "This can be addressed by following methods,\n",
    "1. removing one of the highly correlated variable.\n",
    "2. reduce the dimention with PCA\n",
    "3. Ridge Regression: Ridge regression adds a penalty term to the least squares method to reduce the variance of the coefficient estimates.\n",
    "4. Lasso Regression: Lasso regression is another regularization technique that reduces the coefficient values of the correlated variables to zero, effectively removing them from the model."
   ]
  },
  {
   "cell_type": "markdown",
   "id": "4c86fa27-dffe-47d5-b2cf-a3ad5fb9b193",
   "metadata": {},
   "source": [
    "## Q7. Describe the polynomial regression model. How is it different from linear regression?"
   ]
  },
  {
   "cell_type": "markdown",
   "id": "cc41c7e4-2083-4328-9860-bbc537a53275",
   "metadata": {},
   "source": [
    "Polynomial regression is a type of regression analysis used to model nonlinear relationships between the independent and dependent variables by fitting a polynomial equation to the data. In contrast to linear regression, where a straight line is used to model the relationship, polynomial regression uses a curve or line that is best fit to the data points. The degree of the polynomial can be adjusted to provide a better fit to the data."
   ]
  },
  {
   "cell_type": "markdown",
   "id": "56ae5203-a39a-4961-8f43-b22eba7ec730",
   "metadata": {},
   "source": [
    "## Q8. What are the advantages and disadvantages of polynomial regression compared to linear regression? In what situations would you prefer to use polynomial regression?"
   ]
  },
  {
   "cell_type": "markdown",
   "id": "c19e5289-cad3-4acd-8ba1-1ef58e08658e",
   "metadata": {},
   "source": [
    "Advantages of polynomial regression compared to linear regression are:\n",
    "\n",
    "1. Flexibility: Polynomial regression can fit a wide range of curves, including non-linear relationships, while linear regression can only fit a straight line.\n",
    "\n",
    "2. Higher accuracy: When the relationship between the dependent variable and independent variable is non-linear, polynomial regression can often provide a more accurate model compared to linear regression.\n",
    "\n",
    "3. Higher order polynomials: Polynomial regression can be extended to higher order polynomials, providing a better fit for more complex data.\n",
    "\n",
    "Disadvantages of polynomial regression compared to linear regression are:\n",
    "\n",
    "1. Overfitting: Polynomial regression can easily overfit the data if a high-order polynomial is used. This can lead to poor generalization to new data.\n",
    "\n",
    "2. Difficulty in interpretation: Higher order polynomials can be difficult to interpret, making it challenging to understand the relationship between the variables.\n",
    "\n",
    "In situations where the relationship between the dependent and independent variables is non-linear, and a higher degree of accuracy is required, polynomial regression can be preferred over linear regression. Additionally, in situations where the relationship between the variables is linear, linear regression is a simpler and more interpretable approach."
   ]
  },
  {
   "cell_type": "markdown",
   "id": "430e89a5-89ce-4d36-b5d5-8e56432321c4",
   "metadata": {},
   "source": []
  },
  {
   "cell_type": "markdown",
   "id": "d049ba16-a846-4279-af20-5decbbda518e",
   "metadata": {},
   "source": []
  },
  {
   "cell_type": "markdown",
   "id": "1b2e1707-26d7-4e1c-bd0a-77c478d76679",
   "metadata": {},
   "source": []
  },
  {
   "cell_type": "markdown",
   "id": "afdddbe3-6578-4aa1-9e97-15799c6eb575",
   "metadata": {},
   "source": []
  }
 ],
 "metadata": {
  "kernelspec": {
   "display_name": "Python 3 (ipykernel)",
   "language": "python",
   "name": "python3"
  },
  "language_info": {
   "codemirror_mode": {
    "name": "ipython",
    "version": 3
   },
   "file_extension": ".py",
   "mimetype": "text/x-python",
   "name": "python",
   "nbconvert_exporter": "python",
   "pygments_lexer": "ipython3",
   "version": "3.10.8"
  }
 },
 "nbformat": 4,
 "nbformat_minor": 5
}
