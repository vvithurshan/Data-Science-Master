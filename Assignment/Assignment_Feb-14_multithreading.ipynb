{
 "cells": [
  {
   "cell_type": "markdown",
   "id": "e3255fb7-51f9-4cb8-935f-89739654b441",
   "metadata": {},
   "source": [
    "# Assignment Multithreading"
   ]
  },
  {
   "cell_type": "markdown",
   "id": "31419f8e-4e7c-4949-8cda-98ed05ce7500",
   "metadata": {},
   "source": [
    "## Q1. what is multithreading in python? why is it used? Name the module used to handle threads in python"
   ]
  },
  {
   "cell_type": "markdown",
   "id": "6182abf7-c628-497b-9725-0ebfe8998279",
   "metadata": {},
   "source": [
    "Multithreading is the ability of a program to run multiple threads simultaneously without waiting for other tasks to complete. It is used to achieve concurrency in a program. For instance, if a program (without multithreading) takes a long time to complete one calculation, other independent tasks have to wait until it finishes, resulting in a longer processing time. Multithreading avoids this issue by running multiple threads at the same time. <br>\n",
    "A module called <b>threading</b> is used to handle threads in python."
   ]
  },
  {
   "cell_type": "markdown",
   "id": "79d15155-9555-43d8-87db-3c43a07a9944",
   "metadata": {},
   "source": [
    "## Q2. Why threading module used? write the use of the following functions?"
   ]
  },
  {
   "cell_type": "markdown",
   "id": "5abb3dcf-78c8-48b4-9818-807d878cecc1",
   "metadata": {},
   "source": [
    "Threading module provides efficient functionalities such as creating, starting, and managing threads. Therefore, with the help of these functionalities multiple threads can be handled.<br>"
   ]
  },
  {
   "cell_type": "markdown",
   "id": "9f322a9f-395b-47dc-b4b6-80c62aa05123",
   "metadata": {},
   "source": [
    "<b>1. activeCount()</b> - it is a method of thread module used to count how many threads are active at a given point of time. <br>\n",
    "<b>2. currentThread()</b> - It is used to get currect worker thread<br>\n",
    "<b>3. enumerate() </b> It takes an iterable object and returns tuples, where each tuple contains an index of the item (starting at 0) and the corresponding item. In multithreading, it is used to keep track of all threads by assigning a unique ID to each thread, iterating over a list of threads, and checking the status of each thread."
   ]
  },
  {
   "cell_type": "markdown",
   "id": "f2262d95-d11b-41da-96df-5c73fb83a17f",
   "metadata": {},
   "source": [
    "## Q3. Explain the following functions"
   ]
  },
  {
   "cell_type": "markdown",
   "id": "d35fdc1a-dbb8-42e8-8a67-7c283fe08cda",
   "metadata": {},
   "source": [
    "<b> 1. run() </b> It is used to start the execution of a thread. It is called by start() method. <br>\n",
    "<b> 2. start() </b> It is used to start the thread. It begins the execution of the thread by calling run() <br>\n",
    "<b> 3. join() </b> It is used for a thread to finish executing before moving to the next statement. <br>\n",
    "<b> 4. isAlive() </b> It is used to check whether a thread is still running or not. "
   ]
  },
  {
   "cell_type": "markdown",
   "id": "aeb60d30-cc40-43ce-935a-51e3f52cf8b5",
   "metadata": {},
   "source": [
    "### Q4. Write a python program to create two threads. Thread one must print the list of squares and thread two must print the list of cubes"
   ]
  },
  {
   "cell_type": "code",
   "execution_count": 16,
   "id": "aef95cd0-11bc-4184-b0c1-fa9651630eb2",
   "metadata": {},
   "outputs": [
    {
     "name": "stdout",
     "output_type": "stream",
     "text": [
      "List of Squares [1, 4, 9, 16, 25, 36, 49, 64, 81, 100, 121, 144, 169, 196, 225]\n",
      "List of Cubes [1, 8, 27, 64, 125, 216, 343, 512, 729, 1000, 1331, 1728, 2197, 2744, 3375]\n"
     ]
    }
   ],
   "source": [
    "import threading\n",
    "\n",
    "def square(n):\n",
    "    sqr_lst = [i**2 for i in range(1,n+1)]\n",
    "    print(\"List of Squares {}\".format(sqr_lst))\n",
    "    \n",
    "def cube(n):\n",
    "    cube_lst = [i**3 for i in range(1,n+1)]\n",
    "    print(\"List of Cubes {}\".format(cube_lst))\n",
    "    \n",
    "T1 = threading.Thread(target=square, args=(15,))\n",
    "T2 = threading.Thread(target=cube, args = (15,))\n",
    "\n",
    "T1.start()\n",
    "T1.join()\n",
    "T2.start()\n",
    "T2.join()"
   ]
  },
  {
   "cell_type": "markdown",
   "id": "372f8441-893c-44ad-a81a-7cede77aaf65",
   "metadata": {},
   "source": [
    "### Q5. State advantages and disadvantages of multithreading"
   ]
  },
  {
   "cell_type": "markdown",
   "id": "c6c70aa8-f85a-4180-a035-00f362790bf1",
   "metadata": {},
   "source": [
    "<b> Advantages </b> <br>\n",
    "1. Efficiency of the program can be increased.\n",
    "2. Resources can be utilized efficiently (multi-core processor).\n",
    "3. Calculations can be done very quickly.\n",
    "\n",
    "<b> Disadvantages </b> <br>\n",
    "1. It is very difficult to develop a code.\n",
    "2. Testing and debugging can be very difficult.\n",
    "3. Creating and managing threads may decrease the performance gained by multithreading."
   ]
  },
  {
   "cell_type": "markdown",
   "id": "0a3f74ec-9e13-40dc-82b6-38a5892223b3",
   "metadata": {},
   "source": [
    "### Q6. Explain deadlocks and race conditions."
   ]
  },
  {
   "cell_type": "markdown",
   "id": "b56ed1e5-f069-45ba-99e2-d877513a7b68",
   "metadata": {},
   "source": [
    "<b> Deadlock </b> occurs when two or more threads are lock and waiting for each other to release the locked resources. Therefore, application is unable to execute further, potentially leading to a crash. <br>\n",
    "\n",
    "<b> Race </b> occurs when two or more threads tries to access and modifies the shared resources at the same time, potentially leading to unpredictable result."
   ]
  },
  {
   "cell_type": "code",
   "execution_count": null,
   "id": "9552fe1c-e81b-4814-b7dc-3237c38fe9dd",
   "metadata": {},
   "outputs": [],
   "source": []
  }
 ],
 "metadata": {
  "kernelspec": {
   "display_name": "Python 3 (ipykernel)",
   "language": "python",
   "name": "python3"
  },
  "language_info": {
   "codemirror_mode": {
    "name": "ipython",
    "version": 3
   },
   "file_extension": ".py",
   "mimetype": "text/x-python",
   "name": "python",
   "nbconvert_exporter": "python",
   "pygments_lexer": "ipython3",
   "version": "3.10.8"
  }
 },
 "nbformat": 4,
 "nbformat_minor": 5
}
