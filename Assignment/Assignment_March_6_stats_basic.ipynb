{
 "cells": [
  {
   "cell_type": "markdown",
   "id": "24841da5-fc98-47e8-8043-f59588ad1bd2",
   "metadata": {},
   "source": [
    "# Assignment Stats Basic 1"
   ]
  },
  {
   "cell_type": "markdown",
   "id": "3fab763e-46a5-467b-96b0-b6c92cbc879d",
   "metadata": {},
   "source": [
    "## Q1. What is Statistics?"
   ]
  },
  {
   "cell_type": "markdown",
   "id": "69530554-7e05-4b62-85a3-2f6a2e3bbaba",
   "metadata": {},
   "source": [
    "Statistics is a science of collecting, organizing, and analysize the data."
   ]
  },
  {
   "cell_type": "markdown",
   "id": "480f30a5-16c6-400d-a00a-2430b6c12f3f",
   "metadata": {},
   "source": [
    "## Q2. Define the different types of statistics and give an example of when each type might be used."
   ]
  },
  {
   "cell_type": "markdown",
   "id": "0a131b65-8dfe-4bcd-893a-437d101d50f5",
   "metadata": {},
   "source": [
    "1. Descriptive statistics - it is used to organize and summarize the data.\n",
    "\n",
    "2. Inferential Statistics - It is use to make a conclusion using the data."
   ]
  },
  {
   "cell_type": "markdown",
   "id": "851e6c62-e99c-4358-aaff-46f4c0a4d70b",
   "metadata": {},
   "source": [
    "## Q3. What are the different types of data and how do they differ from each other? Provide an example of each type of data."
   ]
  },
  {
   "cell_type": "markdown",
   "id": "e15f9ae8-4f5b-46d9-8cb6-e0e221740af6",
   "metadata": {},
   "source": [
    "1. Quantitative/Numerical data - when a data set has numerical value, it is called quantitative data. It is further divided into two types.\n",
    "    1. Discrete Data - Discrete data is a type of quantitative data that can only take on certain specific numerical values.\n",
    "    eg : number of rooms, number of students, number of processors\n",
    "    \n",
    "    2. Continuous Data - Continuous data is a type of quantitative data that can take any number of values within a range.\n",
    "    eg : temperature, distance, IQ\n",
    "    \n",
    "2. Qualitative/Categorical data - Qualitative data is used to describe the characteristics of any object, rather than measure it. It is of two types.\n",
    "    1. Nominal Data - Nominal data is a type of categorical data that is used to represent data in which the values are not ordered in any meaningful way.\n",
    "    eg : blood group, color, marital state\n",
    "    \n",
    "    2. Ordinal Data - Ordinal Data is a type of categorical dta that is used to represent data in which the values have a meaningful order or ranking.\n",
    "    eg : level of satisfaction, socioeconomic status, grades"
   ]
  },
  {
   "cell_type": "markdown",
   "id": "a550f062-9be0-4343-a75e-43bbdc7e79de",
   "metadata": {},
   "source": [
    "## Q4. Categorise the following datasets with respect to quantitative and qualitative data types:"
   ]
  },
  {
   "cell_type": "markdown",
   "id": "9a3ef022-48d9-40d8-a91d-901b6abbcaaa",
   "metadata": {},
   "source": [
    "### (i) Grading in exam: A+, A, B+, B, C+, C, D, E - **Qualitative data**\n",
    "### (ii) Colour of mangoes: yellow, green, orange, red - **Qualitative data**\n",
    "### (iii) Height data of a class: [178.9, 179, 179.5, 176, 177.2, 178.3, 175.8,...] - **Quantitative data**\n",
    "### (iv) Number of mangoes exported by a farm: [500, 600, 478, 672, ...] - **Quantitative data**\n"
   ]
  },
  {
   "cell_type": "markdown",
   "id": "4f96bae6-b888-4b85-ab52-4a25ec84209d",
   "metadata": {},
   "source": [
    "## Q5. Explain the concept of levels of measurement and give an example of a variable for each level."
   ]
  },
  {
   "cell_type": "markdown",
   "id": "89b422ce-2cd9-4665-ba57-0d148eb3ed4b",
   "metadata": {},
   "source": [
    "It refers to the different ways in which variables can be measured.\n",
    "\n",
    "1. Nominal scale - It is used to represent data in which values are not order in any way.\n",
    "    **eg: Gender, Marital state**\n",
    "    \n",
    "2. Ordinal scale - It is used to represent data in which values have meaningful order. However, difference between values cannot be measured \n",
    "    **eg : Educational qualification, level of agreement**\n",
    "3. Interval scale - It is used to represent data in which values have meaningful order. At the same time, difference between values can be measured. However, it does not have a true zero point.\n",
    "    **eg : IQ, time, temperature**\n",
    "4. Ratio scale - It is used to represent data in which values have meaningful order, difference between values are known, and there is a true zero point.\n",
    "    **eg : Length, height, weight**"
   ]
  },
  {
   "cell_type": "markdown",
   "id": "57d6105e-896c-4016-869f-503f684f0948",
   "metadata": {},
   "source": [
    "## Q6. Why is it important to understand the level of measurement when analyzing data? Provide an example to illustrate your answer."
   ]
  },
  {
   "cell_type": "markdown",
   "id": "d2424f5c-2b03-4459-a4d0-9216b035e2d9",
   "metadata": {},
   "source": [
    "Understanding the level of measurement is important because it determines the statistical analysis, and the appropriate summary measures. Using the incorrect analysis and summary measures can lead to incorrect conclusion. <br>\n",
    "\n",
    "For example, if a researcher collects the height of students and categorizes them as short, medium, and tall, instead of treating height as ratio-scaled data, there is no way to determine the exact differences between the categories. Therefore, using statistical analyses that assume equal distances between categories, such as calculating the mean height, would be inappropriate and could lead to incorrect conclusions.\n"
   ]
  },
  {
   "cell_type": "markdown",
   "id": "1d2f3469-554a-45bc-b79d-9e3f8ad7af4b",
   "metadata": {},
   "source": [
    "## Q7. How nominal data type is different from ordinal data type."
   ]
  },
  {
   "cell_type": "markdown",
   "id": "ac21b472-1211-4d4a-8eea-0282264c0ff5",
   "metadata": {},
   "source": [
    "Both nominal and ordinal data are types of categorical data. However, values of nominal data types do not have any meaningful order or ranking. While, values of ordinal data types have meaningful order or ranking between them."
   ]
  },
  {
   "cell_type": "markdown",
   "id": "4af4dcc7-18f5-4e4d-94ea-5c01a4395128",
   "metadata": {},
   "source": [
    "## Q8. Which type of plot can be used to display data in terms of range?"
   ]
  },
  {
   "cell_type": "markdown",
   "id": "a3001016-1574-43dd-b04e-fa6174f1e22a",
   "metadata": {},
   "source": [
    "A box plot can be used."
   ]
  },
  {
   "cell_type": "markdown",
   "id": "fee7d876-58b2-4307-b827-c6a41fb82d34",
   "metadata": {},
   "source": [
    "## Q9. Describe the difference between descriptive and inferential statistics. Give an example of each type of statistics and explain how they are used."
   ]
  },
  {
   "cell_type": "markdown",
   "id": "866db0fa-5d0e-4275-86f4-169a8113be94",
   "metadata": {},
   "source": [
    "Descriptive statistics is used to summarize and describe the main features of a data set, such as central tendency (mean, median, and mode), measures of dispersion (variance, standard deviation), shape, range, and frequency of the distribution.\n",
    "\n",
    "For example, a researcher may use descriptive statistics to summarize the calculation time of different processors. The researcher may find the mean, mode, median, standard deviation, and variation, and use this information to make a decision about the performance of the algorithms.\n",
    "\n",
    "Inferential statistics is used to draw conclusions about the population based on a sample of data, using tools such as hypothesis testing, confidence intervals, and regression analysis.\n",
    "\n",
    "For example, a researcher may use inferential statistics to determine whether there is a significant difference in calculation time between processors. The researcher may collect sample data from different processors and determine whether there is a significant time difference between them. This information can be used to draw conclusions about the entire population of processors."
   ]
  },
  {
   "cell_type": "markdown",
   "id": "5458c80b-8f69-4758-ae24-c21e75e08cb4",
   "metadata": {},
   "source": [
    "## Q10. What are some common measures of central tendency and variability used in statistics? Explain how each measure can be used to describe a dataset."
   ]
  },
  {
   "cell_type": "markdown",
   "id": "5c46bbc4-8a58-418b-8e61-ebbe786ef5f1",
   "metadata": {},
   "source": [
    "1. Measures of central tendency - mean, median, mode.\n",
    "    1. mean - It is used to figure out the typical value in a dataset.\n",
    "    2. median - It is used to find out the middle value of the sorted dataset.\n",
    "    3. mode - It is used to find out the most frequently occurring value in a dataset. \n",
    "    \n",
    "2. Variability  -  variation, standard deviation.\n",
    "    1. variation - it is used to measure how data values are spread out in a dataset. In other words, it measures the degree of variability of dataset.\n",
    "    2. standard deviation - it is the squre root of variation, and used to measure the degree of variability and confidence of intervals."
   ]
  }
 ],
 "metadata": {
  "kernelspec": {
   "display_name": "Python 3 (ipykernel)",
   "language": "python",
   "name": "python3"
  },
  "language_info": {
   "codemirror_mode": {
    "name": "ipython",
    "version": 3
   },
   "file_extension": ".py",
   "mimetype": "text/x-python",
   "name": "python",
   "nbconvert_exporter": "python",
   "pygments_lexer": "ipython3",
   "version": "3.10.8"
  }
 },
 "nbformat": 4,
 "nbformat_minor": 5
}
