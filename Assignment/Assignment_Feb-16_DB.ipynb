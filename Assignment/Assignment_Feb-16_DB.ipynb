{
 "cells": [
  {
   "cell_type": "markdown",
   "id": "6ada27eb-95b4-4efa-b075-c39dbf778bdc",
   "metadata": {},
   "source": [
    "# Assignment Feb-16"
   ]
  },
  {
   "cell_type": "markdown",
   "id": "9528b813-073c-4b90-ae03-1fcb72de06c1",
   "metadata": {},
   "source": [
    "## Q1. What is a database? Differentiate between SQL and NoSQL databases."
   ]
  },
  {
   "cell_type": "markdown",
   "id": "d80d9de1-7275-463e-af96-904238d82e76",
   "metadata": {},
   "source": [
    "A database is a collection of data that is used to store, retrive, and manage data in an organized and efficient way.\n",
    "\n",
    "SQL is based on relational data model. It organizes data into tables contain rows and columns. It uses SQL to manage and manipulate the data. It is suitable for applications that require atomicity, consistency, isolation, durability, and stability. While NOSQL, on other hand, is based on non-relational data model. It stores data in various ways like document-oriented, key-value, column-family, and graph database. It uses mongoDB Query Language(MQL) to manipulate and manage data. It is designed to scale horizontally and handle large volumes of unstructured data. It is suitable for applications that require high availability, scalability, and flexibility."
   ]
  },
  {
   "cell_type": "markdown",
   "id": "7d20d984-33e9-4e25-b725-48cbcb187059",
   "metadata": {},
   "source": [
    "## Q2. What is DDL? Explain why CREATE, DROP, ALTER, and TRUNCATE are used with an example."
   ]
  },
  {
   "cell_type": "markdown",
   "id": "b56e3605-eaae-4d3c-9ef2-f25172b657dd",
   "metadata": {},
   "source": [
    "DDL is a set of SQL commands used to define the structure of the database.\n",
    "\n",
    "1. CREATE is used to create database, create database objects such as table, index, view, and constraints. \n",
    "\n",
    "CREATE DATABASE MY_COMPANY;\n",
    "CREATE MY_COMPANY.table Employee_details(ID INT, NAME VARCHAR(20), ADDRESS VARCHAR(50), AGE INT, SALARY FLOAT);\n",
    "\n",
    "2. DROP is used to delete database objects such as table, index, view, and constraints.\n",
    "\n",
    "DROP TABLE MY_COMPANY.Employee\n",
    "\n",
    "3. ALTER is used to alter the structure of the database objects such as table, index, view, and constraints.\n",
    "\n",
    "ALTER MY_COMPANY.Employee ADD COLUMN PHONE VARCHAR(25);\n",
    "\n",
    "4. TRUNCATE is used to clear the data stored in the table without changing the structure of the table. \n",
    "\n",
    "TRUNCATE MY_COMPANY.Employee;"
   ]
  },
  {
   "cell_type": "markdown",
   "id": "17858774-ae4b-4e11-b6ce-4a7737767a2e",
   "metadata": {},
   "source": [
    "## Q3. What is DML? Explain INSERT, UPDATE, and DELETE with an example."
   ]
  },
  {
   "cell_type": "markdown",
   "id": "5b829a27-36cd-4766-bf2f-1e94900f2f2f",
   "metadata": {},
   "source": [
    "DML is a set of SQL commands used to manipulate the data in a database.\n",
    "\n",
    "1. INSERT is used to add new rows into the table of the DB.\n",
    "If we want to add the id, name, address, age, and salary of a emplyee, the following command can be used.\n",
    "\n",
    "INSERT INTO MY_COMPANY.Employee VALUES (123, 'VITHURSHAN', 'USA', 28, 80000)\n",
    "\n",
    "2. UPDATE is used to modify the data in the table.\n",
    "If we want to update the salary of the employee whose id is 123, the following can be used.\n",
    "UPDATE MY_COMPANY.Employee SET SALARY = 85000 WHERE ID = 123;\n",
    "\n",
    "3. DELETE is used to remove the data from the table. \n",
    "\n",
    "If we want to delete all the details of the employee whose id is 123, the command mentioned below can be used.\n",
    "DELETE FROM MY_COMPANY.Employee WHERE ID = 123;"
   ]
  },
  {
   "cell_type": "markdown",
   "id": "39da4b8a-518d-4c7d-96ec-29a3ddf322de",
   "metadata": {},
   "source": [
    "## Q4. What is DQL? Explain SELECT with an example."
   ]
  },
  {
   "cell_type": "markdown",
   "id": "d490a844-1670-4ede-892b-c59888e37087",
   "metadata": {},
   "source": [
    "DQL is the part of SQL used to querying and retriving data from a database.\n",
    "\n",
    "SELETE is used to retrive data from one or more tables from a DB. If we want to get the details of employee such as id, name, salry from the DB whose id is 123, we can use the following commad to retrive it. \n",
    "\n",
    "If we want to retrive the id, name, salary of an employee whose id is 123, command mentioned below can be used.\n",
    "SELECT ID, NAME, SALARY FROM MY_COMPANY.Employee_details WHERE ID = 123;"
   ]
  },
  {
   "cell_type": "markdown",
   "id": "5daa8183-fac7-49d1-be45-acd21519aa03",
   "metadata": {},
   "source": [
    "## Q5. Explain Primary Key and Foreign Key.\n"
   ]
  },
  {
   "cell_type": "markdown",
   "id": "54cab0db-c302-46fd-b83a-94b59bd4fa9a",
   "metadata": {},
   "source": [
    "primary key is a column(s) that is unique for each row in the table. While, foreign key is column in a table that references the primary key of another table. Both primary key and foregin keys are used to estabilish the relationship between two tables. "
   ]
  },
  {
   "cell_type": "markdown",
   "id": "dc92c11a-adb9-496e-8a0c-142497a01d3b",
   "metadata": {
    "tags": []
   },
   "source": [
    "## Q6. Write a python code to connect MySQL to python. Explain the cursor() and execute() method."
   ]
  },
  {
   "cell_type": "markdown",
   "id": "9bb75ffe-0142-4d53-932c-c2bb1a13e013",
   "metadata": {},
   "source": [
    "import mysql.connector as mysql_conn\n",
    "\n",
    "mydb = mysql_conn.connect(host = \"localhost\",user=\"abc\",password=\"password\")\n",
    "\n",
    "mycursor = mydb.cursor()\n",
    "\n",
    "mycursor.execute(\"SELECT * FROM test.test_table\")\n",
    "\n",
    "myresult = mycursor.fetchall()\n",
    "\n",
    "for i in myresult:\n",
    "    print(i)\n",
    "    \n",
    "## Explanation\n",
    "\n",
    "connect() method available in mysql.connector module was used to connect to mysql database. <br>\n",
    "cursor() is used to create cursor object that can execute SQL queries and fetch results. <br>\n",
    "execute() is used to execute SQL queries. \n"
   ]
  },
  {
   "cell_type": "markdown",
   "id": "eb5c0caf-0021-4766-8fc1-f90a4b585caa",
   "metadata": {},
   "source": [
    "## Q7. Give the order of execution of SQL clauses in an SQL query."
   ]
  },
  {
   "cell_type": "markdown",
   "id": "ca3073db-e192-4439-b3e2-1e16c10075db",
   "metadata": {},
   "source": [
    "1. FROM\n",
    "2. JOIN\n",
    "3. WHERE\n",
    "4. GROUP BY\n",
    "5. HAVING\n",
    "6. SELECT\n",
    "7. DISTINCT\n",
    "8. ORDER BY\n",
    "9. LIMIT"
   ]
  },
  {
   "cell_type": "code",
   "execution_count": null,
   "id": "654d8486-c666-4310-9089-76fa8c8022bb",
   "metadata": {},
   "outputs": [],
   "source": []
  }
 ],
 "metadata": {
  "kernelspec": {
   "display_name": "Python 3 (ipykernel)",
   "language": "python",
   "name": "python3"
  },
  "language_info": {
   "codemirror_mode": {
    "name": "ipython",
    "version": 3
   },
   "file_extension": ".py",
   "mimetype": "text/x-python",
   "name": "python",
   "nbconvert_exporter": "python",
   "pygments_lexer": "ipython3",
   "version": "3.10.8"
  }
 },
 "nbformat": 4,
 "nbformat_minor": 5
}
