{
 "cells": [
  {
   "cell_type": "markdown",
   "id": "e7191273-56fc-4747-bd41-a4910c26c70d",
   "metadata": {},
   "source": [
    "# Day 4"
   ]
  },
  {
   "cell_type": "markdown",
   "id": "bff1cdc4-4733-4045-86c1-1ba130184aea",
   "metadata": {},
   "source": [
    "### Iterable functions"
   ]
  },
  {
   "cell_type": "raw",
   "id": "666b4311-216c-4190-a349-ecc1cbf39cdf",
   "metadata": {},
   "source": [
    "map()\n",
    "filter()\n",
    "reduce()\n",
    "zip()\n",
    "enumerate()\n",
    "sorted()\n",
    "reversed()\n",
    "sum()\n",
    "max()\n",
    "min()\n",
    "all()\n",
    "any()\n",
    "len()\n",
    "list()\n",
    "tuple()\n",
    "set()"
   ]
  },
  {
   "cell_type": "raw",
   "id": "74bf7218-a4e5-4adb-9499-7e406510f2aa",
   "metadata": {},
   "source": [
    "capitalize() - capitalizes the first letter of a string\n",
    "center() - returns a string that is centered with specified characters\n",
    "count() - returns the number of occurrences of a substring in a string\n",
    "encode() - encodes a string into the specified encoding format\n",
    "endswith() - returns True if a string ends with the specified suffix\n",
    "expandtabs() - replaces tabs with specified number of spaces in a string\n",
    "find() - returns the index of the first occurrence of a substring in a string\n",
    "format() - formats a string using specified syntax\n",
    "index() - returns the index of the first occurrence of a substring in a string\n",
    "isalnum() - returns True if all characters in a string are alphanumeric\n",
    "isalpha() - returns True if all characters in a string are alphabetic\n",
    "isdecimal() - returns True if all characters in a string are decimal\n",
    "isdigit() - returns True if all characters in a string are digits\n",
    "islower() - returns True if all characters in a string are lowercase\n",
    "isnumeric() - returns True if all characters in a string are numeric\n",
    "isspace() - returns True if all characters in a string are whitespaces\n",
    "istitle() - returns True if a string is in title case\n",
    "isupper() - returns True if all characters in a string are uppercase\n",
    "join() - joins a list of strings with specified separator\n",
    "ljust() - returns a string left-justified with specified width\n",
    "lower() - converts all uppercase characters in a string to lowercase\n",
    "lstrip() - removes leading whitespaces from a string\n",
    "maketrans() - returns a translation table for specified characters\n",
    "partition() - splits a string at the first occurrence of a specified separator\n",
    "replace() - replaces a specified substring with another substring in a string\n",
    "rfind() - returns the index of the last occurrence of a substring in a string\n",
    "rindex() - returns the index of the last occurrence of a substring in a string\n",
    "rjust() - returns a string right-justified with specified width\n",
    "rpartition() - splits a string at the last occurrence of a specified separator\n",
    "rsplit() - splits a string from the right, using specified separator\n",
    "rstrip() - removes trailing whitespaces from a string\n",
    "split() - splits a string into a list, using specified separator\n",
    "splitlines() - splits a string into a list of lines\n",
    "startswith() - returns True if a string starts with the specified prefix\n",
    "strip() - removes leading and trailing whitespaces from a string\n",
    "swapcase() - swaps the case of all characters in a string\n",
    "title() - converts the first character of each word in a string to uppercase\n",
    "translate() - translates specified characters in a string\n",
    "upper() - converts all lowercase"
   ]
  },
  {
   "cell_type": "markdown",
   "id": "6f24a9ff-a195-4fb0-b6ff-c03e918ea5a1",
   "metadata": {},
   "source": [
    "# String"
   ]
  },
  {
   "cell_type": "code",
   "execution_count": 3,
   "id": "d3c5611d-0abb-4385-8b0a-24d0d1a6535d",
   "metadata": {},
   "outputs": [],
   "source": [
    "name = \"Data Science Masters\""
   ]
  },
  {
   "cell_type": "code",
   "execution_count": 4,
   "id": "6cec811e-05d1-4fff-8177-c937e83fa5d3",
   "metadata": {},
   "outputs": [
    {
     "data": {
      "text/plain": [
       "'dATA sCIENCE mASTERS'"
      ]
     },
     "execution_count": 4,
     "metadata": {},
     "output_type": "execute_result"
    }
   ],
   "source": [
    "name.swapcase()"
   ]
  },
  {
   "cell_type": "code",
   "execution_count": 6,
   "id": "0d0a9f00-c6ee-4bb2-a7dd-0fbe71773fa3",
   "metadata": {},
   "outputs": [
    {
     "data": {
      "text/plain": [
       "'Data Science Masters'"
      ]
     },
     "execution_count": 6,
     "metadata": {},
     "output_type": "execute_result"
    }
   ],
   "source": [
    "name.title() ## first character of the word becomes capitalized"
   ]
  },
  {
   "cell_type": "code",
   "execution_count": 8,
   "id": "d1c91ce0-c8f6-4d2f-80f2-42a27337617e",
   "metadata": {},
   "outputs": [
    {
     "data": {
      "text/plain": [
       "'Data science masters'"
      ]
     },
     "execution_count": 8,
     "metadata": {},
     "output_type": "execute_result"
    }
   ],
   "source": [
    "name.capitalize() ## first char will be capitalized"
   ]
  },
  {
   "cell_type": "markdown",
   "id": "59a0418f-d3a4-4abf-befd-d33d75420521",
   "metadata": {},
   "source": [
    "## Reversing"
   ]
  },
  {
   "cell_type": "code",
   "execution_count": 9,
   "id": "929a1178-f46d-461a-ae68-167872875632",
   "metadata": {},
   "outputs": [
    {
     "data": {
      "text/plain": [
       "'sretsaM ecneicS ataD'"
      ]
     },
     "execution_count": 9,
     "metadata": {},
     "output_type": "execute_result"
    }
   ],
   "source": [
    "name[::-1]"
   ]
  },
  {
   "cell_type": "code",
   "execution_count": 11,
   "id": "75847a1c-07e3-44e4-b951-0b68e0ddd786",
   "metadata": {},
   "outputs": [
    {
     "data": {
      "text/plain": [
       "'sretsaM ecneicS ataD'"
      ]
     },
     "execution_count": 11,
     "metadata": {},
     "output_type": "execute_result"
    }
   ],
   "source": [
    "''.join(reversed(name))"
   ]
  },
  {
   "cell_type": "code",
   "execution_count": 12,
   "id": "97810e51-6eb7-4b79-84fa-40e9c7b686dc",
   "metadata": {},
   "outputs": [
    {
     "data": {
      "text/plain": [
       "'A12345B12345C12345D12345E'"
      ]
     },
     "execution_count": 12,
     "metadata": {},
     "output_type": "execute_result"
    }
   ],
   "source": [
    "'12345'.join(\"ABCDE\")"
   ]
  },
  {
   "cell_type": "code",
   "execution_count": 13,
   "id": "c8b10970-2c59-4001-897f-b9f80f9c150a",
   "metadata": {},
   "outputs": [
    {
     "data": {
      "text/plain": [
       "'A&B&C&D&E'"
      ]
     },
     "execution_count": 13,
     "metadata": {},
     "output_type": "execute_result"
    }
   ],
   "source": [
    "'&'.join(\"ABCDE\")"
   ]
  },
  {
   "cell_type": "code",
   "execution_count": 15,
   "id": "08a99a46-86cb-4eb5-81c2-62a0a33fc512",
   "metadata": {},
   "outputs": [
    {
     "data": {
      "text/plain": [
       "'E&C&D&B&A'"
      ]
     },
     "execution_count": 15,
     "metadata": {},
     "output_type": "execute_result"
    }
   ],
   "source": [
    "'&'.join(reversed(\"ABDCE\"))"
   ]
  },
  {
   "cell_type": "code",
   "execution_count": 16,
   "id": "6651c0e6-3f81-437f-92c6-c7ac31c737c8",
   "metadata": {},
   "outputs": [
    {
     "data": {
      "text/plain": [
       "['C', 'B', 'A']"
      ]
     },
     "execution_count": 16,
     "metadata": {},
     "output_type": "execute_result"
    }
   ],
   "source": [
    "list(reversed(\"ABC\"))"
   ]
  },
  {
   "cell_type": "code",
   "execution_count": 20,
   "id": "2a7beac4-7487-44af-849c-e58e6bb0f205",
   "metadata": {},
   "outputs": [
    {
     "data": {
      "text/plain": [
       "'sretsaM ecneicS ataD'"
      ]
     },
     "execution_count": 20,
     "metadata": {},
     "output_type": "execute_result"
    }
   ],
   "source": [
    "''.join(reversed(name))"
   ]
  },
  {
   "cell_type": "code",
   "execution_count": 22,
   "id": "9db51a2f-51b1-4eb0-ab13-e14827e62ce4",
   "metadata": {},
   "outputs": [
    {
     "data": {
      "text/plain": [
       "'dlroW olleH'"
      ]
     },
     "execution_count": 22,
     "metadata": {},
     "output_type": "execute_result"
    }
   ],
   "source": [
    "txt = \"Hello World\" [::-1]\n",
    "txt"
   ]
  },
  {
   "cell_type": "code",
   "execution_count": 94,
   "id": "e8f9f855-d000-4f7e-8e0b-11b632674561",
   "metadata": {},
   "outputs": [
    {
     "data": {
      "text/plain": [
       "<reversed at 0x7f02fd1f2aa0>"
      ]
     },
     "execution_count": 94,
     "metadata": {},
     "output_type": "execute_result"
    }
   ],
   "source": [
    "reversed(name) ## iterable"
   ]
  },
  {
   "cell_type": "code",
   "execution_count": 26,
   "id": "58b55a63-9438-48a8-b17e-885a79079027",
   "metadata": {},
   "outputs": [
    {
     "name": "stdout",
     "output_type": "stream",
     "text": [
      "sretsaM ecneicS ataD"
     ]
    }
   ],
   "source": [
    "for i in reversed(name):\n",
    "    print(i,end='')"
   ]
  },
  {
   "cell_type": "markdown",
   "id": "07cc0c9b-9c96-4061-8755-e8e9fedf17e2",
   "metadata": {},
   "source": [
    "## Removing characters from the nd of the string"
   ]
  },
  {
   "cell_type": "code",
   "execution_count": 28,
   "id": "94fa0881-d872-401c-abef-81b92e0af015",
   "metadata": {},
   "outputs": [],
   "source": [
    "string_a = \" Datascience \""
   ]
  },
  {
   "cell_type": "code",
   "execution_count": 29,
   "id": "7dc9b3c2-25d1-4eb9-ac78-d224d31649ef",
   "metadata": {},
   "outputs": [
    {
     "data": {
      "text/plain": [
       "'Datascience'"
      ]
     },
     "execution_count": 29,
     "metadata": {},
     "output_type": "execute_result"
    }
   ],
   "source": [
    "string_a.strip()"
   ]
  },
  {
   "cell_type": "code",
   "execution_count": 30,
   "id": "b284e038-24c8-42f5-9a93-4549fa0414d2",
   "metadata": {},
   "outputs": [
    {
     "data": {
      "text/plain": [
       "'Datascience '"
      ]
     },
     "execution_count": 30,
     "metadata": {},
     "output_type": "execute_result"
    }
   ],
   "source": [
    "string_a.lstrip()"
   ]
  },
  {
   "cell_type": "code",
   "execution_count": 31,
   "id": "dd38087e-64a0-4294-bcdb-28db87279f98",
   "metadata": {},
   "outputs": [
    {
     "data": {
      "text/plain": [
       "' Datascience'"
      ]
     },
     "execution_count": 31,
     "metadata": {},
     "output_type": "execute_result"
    }
   ],
   "source": [
    "string_a.rstrip()"
   ]
  },
  {
   "cell_type": "markdown",
   "id": "bf277646-884c-401a-92be-96d5d8006690",
   "metadata": {},
   "source": [
    "### Replace\n",
    "#### it return a new string, not modifying the existing one"
   ]
  },
  {
   "cell_type": "code",
   "execution_count": 32,
   "id": "dbb06e66-6a93-4bb5-a90a-9f91045736e4",
   "metadata": {},
   "outputs": [],
   "source": [
    "string_n = \"Greeting to Datascience\""
   ]
  },
  {
   "cell_type": "code",
   "execution_count": 36,
   "id": "a1f57ee9-b306-492b-b877-a861a79699fe",
   "metadata": {},
   "outputs": [
    {
     "data": {
      "text/plain": [
       "'Greeting from Datascience'"
      ]
     },
     "execution_count": 36,
     "metadata": {},
     "output_type": "execute_result"
    }
   ],
   "source": [
    "string_n.replace('to','from')"
   ]
  },
  {
   "cell_type": "code",
   "execution_count": 41,
   "id": "d962111c-d685-4c13-9e78-b927857baa3f",
   "metadata": {},
   "outputs": [
    {
     "data": {
      "text/plain": [
       "'hello \\nworld'"
      ]
     },
     "execution_count": 41,
     "metadata": {},
     "output_type": "execute_result"
    }
   ],
   "source": [
    "'hello \\nworld'"
   ]
  },
  {
   "cell_type": "code",
   "execution_count": 40,
   "id": "f4ce2a6d-91b1-497e-a9c8-4cc1a6739728",
   "metadata": {},
   "outputs": [
    {
     "name": "stdout",
     "output_type": "stream",
     "text": [
      "hello \n",
      "world\n"
     ]
    }
   ],
   "source": [
    "print('hello \\nworld')"
   ]
  },
  {
   "cell_type": "code",
   "execution_count": 37,
   "id": "f80b03ec-89b7-4b33-9e37-5bc1733aee61",
   "metadata": {},
   "outputs": [
    {
     "data": {
      "text/plain": [
       "'hello   world'"
      ]
     },
     "execution_count": 37,
     "metadata": {},
     "output_type": "execute_result"
    }
   ],
   "source": [
    "'hello \\tworld'.expandtabs()"
   ]
  },
  {
   "cell_type": "code",
   "execution_count": 43,
   "id": "21c13c63-9608-4883-a508-f39aa8868426",
   "metadata": {},
   "outputs": [
    {
     "data": {
      "text/plain": [
       "'welcome to pwskills.Welcome to Data Science Masters'"
      ]
     },
     "execution_count": 43,
     "metadata": {},
     "output_type": "execute_result"
    }
   ],
   "source": [
    "## question\n",
    "str1 = \"welcome to pwskills.Welcome to Dat cience Masters\"\n",
    "str1.replace(\"Dat\",\"Data\").replace('cience','Science')"
   ]
  },
  {
   "cell_type": "code",
   "execution_count": 44,
   "id": "58e1798e-8500-4187-9414-95d15577a8b8",
   "metadata": {},
   "outputs": [
    {
     "data": {
      "text/plain": [
       "False"
      ]
     },
     "execution_count": 44,
     "metadata": {},
     "output_type": "execute_result"
    }
   ],
   "source": [
    "str1.isupper()"
   ]
  },
  {
   "cell_type": "code",
   "execution_count": 49,
   "id": "6eca5ab9-915c-452e-bc06-b762359e0e35",
   "metadata": {},
   "outputs": [
    {
     "data": {
      "text/plain": [
       "False"
      ]
     },
     "execution_count": 49,
     "metadata": {},
     "output_type": "execute_result"
    }
   ],
   "source": [
    "str1.islower()"
   ]
  },
  {
   "cell_type": "code",
   "execution_count": 50,
   "id": "8ff7c2db-14f3-4e15-ba12-22050838f3d6",
   "metadata": {},
   "outputs": [
    {
     "data": {
      "text/plain": [
       "False"
      ]
     },
     "execution_count": 50,
     "metadata": {},
     "output_type": "execute_result"
    }
   ],
   "source": [
    "str1.isspace()"
   ]
  },
  {
   "cell_type": "code",
   "execution_count": 47,
   "id": "9372d105-747d-4427-adac-b031e29b46bb",
   "metadata": {},
   "outputs": [],
   "source": [
    "str2 = \"HI\""
   ]
  },
  {
   "cell_type": "code",
   "execution_count": 48,
   "id": "703493c8-3efd-46e3-afde-a2294c5d00b6",
   "metadata": {},
   "outputs": [
    {
     "data": {
      "text/plain": [
       "True"
      ]
     },
     "execution_count": 48,
     "metadata": {},
     "output_type": "execute_result"
    }
   ],
   "source": [
    "str2.isupper()"
   ]
  },
  {
   "cell_type": "code",
   "execution_count": 58,
   "id": "76c8a781-5c18-4bae-8ffe-2b3041a8d59f",
   "metadata": {},
   "outputs": [],
   "source": [
    "str3 = \" \""
   ]
  },
  {
   "cell_type": "code",
   "execution_count": 59,
   "id": "f84fc43f-b6d1-4713-b476-07dfde320b91",
   "metadata": {},
   "outputs": [
    {
     "data": {
      "text/plain": [
       "True"
      ]
     },
     "execution_count": 59,
     "metadata": {},
     "output_type": "execute_result"
    }
   ],
   "source": [
    "str3.isspace()"
   ]
  },
  {
   "cell_type": "code",
   "execution_count": 60,
   "id": "7724f120-b008-4940-b8de-4e6cd1192572",
   "metadata": {},
   "outputs": [],
   "source": [
    "str3 = \"\""
   ]
  },
  {
   "cell_type": "code",
   "execution_count": 61,
   "id": "d7cfe2a3-1739-4b4f-b606-a6788d9af298",
   "metadata": {},
   "outputs": [
    {
     "data": {
      "text/plain": [
       "False"
      ]
     },
     "execution_count": 61,
     "metadata": {},
     "output_type": "execute_result"
    }
   ],
   "source": [
    "str3.isspace()"
   ]
  },
  {
   "cell_type": "code",
   "execution_count": 62,
   "id": "f40598c6-364a-4f59-beed-56e94fbb38f1",
   "metadata": {},
   "outputs": [],
   "source": [
    "str4 = 'abs'"
   ]
  },
  {
   "cell_type": "code",
   "execution_count": 66,
   "id": "af00d91c-e32d-4125-8358-be04fa0cfbac",
   "metadata": {},
   "outputs": [
    {
     "data": {
      "text/plain": [
       "True"
      ]
     },
     "execution_count": 66,
     "metadata": {},
     "output_type": "execute_result"
    }
   ],
   "source": [
    "str4.endswith('s') ## is the str end with s?"
   ]
  },
  {
   "cell_type": "code",
   "execution_count": 67,
   "id": "5a4a1d18-2ce2-4bb8-85ae-617dff61d72c",
   "metadata": {},
   "outputs": [
    {
     "data": {
      "text/plain": [
       "False"
      ]
     },
     "execution_count": 67,
     "metadata": {},
     "output_type": "execute_result"
    }
   ],
   "source": [
    "str4.endswith('a')"
   ]
  },
  {
   "cell_type": "code",
   "execution_count": 68,
   "id": "c969e867-336f-471f-b019-ee3dbda6ef5b",
   "metadata": {},
   "outputs": [
    {
     "data": {
      "text/plain": [
       "True"
      ]
     },
     "execution_count": 68,
     "metadata": {},
     "output_type": "execute_result"
    }
   ],
   "source": [
    "str4.startswith('a')"
   ]
  },
  {
   "cell_type": "markdown",
   "id": "d8ae8aed-4764-47b6-bf3e-315d99d195ea",
   "metadata": {},
   "source": [
    "## check if all the char in str are alphanumeric"
   ]
  },
  {
   "cell_type": "code",
   "execution_count": 69,
   "id": "95ac20db-5ff5-4f88-8597-016f51842855",
   "metadata": {},
   "outputs": [],
   "source": [
    "a = 'abcd1234'"
   ]
  },
  {
   "cell_type": "code",
   "execution_count": 70,
   "id": "1f5b23e2-249e-4089-afe1-f484baf51a58",
   "metadata": {},
   "outputs": [
    {
     "data": {
      "text/plain": [
       "True"
      ]
     },
     "execution_count": 70,
     "metadata": {},
     "output_type": "execute_result"
    }
   ],
   "source": [
    "a.isalnum()"
   ]
  },
  {
   "cell_type": "code",
   "execution_count": 72,
   "id": "a0cc318e-961e-4e61-b81d-9a7131bc3c0a",
   "metadata": {},
   "outputs": [],
   "source": [
    "b = 'abcd'"
   ]
  },
  {
   "cell_type": "code",
   "execution_count": 73,
   "id": "6cca6719-2fa4-4c87-a4e2-5c7e9f49fd9f",
   "metadata": {},
   "outputs": [
    {
     "data": {
      "text/plain": [
       "True"
      ]
     },
     "execution_count": 73,
     "metadata": {},
     "output_type": "execute_result"
    }
   ],
   "source": [
    "b.isalpha()"
   ]
  },
  {
   "cell_type": "markdown",
   "id": "1009a1b3-251d-46b1-8acf-7bdf8c76af73",
   "metadata": {},
   "source": [
    "## number of char in the strings"
   ]
  },
  {
   "cell_type": "code",
   "execution_count": 74,
   "id": "29facad3-d266-403b-9946-5a09b6ef5ec8",
   "metadata": {},
   "outputs": [
    {
     "name": "stdout",
     "output_type": "stream",
     "text": [
      "4\n"
     ]
    }
   ],
   "source": [
    "cnt = 0\n",
    "for i in \"ABCD\":\n",
    "    cnt += 1\n",
    "print(cnt)"
   ]
  },
  {
   "cell_type": "code",
   "execution_count": 75,
   "id": "bcbd4881-8a4f-4d61-be8e-a48970214cc9",
   "metadata": {},
   "outputs": [],
   "source": [
    "str5 = \"DataScience\""
   ]
  },
  {
   "cell_type": "code",
   "execution_count": 76,
   "id": "01037430-0cf0-42bc-9591-e0a44abefb10",
   "metadata": {},
   "outputs": [
    {
     "name": "stdout",
     "output_type": "stream",
     "text": [
      "0 D\n",
      "1 a\n",
      "2 t\n",
      "3 a\n",
      "4 S\n",
      "5 c\n",
      "6 i\n",
      "7 e\n",
      "8 n\n",
      "9 c\n",
      "10 e\n"
     ]
    }
   ],
   "source": [
    "for i in range(len(str5)):\n",
    "    print(i, str5[i])"
   ]
  },
  {
   "cell_type": "code",
   "execution_count": 81,
   "id": "c9fde56e-85c1-4a8c-9c6a-fdeb7edb731a",
   "metadata": {},
   "outputs": [
    {
     "name": "stdout",
     "output_type": "stream",
     "text": [
      "(0, 'D')\n",
      "(1, 'a')\n",
      "(2, 't')\n",
      "(3, 'a')\n",
      "(4, 'S')\n",
      "(5, 'c')\n",
      "(6, 'i')\n",
      "(7, 'e')\n",
      "(8, 'n')\n",
      "(9, 'c')\n",
      "(10, 'e')\n"
     ]
    }
   ],
   "source": [
    "for i in enumerate(str5):\n",
    "    print(i)"
   ]
  },
  {
   "cell_type": "code",
   "execution_count": 84,
   "id": "e072766d-4b0e-4af3-b411-566afaa0e3ad",
   "metadata": {},
   "outputs": [
    {
     "name": "stdout",
     "output_type": "stream",
     "text": [
      "[0, 'D']\n",
      "[1, 'a']\n",
      "[2, 't']\n",
      "[3, 'a']\n",
      "[4, 'S']\n",
      "[5, 'c']\n",
      "[6, 'i']\n",
      "[7, 'e']\n",
      "[8, 'n']\n",
      "[9, 'c']\n",
      "[10, 'e']\n"
     ]
    }
   ],
   "source": [
    "for i in enumerate(str5):\n",
    "    print(list(i))"
   ]
  },
  {
   "cell_type": "code",
   "execution_count": 86,
   "id": "ba632bec-bde5-481d-8b32-c01b8e90810c",
   "metadata": {},
   "outputs": [
    {
     "name": "stdout",
     "output_type": "stream",
     "text": [
      "['e']\n",
      "['c']\n",
      "['n']\n",
      "['e']\n",
      "['i']\n",
      "['c']\n",
      "['S']\n",
      "['a']\n",
      "['t']\n",
      "['a']\n",
      "['D']\n"
     ]
    }
   ],
   "source": [
    "for i in reversed(str5):\n",
    "    print([i])"
   ]
  },
  {
   "cell_type": "code",
   "execution_count": 88,
   "id": "e72d5e78-7099-441a-bab6-9a4a255a0bcd",
   "metadata": {},
   "outputs": [
    {
     "name": "stdout",
     "output_type": "stream",
     "text": [
      "e\n",
      "c\n",
      "n\n",
      "e\n",
      "i\n",
      "c\n",
      "S\n",
      "a\n",
      "t\n",
      "a\n",
      "D\n"
     ]
    }
   ],
   "source": [
    "for i in range(-1, - (len(str5) + 1), -1):\n",
    "    print(str5[i])"
   ]
  },
  {
   "cell_type": "code",
   "execution_count": 89,
   "id": "9fa1aa26-604a-4f5f-a0f4-e7219ca4625e",
   "metadata": {},
   "outputs": [
    {
     "name": "stdout",
     "output_type": "stream",
     "text": [
      "e\n",
      "c\n",
      "n\n",
      "e\n",
      "i\n",
      "c\n",
      "s\n",
      "a\n",
      "t\n",
      "a\n",
      "D\n"
     ]
    }
   ],
   "source": [
    "string = \"Datascience\"\n",
    "ch = len(string) - 1\n",
    "while ch >= 0:\n",
    "    print(string[ch])\n",
    "    ch -= 1"
   ]
  },
  {
   "cell_type": "markdown",
   "id": "0e62a4c5-d042-480d-95cd-c96dc601ad8b",
   "metadata": {},
   "source": [
    "## Vowel checker"
   ]
  },
  {
   "cell_type": "code",
   "execution_count": 92,
   "id": "ce34caa3-6e2b-48c5-9393-dc534c5d97ca",
   "metadata": {},
   "outputs": [],
   "source": [
    "Name = \"DataScience\"\n",
    "vowels = \"AaEeIiOoUu\""
   ]
  },
  {
   "cell_type": "code",
   "execution_count": 93,
   "id": "e0798c42-2cbc-4a57-a07e-54d08d4192d1",
   "metadata": {},
   "outputs": [
    {
     "name": "stdout",
     "output_type": "stream",
     "text": [
      "D is not a vowel\n",
      "a is a vowel\n",
      "t is not a vowel\n",
      "a is a vowel\n",
      "S is not a vowel\n",
      "c is not a vowel\n",
      "i is a vowel\n",
      "e is a vowel\n",
      "n is not a vowel\n",
      "c is not a vowel\n",
      "e is a vowel\n"
     ]
    }
   ],
   "source": [
    "for i in Name:\n",
    "    if i in vowels:\n",
    "        print(\"{} is a vowel\".format(i))\n",
    "    else:\n",
    "        print(\"{} is not a vowel\".format(i))"
   ]
  },
  {
   "cell_type": "markdown",
   "id": "86c2cadb-bdd0-4236-b565-51a99afeb5f1",
   "metadata": {},
   "source": [
    "# LIST"
   ]
  },
  {
   "cell_type": "raw",
   "id": "029311ca-2080-47f3-9774-036547bfe91d",
   "metadata": {},
   "source": [
    "len(list): Returns the number of elements in a list.\n",
    "\n",
    "max(list): Returns the maximum element in the list.\n",
    "\n",
    "min(list): Returns the minimum element in the list.\n",
    "\n",
    "sorted(list): Returns a sorted list in ascending order.\n",
    "\n",
    "sum(list): Returns the sum of all elements in the list.\n",
    "\n",
    "append(element): Adds an element to the end of the list.\n",
    "\n",
    "extend(iterable): Adds all elements of an iterable to the end of the list.\n",
    "\n",
    "insert(index, element): Inserts an element at a specified index in the list.\n",
    "\n",
    "remove(element): Removes the first occurrence of an element from the list.\n",
    "\n",
    "pop(index): Removes and returns the element at a specified index in the list.\n",
    "\n",
    "count(element): Returns the number of occurrences of an element in the list.\n",
    "\n",
    "index(element): Returns the index of the first occurrence of an element in the list.\n",
    "\n",
    "reverse(): Reverses the order of elements in the list."
   ]
  },
  {
   "cell_type": "code",
   "execution_count": 4,
   "id": "686c0139-6a5b-4ab7-890c-0a939843eddc",
   "metadata": {},
   "outputs": [],
   "source": [
    "str1 = \"Data Scinece Masters\""
   ]
  },
  {
   "cell_type": "code",
   "execution_count": 5,
   "id": "678d60ef-ca86-441b-9c29-5dd73bbf7caf",
   "metadata": {},
   "outputs": [
    {
     "data": {
      "text/plain": [
       "['Data', 'Scinece', 'Masters']"
      ]
     },
     "execution_count": 5,
     "metadata": {},
     "output_type": "execute_result"
    }
   ],
   "source": [
    "list(str1.split(\" \"))"
   ]
  },
  {
   "cell_type": "code",
   "execution_count": 6,
   "id": "59753711-2397-4f36-ba46-aea6bcdd4041",
   "metadata": {},
   "outputs": [],
   "source": [
    "lst1 = str1.split() ## return type is list"
   ]
  },
  {
   "cell_type": "code",
   "execution_count": 7,
   "id": "71943fce-d9a1-4a5f-b9ae-83ad52b8b498",
   "metadata": {},
   "outputs": [
    {
     "data": {
      "text/plain": [
       "['Data', 'Scinece', 'Masters', 'new', 'element']"
      ]
     },
     "execution_count": 7,
     "metadata": {},
     "output_type": "execute_result"
    }
   ],
   "source": [
    "lst2 = lst1 +['new', 'element']\n",
    "lst2"
   ]
  },
  {
   "cell_type": "code",
   "execution_count": 8,
   "id": "0c1156b8-5a9f-4239-bcc1-58f0579416a5",
   "metadata": {},
   "outputs": [
    {
     "data": {
      "text/plain": [
       "['Data', 'Scinece', 'Masters', ['new', 'element']]"
      ]
     },
     "execution_count": 8,
     "metadata": {},
     "output_type": "execute_result"
    }
   ],
   "source": [
    "lst2 = lst1 +[['new', 'element']]\n",
    "lst2"
   ]
  },
  {
   "cell_type": "code",
   "execution_count": 108,
   "id": "7fa0e74c-e81d-43a8-af5e-45911827f856",
   "metadata": {},
   "outputs": [
    {
     "data": {
      "text/plain": [
       "['new', 'element']"
      ]
     },
     "execution_count": 108,
     "metadata": {},
     "output_type": "execute_result"
    }
   ],
   "source": [
    "lst2[3]"
   ]
  },
  {
   "cell_type": "code",
   "execution_count": 109,
   "id": "196acf5b-7389-4e3e-b7ea-4a43cea465b4",
   "metadata": {},
   "outputs": [
    {
     "data": {
      "text/plain": [
       "['Data', 'Scinece', 'Masters', 'Data', 'Scinece', 'Masters']"
      ]
     },
     "execution_count": 109,
     "metadata": {},
     "output_type": "execute_result"
    }
   ],
   "source": [
    "lst1 * 2"
   ]
  },
  {
   "cell_type": "code",
   "execution_count": 115,
   "id": "ab0b18da-cecd-4736-8fa2-fb51c4f019cf",
   "metadata": {},
   "outputs": [
    {
     "name": "stdout",
     "output_type": "stream",
     "text": [
      "present\n"
     ]
    }
   ],
   "source": [
    "if \"Scinece\" in lst1:\n",
    "    print(\"present\")\n"
   ]
  },
  {
   "cell_type": "code",
   "execution_count": 118,
   "id": "a4eb26d8-e422-4969-8fb1-ca6a48f8addc",
   "metadata": {},
   "outputs": [
    {
     "data": {
      "text/plain": [
       "True"
      ]
     },
     "execution_count": 118,
     "metadata": {},
     "output_type": "execute_result"
    }
   ],
   "source": [
    "'Data' in lst1"
   ]
  },
  {
   "cell_type": "code",
   "execution_count": 119,
   "id": "1979649d-30ab-4266-ad37-a082cd304540",
   "metadata": {},
   "outputs": [],
   "source": [
    "lst1 = [\"Zebra\", \"Monkey\", \"Donkey\", \"Lion\"]\n",
    "lst2 = [5,6,2,9,5,8,6]"
   ]
  },
  {
   "cell_type": "code",
   "execution_count": 120,
   "id": "c8646767-6eee-47b6-b3f6-d9d21b36f94b",
   "metadata": {},
   "outputs": [
    {
     "data": {
      "text/plain": [
       "'Zebra'"
      ]
     },
     "execution_count": 120,
     "metadata": {},
     "output_type": "execute_result"
    }
   ],
   "source": [
    "max(lst1)"
   ]
  },
  {
   "cell_type": "code",
   "execution_count": 123,
   "id": "01c98dc4-db6f-4334-b903-76c1a3495f83",
   "metadata": {},
   "outputs": [
    {
     "data": {
      "text/plain": [
       "[9, 2]"
      ]
     },
     "execution_count": 123,
     "metadata": {},
     "output_type": "execute_result"
    }
   ],
   "source": [
    "[max(lst2), min(lst2)]"
   ]
  },
  {
   "cell_type": "code",
   "execution_count": 124,
   "id": "00591fa4-7778-4882-ab9b-97aac4b4bd74",
   "metadata": {},
   "outputs": [
    {
     "data": {
      "text/plain": [
       "True"
      ]
     },
     "execution_count": 124,
     "metadata": {},
     "output_type": "execute_result"
    }
   ],
   "source": [
    "5 == 5.00"
   ]
  },
  {
   "cell_type": "code",
   "execution_count": 130,
   "id": "f7b4d368-e79d-4039-ae43-7fe7381780be",
   "metadata": {},
   "outputs": [
    {
     "data": {
      "text/plain": [
       "False"
      ]
     },
     "execution_count": 130,
     "metadata": {},
     "output_type": "execute_result"
    }
   ],
   "source": [
    "1.9999 in [2,4,5]"
   ]
  },
  {
   "cell_type": "code",
   "execution_count": 131,
   "id": "9ae5fac4-a5c1-42fa-b3f9-521ec7ee9835",
   "metadata": {},
   "outputs": [],
   "source": [
    "lst = [1,2,3,4]"
   ]
  },
  {
   "cell_type": "code",
   "execution_count": 140,
   "id": "89b37173-2188-4f7c-a26c-c07ac8009f46",
   "metadata": {},
   "outputs": [],
   "source": [
    "lst1.append(['Data','Science','Master'])"
   ]
  },
  {
   "cell_type": "code",
   "execution_count": 144,
   "id": "d5a8e9aa-b705-460d-9d67-d820882a16be",
   "metadata": {},
   "outputs": [
    {
     "data": {
      "text/plain": [
       "['Zebra', 'Monkey', 'Donkey', 'Lion', ['Data', 'Science', 'Master']]"
      ]
     },
     "execution_count": 144,
     "metadata": {},
     "output_type": "execute_result"
    }
   ],
   "source": [
    "lst1 ## append is an inplaced operation"
   ]
  },
  {
   "cell_type": "code",
   "execution_count": 145,
   "id": "6b267045-35f0-4698-b58b-22ce5e094389",
   "metadata": {},
   "outputs": [
    {
     "data": {
      "text/plain": [
       "['Data', 'Science', 'Master']"
      ]
     },
     "execution_count": 145,
     "metadata": {},
     "output_type": "execute_result"
    }
   ],
   "source": [
    "lst1.pop() # -1 is the default value inplace operation"
   ]
  },
  {
   "cell_type": "code",
   "execution_count": 146,
   "id": "dc2c51f8-f814-45d1-824f-c06008accad8",
   "metadata": {},
   "outputs": [],
   "source": [
    "element_at_0 = lst1.pop(0) "
   ]
  },
  {
   "cell_type": "code",
   "execution_count": 147,
   "id": "92522da6-ef74-4aea-9cb2-e86fdf4a6a27",
   "metadata": {},
   "outputs": [
    {
     "data": {
      "text/plain": [
       "'Zebra'"
      ]
     },
     "execution_count": 147,
     "metadata": {},
     "output_type": "execute_result"
    }
   ],
   "source": [
    "element_at_0"
   ]
  },
  {
   "cell_type": "markdown",
   "id": "f3afda48-890f-41fb-ac8d-81e3afbbfe49",
   "metadata": {},
   "source": [
    "## sorting and reversing method"
   ]
  },
  {
   "cell_type": "code",
   "execution_count": 158,
   "id": "3a79e736-a517-4b92-8e68-26dcef335f34",
   "metadata": {},
   "outputs": [],
   "source": [
    "new_lst = ['q','e','f','s','t','u']"
   ]
  },
  {
   "cell_type": "code",
   "execution_count": 159,
   "id": "0a326550-8d00-4eb8-a895-c19f22dc9519",
   "metadata": {},
   "outputs": [
    {
     "data": {
      "text/plain": [
       "['u', 't', 's', 'f', 'e', 'q']"
      ]
     },
     "execution_count": 159,
     "metadata": {},
     "output_type": "execute_result"
    }
   ],
   "source": [
    "new_lst[::-1]"
   ]
  },
  {
   "cell_type": "code",
   "execution_count": 160,
   "id": "f1b9116b-bf1c-43e1-b442-a839ccd303ec",
   "metadata": {},
   "outputs": [
    {
     "data": {
      "text/plain": [
       "['u', 't', 's', 'f', 'e', 'q']"
      ]
     },
     "execution_count": 160,
     "metadata": {},
     "output_type": "execute_result"
    }
   ],
   "source": [
    "new_lst.reverse() ## inplace operation\n",
    "new_lst"
   ]
  },
  {
   "cell_type": "code",
   "execution_count": 161,
   "id": "583eceee-f7fe-4c96-aa63-b31d1aed57df",
   "metadata": {},
   "outputs": [
    {
     "data": {
      "text/plain": [
       "['e', 'f', 'q', 's', 't', 'u']"
      ]
     },
     "execution_count": 161,
     "metadata": {},
     "output_type": "execute_result"
    }
   ],
   "source": [
    "new_lst.sort() ## inplace\n",
    "new_lst"
   ]
  },
  {
   "cell_type": "code",
   "execution_count": 162,
   "id": "bce0f40f-c29c-49e9-a22b-00af168f38ee",
   "metadata": {},
   "outputs": [
    {
     "name": "stdout",
     "output_type": "stream",
     "text": [
      "e\n",
      "f\n",
      "q\n",
      "s\n",
      "t\n",
      "u\n"
     ]
    }
   ],
   "source": [
    "for i in sorted(new_lst):\n",
    "    print(i)"
   ]
  },
  {
   "cell_type": "code",
   "execution_count": 163,
   "id": "15822a4b-cfda-4f75-99c0-0eab60967817",
   "metadata": {},
   "outputs": [
    {
     "name": "stdout",
     "output_type": "stream",
     "text": [
      "u\n",
      "t\n",
      "s\n",
      "q\n",
      "f\n",
      "e\n"
     ]
    }
   ],
   "source": [
    "for i in reversed(new_lst):\n",
    "    print(i)"
   ]
  },
  {
   "cell_type": "code",
   "execution_count": 171,
   "id": "5ddcd459-ba18-4342-914d-ff59b7e6f06c",
   "metadata": {
    "tags": []
   },
   "outputs": [],
   "source": [
    "lst = [1,2,3]"
   ]
  },
  {
   "cell_type": "code",
   "execution_count": 172,
   "id": "c0b0dc70-b9c9-4eae-9a58-18c46bcbea55",
   "metadata": {},
   "outputs": [],
   "source": [
    "lst.extend(['ABC','XYZ'])"
   ]
  },
  {
   "cell_type": "code",
   "execution_count": 173,
   "id": "a00239d8-dfb7-4890-acc9-9b840ce022f3",
   "metadata": {
    "tags": []
   },
   "outputs": [
    {
     "data": {
      "text/plain": [
       "[1, 2, 3, 'ABC', 'XYZ']"
      ]
     },
     "execution_count": 173,
     "metadata": {},
     "output_type": "execute_result"
    }
   ],
   "source": [
    "lst"
   ]
  },
  {
   "cell_type": "code",
   "execution_count": 174,
   "id": "61fdc9b2-fff8-46d8-9c1c-ef3930d3be24",
   "metadata": {},
   "outputs": [],
   "source": [
    "lst.append(['abc','xyz'])"
   ]
  },
  {
   "cell_type": "code",
   "execution_count": 175,
   "id": "01f8399e-bfe4-4bc7-b669-7d5dee2489ca",
   "metadata": {},
   "outputs": [
    {
     "data": {
      "text/plain": [
       "[1, 2, 3, 'ABC', 'XYZ', ['abc', 'xyz']]"
      ]
     },
     "execution_count": 175,
     "metadata": {},
     "output_type": "execute_result"
    }
   ],
   "source": [
    "lst"
   ]
  },
  {
   "cell_type": "markdown",
   "id": "e2b0a515-e738-4c82-91b8-b4700af461cb",
   "metadata": {},
   "source": [
    "## Nested List"
   ]
  },
  {
   "cell_type": "code",
   "execution_count": 176,
   "id": "b9fcef70-ebec-4e67-997e-0865ceb71f99",
   "metadata": {},
   "outputs": [],
   "source": [
    "lst_1 = [1,2,3]\n",
    "lst_2 = [4,5,6]\n",
    "lst_3 = [7,8,9]"
   ]
  },
  {
   "cell_type": "code",
   "execution_count": 177,
   "id": "6a29075b-42e7-4a56-a494-1c112c1f5abc",
   "metadata": {},
   "outputs": [],
   "source": [
    "matrix = [lst_1, lst_2, lst_3]"
   ]
  },
  {
   "cell_type": "code",
   "execution_count": 178,
   "id": "465ae3c4-3ca2-4b5e-8174-fd6bd2367b77",
   "metadata": {},
   "outputs": [
    {
     "data": {
      "text/plain": [
       "[[1, 2, 3], [4, 5, 6], [7, 8, 9]]"
      ]
     },
     "execution_count": 178,
     "metadata": {},
     "output_type": "execute_result"
    }
   ],
   "source": [
    "matrix"
   ]
  },
  {
   "cell_type": "markdown",
   "id": "63287bef-b6fe-4350-8332-ccc2e5df52be",
   "metadata": {},
   "source": [
    "## List Comprehension"
   ]
  },
  {
   "cell_type": "code",
   "execution_count": 179,
   "id": "a7237ec7-6c04-43d4-a617-b9d77392e892",
   "metadata": {},
   "outputs": [
    {
     "data": {
      "text/plain": [
       "[0, 1, 2, 3, 4, 5, 6, 7, 8, 9, 10, 11, 12, 13, 14, 15, 16, 17, 18, 19]"
      ]
     },
     "execution_count": 179,
     "metadata": {},
     "output_type": "execute_result"
    }
   ],
   "source": [
    "[i for i in range(20)]"
   ]
  },
  {
   "cell_type": "code",
   "execution_count": 180,
   "id": "cb8ee7b6-a396-4c30-8595-4f5646def3c8",
   "metadata": {},
   "outputs": [
    {
     "data": {
      "text/plain": [
       "[1, 3, 5, 7, 9, 11, 13, 15, 17, 19]"
      ]
     },
     "execution_count": 180,
     "metadata": {},
     "output_type": "execute_result"
    }
   ],
   "source": [
    "[i for i in range(20) if i % 2]"
   ]
  },
  {
   "cell_type": "code",
   "execution_count": 181,
   "id": "1e528a56-420a-4169-a540-81478d44c041",
   "metadata": {},
   "outputs": [
    {
     "data": {
      "text/plain": [
       "[0, 2, 4, 6, 8, 10, 12, 14, 16, 18]"
      ]
     },
     "execution_count": 181,
     "metadata": {},
     "output_type": "execute_result"
    }
   ],
   "source": [
    "[i for i in range(20) if i % 2 == 0]"
   ]
  },
  {
   "cell_type": "code",
   "execution_count": 186,
   "id": "a9e53f62-3cca-4108-bd10-67de1f1dc87b",
   "metadata": {},
   "outputs": [
    {
     "data": {
      "text/plain": [
       "[True,\n",
       " False,\n",
       " True,\n",
       " False,\n",
       " True,\n",
       " False,\n",
       " True,\n",
       " False,\n",
       " True,\n",
       " False,\n",
       " True,\n",
       " False,\n",
       " True,\n",
       " False,\n",
       " True,\n",
       " False,\n",
       " True,\n",
       " False,\n",
       " True,\n",
       " False]"
      ]
     },
     "execution_count": 186,
     "metadata": {},
     "output_type": "execute_result"
    }
   ],
   "source": [
    "[i%2 == 0 for i in range(20)]"
   ]
  },
  {
   "cell_type": "code",
   "execution_count": 185,
   "id": "0b8611aa-da4c-4781-8e78-ea9a0d5fcd82",
   "metadata": {},
   "outputs": [
    {
     "data": {
      "text/plain": [
       "[1, 1, 1, 1, 1, 1, 1, 1, 1, 1]"
      ]
     },
     "execution_count": 185,
     "metadata": {},
     "output_type": "execute_result"
    }
   ],
   "source": [
    "[i%2 for i in range(20) if i % 2]"
   ]
  },
  {
   "cell_type": "code",
   "execution_count": 184,
   "id": "1db97f61-2746-42e8-8d64-469f7f51cf7e",
   "metadata": {},
   "outputs": [
    {
     "data": {
      "text/plain": [
       "[False, False, False, False, False, False, False, False, False, False]"
      ]
     },
     "execution_count": 184,
     "metadata": {},
     "output_type": "execute_result"
    }
   ],
   "source": [
    "[i%2 == 0 for i in range(20) if i % 2]"
   ]
  },
  {
   "cell_type": "code",
   "execution_count": 191,
   "id": "877770cd-da27-43a2-9e47-90a9bbdec506",
   "metadata": {},
   "outputs": [
    {
     "data": {
      "text/plain": [
       "[0,\n",
       " 'ODD',\n",
       " 2,\n",
       " 'ODD',\n",
       " 4,\n",
       " 'ODD',\n",
       " 6,\n",
       " 'ODD',\n",
       " 8,\n",
       " 'ODD',\n",
       " 10,\n",
       " 'ODD',\n",
       " 12,\n",
       " 'ODD',\n",
       " 14,\n",
       " 'ODD',\n",
       " 16,\n",
       " 'ODD',\n",
       " 18,\n",
       " 'ODD']"
      ]
     },
     "execution_count": 191,
     "metadata": {},
     "output_type": "execute_result"
    }
   ],
   "source": [
    "[i if i % 2 == 0 else \"ODD\" for i in range(20)]"
   ]
  },
  {
   "cell_type": "code",
   "execution_count": 192,
   "id": "7e48413f-8051-48df-a389-435bd90b2bbc",
   "metadata": {},
   "outputs": [],
   "source": [
    "## question"
   ]
  },
  {
   "cell_type": "code",
   "execution_count": 194,
   "id": "66d59851-10aa-4e81-a3fc-cc122ffc9a8c",
   "metadata": {},
   "outputs": [],
   "source": [
    "lst = [i for i in range(1,9)]"
   ]
  },
  {
   "cell_type": "code",
   "execution_count": 199,
   "id": "0ab09671-c021-4f7b-9320-c771badaf4df",
   "metadata": {},
   "outputs": [],
   "source": [
    "## sum of even \n",
    "even_sum = sum([num for num in lst if num % 2 == 0])\n",
    "odd_sum = sum([num for num in lst if num % 2])"
   ]
  },
  {
   "cell_type": "code",
   "execution_count": 200,
   "id": "84e28ffc-4a76-4f33-b500-ac6888ef071b",
   "metadata": {},
   "outputs": [
    {
     "data": {
      "text/plain": [
       "(20, 16)"
      ]
     },
     "execution_count": 200,
     "metadata": {},
     "output_type": "execute_result"
    }
   ],
   "source": [
    "even_sum, odd_sum"
   ]
  },
  {
   "cell_type": "code",
   "execution_count": 201,
   "id": "a0006c0b-b1da-4f4d-a4f9-62de1eb3002c",
   "metadata": {},
   "outputs": [],
   "source": [
    "lst = [i for i in range(1,11)]"
   ]
  },
  {
   "cell_type": "code",
   "execution_count": 202,
   "id": "f850894b-43d7-4fb2-8a24-f1a9746a1222",
   "metadata": {},
   "outputs": [
    {
     "data": {
      "text/plain": [
       "[1, 4, 9, 16, 25, 36, 49, 64, 81, 100]"
      ]
     },
     "execution_count": 202,
     "metadata": {},
     "output_type": "execute_result"
    }
   ],
   "source": [
    "[i*i for i in lst]"
   ]
  },
  {
   "cell_type": "code",
   "execution_count": 204,
   "id": "a31fe2fe-4c79-467c-9664-affdfdb0b02a",
   "metadata": {},
   "outputs": [
    {
     "data": {
      "text/plain": [
       "[1, 2, 3, 4]"
      ]
     },
     "execution_count": 204,
     "metadata": {},
     "output_type": "execute_result"
    }
   ],
   "source": [
    "# create list of only the positive umbers from a given lst\n",
    "numbers = [i for i in range(-2,5)]\n",
    "[num for num in numbers if num > 0]"
   ]
  },
  {
   "cell_type": "code",
   "execution_count": 205,
   "id": "138cf0af-42bd-4568-9ba8-c024e9608a48",
   "metadata": {},
   "outputs": [
    {
     "data": {
      "text/plain": [
       "['a', 'b', 'c', 'd']"
      ]
     },
     "execution_count": 205,
     "metadata": {},
     "output_type": "execute_result"
    }
   ],
   "source": [
    "## create a list of only the first letters of words in a list\n",
    "words = ['apple', 'banana', 'cherry', 'data']\n",
    "[word[0] for word in words]"
   ]
  },
  {
   "cell_type": "code",
   "execution_count": 207,
   "id": "412fff53-9923-4144-8a5b-c1b5d40421a7",
   "metadata": {},
   "outputs": [
    {
     "data": {
      "text/plain": [
       "[32.0, 50.0, 68.0, 86.0, 104.0, 122.0]"
      ]
     },
     "execution_count": 207,
     "metadata": {},
     "output_type": "execute_result"
    }
   ],
   "source": [
    "## convert a list of temp from c to f using lst comp\n",
    "celsium_temperature = [0, 10, 20, 30, 40, 50]\n",
    "[(9/5)*temp + 32 for temp in celsium_temperature]"
   ]
  },
  {
   "cell_type": "code",
   "execution_count": 214,
   "id": "5912faac-ec77-4134-a696-5a865a5845f9",
   "metadata": {},
   "outputs": [],
   "source": [
    "## flatten a list of lists into a single list\n",
    "list = [[1,2,3],[4,5,6],[7,8,9]]"
   ]
  },
  {
   "cell_type": "code",
   "execution_count": 215,
   "id": "8d288133-b140-4bd4-97eb-035e31eefc3a",
   "metadata": {},
   "outputs": [
    {
     "data": {
      "text/plain": [
       "[1, 2, 3, 4, 5, 6, 7, 8, 9]"
      ]
     },
     "execution_count": 215,
     "metadata": {},
     "output_type": "execute_result"
    }
   ],
   "source": [
    "[num for sublist in list for num in sublist]"
   ]
  },
  {
   "cell_type": "code",
   "execution_count": 219,
   "id": "375f78e0-a03d-4fe1-bdaa-b36b1f04a85a",
   "metadata": {},
   "outputs": [],
   "source": [
    "## Assignment\n",
    "# using both code and lst comp"
   ]
  },
  {
   "cell_type": "code",
   "execution_count": 222,
   "id": "cbf298c7-049c-4d49-abd1-0e1a77fe2741",
   "metadata": {},
   "outputs": [],
   "source": [
    "# 1. create a list of only the prime numbers from a given list\n",
    "numbers = [i for i in range(1,11)]\n",
    "# 2. create a list of all the possible combinations of 2 elements from a list\n",
    "numbers_2 = [i for i in range(1,6)]"
   ]
  },
  {
   "cell_type": "code",
   "execution_count": 221,
   "id": "e74e89ed-7089-47e2-bf68-c7d7d3a0c3e9",
   "metadata": {},
   "outputs": [],
   "source": [
    "# prime \n"
   ]
  },
  {
   "cell_type": "code",
   "execution_count": null,
   "id": "46db4649-19cf-460d-b5e6-209e3084ce12",
   "metadata": {},
   "outputs": [],
   "source": []
  }
 ],
 "metadata": {
  "kernelspec": {
   "display_name": "Python 3 (ipykernel)",
   "language": "python",
   "name": "python3"
  },
  "language_info": {
   "codemirror_mode": {
    "name": "ipython",
    "version": 3
   },
   "file_extension": ".py",
   "mimetype": "text/x-python",
   "name": "python",
   "nbconvert_exporter": "python",
   "pygments_lexer": "ipython3",
   "version": "3.10.8"
  }
 },
 "nbformat": 4,
 "nbformat_minor": 5
}
