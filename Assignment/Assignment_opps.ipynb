{
 "cells": [
  {
   "cell_type": "markdown",
   "metadata": {},
   "source": [
    "Q1. Explain Class and Object with respect to Object-Oriented Programming. Give a suitable example.\n",
    "\n",
    "Class: A class is a blueprint or template for creating objects. It defines a set of attributes and methods that the created objects (instances) will have.\n",
    "Object: An object is an instance of a class. It is created using the class definition and represents an entity with attributes and behavior defined by the class."
   ]
  },
  {
   "cell_type": "code",
   "execution_count": 1,
   "metadata": {},
   "outputs": [
    {
     "name": "stdout",
     "output_type": "stream",
     "text": [
      "Buddy is barking.\n",
      "Max is barking.\n"
     ]
    }
   ],
   "source": [
    "# Class definition\n",
    "class Dog:\n",
    "    def __init__(self, name, breed):\n",
    "        self.name = name\n",
    "        self.breed = breed\n",
    "    \n",
    "    def bark(self):\n",
    "        return f\"{self.name} is barking.\"\n",
    "\n",
    "# Creating objects (instances) of the class\n",
    "dog1 = Dog(\"Buddy\", \"Golden Retriever\")\n",
    "dog2 = Dog(\"Max\", \"Bulldog\")\n",
    "\n",
    "print(dog1.bark())  # Output: Buddy is barking.\n",
    "print(dog2.bark())  # Output: Max is barking.\n"
   ]
  },
  {
   "cell_type": "markdown",
   "metadata": {},
   "source": [
    "Q2. Name the four pillars of OOPs.\n",
    "\n",
    "The four pillars of Object-Oriented Programming (OOP) are:\n",
    "\n",
    "Encapsulation: Bundling the data (attributes) and methods (functions) that operate on the data into a single unit, or class, and restricting access to some of the object's components.\n",
    "Abstraction: Hiding the complex implementation details and showing only the necessary features of an object.\n",
    "Inheritance: Creating a new class that is based on an existing class, inheriting its attributes and methods, and possibly adding new features or modifying existing ones.\n",
    "Polymorphism: The ability of different classes to respond to the same method call in different ways."
   ]
  },
  {
   "cell_type": "markdown",
   "metadata": {},
   "source": [
    "Q3. Explain why the __init__() function is used. Give a suitable example.\n",
    "\n",
    "\n",
    "The __init__() function in Python is a special method called a constructor. It is automatically invoked when a new object (instance) of the class is created. The primary purpose of __init__() is to initialize the attributes of the class with the provided values."
   ]
  },
  {
   "cell_type": "code",
   "execution_count": 2,
   "metadata": {},
   "outputs": [
    {
     "name": "stdout",
     "output_type": "stream",
     "text": [
      "Hello, my name is Alice and I am 30 years old.\n"
     ]
    }
   ],
   "source": [
    "class Person:\n",
    "    def __init__(self, name, age):\n",
    "        self.name = name\n",
    "        self.age = age\n",
    "\n",
    "    def greet(self):\n",
    "        return f\"Hello, my name is {self.name} and I am {self.age} years old.\"\n",
    "\n",
    "# Creating an object (instance) of the class\n",
    "person1 = Person(\"Alice\", 30)\n",
    "\n",
    "print(person1.greet())  # Output: Hello, my name is Alice and I am 30 years old.\n"
   ]
  },
  {
   "cell_type": "markdown",
   "metadata": {},
   "source": [
    "Q4. Why self is used in OOPs?\n",
    "\n",
    "\n",
    "The self parameter in Python is a reference to the current instance of the class. It is used to access the attributes and methods of the class within its methods. Using self allows each object to maintain its own state and behavior."
   ]
  },
  {
   "cell_type": "markdown",
   "metadata": {},
   "source": [
    "Q5. What is inheritance? Give an example for each type of inheritance.\n",
    "\n",
    "Inheritance is a mechanism in OOP that allows a class (called the child class or subclass) to inherit attributes and methods from another class (called the parent class or superclass). This promotes code reuse and logical organization.\n",
    "\n",
    "Types of Inheritance:\n",
    "\n",
    "Single Inheritance: A subclass inherits from a single superclass."
   ]
  },
  {
   "cell_type": "code",
   "execution_count": 3,
   "metadata": {},
   "outputs": [
    {
     "name": "stdout",
     "output_type": "stream",
     "text": [
      "Eating...\n",
      "Barking...\n"
     ]
    }
   ],
   "source": [
    "class Animal:\n",
    "    def eat(self):\n",
    "        return \"Eating...\"\n",
    "\n",
    "class Dog(Animal):\n",
    "    def bark(self):\n",
    "        return \"Barking...\"\n",
    "\n",
    "dog = Dog()\n",
    "print(dog.eat())  # Output: Eating...\n",
    "print(dog.bark())  # Output: Barking...\n"
   ]
  },
  {
   "cell_type": "markdown",
   "metadata": {},
   "source": [
    "Multiple Inheritance: A subclass inherits from more than one superclass."
   ]
  },
  {
   "cell_type": "code",
   "execution_count": 4,
   "metadata": {},
   "outputs": [
    {
     "name": "stdout",
     "output_type": "stream",
     "text": [
      "Feeding milk...\n",
      "Laying eggs...\n"
     ]
    }
   ],
   "source": [
    "class Mammal:\n",
    "    def feed_milk(self):\n",
    "        return \"Feeding milk...\"\n",
    "\n",
    "class Bird:\n",
    "    def lay_eggs(self):\n",
    "        return \"Laying eggs...\"\n",
    "\n",
    "class Platypus(Mammal, Bird):\n",
    "    pass\n",
    "\n",
    "platypus = Platypus()\n",
    "print(platypus.feed_milk())  # Output: Feeding milk...\n",
    "print(platypus.lay_eggs())   # Output: Laying eggs...\n"
   ]
  },
  {
   "cell_type": "markdown",
   "metadata": {},
   "source": [
    "Multilevel Inheritance: A subclass inherits from another subclass.\n",
    "\n"
   ]
  },
  {
   "cell_type": "code",
   "execution_count": 5,
   "metadata": {},
   "outputs": [
    {
     "name": "stdout",
     "output_type": "stream",
     "text": [
      "Eating...\n",
      "Breathing...\n",
      "Barking...\n"
     ]
    }
   ],
   "source": [
    "class Animal:\n",
    "    def eat(self):\n",
    "        return \"Eating...\"\n",
    "\n",
    "class Mammal(Animal):\n",
    "    def breathe(self):\n",
    "        return \"Breathing...\"\n",
    "\n",
    "class Dog(Mammal):\n",
    "    def bark(self):\n",
    "        return \"Barking...\"\n",
    "\n",
    "dog = Dog()\n",
    "print(dog.eat())  # Output: Eating...\n",
    "print(dog.breathe())  # Output: Breathing...\n",
    "print(dog.bark())  # Output: Barking...\n"
   ]
  },
  {
   "cell_type": "markdown",
   "metadata": {},
   "source": [
    "Hierarchical Inheritance: Multiple subclasses inherit from a single superclass.\n",
    "\n"
   ]
  },
  {
   "cell_type": "code",
   "execution_count": 6,
   "metadata": {},
   "outputs": [
    {
     "name": "stdout",
     "output_type": "stream",
     "text": [
      "Eating...\n",
      "Barking...\n",
      "Eating...\n",
      "Meowing...\n"
     ]
    }
   ],
   "source": [
    "class Animal:\n",
    "    def eat(self):\n",
    "        return \"Eating...\"\n",
    "\n",
    "class Dog(Animal):\n",
    "    def bark(self):\n",
    "        return \"Barking...\"\n",
    "\n",
    "class Cat(Animal):\n",
    "    def meow(self):\n",
    "        return \"Meowing...\"\n",
    "\n",
    "dog = Dog()\n",
    "cat = Cat()\n",
    "print(dog.eat())  # Output: Eating...\n",
    "print(dog.bark())  # Output: Barking...\n",
    "print(cat.eat())  # Output: Eating...\n",
    "print(cat.meow())  # Output: Meowing...\n"
   ]
  },
  {
   "cell_type": "markdown",
   "metadata": {},
   "source": [
    "Hybrid Inheritance: A combination of two or more types of inheritance.\n",
    "\n"
   ]
  },
  {
   "cell_type": "code",
   "execution_count": 7,
   "metadata": {},
   "outputs": [
    {
     "name": "stdout",
     "output_type": "stream",
     "text": [
      "Eating...\n",
      "Breathing...\n",
      "Laying eggs...\n"
     ]
    }
   ],
   "source": [
    "class Animal:\n",
    "    def eat(self):\n",
    "        return \"Eating...\"\n",
    "\n",
    "class Mammal(Animal):\n",
    "    def breathe(self):\n",
    "        return \"Breathing...\"\n",
    "\n",
    "class Bird(Animal):\n",
    "    def lay_eggs(self):\n",
    "        return \"Laying eggs...\"\n",
    "\n",
    "class Platypus(Mammal, Bird):\n",
    "    pass\n",
    "\n",
    "platypus = Platypus()\n",
    "print(platypus.eat())  # Output: Eating...\n",
    "print(platypus.breathe())  # Output: Breathing...\n",
    "print(platypus.lay_eggs())  # Output: Laying eggs...\n"
   ]
  },
  {
   "cell_type": "code",
   "execution_count": null,
   "metadata": {},
   "outputs": [],
   "source": []
  }
 ],
 "metadata": {
  "kernelspec": {
   "display_name": "base",
   "language": "python",
   "name": "python3"
  },
  "language_info": {
   "codemirror_mode": {
    "name": "ipython",
    "version": 3
   },
   "file_extension": ".py",
   "mimetype": "text/x-python",
   "name": "python",
   "nbconvert_exporter": "python",
   "pygments_lexer": "ipython3",
   "version": "3.12.4"
  }
 },
 "nbformat": 4,
 "nbformat_minor": 2
}
