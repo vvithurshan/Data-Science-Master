{
 "cells": [
  {
   "cell_type": "markdown",
   "id": "281e9e6b-2a5f-4fd3-b80c-d6388833a6a1",
   "metadata": {},
   "source": [
    "## String Formating"
   ]
  },
  {
   "cell_type": "code",
   "execution_count": 1,
   "id": "0d46dd0d-b503-4c30-8655-b9aec40201b4",
   "metadata": {},
   "outputs": [
    {
     "name": "stdout",
     "output_type": "stream",
     "text": [
      "my name is vithurshan my age is 28\n"
     ]
    }
   ],
   "source": [
    "## f string\n",
    "name = \"vithurshan\"\n",
    "age = 28\n",
    "print(f\"my name is {name} my age is {age}\")"
   ]
  },
  {
   "cell_type": "code",
   "execution_count": 4,
   "id": "cb4d52f9-93b1-4c0a-a53c-d99a8c1c6e6c",
   "metadata": {},
   "outputs": [
    {
     "name": "stdout",
     "output_type": "stream",
     "text": [
      "my name is vithurshan my age is 28\n"
     ]
    }
   ],
   "source": [
    "print(\"my name is {} my age is {}\".format(name, age))"
   ]
  },
  {
   "cell_type": "code",
   "execution_count": 5,
   "id": "9c2cbba5-98c2-4568-a1b8-9fef3d6f1783",
   "metadata": {},
   "outputs": [
    {
     "name": "stdout",
     "output_type": "stream",
     "text": [
      "my name is vithurshan my age is 28\n"
     ]
    }
   ],
   "source": [
    "print(\"my name is {0} my age is {1}\".format(name, age))"
   ]
  },
  {
   "cell_type": "code",
   "execution_count": 7,
   "id": "740d2c63-2f8c-48ad-a998-fb4f308e1912",
   "metadata": {},
   "outputs": [
    {
     "name": "stdout",
     "output_type": "stream",
     "text": [
      "my name is vithurshan my age is 28\n"
     ]
    }
   ],
   "source": [
    "print(\"my name is {name} my age is {age}\".format(age =age, name=name))"
   ]
  },
  {
   "cell_type": "markdown",
   "id": "dfaabcdc-803d-4135-908b-a52e3eb7ce84",
   "metadata": {
    "tags": []
   },
   "source": [
    "# Control Flow\n",
    "###    *Decision making statements*"
   ]
  },
  {
   "cell_type": "code",
   "execution_count": 10,
   "id": "c7d63b07-63e9-43cc-849e-6f81b5585f89",
   "metadata": {},
   "outputs": [
    {
     "name": "stdout",
     "output_type": "stream",
     "text": [
      "Permission granted\n"
     ]
    }
   ],
   "source": [
    "age = 18\n",
    "if age >= 18:\n",
    "    print(\"Permission granted\")"
   ]
  },
  {
   "cell_type": "code",
   "execution_count": 12,
   "id": "d1732bb3-0d11-4b49-9da7-82e6e2b5319f",
   "metadata": {},
   "outputs": [],
   "source": [
    "## Task 1 \n",
    "# input of age\n",
    "# if age >= 18 and age <= 45 > print you are young blood\n",
    "# "
   ]
  },
  {
   "cell_type": "code",
   "execution_count": 13,
   "id": "69ab2998-64b4-465a-9004-7c9fb12c1bbd",
   "metadata": {},
   "outputs": [
    {
     "name": "stdin",
     "output_type": "stream",
     "text": [
      " 28\n"
     ]
    },
    {
     "name": "stdout",
     "output_type": "stream",
     "text": [
      "you are young blood\n"
     ]
    }
   ],
   "source": [
    "age = int(input())\n",
    "if age >= 18 and age <= 45:\n",
    "    print(\"you are young blood\")"
   ]
  },
  {
   "cell_type": "code",
   "execution_count": 17,
   "id": "14a27685-9e73-4c98-83c9-b45d5b3a7aba",
   "metadata": {},
   "outputs": [
    {
     "name": "stdin",
     "output_type": "stream",
     "text": [
      "Enter the price 2000\n"
     ]
    },
    {
     "name": "stdout",
     "output_type": "stream",
     "text": [
      "The price of the product is 1600.0\n"
     ]
    }
   ],
   "source": [
    "product_price = int(input(\"Enter the price\"))\n",
    "if product_price > 1000:\n",
    "    print(\"The price of the product is {}\".format(product_price*0.8))\n",
    "else:\n",
    "    print(\"The price of the product is {}\".format(product_price * 0.7))"
   ]
  },
  {
   "cell_type": "code",
   "execution_count": 19,
   "id": "3a25c5df-9f86-4a39-9768-32f018c447bc",
   "metadata": {},
   "outputs": [
    {
     "name": "stdin",
     "output_type": "stream",
     "text": [
      "Enter the price 2000\n"
     ]
    },
    {
     "name": "stdout",
     "output_type": "stream",
     "text": [
      "The price of the product is 1600.0\n"
     ]
    }
   ],
   "source": [
    "product_price = int(input(\"Enter the price\"))\n",
    "if product_price > 1000:\n",
    "    print(f\"The price of the product is {product_price*0.8}\")\n",
    "else:\n",
    "    print(f\"The price of the product is {product_price*0.7}\")"
   ]
  },
  {
   "cell_type": "code",
   "execution_count": 32,
   "id": "6142ec03-7e0e-4310-b788-52724f0062a9",
   "metadata": {},
   "outputs": [
    {
     "name": "stdin",
     "output_type": "stream",
     "text": [
      "Enter the price 500\n"
     ]
    },
    {
     "name": "stdout",
     "output_type": "stream",
     "text": [
      "The price of the product is 300.00: \n"
     ]
    }
   ],
   "source": [
    "product_price = int(input(\"Enter the price\"))\n",
    "if product_price > 3000:\n",
    "    print(\"The price of the product is %0.2f: \" % (product_price*0.8))\n",
    "elif product_price <= 3000 and product_price > 2000:\n",
    "    print(\"The price of the product is %0.2f: \" %(product_price * 0.7))\n",
    "    if product_price == 2999:\n",
    "        print(\"Congratulation you get an additional gift\")\n",
    "else:\n",
    "    print(\"The price of the product is %0.2f: \" %(product_price * 0.6))"
   ]
  },
  {
   "cell_type": "markdown",
   "id": "586f6c4b-25b6-4235-8b84-411667dbb643",
   "metadata": {},
   "source": [
    "### Single line"
   ]
  },
  {
   "cell_type": "code",
   "execution_count": 36,
   "id": "020c1c2d-c07b-46e7-a4cd-c0da4f800667",
   "metadata": {},
   "outputs": [
    {
     "name": "stdout",
     "output_type": "stream",
     "text": [
      "value is less than 999\n"
     ]
    }
   ],
   "source": [
    "val = 200\n",
    "if val < 999: print(\"value is less than 999\")\n",
    "else: print(\"It is larger than 999\")"
   ]
  },
  {
   "cell_type": "markdown",
   "id": "e6b0e5b4-7754-44ed-830d-0d8e1d23a6f0",
   "metadata": {},
   "source": [
    "## Loop statements\n",
    "1. while\n",
    "2. for loop\n",
    "3. nested loops\n",
    "4. loop control ( break and continue )"
   ]
  },
  {
   "cell_type": "raw",
   "id": "3e3599d9-c9c6-43c1-9c14-f28ca0fcd7fc",
   "metadata": {},
   "source": [
    "Assignment\n",
    "   *\n",
    "  ***\n",
    " *****\n",
    "*******"
   ]
  },
  {
   "cell_type": "code",
   "execution_count": 14,
   "id": "a68b4ddf-7b4a-4322-ba36-c496ad78aeeb",
   "metadata": {},
   "outputs": [
    {
     "name": "stdout",
     "output_type": "stream",
     "text": [
      "         *         \n",
      "        ***        \n",
      "       *****       \n",
      "      *******      \n",
      "     *********     \n",
      "    ***********    \n",
      "   *************   \n",
      "  ***************  \n",
      " ***************** \n",
      "*******************\n"
     ]
    }
   ],
   "source": [
    "## Method 1\n",
    "n = 20\n",
    "for j in range(1,n,2):\n",
    "    print(\" \" * int((n-j)/2)+\"*\" * j+ \" \" * int((n-j)/2))"
   ]
  },
  {
   "cell_type": "code",
   "execution_count": 15,
   "id": "dc758082-d260-4804-8a3e-40b6bade7684",
   "metadata": {},
   "outputs": [
    {
     "name": "stdout",
     "output_type": "stream",
     "text": [
      "         *         \n",
      "        ***        \n",
      "       *****       \n",
      "      *******      \n",
      "     *********     \n",
      "    ***********    \n",
      "   *************   \n",
      "  ***************  \n",
      " ***************** \n",
      "*******************\n"
     ]
    }
   ],
   "source": [
    "## Method 2\n",
    "pattern = [\" \" * int((n-j)/2)+\"*\" * j+ \" \" * int((n-j)/2) for j in range(1,n,2)]\n",
    "for x in pattern:\n",
    "    print(x)"
   ]
  },
  {
   "cell_type": "code",
   "execution_count": null,
   "id": "dc5dc045-e550-4679-b9c6-0ab4b7cf607d",
   "metadata": {},
   "outputs": [],
   "source": []
  }
 ],
 "metadata": {
  "kernelspec": {
   "display_name": "Python 3 (ipykernel)",
   "language": "python",
   "name": "python3"
  },
  "language_info": {
   "codemirror_mode": {
    "name": "ipython",
    "version": 3
   },
   "file_extension": ".py",
   "mimetype": "text/x-python",
   "name": "python",
   "nbconvert_exporter": "python",
   "pygments_lexer": "ipython3",
   "version": "3.10.8"
  }
 },
 "nbformat": 4,
 "nbformat_minor": 5
}
