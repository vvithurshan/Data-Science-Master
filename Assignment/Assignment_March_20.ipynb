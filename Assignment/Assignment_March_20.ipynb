{
 "cells": [
  {
   "cell_type": "markdown",
   "id": "c917ccce-67b9-4079-9102-94b8e72e3b82",
   "metadata": {},
   "source": [
    "## Q1. What is data encoding? How is it useful in data science?"
   ]
  },
  {
   "cell_type": "markdown",
   "id": "2c553fcf-7a72-40d0-b56f-43114c6ab3d4",
   "metadata": {},
   "source": [
    "Data encoding is the process of converting categorical data into numerical data.\n",
    "\n",
    "Data encoding is useful in data science because many machine learning algorithms require numerical data to perform analysis. By converting categorical data into numerical values, it allows for a wider range of machine learning algorithms to be used. Additionally, data encoding can reduce the dimensionality of the data and improve the performance of machine learning algorithms."
   ]
  },
  {
   "cell_type": "markdown",
   "id": "80ab4286-769d-428d-a33c-14fb6c4b7f0a",
   "metadata": {},
   "source": [
    "## Q2. What is nominal encoding? Provide an example of how you would use it in a real-world scenario."
   ]
  },
  {
   "cell_type": "markdown",
   "id": "571c05b5-16cf-4f6a-865d-131f781ccc43",
   "metadata": {},
   "source": [
    "it is a techinique used to convert categorical data into binary vectors. Where each category is represented with unique integer. At the same time, in OHE, each category is represented as a unique combination of 1s and 0s in a vector.\n",
    "\n",
    "Eg: Nominal\n",
    "mon - 1 <br>\n",
    "tue - 2 <br>\n",
    "wed - 3<br>\n",
    "thu - 4<br>\n",
    "fri - 5<br>\n",
    "sat - 6<br>\n",
    "sun - 7<br>\n",
    "\n",
    "Eg: OHE\n",
    "In bioinformatics, each amino acid is represented with a unique vector of length 20 to be used in ML models. <br>\n",
    "Ala - 10000000000000000000 <br>\n",
    "Cys - 01000000000000000000 <br>\n",
    "Asp - 00100000000000000000<br>\n",
    "Glu - 00010000000000000000<br>"
   ]
  },
  {
   "cell_type": "markdown",
   "id": "2d476c18-22e7-47da-9fed-77a776af4193",
   "metadata": {},
   "source": [
    "## Q3. In what situations is nominal encoding preferred over one-hot encoding? Provide a practical example."
   ]
  },
  {
   "cell_type": "markdown",
   "id": "1df2e7c5-e3f0-457d-a5f5-19e014bd768c",
   "metadata": {},
   "source": [
    "In OHE, the length of the binary vector is decided by the number of unique categiries in the dataset. Therefore, when the number of category is larger, the length of the binary vector increases. It makes the dataset complex to analyze and it may lead to a overfitting. However, nominal encoding assigns unique integer to each category. Therefore, nominal encoding is preferred when the number of category is larger.\n",
    "\n",
    "For an example, if we want to encode the amino acids, OHE is suitable as only 20 amino acids are there in total. However, if we want to encode country names, OHE becomes very lengthy. So, it is better to use nominal encoding technique, it that context. "
   ]
  },
  {
   "cell_type": "markdown",
   "id": "734119bf-845c-4bfe-96a2-705af4505d2e",
   "metadata": {},
   "source": [
    "## Q4. Suppose you have a dataset containing categorical data with 5 unique values. Which encoding technique would you use to transform this data into a format suitable for machine learning algorithms? Explain why you made this choice."
   ]
  },
  {
   "cell_type": "markdown",
   "id": "8c86150c-e111-4e81-be0a-d4a619cffdcd",
   "metadata": {},
   "source": [
    "In OHE, the length of the binary vector will be the number of the categiries in the dataset. Since the number of category is only 5, I would use OHE over nominal encoding as OHE can be easily interpreted by machine learning algorithms and OHE does impose any ranking to the categories. "
   ]
  },
  {
   "cell_type": "markdown",
   "id": "38146a37-904d-4da7-98d8-eb939c368d07",
   "metadata": {},
   "source": [
    "## Q5. In a machine learning project, you have a dataset with 1000 rows and 5 columns. Two of the columns are categorical, and the remaining three columns are numerical. If you were to use nominal encoding to transform the categorical data, how many new columns would be created? Show your calculations."
   ]
  },
  {
   "cell_type": "markdown",
   "id": "dc7850ba-ac57-439e-9514-17f74ef6eecb",
   "metadata": {},
   "source": [
    "let's say first categegorical column has m unique values, and the other categorical column has a n unique value. Therefore, totally m + n new columns will be created.\n",
    "\n",
    "lets do this for a tips dataset"
   ]
  },
  {
   "cell_type": "code",
   "execution_count": 13,
   "id": "5a25defe-58b5-4ced-a10f-a55dc9fc860f",
   "metadata": {},
   "outputs": [
    {
     "data": {
      "text/html": [
       "<div>\n",
       "<style scoped>\n",
       "    .dataframe tbody tr th:only-of-type {\n",
       "        vertical-align: middle;\n",
       "    }\n",
       "\n",
       "    .dataframe tbody tr th {\n",
       "        vertical-align: top;\n",
       "    }\n",
       "\n",
       "    .dataframe thead th {\n",
       "        text-align: right;\n",
       "    }\n",
       "</style>\n",
       "<table border=\"1\" class=\"dataframe\">\n",
       "  <thead>\n",
       "    <tr style=\"text-align: right;\">\n",
       "      <th></th>\n",
       "      <th>total_bill</th>\n",
       "      <th>tip</th>\n",
       "      <th>sex</th>\n",
       "      <th>day</th>\n",
       "      <th>size</th>\n",
       "    </tr>\n",
       "  </thead>\n",
       "  <tbody>\n",
       "    <tr>\n",
       "      <th>0</th>\n",
       "      <td>16.99</td>\n",
       "      <td>1.01</td>\n",
       "      <td>Female</td>\n",
       "      <td>Sun</td>\n",
       "      <td>2</td>\n",
       "    </tr>\n",
       "    <tr>\n",
       "      <th>1</th>\n",
       "      <td>10.34</td>\n",
       "      <td>1.66</td>\n",
       "      <td>Male</td>\n",
       "      <td>Sun</td>\n",
       "      <td>3</td>\n",
       "    </tr>\n",
       "    <tr>\n",
       "      <th>2</th>\n",
       "      <td>21.01</td>\n",
       "      <td>3.50</td>\n",
       "      <td>Male</td>\n",
       "      <td>Sun</td>\n",
       "      <td>3</td>\n",
       "    </tr>\n",
       "    <tr>\n",
       "      <th>3</th>\n",
       "      <td>23.68</td>\n",
       "      <td>3.31</td>\n",
       "      <td>Male</td>\n",
       "      <td>Sun</td>\n",
       "      <td>2</td>\n",
       "    </tr>\n",
       "    <tr>\n",
       "      <th>4</th>\n",
       "      <td>24.59</td>\n",
       "      <td>3.61</td>\n",
       "      <td>Female</td>\n",
       "      <td>Sun</td>\n",
       "      <td>4</td>\n",
       "    </tr>\n",
       "  </tbody>\n",
       "</table>\n",
       "</div>"
      ],
      "text/plain": [
       "   total_bill   tip     sex  day  size\n",
       "0       16.99  1.01  Female  Sun     2\n",
       "1       10.34  1.66    Male  Sun     3\n",
       "2       21.01  3.50    Male  Sun     3\n",
       "3       23.68  3.31    Male  Sun     2\n",
       "4       24.59  3.61  Female  Sun     4"
      ]
     },
     "execution_count": 13,
     "metadata": {},
     "output_type": "execute_result"
    }
   ],
   "source": [
    "import seaborn as sns\n",
    "\n",
    "df = sns.load_dataset('tips')\n",
    "df = df[['total_bill','tip','sex','day','size']]\n",
    "df.head()"
   ]
  },
  {
   "cell_type": "code",
   "execution_count": 20,
   "id": "1e41330f-8246-4a42-8d0b-39fd1074f783",
   "metadata": {},
   "outputs": [
    {
     "name": "stdout",
     "output_type": "stream",
     "text": [
      "sex column has 2 unique values and day column has 4 values\n"
     ]
    }
   ],
   "source": [
    "sex_unique = df['sex'].nunique()\n",
    "day_unique = df['day'].nunique()\n",
    "print(\"sex column has {} unique values and day column has {} values\".format(sex_unique, day_unique))"
   ]
  },
  {
   "cell_type": "markdown",
   "id": "cadc661d-358c-4f03-916f-16370b8d6dca",
   "metadata": {},
   "source": [
    "total columns = sex_unique + day_unique <br>\n",
    "              = 2 + 4<br>\n",
    "              = 6<br>"
   ]
  },
  {
   "cell_type": "code",
   "execution_count": 24,
   "id": "6df02143-d783-4c00-b1e5-911e33663769",
   "metadata": {},
   "outputs": [],
   "source": [
    "from sklearn.preprocessing import OneHotEncoder\n",
    "import pandas as pd"
   ]
  },
  {
   "cell_type": "code",
   "execution_count": 26,
   "id": "be3aa071-7dbb-483a-8fcd-c1746713a263",
   "metadata": {},
   "outputs": [
    {
     "data": {
      "text/html": [
       "<div>\n",
       "<style scoped>\n",
       "    .dataframe tbody tr th:only-of-type {\n",
       "        vertical-align: middle;\n",
       "    }\n",
       "\n",
       "    .dataframe tbody tr th {\n",
       "        vertical-align: top;\n",
       "    }\n",
       "\n",
       "    .dataframe thead th {\n",
       "        text-align: right;\n",
       "    }\n",
       "</style>\n",
       "<table border=\"1\" class=\"dataframe\">\n",
       "  <thead>\n",
       "    <tr style=\"text-align: right;\">\n",
       "      <th></th>\n",
       "      <th>sex_Female</th>\n",
       "      <th>sex_Male</th>\n",
       "      <th>day_Fri</th>\n",
       "      <th>day_Sat</th>\n",
       "      <th>day_Sun</th>\n",
       "      <th>day_Thur</th>\n",
       "    </tr>\n",
       "  </thead>\n",
       "  <tbody>\n",
       "    <tr>\n",
       "      <th>0</th>\n",
       "      <td>1.0</td>\n",
       "      <td>0.0</td>\n",
       "      <td>0.0</td>\n",
       "      <td>0.0</td>\n",
       "      <td>1.0</td>\n",
       "      <td>0.0</td>\n",
       "    </tr>\n",
       "    <tr>\n",
       "      <th>1</th>\n",
       "      <td>0.0</td>\n",
       "      <td>1.0</td>\n",
       "      <td>0.0</td>\n",
       "      <td>0.0</td>\n",
       "      <td>1.0</td>\n",
       "      <td>0.0</td>\n",
       "    </tr>\n",
       "    <tr>\n",
       "      <th>2</th>\n",
       "      <td>0.0</td>\n",
       "      <td>1.0</td>\n",
       "      <td>0.0</td>\n",
       "      <td>0.0</td>\n",
       "      <td>1.0</td>\n",
       "      <td>0.0</td>\n",
       "    </tr>\n",
       "    <tr>\n",
       "      <th>3</th>\n",
       "      <td>0.0</td>\n",
       "      <td>1.0</td>\n",
       "      <td>0.0</td>\n",
       "      <td>0.0</td>\n",
       "      <td>1.0</td>\n",
       "      <td>0.0</td>\n",
       "    </tr>\n",
       "    <tr>\n",
       "      <th>4</th>\n",
       "      <td>1.0</td>\n",
       "      <td>0.0</td>\n",
       "      <td>0.0</td>\n",
       "      <td>0.0</td>\n",
       "      <td>1.0</td>\n",
       "      <td>0.0</td>\n",
       "    </tr>\n",
       "  </tbody>\n",
       "</table>\n",
       "</div>"
      ],
      "text/plain": [
       "   sex_Female  sex_Male  day_Fri  day_Sat  day_Sun  day_Thur\n",
       "0         1.0       0.0      0.0      0.0      1.0       0.0\n",
       "1         0.0       1.0      0.0      0.0      1.0       0.0\n",
       "2         0.0       1.0      0.0      0.0      1.0       0.0\n",
       "3         0.0       1.0      0.0      0.0      1.0       0.0\n",
       "4         1.0       0.0      0.0      0.0      1.0       0.0"
      ]
     },
     "execution_count": 26,
     "metadata": {},
     "output_type": "execute_result"
    }
   ],
   "source": [
    "encoder = OneHotEncoder()\n",
    "encoded = encoder.fit_transform(df[['sex','day',]]).toarray()\n",
    "encoded_df = pd.DataFrame(encoded, columns = encoder.get_feature_names_out())\n",
    "encoded_df.head()"
   ]
  },
  {
   "cell_type": "markdown",
   "id": "e15af39b-023c-426f-ab2f-1a35810d31c4",
   "metadata": {},
   "source": [
    "**As shown above totally 6 new columns have been created**"
   ]
  },
  {
   "cell_type": "markdown",
   "id": "1476f872-b07e-4757-9df4-7290b11e06bd",
   "metadata": {},
   "source": [
    "## Q6. You are working with a dataset containing information about different types of animals, including their species, habitat, and diet. Which encoding technique would you use to transform the categorical data into a format suitable for machine learning algorithms? Justify your answer."
   ]
  },
  {
   "cell_type": "markdown",
   "id": "b4740715-1e17-493e-83e1-0deabee459c3",
   "metadata": {},
   "source": [
    "since there are a lot of animal category, using OHE make the dataset very complex as a new column is created for each animal. Therefore, it is better to use the nominal encoding technique."
   ]
  },
  {
   "cell_type": "markdown",
   "id": "2166ac30-eade-42e8-82b8-90c4407d6ab2",
   "metadata": {},
   "source": [
    "## Q7.You are working on a project that involves predicting customer churn for a telecommunications company. You have a dataset with 5 features, including the customer's gender, age, contract type, monthly charges, and tenure. Which encoding technique(s) would you use to transform the categorical data into numerical data? Provide a step-by-step explanation of how you would implement the encoding."
   ]
  },
  {
   "cell_type": "markdown",
   "id": "b3d9fe68-b0cd-4c73-8ff6-1b0544d26d47",
   "metadata": {},
   "source": [
    "in this dataset, features such as gener and contract type are categorical. At the same time, number of category they have is not large. Therefore, it would be better to use OHE to transform the data."
   ]
  },
  {
   "cell_type": "markdown",
   "id": "10af5c75-4b05-4af4-b4f7-5bf1fb3ad53e",
   "metadata": {},
   "source": [
    "1. first we need to import OneHotEncoder from sklearn.preprocessing\n",
    "2. A OneHotEncoder() object is created.\n",
    "3. Then, categorical columns are passed into the fit_transform method of OneHotEncoder() object, and the output is converted into an array.\n",
    "    encoded = encoder.fit_transform(df[['age','gender',]]).toarray()\n",
    "4. Finally, encoded array is converted into pandas DataFrame.\n",
    "    pd.DataFrame(encoded, columns = encoder.get_feature_names_out())"
   ]
  },
  {
   "cell_type": "code",
   "execution_count": 28,
   "id": "0d278484-e591-4231-96f8-012c6bb4aed4",
   "metadata": {},
   "outputs": [],
   "source": [
    "from sklearn.preprocessing import OneHotEncoder\n",
    "import pandas as pd\n",
    "encoder = OneHotEncoder()\n",
    "encoded = encoder.fit_transform(df[['age','gender',]]).toarray()\n",
    "encoded_df = pd.DataFrame(encoded, columns = encoder.get_feature_names_out())"
   ]
  },
  {
   "cell_type": "code",
   "execution_count": null,
   "id": "f966f6ad-8c49-4fe7-b455-44a3a8897844",
   "metadata": {},
   "outputs": [],
   "source": []
  }
 ],
 "metadata": {
  "kernelspec": {
   "display_name": "Python 3 (ipykernel)",
   "language": "python",
   "name": "python3"
  },
  "language_info": {
   "codemirror_mode": {
    "name": "ipython",
    "version": 3
   },
   "file_extension": ".py",
   "mimetype": "text/x-python",
   "name": "python",
   "nbconvert_exporter": "python",
   "pygments_lexer": "ipython3",
   "version": "3.10.8"
  }
 },
 "nbformat": 4,
 "nbformat_minor": 5
}
