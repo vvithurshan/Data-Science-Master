{
  "nbformat": 4,
  "nbformat_minor": 0,
  "metadata": {
    "colab": {
      "provenance": [],
      "authorship_tag": "ABX9TyOD3Dzq7ZS2vo3d3QN26Drn",
      "include_colab_link": true
    },
    "kernelspec": {
      "name": "python3",
      "display_name": "Python 3"
    },
    "language_info": {
      "name": "python"
    }
  },
  "cells": [
    {
      "cell_type": "markdown",
      "metadata": {
        "id": "view-in-github",
        "colab_type": "text"
      },
      "source": [
        "<a href=\"https://colab.research.google.com/github/vvithurshan/Data-Science-Master/blob/main/Assignment/Assignment_March_31.ipynb\" target=\"_parent\"><img src=\"https://colab.research.google.com/assets/colab-badge.svg\" alt=\"Open In Colab\"/></a>"
      ]
    },
    {
      "cell_type": "markdown",
      "source": [
        "## **Assignment March 31**"
      ],
      "metadata": {
        "id": "iMnhE47HOOIW"
      }
    },
    {
      "cell_type": "markdown",
      "source": [
        "## Q1. What are the key steps involved in building an end-to-end web application, from development to deployment on the cloud?\n",
        "\n",
        "1. Data collection\n",
        "2. Exploratory Data Analysis\n",
        "3. Feature Engineering\n",
        "4. Feature Selection\n",
        "5. Model building and training\n",
        "6. Create a web application and deployment of the model.\n",
        "7. Deploy the web application in the cloud."
      ],
      "metadata": {
        "id": "ToVPWZemCjz2"
      }
    },
    {
      "cell_type": "markdown",
      "source": [
        "## Q2. Explain the difference between traditional web hosting and cloud hosting.\n",
        "\n",
        "The traditional web hosting uses a single server or group of servers located at one place to store and host a web site, while cloud hosting uses a network of servers located in different locations. Traditional web hosting has a limited amount of resources. However, cloud hosting has wide range of computational resources. For traditional web hosting serivices, web site owners pay fixed amount monthly while for cloud hosting it is based on the usage. Cloud hosting is more simplified for hosting, security, reliable, scalable, and flexible compared to conventional web hosting services."
      ],
      "metadata": {
        "id": "UxvtLKrMCn9V"
      }
    },
    {
      "cell_type": "markdown",
      "source": [
        "## Q3. How do you choose the right cloud provider for your application deployment, and what factors should you consider?\n",
        "\n",
        "* types of tools available\n",
        "* available services\n",
        "* customer review\n",
        "* scalability and flexibility\n",
        "* ease of use and deployment\n",
        "* reliability and performance\n",
        "* pricing\n",
        "* server location\n",
        "\n"
      ],
      "metadata": {
        "id": "ZN5Hx4uvCn6b"
      }
    },
    {
      "cell_type": "markdown",
      "source": [
        "## Q4. How do you design and build a responsive user interface for your web application, and what are some best practices to follow?\n",
        "\n",
        "* use HTML to design the basic blocks of the web site.\n",
        "* use CSS to make the web page attractive.\n",
        "* use javascript or python to add some functionality.\n",
        "\n",
        "**Best Practices**\n",
        "* we need to make sure, the web page is scalable for different devices and screen resolutions.\n",
        "* the web page should be easily readable\n",
        "* the web page should function properly"
      ],
      "metadata": {
        "id": "gWEzGZaWCn35"
      }
    },
    {
      "cell_type": "markdown",
      "source": [
        "## Q5. How do you integrate the machine learning model with the user interface for the Algerian Forest Fires project(which we discussed in class), and what APIs or libraries can you use for this purpose?\n",
        "\n",
        "After training the machine learning model, a web application has to be created with HTML, CSS, javascript or python, and frameworks such as angular or react, flask or Django such that input from user can be received for making predictions. This web application may be debugged with applications such as postman and chrome Devtools. Finally, the applications can be deployed to the preferred cloud such as AWS and Azure."
      ],
      "metadata": {
        "id": "puqIfEaQCn1W"
      }
    }
  ]
}