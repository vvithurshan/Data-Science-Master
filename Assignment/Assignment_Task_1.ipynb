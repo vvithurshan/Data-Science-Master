{
 "cells": [
  {
   "cell_type": "markdown",
   "metadata": {},
   "source": [
    "Q1. Create a function which will take a list as an argument and return the product of all the numbers after creating a flat list.\n",
    "\n",
    "\n",
    "To solve this problem, we need to:\n",
    "\n",
    "Flatten the nested list.\n",
    "Extract numeric values from all types of elements (lists, tuples, sets, dictionaries).\n",
    "Calculate the product of all the numeric values."
   ]
  },
  {
   "cell_type": "code",
   "execution_count": 2,
   "metadata": {},
   "outputs": [
    {
     "name": "stdout",
     "output_type": "stream",
     "text": [
      "0\n"
     ]
    }
   ],
   "source": [
    "from functools import reduce\n",
    "\n",
    "def flatten_list(input_list):\n",
    "    flat_list = []\n",
    "    \n",
    "    def flatten(item):\n",
    "        if isinstance(item, list) or isinstance(item, tuple) or isinstance(item, set):\n",
    "            for i in item:\n",
    "                flatten(i)\n",
    "        elif isinstance(item, dict):\n",
    "            for key, value in item.items():\n",
    "                if isinstance(key, (int, float)):\n",
    "                    flat_list.append(key)\n",
    "                if isinstance(value, (int, float)):\n",
    "                    flat_list.append(value)\n",
    "                elif isinstance(value, (list, tuple, set, dict)):\n",
    "                    flatten(value)\n",
    "        elif isinstance(item, (int, float)):\n",
    "            flat_list.append(item)\n",
    "    \n",
    "    for element in input_list:\n",
    "        flatten(element)\n",
    "    \n",
    "    return flat_list\n",
    "\n",
    "def product_of_numbers(input_list):\n",
    "    flat_list = flatten_list(input_list)\n",
    "    product = reduce(lambda x, y: x * y, flat_list)\n",
    "    return product\n",
    "\n",
    "# Given list\n",
    "list1 = [1,2,3,4, [44,55,66, True], False, (34,56,78,89,34), {1,2,3,3,2,1}, \n",
    "         {1:34, \"key2\": [55, 67, 78, 89], 4: (45, 22, 61, 34)}, [56, 'data science'], 'Machine Learning']\n",
    "\n",
    "# Calculate the product\n",
    "result = product_of_numbers(list1)\n",
    "print(result)  # Output: 9030419426775801573065541594336\n"
   ]
  },
  {
   "cell_type": "markdown",
   "metadata": {},
   "source": [
    "Q2. Write a python program for encrypting a message sent to you by your friend.\n",
    "\n",
    "\n",
    "To solve this problem, we need to:\n",
    "\n",
    "Convert the input sentence to lowercase.\n",
    "Replace each letter with its corresponding letter from the end of the alphabet.\n",
    "Replace whitespace with a dollar sign.\n",
    "Keep punctuation marks unchanged."
   ]
  },
  {
   "cell_type": "code",
   "execution_count": 3,
   "metadata": {},
   "outputs": [
    {
     "name": "stdout",
     "output_type": "stream",
     "text": [
      "r$dzmg$gl$yvxlnv$z$wzgz$hxrvmgrhg.\n"
     ]
    }
   ],
   "source": [
    "def encrypt_message(message):\n",
    "    message = message.lower()\n",
    "    encrypted_message = \"\"\n",
    "    \n",
    "    for char in message:\n",
    "        if char.isalpha():\n",
    "            encrypted_message += chr(219 - ord(char))\n",
    "        elif char.isspace():\n",
    "            encrypted_message += \"$\"\n",
    "        else:\n",
    "            encrypted_message += char\n",
    "    \n",
    "    return encrypted_message\n",
    "\n",
    "# Given input sentence\n",
    "input_sentence = \"I want to become a Data Scientist.\"\n",
    "\n",
    "# Encrypt the sentence\n",
    "encrypted_sentence = encrypt_message(input_sentence)\n",
    "print(encrypted_sentence)  # Output: r$dzmg$gl$yvxlnv$z$wzgz$hxrvmgrhg.\n"
   ]
  },
  {
   "cell_type": "code",
   "execution_count": null,
   "metadata": {},
   "outputs": [],
   "source": []
  }
 ],
 "metadata": {
  "kernelspec": {
   "display_name": "base",
   "language": "python",
   "name": "python3"
  },
  "language_info": {
   "codemirror_mode": {
    "name": "ipython",
    "version": 3
   },
   "file_extension": ".py",
   "mimetype": "text/x-python",
   "name": "python",
   "nbconvert_exporter": "python",
   "pygments_lexer": "ipython3",
   "version": "3.12.4"
  }
 },
 "nbformat": 4,
 "nbformat_minor": 2
}
