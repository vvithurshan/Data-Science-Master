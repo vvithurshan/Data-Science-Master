{
 "cells": [
  {
   "cell_type": "markdown",
   "id": "70634239-d11f-4042-82a1-0eab674f7157",
   "metadata": {},
   "source": [
    "# Assignment Feb 26 - numpy"
   ]
  },
  {
   "cell_type": "code",
   "execution_count": 12,
   "id": "e95a81ee-5caa-42be-b387-bc1c0d7aba3f",
   "metadata": {},
   "outputs": [],
   "source": [
    "import numpy as np\n",
    "list_ = [ '1' , '2', '3', '4', '5']\n",
    "array_list = np.array(object = list_)"
   ]
  },
  {
   "cell_type": "markdown",
   "id": "20f6f229-268b-457e-89af-dfee5de60180",
   "metadata": {},
   "source": [
    "## Q1. Is there any difference in the data type of variables list_ and array_list? If there is then write a code to print the data types of both the variables"
   ]
  },
  {
   "cell_type": "markdown",
   "id": "92c8d554-ee52-435e-a8fc-1edac260f48c",
   "metadata": {},
   "source": [
    "Yes, type of list_ is list and type of array_list is numpy array"
   ]
  },
  {
   "cell_type": "code",
   "execution_count": 13,
   "id": "4ac6d29c-98a2-4cc2-ab1d-4b6c120c61fb",
   "metadata": {},
   "outputs": [
    {
     "name": "stdout",
     "output_type": "stream",
     "text": [
      "Type of list_ is <class 'list'>\n",
      "Type of array_list is <class 'numpy.ndarray'>\n"
     ]
    }
   ],
   "source": [
    "print(\"Type of list_ is {}\".format(type(list_)))\n",
    "print(\"Type of array_list is {}\".format(type(array_list)))"
   ]
  },
  {
   "cell_type": "markdown",
   "id": "7ae60091-dfca-4aca-895a-1edd1095f7b0",
   "metadata": {},
   "source": [
    "## Q2. Write a code to print the data type of each and every element of both the variables list_ and arra_list"
   ]
  },
  {
   "cell_type": "code",
   "execution_count": 14,
   "id": "e870026b-1c17-4ef1-b8a0-b262b9a52cf1",
   "metadata": {},
   "outputs": [
    {
     "name": "stdout",
     "output_type": "stream",
     "text": [
      "1. Data type of 1 in list_ is <class 'str'>\n",
      "1. Data type of 1 in array_list is <class 'numpy.str_'>\n",
      "2. Data type of 2 in list_ is <class 'str'>\n",
      "2. Data type of 2 in array_list is <class 'numpy.str_'>\n",
      "3. Data type of 3 in list_ is <class 'str'>\n",
      "3. Data type of 3 in array_list is <class 'numpy.str_'>\n",
      "4. Data type of 4 in list_ is <class 'str'>\n",
      "4. Data type of 4 in array_list is <class 'numpy.str_'>\n",
      "5. Data type of 5 in list_ is <class 'str'>\n",
      "5. Data type of 5 in array_list is <class 'numpy.str_'>\n"
     ]
    }
   ],
   "source": [
    "import numpy as np\n",
    "list_ = [ '1' , '2', '3', '4', '5']\n",
    "array_list = np.array(object = list_)\n",
    "\n",
    "for i in range(len(list_)):\n",
    "    print(\"{}. Data type of {} in list_ is {}\".format(i+1, list_[i],type(list_[i])))\n",
    "    print(\"{}. Data type of {} in array_list is {}\".format(i+1, array_list[i],type(array_list[i])))    "
   ]
  },
  {
   "cell_type": "markdown",
   "id": "a179ba00-79b5-45dd-bbfe-b6d766c79a9e",
   "metadata": {},
   "source": [
    "## Will there be any difference in the data type of the elements present in both the variables, list_ and arra_list? If so then print the data types of each and every element present in both the variables, list_ and array_list."
   ]
  },
  {
   "cell_type": "markdown",
   "id": "573a0b93-e146-4029-ba4c-de5338e0f6d1",
   "metadata": {},
   "source": [
    "Yes, data type of list_ is list and data type of array_list is numpy.ndarray"
   ]
  },
  {
   "cell_type": "code",
   "execution_count": 16,
   "id": "b22ccc27-20a7-4f3b-8de8-1a8e02762839",
   "metadata": {},
   "outputs": [],
   "source": [
    "array_list = np.array(object = list_, dtype = int)"
   ]
  },
  {
   "cell_type": "code",
   "execution_count": 17,
   "id": "8461ee00-15d9-464f-909c-710e5f87325b",
   "metadata": {},
   "outputs": [
    {
     "name": "stdout",
     "output_type": "stream",
     "text": [
      "1. Data type of 1 in list_ is <class 'str'>\n",
      "1. Data type of 1 in array_list is <class 'numpy.int64'>\n",
      "2. Data type of 2 in list_ is <class 'str'>\n",
      "2. Data type of 2 in array_list is <class 'numpy.int64'>\n",
      "3. Data type of 3 in list_ is <class 'str'>\n",
      "3. Data type of 3 in array_list is <class 'numpy.int64'>\n",
      "4. Data type of 4 in list_ is <class 'str'>\n",
      "4. Data type of 4 in array_list is <class 'numpy.int64'>\n",
      "5. Data type of 5 in list_ is <class 'str'>\n",
      "5. Data type of 5 in array_list is <class 'numpy.int64'>\n"
     ]
    }
   ],
   "source": [
    "for i in range(len(list_)):\n",
    "    print(\"{}. Data type of {} in list_ is {}\".format(i+1, list_[i],type(list_[i])))\n",
    "    print(\"{}. Data type of {} in array_list is {}\".format(i+1, array_list[i],type(array_list[i]))) "
   ]
  },
  {
   "cell_type": "markdown",
   "id": "d16ea38d-ac74-4d6a-bd5f-9bc7f7b1cc79",
   "metadata": {},
   "source": [
    "### Part 2"
   ]
  },
  {
   "cell_type": "code",
   "execution_count": 18,
   "id": "7b27b128-518e-46de-b4cd-cd594bf9903d",
   "metadata": {},
   "outputs": [],
   "source": [
    "import numpy as np\n",
    "num_list = [ [ 1 , 2 , 3 ] , [ 4 , 5 , 6 ] ]\n",
    "num_array = np.array(object = num_list)"
   ]
  },
  {
   "cell_type": "markdown",
   "id": "bd2ea01e-d509-4a07-a8f2-ac4cc3521d0b",
   "metadata": {},
   "source": [
    "## Q4"
   ]
  },
  {
   "cell_type": "markdown",
   "id": "2d5a8892-ae5d-43c5-b01e-82ca70703a6a",
   "metadata": {},
   "source": [
    "#### 1. shape"
   ]
  },
  {
   "cell_type": "code",
   "execution_count": 20,
   "id": "bd277efa-0ab6-4968-9ff9-c64453605878",
   "metadata": {},
   "outputs": [
    {
     "data": {
      "text/plain": [
       "(2, 3)"
      ]
     },
     "execution_count": 20,
     "metadata": {},
     "output_type": "execute_result"
    }
   ],
   "source": [
    "num_array.shape"
   ]
  },
  {
   "cell_type": "markdown",
   "id": "1533e5b1-9ddd-485c-851d-609e9d84a3b3",
   "metadata": {},
   "source": [
    "#### 2. size"
   ]
  },
  {
   "cell_type": "code",
   "execution_count": 21,
   "id": "a8d95322-ca40-46b1-9629-d4a68fe239a1",
   "metadata": {},
   "outputs": [
    {
     "data": {
      "text/plain": [
       "6"
      ]
     },
     "execution_count": 21,
     "metadata": {},
     "output_type": "execute_result"
    }
   ],
   "source": [
    "num_array.size"
   ]
  },
  {
   "cell_type": "markdown",
   "id": "06a17616-93ed-42fa-b9f0-f8c63c8da19e",
   "metadata": {},
   "source": [
    "## Q5. Write a code to create numpy array of 3*3 matrix containing zeros only, using a numpy array creation function."
   ]
  },
  {
   "cell_type": "code",
   "execution_count": 29,
   "id": "3fc09e19-30ad-4184-8e85-b25296692b23",
   "metadata": {},
   "outputs": [
    {
     "data": {
      "text/plain": [
       "array([[0, 0, 0],\n",
       "       [0, 0, 0],\n",
       "       [0, 0, 0]])"
      ]
     },
     "execution_count": 29,
     "metadata": {},
     "output_type": "execute_result"
    }
   ],
   "source": [
    "arr_lst = [[0 for i in range(3)] for j in range(3)] \n",
    "np_arr = np.array(arr_lst)\n",
    "np_arr"
   ]
  },
  {
   "cell_type": "code",
   "execution_count": 36,
   "id": "e9623d7c-435e-4efb-8d35-41fefcd1de09",
   "metadata": {},
   "outputs": [],
   "source": [
    "## other posibilities\n",
    "# arr = [0 for i in range(9)]\n",
    "# a = np.reshape(arr,(3,3))\n",
    "# a\n",
    "\n",
    "# arr = np.zeros((3,3))\n",
    "# arr"
   ]
  },
  {
   "cell_type": "markdown",
   "id": "7a1f91b5-dc32-40c5-985f-974cc2f5b6b7",
   "metadata": {},
   "source": [
    "## Q6. Create an identity matrix of shape (5,5) using numpy functions?"
   ]
  },
  {
   "cell_type": "code",
   "execution_count": 38,
   "id": "23658e86-339f-41fd-a249-66c207c98052",
   "metadata": {},
   "outputs": [
    {
     "data": {
      "text/plain": [
       "array([[1., 0., 0., 0., 0.],\n",
       "       [0., 1., 0., 0., 0.],\n",
       "       [0., 0., 1., 0., 0.],\n",
       "       [0., 0., 0., 1., 0.],\n",
       "       [0., 0., 0., 0., 1.]])"
      ]
     },
     "execution_count": 38,
     "metadata": {},
     "output_type": "execute_result"
    }
   ],
   "source": [
    "mat_id = np.eye(5)\n",
    "mat_id"
   ]
  }
 ],
 "metadata": {
  "kernelspec": {
   "display_name": "Python 3 (ipykernel)",
   "language": "python",
   "name": "python3"
  },
  "language_info": {
   "codemirror_mode": {
    "name": "ipython",
    "version": 3
   },
   "file_extension": ".py",
   "mimetype": "text/x-python",
   "name": "python",
   "nbconvert_exporter": "python",
   "pygments_lexer": "ipython3",
   "version": "3.10.8"
  }
 },
 "nbformat": 4,
 "nbformat_minor": 5
}
