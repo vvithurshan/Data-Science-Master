{
  "nbformat": 4,
  "nbformat_minor": 0,
  "metadata": {
    "colab": {
      "provenance": [],
      "authorship_tag": "ABX9TyNrFTgsbgLgDFIpsqp+tY3N"
    },
    "kernelspec": {
      "name": "python3",
      "display_name": "Python 3"
    },
    "language_info": {
      "name": "python"
    }
  },
  "cells": [
    {
      "cell_type": "markdown",
      "source": [
        "## Q1. What is the purpose of grid search cv in machine learning, and how does it work?\n",
        "\n",
        "The purpose of the grid search cv is to find the best set of hyperparameters for a model from a set of parameters given by users.\n",
        "\n",
        "It picks the best set of parameters by training the model with a possible combinations of hyperparameters. Therefore, the set of hyperparaters which given the best accuracy is selected."
      ],
      "metadata": {
        "id": "m8x4vw1MPspf"
      }
    },
    {
      "cell_type": "markdown",
      "source": [
        "## Q2. Describe the difference between grid search cv and randomize search cv, and when might you choose one over the other?\n",
        "\n",
        "Both grid search cv and randomized search cv are used to select the optimum value for a given hyperparameter. In grid seach cv, the model is trained and evaluated with all the possible combination of parameters to select the best. However, in randomized cv, instead of trying all the possibel combination, parameter values are choosen randomly.\n",
        "\n",
        "Therefore, grid seach cv can be used for the following cases,\n",
        " * When the parameter size is small.\n",
        " * when the computational resources are enough for the training.\n",
        " * when the dataset is small.\n",
        "\n",
        "And, randomized search cv can be used for the following,\n",
        " * When the parameter size is large.\n",
        " * when the computational resources are not enough for the training.\n",
        " * when the dataset is large.\n"
      ],
      "metadata": {
        "id": "lWe0OQH4Psr8"
      }
    },
    {
      "cell_type": "markdown",
      "source": [
        "## Q3. What is data leakage, and why is it a problem in machine learning? Provide an example.\n",
        "\n",
        "Data leakage in machine learning refers to a mistake made by the creator of a machine learning model in which they accidentally share information between the test and training datasets.\n",
        "\n",
        "Data leakage is a problem because it can cause to create completely invalid predictive models\n",
        "\n",
        "Example, data leakage can occur if the input data and the target are related in some trivial way. Suppose a university admissions department is asked to create a student attrition model to predict students at risk of dropping out. If they retrieve historical log data from student registrations to calculate the target, this could lead to data leakage Another example could be a model that uses response variables as the predictor, giving conclusions such as “a dog belongs to the family of dogs\""
      ],
      "metadata": {
        "id": "gPSsJlAdPst1"
      }
    },
    {
      "cell_type": "markdown",
      "source": [
        "## Q4. How can you prevent data leakage when building a machine learning model?\n",
        "\n",
        "*Carefully select the features that you include in your training data.\n",
        "\n",
        "* Be careful with splitting the dataset into train, validatioin, and test.\n",
        "\n",
        "\n"
      ],
      "metadata": {
        "id": "LMXCvYirPsvo"
      }
    },
    {
      "cell_type": "markdown",
      "source": [
        "## Q5. What is a confusion matrix, and what does it tell you about the performance of a classification model?\n",
        "\n",
        "In classification models, confusion matrix is used to check the performace of the prediction with the help of following components.\n",
        " * True positives\n",
        "\n",
        " * True negatives\n",
        "\n",
        " * False positives\n",
        "\n",
        " * False negatives\n",
        "\n",
        " * Accuracy\n",
        "\n",
        " * Precision\n",
        "\n",
        " * Recall\n",
        "\n",
        " * F1 score"
      ],
      "metadata": {
        "id": "UTKM3Z48PszK"
      }
    },
    {
      "cell_type": "markdown",
      "source": [
        "## Q6. Explain the difference between precision and recall in the context of a confusion matrix.\n",
        "\n",
        "Precision is the percentage of positive predictions that are correct, it is calculated as follows\n",
        "\n",
        " precision = TP/(TP + FP)\n",
        "\n",
        "Recall is the percentage of actual positive cases that are correctly predicted, it is calculated as follows\n",
        "\n",
        " Recall = TP/(TP + FN)"
      ],
      "metadata": {
        "id": "SFztWZYkPs2r"
      }
    },
    {
      "cell_type": "markdown",
      "source": [
        "## Q7. How can you interpret a confusion matrix to determine which types of errors your model is making?\n",
        "\n",
        "* if a model is making high number of flase positive (FP) - it is making type 1 error.\n",
        "\n",
        "* if a model is making high number of flase negative (FN) - it is making type 2 error.\n",
        "\n"
      ],
      "metadata": {
        "id": "oz4FKdHZPs5N"
      }
    },
    {
      "cell_type": "markdown",
      "source": [
        "## Q8. What are some common metrics that can be derived from a confusion matrix, and how are they calculated?\n",
        "\n",
        "Accuracy = (TP + TN) / (TP + TN + FP + FN)\n",
        "\n",
        "Precision = TP / (TP + FP)\n",
        "\n",
        "Recall = TP / (TP + FN)\n",
        "\n",
        "F1 score = 2 * (precision * recall) / (precision + recall)"
      ],
      "metadata": {
        "id": "z_CidMvHPs7p"
      }
    },
    {
      "cell_type": "markdown",
      "source": [
        "## Q9. What is the relationship between the accuracy of a model and the values in its confusion matrix?\n",
        "\n",
        "Accuracy is a percentage of predictions that the model predicts correctly.\n",
        "\n",
        "    Accuracy = (TP + TN)/ (TP + TN + FP + FN)\n",
        "\n",
        "Based on the above equation, accuracy is directly proportional to both true positive and true negative.\n"
      ],
      "metadata": {
        "id": "KM5SYRpoPs-I"
      }
    },
    {
      "cell_type": "markdown",
      "source": [
        "## Q10. How can you use a confusion matrix to identify potential biases or limitations in your machine learning model?\n",
        "\n",
        "* if a model is performing well on some classes and not performs well on other classes - the model is biased towards some classes.\n",
        "\n",
        "* if a model is making a lot of positives or negatives, the model is unable to predict positives or negatives.\n",
        "\n",
        "* if the accuracy of the model is low, then the model is not generalized well enough for the data."
      ],
      "metadata": {
        "id": "OzCsLACVPtAv"
      }
    }
  ]
}