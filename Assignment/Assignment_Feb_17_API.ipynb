{
 "cells": [
  {
   "cell_type": "markdown",
   "id": "ab73be8f-d393-408e-acc7-fa19690195d5",
   "metadata": {},
   "source": [
    "# Assignment Feb_17"
   ]
  },
  {
   "cell_type": "markdown",
   "id": "b4be6ba7-d21a-4366-b3fd-519d142c94be",
   "metadata": {},
   "source": [
    "## Q1. What is an API? Give an example, where an API is used in real life."
   ]
  },
  {
   "cell_type": "markdown",
   "id": "627009c1-bd56-4a24-af3e-b9f90673d2c5",
   "metadata": {},
   "source": [
    "API (Application Programming Interface) contains set of protocols, routines, and tools for building software application. APIs allow developers to use the services or access the data provided by other applications without developing them from the scratch. \n",
    "\n",
    "For an example, if we want to implement the map feature in our application, instead of building the map from the scratch, we can get the Google map API. Therefore, we will be able to focues on our main goal.\n",
    "\n",
    "Companies that provide develivery services, eg Uber, use Google map API. Therefore, they do not need to worry about the problems related to map. "
   ]
  },
  {
   "cell_type": "markdown",
   "id": "ba844fc3-f117-4a7e-899c-01879645f01d",
   "metadata": {},
   "source": [
    "## Q2. Give advantages and disadvantages of using API."
   ]
  },
  {
   "cell_type": "markdown",
   "id": "04b732ce-a9a6-4dd4-b22d-7852aee45eb8",
   "metadata": {},
   "source": [
    "### Advantages\n",
    "\n",
    "1. Standardization - API proives standardized way for a developer of one application to get the service or access the details prvided by other application.\n",
    "\n",
    "2. Simplification - With the help of API, developers are easily able to implement some complex featuers that need a lot time to build in their applications.\n",
    "\n",
    "3. Scalability - It can be used to scale to large numbers of user requests without requiring additional resources.\n",
    "\n",
    "4. Innovation - With the help of API developers are able to build the applications that contain some interesting services provided by other applications. Therefore, developers are able do some innovations.\n",
    "\n",
    "### Disadvantages.\n",
    "\n",
    "1. Dependency - If some features of the application are implemented using APIs, then the application is hugely dependent on the availability of the APIs.\n",
    "\n",
    "2. Security - If application is using API, sometimes the application may be vulnerable to some attacks by hackers.\n",
    "\n",
    "3. Cost - Some APIs are very expensive to implement."
   ]
  },
  {
   "cell_type": "markdown",
   "id": "eabe9c1f-c4c8-4c13-85ad-98aae5a5d1f6",
   "metadata": {},
   "source": [
    "## Q3. What is a Web API? Differentiate between API and Web API."
   ]
  },
  {
   "cell_type": "markdown",
   "id": "84b356ec-58af-4b70-ade9-acaa183a6ecd",
   "metadata": {},
   "source": [
    "A web API is a type of API that are designed to access the data with HTTP protocol. \n",
    "\n",
    "1. Web APIs use HTTP to access the data, while other APIs may use other protocols such as TCP/IP or messaging protocols.\n",
    "\n",
    "2. Web APIs are designed to access with HTTP, other APIs, on the other hand, use may be accessed locally or over a private network.\n",
    "\n",
    "3. Web APIs are designed to using a set of web standards such as REST. However, other APIs may be accessed may use different standards."
   ]
  },
  {
   "cell_type": "markdown",
   "id": "620eaaa4-f710-4589-a7ef-1afa1cce39d2",
   "metadata": {},
   "source": [
    "## Q4. Explain REST and SOAP Architecture. Mention shortcomings of SOAP."
   ]
  },
  {
   "cell_type": "markdown",
   "id": "72367998-77ba-4a92-93c7-88cf1818ed66",
   "metadata": {},
   "source": [
    "REST architecture uses HTTP to communicate between client and server. It is simple, lighweight, and scalable. It exchanges data using standard HTTP methods such as GET, POST, PUT, and DELETE. REST APIs do not maintain any client contexts, so they are stateless.\n",
    "\n",
    "SOAP architecture is an older architecture that uses XML to exchange the data between a client and a server. SOAP APIs are highly structured and standardized. Therefore, it is used in the applications that require high degree or reliability and security.\n",
    "\n",
    "**Shortcomings**\n",
    "\n",
    "1. Complexity - due to the rigid structure that SOAP have, it is complex to implement and use.\n",
    "\n",
    "2. Overhead - its messages are larger than REST messages, therefore, it uses more data. So, their performance is slow.\n",
    "\n",
    "3. Limited caching - SOAP APIs "
   ]
  },
  {
   "cell_type": "markdown",
   "id": "a100feab-e521-4be5-a812-b1a95ad489af",
   "metadata": {},
   "source": [
    "## Q5. Differentiate between REST and SOAP."
   ]
  },
  {
   "cell_type": "markdown",
   "id": "a35738cf-097a-42f0-9c65-e3b454cd88e7",
   "metadata": {},
   "source": [
    "1. REST uses HTTP protocol, while SOAP uses different protocols such as HTTP, SMTP, and JMS to communication between a client and a server.\n",
    "\n",
    "2. REST uses variety of messagin formats such as JSON, SML, text, while SOAP uses only XML.\n",
    "\n",
    "3. REST APIs are typically faster than SOAP APIs due to the light weight nature.\n",
    "\n",
    "4. SOAP APIs are more reliable and secure than REST."
   ]
  },
  {
   "cell_type": "code",
   "execution_count": null,
   "id": "4b55ea74-732d-4111-ad38-5d628c5723a6",
   "metadata": {},
   "outputs": [],
   "source": []
  }
 ],
 "metadata": {
  "kernelspec": {
   "display_name": "Python 3 (ipykernel)",
   "language": "python",
   "name": "python3"
  },
  "language_info": {
   "codemirror_mode": {
    "name": "ipython",
    "version": 3
   },
   "file_extension": ".py",
   "mimetype": "text/x-python",
   "name": "python",
   "nbconvert_exporter": "python",
   "pygments_lexer": "ipython3",
   "version": "3.10.8"
  }
 },
 "nbformat": 4,
 "nbformat_minor": 5
}
