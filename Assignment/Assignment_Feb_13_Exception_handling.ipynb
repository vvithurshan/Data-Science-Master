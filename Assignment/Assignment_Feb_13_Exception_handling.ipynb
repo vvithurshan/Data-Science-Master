{
 "cells": [
  {
   "cell_type": "markdown",
   "id": "84c4424b-6a99-4b46-8951-22d115ce9492",
   "metadata": {},
   "source": [
    "# Assignment Feb 13"
   ]
  },
  {
   "cell_type": "markdown",
   "id": "16a0d078-0462-40bb-9241-f4d9cfb997c7",
   "metadata": {},
   "source": [
    "## Q1. Explain why we have to use the Exception class while creating a Custom Exception."
   ]
  },
  {
   "cell_type": "markdown",
   "id": "75a2469b-16ee-4a70-b91c-f7f811eefe0a",
   "metadata": {},
   "source": [
    "Exception is an inbuilt class in Python for catching exceptions. When creating a custom exception class, we inherit from the Exception class, thereby inheriting all its attributes and methods. As a result, our custom exception class behaves like a normal inbuilt Python class, and the try-except block can effectively catch exceptions raised by it."
   ]
  },
  {
   "cell_type": "markdown",
   "id": "a905b3c8-5d96-4102-bd0c-7fbcca3618d4",
   "metadata": {},
   "source": [
    "## Q2. Write a python program to print Python Exception Hierarchy."
   ]
  },
  {
   "cell_type": "code",
   "execution_count": 8,
   "id": "ed904475-a5c1-4671-a2cf-83938cf6ab3d",
   "metadata": {},
   "outputs": [
    {
     "name": "stdout",
     "output_type": "stream",
     "text": [
      "This is my zeroDivisionError:  division by zero\n"
     ]
    }
   ],
   "source": [
    "## Exception >> ArithmeticError >> ZeroDivisionError\n",
    "try:\n",
    "    a = 10/0\n",
    "except ZeroDivisionError as e:\n",
    "    print(\"This is my zeroDivisionError: \",e)\n",
    "except ArithmeticError as e:\n",
    "    print(\"This is my ArithmeticErro: \",e)\n",
    "except Exception as e:\n",
    "    print(\"This my Exception class: \",e)"
   ]
  },
  {
   "cell_type": "markdown",
   "id": "78e87c27-b01b-467c-8a0a-18bb3295308d",
   "metadata": {},
   "source": [
    "### Q3. What errors are defined in the ArithmeticError class? Explain any two with an example."
   ]
  },
  {
   "cell_type": "markdown",
   "id": "7e83ddae-3908-4f7d-9fb4-6f22a9a3da01",
   "metadata": {},
   "source": [
    "1. FloatingPointError\n",
    "2. ZeroDivisionError\n",
    "3. OverFlowError"
   ]
  },
  {
   "cell_type": "markdown",
   "id": "76f1b4da-686c-4bc3-b2b7-1bdbdb08a509",
   "metadata": {},
   "source": [
    "#### 1. **ZeroDivisionError**"
   ]
  },
  {
   "cell_type": "markdown",
   "id": "63acccae-5772-4edd-be08-206502157734",
   "metadata": {},
   "source": [
    "number cannot be divided by zero. When it happens in calcuation, ZeroDivisionError will catch the error."
   ]
  },
  {
   "cell_type": "code",
   "execution_count": 15,
   "id": "b42e1875-ad71-4abb-93e6-2a6c3650da9f",
   "metadata": {},
   "outputs": [
    {
     "ename": "ZeroDivisionError",
     "evalue": "division by zero",
     "output_type": "error",
     "traceback": [
      "\u001b[0;31m---------------------------------------------------------------------------\u001b[0m",
      "\u001b[0;31mZeroDivisionError\u001b[0m                         Traceback (most recent call last)",
      "Cell \u001b[0;32mIn[15], line 1\u001b[0m\n\u001b[0;32m----> 1\u001b[0m \u001b[38;5;241;43m10\u001b[39;49m\u001b[38;5;241;43m/\u001b[39;49m\u001b[38;5;241;43m0\u001b[39;49m\n",
      "\u001b[0;31mZeroDivisionError\u001b[0m: division by zero"
     ]
    }
   ],
   "source": [
    "10/0"
   ]
  },
  {
   "cell_type": "markdown",
   "id": "63149bed-36bd-4eed-96ff-33f14cd63eb1",
   "metadata": {},
   "source": [
    "***to prevent this, ZeroDivisionError canbe used***"
   ]
  },
  {
   "cell_type": "code",
   "execution_count": 12,
   "id": "dc2d946b-70f3-4430-8321-dc5b829d8fdf",
   "metadata": {},
   "outputs": [
    {
     "name": "stdout",
     "output_type": "stream",
     "text": [
      "This is my zeroDivisionError:  division by zero\n"
     ]
    }
   ],
   "source": [
    "try:\n",
    "    a = 10/0\n",
    "except ZeroDivisionError as e:\n",
    "    print(\"This is my zeroDivisionError: \",e)"
   ]
  },
  {
   "cell_type": "markdown",
   "id": "20ae6378-186c-41f3-9bfc-3ebdd0055b07",
   "metadata": {},
   "source": [
    "#### 2. **FloatingPointError**"
   ]
  },
  {
   "cell_type": "markdown",
   "id": "4bd8e402-d527-4823-9d3b-0b46a26b3aea",
   "metadata": {},
   "source": [
    "Number cannot be divided by 0.0"
   ]
  },
  {
   "cell_type": "code",
   "execution_count": 16,
   "id": "e6e16e8b-87ff-4e3e-8f9d-527d6b4f8f70",
   "metadata": {},
   "outputs": [
    {
     "ename": "ZeroDivisionError",
     "evalue": "float division by zero",
     "output_type": "error",
     "traceback": [
      "\u001b[0;31m---------------------------------------------------------------------------\u001b[0m",
      "\u001b[0;31mZeroDivisionError\u001b[0m                         Traceback (most recent call last)",
      "Cell \u001b[0;32mIn[16], line 1\u001b[0m\n\u001b[0;32m----> 1\u001b[0m \u001b[38;5;241;43m10.0\u001b[39;49m\u001b[38;5;241;43m/\u001b[39;49m\u001b[38;5;241;43m0.0\u001b[39;49m\n",
      "\u001b[0;31mZeroDivisionError\u001b[0m: float division by zero"
     ]
    }
   ],
   "source": [
    "10.0/0.0"
   ]
  },
  {
   "cell_type": "markdown",
   "id": "c7fd7590-68b6-4d17-bbf5-f821919057e2",
   "metadata": {},
   "source": [
    "***This can be catched with FloatingPointError***"
   ]
  },
  {
   "cell_type": "code",
   "execution_count": 18,
   "id": "e4cb6d79-0476-4881-a8da-655d242e4ff3",
   "metadata": {},
   "outputs": [
    {
     "name": "stdout",
     "output_type": "stream",
     "text": [
      "This is my Floatingpoint error:  Time cannot be zero\n"
     ]
    }
   ],
   "source": [
    "# class FloatingPointError_handler(Exception):\n",
    "#     def __inin__(self,msg):\n",
    "#         self.msg = msg\n",
    "\n",
    "def acceleration(dv, dt):\n",
    "    if dt == 0.0:\n",
    "        raise FloatingPointError(\"Time cannot be zero\")\n",
    "    return dv/dt\n",
    "\n",
    "dv = 10\n",
    "dt = 0.0\n",
    "\n",
    "try:\n",
    "    a = acceleration(dv, dt)\n",
    "    \n",
    "except FloatingPointError as e:\n",
    "    print(\"This is my Floatingpoint error: \",e)"
   ]
  },
  {
   "cell_type": "markdown",
   "id": "ad1a65d9-cdfc-4014-aab6-0709442887c9",
   "metadata": {},
   "source": [
    "### Q4. Why LookupError class is used? Explain with an example KeyError and IndexError."
   ]
  },
  {
   "cell_type": "markdown",
   "id": "d7f584b0-8329-4769-bcd6-8f85aebc1d37",
   "metadata": {},
   "source": [
    "LookError is used, when there is a problem with accessing data.\n",
    "for an example, using a wrong key to access value in dictionary, accessing index in list that is higher than the size of list"
   ]
  },
  {
   "cell_type": "code",
   "execution_count": 21,
   "id": "4e531086-283c-4306-9f35-b9b312419a4b",
   "metadata": {},
   "outputs": [
    {
     "name": "stdout",
     "output_type": "stream",
     "text": [
      "Key not found in Dictionary:  100\n"
     ]
    }
   ],
   "source": [
    "## KeyError\n",
    "d = {i:i**2 for i in range(10)}\n",
    "\n",
    "try:\n",
    "    a = d[100]\n",
    "\n",
    "except KeyError as e:\n",
    "    print(\"Key not found in Dictionary: \",e)"
   ]
  },
  {
   "cell_type": "code",
   "execution_count": 24,
   "id": "4ed16e2c-3d6e-48d9-ad55-e58d5f01aa0e",
   "metadata": {},
   "outputs": [
    {
     "name": "stdout",
     "output_type": "stream",
     "text": [
      "Error:  list index out of range\n"
     ]
    }
   ],
   "source": [
    "## IndexError\n",
    "lst = [i for i in range(20)]\n",
    "\n",
    "try:\n",
    "    b = lst[20]\n",
    "\n",
    "except IndexError as e:\n",
    "    print(\"Error: \",e)"
   ]
  },
  {
   "cell_type": "markdown",
   "id": "8d5fe488-c65c-4181-a486-7ae10b0dc148",
   "metadata": {},
   "source": [
    "### Q5. Explain ImportError. What is ModuleNotFoundError?"
   ]
  },
  {
   "cell_type": "markdown",
   "id": "579b1c95-331f-4689-8c64-588d615695d5",
   "metadata": {},
   "source": [
    "ImportError is raised for the following reasons such as module is not found, spelling mistake in module, module location is not found\n",
    "ModuleNotFoundError is a subclass of ImportError. It is raised, when a specified module is not found in the python environment."
   ]
  },
  {
   "cell_type": "code",
   "execution_count": 26,
   "id": "07f7c3af-2d93-4212-89a5-4ac87d3ed1e9",
   "metadata": {},
   "outputs": [
    {
     "ename": "ModuleNotFoundError",
     "evalue": "No module named 'mathh'",
     "output_type": "error",
     "traceback": [
      "\u001b[0;31m---------------------------------------------------------------------------\u001b[0m",
      "\u001b[0;31mModuleNotFoundError\u001b[0m                       Traceback (most recent call last)",
      "Cell \u001b[0;32mIn[26], line 2\u001b[0m\n\u001b[1;32m      1\u001b[0m \u001b[38;5;66;03m## Error occurs, when trying to import wrong module\u001b[39;00m\n\u001b[0;32m----> 2\u001b[0m \u001b[38;5;28;01mimport\u001b[39;00m \u001b[38;5;21;01mmathh\u001b[39;00m\n\u001b[1;32m      3\u001b[0m \u001b[38;5;28mprint\u001b[39m(mathh\u001b[38;5;241m.\u001b[39msqrt(\u001b[38;5;241m16\u001b[39m))\n",
      "\u001b[0;31mModuleNotFoundError\u001b[0m: No module named 'mathh'"
     ]
    }
   ],
   "source": [
    "## Error occurs, when trying to import wrong module\n",
    "import mathh\n",
    "print(mathh.sqrt(16))"
   ]
  },
  {
   "cell_type": "markdown",
   "id": "9a0ae2d7-c3d3-4729-9e32-45685ce4d05f",
   "metadata": {},
   "source": [
    "### Q6. List down some best practices for exception handling in python."
   ]
  },
  {
   "cell_type": "markdown",
   "id": "b9bcde19-8b77-448e-bf19-235c25933f1d",
   "metadata": {},
   "source": [
    "1. Always use a specific exception.\n",
    "2. Print a valid error message.\n",
    "3. Always log the error message instead of printing\n",
    "4. Avoid using unwanted exception handlings.\n",
    "5. Prepare a proper documentation.\n",
    "6. Clean up all the resources once the process is done."
   ]
  },
  {
   "cell_type": "code",
   "execution_count": null,
   "id": "44fca91a-74ad-45ec-b1d0-a91c1cddace5",
   "metadata": {},
   "outputs": [],
   "source": []
  }
 ],
 "metadata": {
  "kernelspec": {
   "display_name": "Python 3 (ipykernel)",
   "language": "python",
   "name": "python3"
  },
  "language_info": {
   "codemirror_mode": {
    "name": "ipython",
    "version": 3
   },
   "file_extension": ".py",
   "mimetype": "text/x-python",
   "name": "python",
   "nbconvert_exporter": "python",
   "pygments_lexer": "ipython3",
   "version": "3.10.8"
  }
 },
 "nbformat": 4,
 "nbformat_minor": 5
}
