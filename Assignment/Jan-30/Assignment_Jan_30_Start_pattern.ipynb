{
 "cells": [
  {
   "cell_type": "markdown",
   "id": "17afea6d-bb05-4188-b0d3-455d6e1d1311",
   "metadata": {},
   "source": [
    "# Data Science Maters Assignment - Jan 30"
   ]
  },
  {
   "cell_type": "raw",
   "id": "307968be-a984-41a2-a135-8a28f3cf0b24",
   "metadata": {},
   "source": [
    "Assignment\n",
    "   *\n",
    "  ***\n",
    " *****\n",
    "*******"
   ]
  },
  {
   "cell_type": "code",
   "execution_count": 14,
   "id": "847e736b-22fc-4da2-b140-3c155345ecd5",
   "metadata": {},
   "outputs": [
    {
     "name": "stdout",
     "output_type": "stream",
     "text": [
      "         *         \n",
      "        ***        \n",
      "       *****       \n",
      "      *******      \n",
      "     *********     \n",
      "    ***********    \n",
      "   *************   \n",
      "  ***************  \n",
      " ***************** \n",
      "*******************\n"
     ]
    }
   ],
   "source": [
    "## Method 1\n",
    "n = 20\n",
    "for j in range(1,n,2):\n",
    "    print(\" \" * int((n-j)/2)+\"*\" * j+ \" \" * int((n-j)/2))"
   ]
  },
  {
   "cell_type": "code",
   "execution_count": 15,
   "id": "2c36b875-52b6-4cc0-bb40-d1ab66ce71ab",
   "metadata": {},
   "outputs": [
    {
     "name": "stdout",
     "output_type": "stream",
     "text": [
      "         *         \n",
      "        ***        \n",
      "       *****       \n",
      "      *******      \n",
      "     *********     \n",
      "    ***********    \n",
      "   *************   \n",
      "  ***************  \n",
      " ***************** \n",
      "*******************\n"
     ]
    }
   ],
   "source": [
    "## Method 2\n",
    "pattern = [\" \" * int((n-j)/2)+\"*\" * j+ \" \" * int((n-j)/2) for j in range(1,n,2)]\n",
    "for x in pattern:\n",
    "    print(x)"
   ]
  }
 ],
 "metadata": {
  "kernelspec": {
   "display_name": "Python 3 (ipykernel)",
   "language": "python",
   "name": "python3"
  },
  "language_info": {
   "codemirror_mode": {
    "name": "ipython",
    "version": 3
   },
   "file_extension": ".py",
   "mimetype": "text/x-python",
   "name": "python",
   "nbconvert_exporter": "python",
   "pygments_lexer": "ipython3",
   "version": "3.10.8"
  }
 },
 "nbformat": 4,
 "nbformat_minor": 5
}
