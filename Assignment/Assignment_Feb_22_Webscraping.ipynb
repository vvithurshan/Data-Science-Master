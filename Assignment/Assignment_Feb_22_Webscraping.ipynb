{
 "cells": [
  {
   "cell_type": "markdown",
   "id": "ce3596e8-434f-44d5-af16-9c48c75d910d",
   "metadata": {},
   "source": [
    "# Assignment Feb - 22 Web Scrapping"
   ]
  },
  {
   "cell_type": "markdown",
   "id": "338b782a-8975-4c28-848f-239c1414d726",
   "metadata": {},
   "source": [
    "## Q1. Write a python program to extract the video URL of the first five videos."
   ]
  },
  {
   "cell_type": "markdown",
   "id": "37396a1b-84d7-40f3-90d9-5e27ccda2c3c",
   "metadata": {},
   "source": [
    "## Youtube API"
   ]
  },
  {
   "cell_type": "code",
   "execution_count": 2,
   "id": "d54c871d-b6c0-457b-ad1f-3e52afb59b3d",
   "metadata": {
    "collapsed": true,
    "jupyter": {
     "outputs_hidden": true
    },
    "tags": []
   },
   "outputs": [
    {
     "name": "stdout",
     "output_type": "stream",
     "text": [
      "Collecting google-api-python-client\n",
      "  Downloading google_api_python_client-2.79.0-py2.py3-none-any.whl (11.0 MB)\n",
      "\u001b[2K     \u001b[90m━━━━━━━━━━━━━━━━━━━━━━━━━━━━━━━━━━━━━━━━\u001b[0m \u001b[32m11.0/11.0 MB\u001b[0m \u001b[31m59.4 MB/s\u001b[0m eta \u001b[36m0:00:00\u001b[0m00:01\u001b[0m0:01\u001b[0m\n",
      "\u001b[?25hCollecting google-auth-httplib2>=0.1.0\n",
      "  Downloading google_auth_httplib2-0.1.0-py2.py3-none-any.whl (9.3 kB)\n",
      "Collecting httplib2<1dev,>=0.15.0\n",
      "  Downloading httplib2-0.21.0-py3-none-any.whl (96 kB)\n",
      "\u001b[2K     \u001b[90m━━━━━━━━━━━━━━━━━━━━━━━━━━━━━━━━━━━━━━━━\u001b[0m \u001b[32m96.8/96.8 kB\u001b[0m \u001b[31m16.9 MB/s\u001b[0m eta \u001b[36m0:00:00\u001b[0m\n",
      "\u001b[?25hCollecting google-api-core!=2.0.*,!=2.1.*,!=2.2.*,!=2.3.0,<3.0.0dev,>=1.31.5\n",
      "  Downloading google_api_core-2.11.0-py3-none-any.whl (120 kB)\n",
      "\u001b[2K     \u001b[90m━━━━━━━━━━━━━━━━━━━━━━━━━━━━━━━━━━━━━━\u001b[0m \u001b[32m120.3/120.3 kB\u001b[0m \u001b[31m19.4 MB/s\u001b[0m eta \u001b[36m0:00:00\u001b[0m\n",
      "\u001b[?25hCollecting google-auth<3.0.0dev,>=1.19.0\n",
      "  Downloading google_auth-2.16.1-py2.py3-none-any.whl (177 kB)\n",
      "\u001b[2K     \u001b[90m━━━━━━━━━━━━━━━━━━━━━━━━━━━━━━━━━━━━━━\u001b[0m \u001b[32m177.2/177.2 kB\u001b[0m \u001b[31m26.7 MB/s\u001b[0m eta \u001b[36m0:00:00\u001b[0m\n",
      "\u001b[?25hCollecting uritemplate<5,>=3.0.1\n",
      "  Downloading uritemplate-4.1.1-py2.py3-none-any.whl (10 kB)\n",
      "Requirement already satisfied: requests<3.0.0dev,>=2.18.0 in /opt/conda/lib/python3.10/site-packages (from google-api-core!=2.0.*,!=2.1.*,!=2.2.*,!=2.3.0,<3.0.0dev,>=1.31.5->google-api-python-client) (2.28.1)\n",
      "Requirement already satisfied: protobuf!=3.20.0,!=3.20.1,!=4.21.0,!=4.21.1,!=4.21.2,!=4.21.3,!=4.21.4,!=4.21.5,<5.0.0dev,>=3.19.5 in /opt/conda/lib/python3.10/site-packages (from google-api-core!=2.0.*,!=2.1.*,!=2.2.*,!=2.3.0,<3.0.0dev,>=1.31.5->google-api-python-client) (4.21.11)\n",
      "Collecting googleapis-common-protos<2.0dev,>=1.56.2\n",
      "  Downloading googleapis_common_protos-1.58.0-py2.py3-none-any.whl (223 kB)\n",
      "\u001b[2K     \u001b[90m━━━━━━━━━━━━━━━━━━━━━━━━━━━━━━━━━━━━━━\u001b[0m \u001b[32m223.0/223.0 kB\u001b[0m \u001b[31m30.4 MB/s\u001b[0m eta \u001b[36m0:00:00\u001b[0m\n",
      "\u001b[?25hCollecting cachetools<6.0,>=2.0.0\n",
      "  Downloading cachetools-5.3.0-py3-none-any.whl (9.3 kB)\n",
      "Collecting pyasn1-modules>=0.2.1\n",
      "  Downloading pyasn1_modules-0.2.8-py2.py3-none-any.whl (155 kB)\n",
      "\u001b[2K     \u001b[90m━━━━━━━━━━━━━━━━━━━━━━━━━━━━━━━━━━━━━━\u001b[0m \u001b[32m155.3/155.3 kB\u001b[0m \u001b[31m25.0 MB/s\u001b[0m eta \u001b[36m0:00:00\u001b[0m\n",
      "\u001b[?25hCollecting rsa<5,>=3.1.4\n",
      "  Downloading rsa-4.9-py3-none-any.whl (34 kB)\n",
      "Requirement already satisfied: six>=1.9.0 in /opt/conda/lib/python3.10/site-packages (from google-auth<3.0.0dev,>=1.19.0->google-api-python-client) (1.16.0)\n",
      "Requirement already satisfied: pyparsing!=3.0.0,!=3.0.1,!=3.0.2,!=3.0.3,<4,>=2.4.2 in /opt/conda/lib/python3.10/site-packages (from httplib2<1dev,>=0.15.0->google-api-python-client) (3.0.9)\n",
      "Collecting pyasn1<0.5.0,>=0.4.6\n",
      "  Downloading pyasn1-0.4.8-py2.py3-none-any.whl (77 kB)\n",
      "\u001b[2K     \u001b[90m━━━━━━━━━━━━━━━━━━━━━━━━━━━━━━━━━━━━━━━━\u001b[0m \u001b[32m77.1/77.1 kB\u001b[0m \u001b[31m11.3 MB/s\u001b[0m eta \u001b[36m0:00:00\u001b[0m\n",
      "\u001b[?25hRequirement already satisfied: certifi>=2017.4.17 in /opt/conda/lib/python3.10/site-packages (from requests<3.0.0dev,>=2.18.0->google-api-core!=2.0.*,!=2.1.*,!=2.2.*,!=2.3.0,<3.0.0dev,>=1.31.5->google-api-python-client) (2022.12.7)\n",
      "Requirement already satisfied: urllib3<1.27,>=1.21.1 in /opt/conda/lib/python3.10/site-packages (from requests<3.0.0dev,>=2.18.0->google-api-core!=2.0.*,!=2.1.*,!=2.2.*,!=2.3.0,<3.0.0dev,>=1.31.5->google-api-python-client) (1.26.13)\n",
      "Requirement already satisfied: idna<4,>=2.5 in /opt/conda/lib/python3.10/site-packages (from requests<3.0.0dev,>=2.18.0->google-api-core!=2.0.*,!=2.1.*,!=2.2.*,!=2.3.0,<3.0.0dev,>=1.31.5->google-api-python-client) (3.4)\n",
      "Requirement already satisfied: charset-normalizer<3,>=2 in /opt/conda/lib/python3.10/site-packages (from requests<3.0.0dev,>=2.18.0->google-api-core!=2.0.*,!=2.1.*,!=2.2.*,!=2.3.0,<3.0.0dev,>=1.31.5->google-api-python-client) (2.1.1)\n",
      "Installing collected packages: pyasn1, uritemplate, rsa, pyasn1-modules, httplib2, googleapis-common-protos, cachetools, google-auth, google-auth-httplib2, google-api-core, google-api-python-client\n",
      "Successfully installed cachetools-5.3.0 google-api-core-2.11.0 google-api-python-client-2.79.0 google-auth-2.16.1 google-auth-httplib2-0.1.0 googleapis-common-protos-1.58.0 httplib2-0.21.0 pyasn1-0.4.8 pyasn1-modules-0.2.8 rsa-4.9 uritemplate-4.1.1\n"
     ]
    }
   ],
   "source": [
    "!pip install google-api-python-client"
   ]
  },
  {
   "cell_type": "markdown",
   "id": "971756be-9f1d-400b-9329-4d57d548f9a3",
   "metadata": {},
   "source": [
    "## Q1. Write a python program to extract the video URL of the first five videos."
   ]
  },
  {
   "cell_type": "code",
   "execution_count": 40,
   "id": "4b722b7b-8607-4e1c-b70c-690e91f9d1a3",
   "metadata": {},
   "outputs": [
    {
     "name": "stdout",
     "output_type": "stream",
     "text": [
      "1. https://www.youtube.com/watch?v=K71SXyXng9Y\n",
      "2. https://www.youtube.com/watch?v=cirA_vIvtC0\n",
      "3. https://www.youtube.com/watch?v=0AsHuoilMI4\n",
      "4. https://www.youtube.com/watch?v=2v3kkTlJiVU\n",
      "5. https://www.youtube.com/watch?v=qQmOs47P8fw\n"
     ]
    }
   ],
   "source": [
    "from googleapiclient.discovery import build\n",
    "from googleapiclient.errors import HttpError\n",
    "\n",
    "channel_id = \"UCphU2bAGmw304CFAzy0Enuw\"\n",
    "\n",
    "api_key = \"AIzaSyDfCSF9RJ2QmeFY0Nw5jtuvStNIwvTrA\"\n",
    "\n",
    "youtube = build(\"youtube\", \"v3\", developerKey=api_key)\n",
    "\n",
    "response = youtube.search().list(channelId=channel_id,part=\"id,snippet\", maxResults=5, videoDuration = \"medium\", type = \"video\" )\n",
    "response_execute = response.execute()\n",
    "items = response_execute['items']\n",
    "video_ids = [item['id']['videoId'] for item in items]\n",
    "    \n",
    "video_urls = ['https://www.youtube.com/watch?v=' + video_id for video_id in video_ids]\n",
    "    \n",
    "for index,video_url in enumerate(video_urls):\n",
    "    print(\"{}. {}\".format(index+1,video_url))\n"
   ]
  },
  {
   "cell_type": "markdown",
   "id": "07851cb5-e005-4460-a389-c1f663ba9b2c",
   "metadata": {},
   "source": [
    "## Q2. Write a python program to extract the URL of the video thumbnails of the first five videos."
   ]
  },
  {
   "cell_type": "code",
   "execution_count": 42,
   "id": "e56141be-c36a-426c-9b43-b50789ffe3e5",
   "metadata": {},
   "outputs": [
    {
     "name": "stdout",
     "output_type": "stream",
     "text": [
      "1. https://i.ytimg.com/vi/O43VOZHEYb8/default.jpg\n",
      "2. https://i.ytimg.com/vi/FCSDR76mKeI/default.jpg\n",
      "3. https://i.ytimg.com/vi/nK7EQmU84ms/default.jpg\n",
      "4. https://i.ytimg.com/vi/Ys3-I4ETI6I/default.jpg\n",
      "5. https://i.ytimg.com/vi/Un6vnbnM930/default.jpg\n"
     ]
    }
   ],
   "source": [
    "from googleapiclient.discovery import build\n",
    "from googleapiclient.errors import HttpError\n",
    "\n",
    "channel_id = \"UCphU2bAGmw304CFAzy0Enuw\"\n",
    "\n",
    "api_key = \"AIzaSyDfCSF9RJ2QmeFY0Nw5jtuvStNIwvTrA\"\n",
    "\n",
    "youtube = build(\"youtube\", \"v3\", developerKey=api_key)\n",
    "\n",
    "response = youtube.search().list(channelId=channel_id,part=\"snippet\", maxResults=5)\n",
    "response_execute = response.execute()\n",
    "\n",
    "items = response_execute['items']\n",
    "\n",
    "url_thumbnails = [item['snippet']['thumbnails']['default']['url'] for item in items]\n",
    "    \n",
    "for index, pic in enumerate(url_thumbnails):\n",
    "    print(\"{}. {}\".format(index+1,pic))\n"
   ]
  },
  {
   "cell_type": "markdown",
   "id": "c5b0f692-a403-4057-ba2b-1f2223a68b0e",
   "metadata": {
    "tags": []
   },
   "source": [
    "## Q3. Write a python program to extract the title of the first five videos."
   ]
  },
  {
   "cell_type": "code",
   "execution_count": 42,
   "id": "0e9d4ee1-812e-44f5-ae05-6b92fe31e881",
   "metadata": {},
   "outputs": [
    {
     "name": "stdout",
     "output_type": "stream",
     "text": [
      "1. Stream Choose करने के लिए परेशान हो?😟😟 #Shorts #PhysicsWallah #PWFoundation\n",
      "2. &quot;ठोंकर&quot; Lagne Se Pareshaan Kyo Hote Ho!! 🤔 #Shorts #Physicswallahfoundation\n",
      "3. Quadratic Equation से Root निकालने की MAGIC TRICK🤩🔥 #Shorts #PhysicsWallah #PhysicsWallahFoundation\n",
      "4. Class 10th Achiever || Gopal 🔥🔥 #Shorts #PhysicsWallah\n",
      "5. तो चल Rahe हो ना आप सभी? 🎁 #short #physicswallahfoundation\n"
     ]
    }
   ],
   "source": [
    "from googleapiclient.discovery import build\n",
    "from googleapiclient.errors import HttpError\n",
    "\n",
    "channel_id = \"UCphU2bAGmw304CFAzy0Enuw\"\n",
    "\n",
    "api_key = \"AIzaSyDfCSF9RJ2QmeFY0Nw5jtuvStNIwvTrA\"\n",
    "\n",
    "youtube = build(\"youtube\", \"v3\", developerKey=api_key)\n",
    "\n",
    "response = youtube.search().list(channelId=channel_id,part=\"snippet\", maxResults=5)\n",
    "response_execute = response.execute()\n",
    "\n",
    "items = response_execute['items']\n",
    "\n",
    "titles = [item['snippet']['title'] for item in items]\n",
    "    \n",
    "for i, title in enumerate(titles):\n",
    "    print(\"{}. {}\".format(i+1,title))\n"
   ]
  },
  {
   "cell_type": "markdown",
   "id": "8da92ed7-0a3e-42c9-834e-2645c59b8ee5",
   "metadata": {},
   "source": [
    "## Q4. Write a python program to extract the number of views of the first five videos."
   ]
  },
  {
   "cell_type": "code",
   "execution_count": 38,
   "id": "da5288c1-a2cd-4b98-8a17-132ed4ef085f",
   "metadata": {},
   "outputs": [
    {
     "name": "stdout",
     "output_type": "stream",
     "text": [
      "1. views of DIFFERENT STRANDS WITHIN THE MOVEMENT (PART 2) in One Shot - Class 10th Term 2 is 34010\n",
      "2. views of THE 1st WORLD WAR, KHILAFAT AND NON-COOPERATION in One Shot - Class 10th Term 2 is 64801\n",
      "3. views of FORMATION OF EARTH 🌍 is 41254\n",
      "4. views of CIVIL DISOBEDIENCE MOVEMENT (PART-3) in One Shot - Class 10th Term 2 is 36161\n",
      "5. views of ORIGIN OF EUKARYOTIC CELL is 34098\n"
     ]
    }
   ],
   "source": [
    "from googleapiclient.discovery import build\n",
    "from googleapiclient.errors import HttpError\n",
    "\n",
    "channel_id = \"UCphU2bAGmw304CFAzy0Enuw\"\n",
    "\n",
    "api_key = \"AIzaSyDfCSF9RJ2QmeFY0Nw5jtuvStNIwvTrA\"\n",
    "\n",
    "youtube = build(\"youtube\", \"v3\", developerKey=api_key)\n",
    "\n",
    "## getting video ids with search()\n",
    "\n",
    "response = youtube.search().list(channelId=channel_id,part=\"id,snippet\", maxResults=5, videoDuration = \"medium\", type = \"video\" )\n",
    "response_execute = response.execute()\n",
    "items = response_execute['items']\n",
    "video_ids = [item['id']['videoId'] for item in items]\n",
    "\n",
    "###\n",
    "\n",
    "response = youtube.videos().list(part=\"statistics, snippet\", id = video_ids)\n",
    "response_execute = response.execute()\n",
    "items = response_execute['items']\n",
    "\n",
    "views = [item['statistics']['viewCount'] for item in items]\n",
    "titles = [item['snippet']['title'] for item in items]\n",
    "counts = list(range(1,6))\n",
    "\n",
    "for x, y, z in zip(counts, titles, views):\n",
    "    print(\"{}. views of {} is {}\".format(x, y, z))"
   ]
  },
  {
   "cell_type": "markdown",
   "id": "35538822-30c6-444b-a3d2-2b55e61ed8f6",
   "metadata": {},
   "source": [
    "## Q5. Write a python program to extract the time of posting of video for the first five videos."
   ]
  },
  {
   "cell_type": "code",
   "execution_count": 56,
   "id": "5b6acc26-1440-4bbd-a9be-c147d184f238",
   "metadata": {},
   "outputs": [
    {
     "name": "stdout",
     "output_type": "stream",
     "text": [
      "1. The 'DIFFERENT STRANDS WITHIN THE MOVEMENT (PART 2) in One Shot - Class 10th Term 2' was published at '2022-05-11T10:38:29Z'\n",
      "2. The 'THE 1st WORLD WAR, KHILAFAT AND NON-COOPERATION in One Shot - Class 10th Term 2' was published at '2022-05-11T07:47:30Z'\n",
      "3. The 'FORMATION OF EARTH 🌍' was published at '2021-06-20T12:30:13Z'\n",
      "4. The 'CIVIL DISOBEDIENCE MOVEMENT (PART-3) in One Shot - Class 10th Term 2' was published at '2022-05-11T15:20:02Z'\n",
      "5. The 'ORIGIN OF EUKARYOTIC CELL' was published at '2021-07-25T13:30:17Z'\n"
     ]
    }
   ],
   "source": [
    "channel_id = \"UCphU2bAGmw304CFAzy0Enuw\"\n",
    "\n",
    "api_key = \"AIzaSyDfCSF9RJ2QmeFY0Nw5jtuvStNIwvTrA\"\n",
    "\n",
    "youtube = build(\"youtube\", \"v3\", developerKey=api_key)\n",
    "\n",
    "## getting video ids with search()\n",
    "\n",
    "response = youtube.search().list(channelId=channel_id,part=\"id,snippet\", maxResults=5, videoDuration = \"medium\", type = \"video\" )\n",
    "response_execute = response.execute()\n",
    "items = response_execute['items']\n",
    "video_ids = [item['id']['videoId'] for item in items]\n",
    "\n",
    "###\n",
    "\n",
    "response = youtube.videos().list(part=\"statistics, snippet\", id = video_ids)\n",
    "response_execute = response.execute()\n",
    "items = response_execute['items']\n",
    "\n",
    "publishedTime = [item['snippet']['publishedAt'] for item in items]\n",
    "titles = [item['snippet']['title'] for item in items]\n",
    "counts = list(range(1,6))\n",
    "\n",
    "for x, y, z in zip(counts, titles, publishedTime):\n",
    "    print(\"{}. The '{}' was published at '{}'\".format(x, y, z))"
   ]
  },
  {
   "cell_type": "markdown",
   "id": "59c951d9-8a78-45da-a765-e167e88174b9",
   "metadata": {},
   "source": [
    "## Saving all details in a CSV file"
   ]
  },
  {
   "cell_type": "code",
   "execution_count": 63,
   "id": "7bd4cebe-b54c-44e4-975f-d06b6218d2f7",
   "metadata": {},
   "outputs": [],
   "source": [
    "import csv\n",
    "with open(\"youtube_video_scraper.csv\", \"w\", encoding=\"utf-8\", newline=\"\") as csv_file:\n",
    "    writer =csv.writer(csv_file)\n",
    "    writer.writerow([\"Index\", \"URL\", \"Thumbnail URL\", \"Title\", \"Views\", \"Published time\"])\n",
    "    \n",
    "    items = zip(counts, video_urls, url_thumbnails, titles,views, publishedTime)\n",
    "    \n",
    "    for index, url, thumbnail, title, view, time in items:\n",
    "        writer.writerow([index, url, thumbnail, title, view, time])        \n",
    "        "
   ]
  },
  {
   "cell_type": "code",
   "execution_count": 66,
   "id": "7309e908-247f-4e31-837b-4f8d67e7a9a7",
   "metadata": {},
   "outputs": [
    {
     "data": {
      "text/html": [
       "<div>\n",
       "<style scoped>\n",
       "    .dataframe tbody tr th:only-of-type {\n",
       "        vertical-align: middle;\n",
       "    }\n",
       "\n",
       "    .dataframe tbody tr th {\n",
       "        vertical-align: top;\n",
       "    }\n",
       "\n",
       "    .dataframe thead th {\n",
       "        text-align: right;\n",
       "    }\n",
       "</style>\n",
       "<table border=\"1\" class=\"dataframe\">\n",
       "  <thead>\n",
       "    <tr style=\"text-align: right;\">\n",
       "      <th></th>\n",
       "      <th>Index</th>\n",
       "      <th>URL</th>\n",
       "      <th>Thumbnail URL</th>\n",
       "      <th>Title</th>\n",
       "      <th>Views</th>\n",
       "      <th>Published time</th>\n",
       "    </tr>\n",
       "  </thead>\n",
       "  <tbody>\n",
       "    <tr>\n",
       "      <th>0</th>\n",
       "      <td>1</td>\n",
       "      <td>https://www.youtube.com/watch?v=K71SXyXng9Y</td>\n",
       "      <td>https://i.ytimg.com/vi/O43VOZHEYb8/default.jpg</td>\n",
       "      <td>DIFFERENT STRANDS WITHIN THE MOVEMENT (PART 2)...</td>\n",
       "      <td>34010</td>\n",
       "      <td>2022-05-11T10:38:29Z</td>\n",
       "    </tr>\n",
       "    <tr>\n",
       "      <th>1</th>\n",
       "      <td>2</td>\n",
       "      <td>https://www.youtube.com/watch?v=cirA_vIvtC0</td>\n",
       "      <td>https://i.ytimg.com/vi/FCSDR76mKeI/default.jpg</td>\n",
       "      <td>THE 1st WORLD WAR, KHILAFAT AND NON-COOPERATIO...</td>\n",
       "      <td>64801</td>\n",
       "      <td>2022-05-11T07:47:30Z</td>\n",
       "    </tr>\n",
       "    <tr>\n",
       "      <th>2</th>\n",
       "      <td>3</td>\n",
       "      <td>https://www.youtube.com/watch?v=0AsHuoilMI4</td>\n",
       "      <td>https://i.ytimg.com/vi/nK7EQmU84ms/default.jpg</td>\n",
       "      <td>FORMATION OF EARTH 🌍</td>\n",
       "      <td>41254</td>\n",
       "      <td>2021-06-20T12:30:13Z</td>\n",
       "    </tr>\n",
       "    <tr>\n",
       "      <th>3</th>\n",
       "      <td>4</td>\n",
       "      <td>https://www.youtube.com/watch?v=2v3kkTlJiVU</td>\n",
       "      <td>https://i.ytimg.com/vi/Ys3-I4ETI6I/default.jpg</td>\n",
       "      <td>CIVIL DISOBEDIENCE MOVEMENT (PART-3) in One Sh...</td>\n",
       "      <td>36161</td>\n",
       "      <td>2022-05-11T15:20:02Z</td>\n",
       "    </tr>\n",
       "    <tr>\n",
       "      <th>4</th>\n",
       "      <td>5</td>\n",
       "      <td>https://www.youtube.com/watch?v=qQmOs47P8fw</td>\n",
       "      <td>https://i.ytimg.com/vi/Un6vnbnM930/default.jpg</td>\n",
       "      <td>ORIGIN OF EUKARYOTIC CELL</td>\n",
       "      <td>34098</td>\n",
       "      <td>2021-07-25T13:30:17Z</td>\n",
       "    </tr>\n",
       "  </tbody>\n",
       "</table>\n",
       "</div>"
      ],
      "text/plain": [
       "   Index                                          URL  \\\n",
       "0      1  https://www.youtube.com/watch?v=K71SXyXng9Y   \n",
       "1      2  https://www.youtube.com/watch?v=cirA_vIvtC0   \n",
       "2      3  https://www.youtube.com/watch?v=0AsHuoilMI4   \n",
       "3      4  https://www.youtube.com/watch?v=2v3kkTlJiVU   \n",
       "4      5  https://www.youtube.com/watch?v=qQmOs47P8fw   \n",
       "\n",
       "                                    Thumbnail URL  \\\n",
       "0  https://i.ytimg.com/vi/O43VOZHEYb8/default.jpg   \n",
       "1  https://i.ytimg.com/vi/FCSDR76mKeI/default.jpg   \n",
       "2  https://i.ytimg.com/vi/nK7EQmU84ms/default.jpg   \n",
       "3  https://i.ytimg.com/vi/Ys3-I4ETI6I/default.jpg   \n",
       "4  https://i.ytimg.com/vi/Un6vnbnM930/default.jpg   \n",
       "\n",
       "                                               Title  Views  \\\n",
       "0  DIFFERENT STRANDS WITHIN THE MOVEMENT (PART 2)...  34010   \n",
       "1  THE 1st WORLD WAR, KHILAFAT AND NON-COOPERATIO...  64801   \n",
       "2                               FORMATION OF EARTH 🌍  41254   \n",
       "3  CIVIL DISOBEDIENCE MOVEMENT (PART-3) in One Sh...  36161   \n",
       "4                          ORIGIN OF EUKARYOTIC CELL  34098   \n",
       "\n",
       "         Published time  \n",
       "0  2022-05-11T10:38:29Z  \n",
       "1  2022-05-11T07:47:30Z  \n",
       "2  2021-06-20T12:30:13Z  \n",
       "3  2022-05-11T15:20:02Z  \n",
       "4  2021-07-25T13:30:17Z  "
      ]
     },
     "execution_count": 66,
     "metadata": {},
     "output_type": "execute_result"
    }
   ],
   "source": [
    "import pandas as pd\n",
    "data = pd.read_csv(\"youtube_video_scraper.csv\")\n",
    "data"
   ]
  }
 ],
 "metadata": {
  "kernelspec": {
   "display_name": "Python 3 (ipykernel)",
   "language": "python",
   "name": "python3"
  },
  "language_info": {
   "codemirror_mode": {
    "name": "ipython",
    "version": 3
   },
   "file_extension": ".py",
   "mimetype": "text/x-python",
   "name": "python",
   "nbconvert_exporter": "python",
   "pygments_lexer": "ipython3",
   "version": "3.10.8"
  }
 },
 "nbformat": 4,
 "nbformat_minor": 5
}
