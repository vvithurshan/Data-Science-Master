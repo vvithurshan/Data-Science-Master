{
 "cells": [
  {
   "cell_type": "markdown",
   "id": "e0df98c2-e9df-4ac8-ba49-7f92267e9860",
   "metadata": {},
   "source": [
    "# Assignment"
   ]
  },
  {
   "cell_type": "markdown",
   "id": "91210c28-8adf-4a86-a73e-c0a691d2c509",
   "metadata": {},
   "source": [
    "## Q1. What is multiprocessing in python? Why is it useful?"
   ]
  },
  {
   "cell_type": "markdown",
   "id": "2bea199d-ec07-47b7-a10e-a27f4571dcb8",
   "metadata": {},
   "source": [
    "multiprocessing is the ability of the program to support multiple processes at the same time to perform a task. During which, a task is divided into smaller subtasks and each subtask is assigned to a separate process. These multiple processes can be executed parallely on multi-core CPU.\n",
    "\n",
    "With the help of multiprocessing, multiple tasks can be executed simultaneouly by taking advantages of the multi-core CPU. Therefore, performance, speed, and resource utilization can be increased."
   ]
  },
  {
   "cell_type": "markdown",
   "id": "502a1721-83c3-41c7-87bf-0fd119048af4",
   "metadata": {},
   "source": [
    "## Q2. What are the differences between multiprocessing and multithreading?"
   ]
  },
  {
   "cell_type": "markdown",
   "id": "ec76e04d-3c40-420d-ace0-ace24c0fe4fb",
   "metadata": {},
   "source": [
    "1. in multiprocessing, processes that are independent from each other run on different CPU cores at the same time. Multithreading, on the other hand, threads are run concurrently within the same process on a single core. \n",
    "2. In multiprocessing each process has its own memory, while multithreading share the same memory within a process.\n",
    "3. Multiprocessing is faster for tasks which can be divided into independent subtasks. Multithreading is faster on tasks that wait for other task to complete. \n",
    "4. Since multiprocessing use many independent processes, generally it is difficult to implementation and debug than multithreading.\n",
    "5. Multiprocessing has many separate processes. Therefore, it has a higher overhead due to the need to manage and communicate between different processes. However, multithreading has lower overhead as it does not need to create and manage multiple processes. "
   ]
  },
  {
   "cell_type": "markdown",
   "id": "54e5fab6-b55a-4c7b-a83f-38371eecb741",
   "metadata": {},
   "source": [
    "## Q3. Write a python code to create a process using the multiprocessing module."
   ]
  },
  {
   "cell_type": "code",
   "execution_count": 7,
   "id": "dd95474a-ec8c-4e3c-9022-4d854a3a937b",
   "metadata": {},
   "outputs": [
    {
     "name": "stdout",
     "output_type": "stream",
     "text": [
      "4.0\n",
      "8.0\n"
     ]
    }
   ],
   "source": [
    "import multiprocessing \n",
    "import math\n",
    "def square_root(x):\n",
    "    print(math.sqrt(x))\n",
    "\n",
    "if __name__ == \"__main__\":\n",
    "    process_1 = multiprocessing.Process(target=square_root, args=(16,))\n",
    "    process_2 = multiprocessing.Process(target=square_root, args=(64,))\n",
    "    process_1.start()\n",
    "    process_1.join()\n",
    "    process_2.start()\n",
    "    process_2.join()"
   ]
  },
  {
   "cell_type": "markdown",
   "id": "c9feef59-410a-447a-bf46-35cbcb03885e",
   "metadata": {},
   "source": [
    "## Q4. What is a multiprocessing pool in python? Why is it used?"
   ]
  },
  {
   "cell_type": "markdown",
   "id": "b0ce3bd6-74df-494e-9c43-39836a298a4b",
   "metadata": {},
   "source": [
    "The multiprocessing pool in Python is used to parallelize work across multiple processes, by distributing multiple input values to different processes. Each process runs a function with a different input, which can improve the performance of the task when working with a large number of inputs. The pool object manages these processes and allows the programmer to easily create and manage them in Python. By using a pool of processes, the program can take advantage of the available hardware resources, such as multiple cores or CPUs, to speed up the execution of the program"
   ]
  },
  {
   "cell_type": "markdown",
   "id": "42aa6aab-a3ad-4cdc-b06f-08e6f146b356",
   "metadata": {},
   "source": [
    "## Q5. How can we create a pool of worker processes in python using the multiprocessing module?"
   ]
  },
  {
   "cell_type": "code",
   "execution_count": 13,
   "id": "f1b3a83c-995e-4252-8c90-0677fa9e7290",
   "metadata": {},
   "outputs": [
    {
     "name": "stdout",
     "output_type": "stream",
     "text": [
      "[1.0, 1.4142135623730951, 1.7320508075688772, 2.0, 2.23606797749979, 2.449489742783178, 2.6457513110645907, 2.8284271247461903, 3.0]\n"
     ]
    }
   ],
   "source": [
    "import multiprocessing \n",
    "import math\n",
    "\n",
    "def square_root(x):\n",
    "    return math.sqrt(x)\n",
    "\n",
    "if __name__ == \"__main__\":\n",
    "    with multiprocessing.Pool(processes=10) as pool:\n",
    "        out = pool.map(square_root,[i for i in range (1,10)])\n",
    "        print(out)\n",
    "    "
   ]
  },
  {
   "cell_type": "markdown",
   "id": "225f5ab3-8c6d-4b34-90f7-76c626631015",
   "metadata": {},
   "source": [
    "## Q6. Write a python program to create 4 processes, each process should print a different number using the multiprocessing module in python."
   ]
  },
  {
   "cell_type": "code",
   "execution_count": null,
   "id": "1c38d6c6-5a28-463a-a873-5160fa1f908f",
   "metadata": {},
   "outputs": [
    {
     "name": "stdout",
     "output_type": "stream",
     "text": [
      "process 0 : 10\n",
      "process 1 : 11\n",
      "process 2 : 14\n",
      "process 3 : 19\n"
     ]
    }
   ],
   "source": [
    "import multiprocessing as mp\n",
    "\n",
    "test = lambda n: print(\"process {} : {}\".format(n,(n**2+10)))\n",
    "\n",
    "if __name__ == \"__main__\":\n",
    "    m = [mp.Process(target = test, args=(i,)) for i in range(4)]\n",
    "    [i.start() for i in m]\n",
    "    [i.join() for i in m]\n"
   ]
  },
  {
   "cell_type": "code",
   "execution_count": null,
   "id": "23386a26-e48d-4694-9f66-e873da397113",
   "metadata": {},
   "outputs": [],
   "source": []
  }
 ],
 "metadata": {
  "kernelspec": {
   "display_name": "Python 3 (ipykernel)",
   "language": "python",
   "name": "python3"
  },
  "language_info": {
   "codemirror_mode": {
    "name": "ipython",
    "version": 3
   },
   "file_extension": ".py",
   "mimetype": "text/x-python",
   "name": "python",
   "nbconvert_exporter": "python",
   "pygments_lexer": "ipython3",
   "version": "3.10.8"
  }
 },
 "nbformat": 4,
 "nbformat_minor": 5
}
