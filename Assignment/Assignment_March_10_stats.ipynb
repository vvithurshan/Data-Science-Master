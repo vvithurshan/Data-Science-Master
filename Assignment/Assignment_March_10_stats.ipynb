{
 "cells": [
  {
   "cell_type": "markdown",
   "id": "0520224a-08db-4d01-b587-53a2b5894f67",
   "metadata": {},
   "source": [
    "## Q1: What is Estimation Statistics? Explain point estimate and interval estimate."
   ]
  },
  {
   "cell_type": "markdown",
   "id": "f4b05333-4980-4388-b578-d0e02194a81a",
   "metadata": {},
   "source": [
    "Estimation os the branch of statistics that deals with the estimation of unknown parameters of the population based on the sample data.\n",
    "\n",
    "Point estimate is a single value that is used to estimate the population parameters. Whereas, interval estimate is a range of values that is used to estimate the population parameters. It is obtained by computing the confidence interval, which is a range of values that is likely to contain the true value of the population with a certain degree of confidence."
   ]
  },
  {
   "cell_type": "markdown",
   "id": "be8ad173-7264-4961-9a1b-b022d5093bf3",
   "metadata": {},
   "source": [
    "## Q2. Write a Python function to estimate the population mean using a sample mean and standard deviation."
   ]
  },
  {
   "cell_type": "code",
   "execution_count": 3,
   "id": "c74bab05-086b-4cef-8043-1aafcf1fa4b2",
   "metadata": {},
   "outputs": [],
   "source": [
    "import numpy as np\n",
    "\n",
    "## creating height of population of 1 M \n",
    "\n",
    "pop_height_mean = 170\n",
    "pop_height_std = 10\n",
    "pop_size = 1000000\n",
    "pop_height_data = np.random.normal(loc=pop_height_mean, scale=pop_height_std, size=pop_size)\n"
   ]
  },
  {
   "cell_type": "code",
   "execution_count": 8,
   "id": "0dfa7200-a218-44e3-87e4-ca18bd02eb50",
   "metadata": {},
   "outputs": [],
   "source": [
    "import numpy as np\n",
    "import matplotlib.pyplot as plt\n",
    "\n",
    "# plt.hist(pop_height_data, bins=30, density=True)\n",
    "# plt.xlabel('Height (cm)')\n",
    "# plt.ylabel('Frequency')\n",
    "# plt.title('Distribution of Heights')\n",
    "# plt.show()\n"
   ]
  },
  {
   "cell_type": "code",
   "execution_count": 20,
   "id": "9729c38a-2e04-426a-b827-d94af91681b7",
   "metadata": {},
   "outputs": [],
   "source": [
    "## Randomly select 500 data points from the population and compute the mean of each sample 100 times.\n",
    "\n",
    "sample_size = 500\n",
    "sample_height_data_mean = np.mean([np.random.choice(pop_height_data, size=sample_size, replace=False) for i in range(100)])"
   ]
  },
  {
   "cell_type": "code",
   "execution_count": 21,
   "id": "2ca17b71-3df8-468c-9f00-8f36801db532",
   "metadata": {},
   "outputs": [
    {
     "data": {
      "text/plain": [
       "170.01128159437692"
      ]
     },
     "execution_count": 21,
     "metadata": {},
     "output_type": "execute_result"
    }
   ],
   "source": [
    "sample_height_data_mean"
   ]
  },
  {
   "cell_type": "markdown",
   "id": "bd2a4b54-ab28-4938-b94b-d1d9d6f2061d",
   "metadata": {},
   "source": [
    "**According to the Central Limit Theorem, means of the samples taken from the population follows a normal distribution, and the mean of the sample will be same as the mean of the population. Based on the above calculation it is true. <br>\n",
    "Now we can conclude that the mean of the sample is same as the mean of population**"
   ]
  },
  {
   "cell_type": "code",
   "execution_count": 24,
   "id": "d1761fec-938e-4a51-b30a-f446c0fb8207",
   "metadata": {},
   "outputs": [
    {
     "name": "stdout",
     "output_type": "stream",
     "text": [
      "Mean of the population is in the range of 169.12346135282007 and 170.87653864717993 with 95 % confidence interval\n"
     ]
    }
   ],
   "source": [
    "import math\n",
    "\n",
    "def estimate_pop_mean(sample_mean, sample_std_dev, sample_size):\n",
    "    \n",
    "    std_error = sample_std_dev / math.sqrt(sample_size)\n",
    "    lower_bound = sample_mean - 1.96 * std_error  # 95% confidence interval\n",
    "    upper_bound = sample_mean + 1.96 * std_error  # 95% confidence interval\n",
    "    print(\"Mean of the population is in the range of {} and {} with 95 % confidence interval\".format(lower_bound,upper_bound))\n",
    "\n",
    "estimate_pop_mean(170, 10, 500)\n"
   ]
  },
  {
   "cell_type": "markdown",
   "id": "c1e61ae0-659e-437b-b8b1-dc6d547a7dfc",
   "metadata": {},
   "source": [
    "## Q3: What is Hypothesis testing? Why is it used? State the importance of Hypothesis testing."
   ]
  },
  {
   "cell_type": "markdown",
   "id": "89e9de2a-2e88-4d43-a543-58bceef7013f",
   "metadata": {},
   "source": [
    "Hypothesis testing is a statistical method used to make decisions about a population parameter based on sample data. It involves formulating a null hypothesis and an alternative hypothesis, and then using statistical tests to determine whether there is enough evidence to reject the null hypothesis in favor of the alternative hypothesis.\n",
    "\n",
    "By systematically testing hypotheses and analyzing data, it is possible to make informed decisions based on evidence rather than intuition or guesswork. Hypothesis testing also provides a framework for evaluating the validity of claims and ideas, which is essential for maintaining scientific rigor and integrity."
   ]
  },
  {
   "cell_type": "markdown",
   "id": "3fdcddb4-4cfb-4de2-ae63-3fcc842cf09a",
   "metadata": {},
   "source": [
    "## Q4. Create a hypothesis that states whether the average weight of male college students is greater than the average weight of female college students."
   ]
  },
  {
   "cell_type": "markdown",
   "id": "79fd5a1e-dd4c-4e08-abdd-b574aeaa9fdc",
   "metadata": {},
   "source": [
    "H0 : mean weight of male student is same as the mean weight of female students.\n",
    "HA : mean weight of male student is greater than the mean weight of female students."
   ]
  },
  {
   "cell_type": "markdown",
   "id": "8413a2c2-4449-4d4f-8a4d-4d4547d9a596",
   "metadata": {},
   "source": [
    "## Q5. Write a Python script to conduct a hypothesis test on the difference between two population means, given a sample from each population."
   ]
  },
  {
   "cell_type": "code",
   "execution_count": 27,
   "id": "4b49c78b-7bd0-4380-9fdc-31d7215e9359",
   "metadata": {},
   "outputs": [],
   "source": [
    "#creating two population\n",
    "pop_A_mean = 180\n",
    "pop_A_std = 10\n",
    "pop_A_size = 1000000\n",
    "pop_A = np.random.normal(loc=pop_A_mean, scale=pop_A_std, size=pop_A_size)\n",
    "\n",
    "pop_B_mean = 150\n",
    "pop_B_std = 10\n",
    "pop_B_size = 1000000\n",
    "pop_B = np.random.normal(loc=pop_B_mean, scale=pop_B_std, size=pop_B_size)"
   ]
  },
  {
   "cell_type": "code",
   "execution_count": 28,
   "id": "339396ef-5fff-42d5-8fcc-44bece137340",
   "metadata": {},
   "outputs": [],
   "source": [
    "## Sample of size 1000\n",
    "\n",
    "sample_size = 1000\n",
    "sample_A = np.random.choice(pop_A, size=sample_size, replace=False)\n",
    "sample_B = np.random.choice(pop_B, size=sample_size, replace=False)"
   ]
  },
  {
   "cell_type": "markdown",
   "id": "a06df4d6-75b2-48eb-8ffc-557614b46b26",
   "metadata": {},
   "source": [
    "H0 : mean of pop_A = mean of pop_B <br>\n",
    "HA : mean of pop_A != mean of pop_B"
   ]
  },
  {
   "cell_type": "code",
   "execution_count": 29,
   "id": "dca0e4c8-dfeb-4b6e-86b3-4dc958bffaab",
   "metadata": {},
   "outputs": [],
   "source": [
    "## caclulating the mean of samples\n",
    "\n",
    "mean_sample_A = np.mean(sample_A)\n",
    "mean_sample_B = np.mean(sample_B)"
   ]
  },
  {
   "cell_type": "code",
   "execution_count": 30,
   "id": "03d47f85-1d52-448e-b81e-003d4a800fd1",
   "metadata": {},
   "outputs": [
    {
     "name": "stdout",
     "output_type": "stream",
     "text": [
      "The null hypothesis is rejected, there is a significant difference between the means of two populations.\n"
     ]
    }
   ],
   "source": [
    "## T\n",
    "\n",
    "import scipy.stats as stats\n",
    "\n",
    "t_stat, p_val = stats.ttest_ind(sample_A, sample_B, equal_var=False)\n",
    "\n",
    "alpha = 0.05\n",
    "\n",
    "if p_val < alpha/2 or p_val > (1- alpha/2):\n",
    "    print(\"The null hypothesis is rejected, there is a significant difference between the means of two populations.\")\n",
    "else:\n",
    "    print(\"The null hypothesis is not rejected, there is no significant difference between the means of two populations.\")"
   ]
  },
  {
   "cell_type": "markdown",
   "id": "eebcf41c-5b0b-4424-a3f9-bbb143e97a41",
   "metadata": {},
   "source": [
    "## Q6: What is a null and alternative hypothesis? Give some examples."
   ]
  },
  {
   "cell_type": "markdown",
   "id": "482eb588-3bb7-4d0f-9bfe-f578dea7d119",
   "metadata": {},
   "source": [
    "The null hypothesis (H0) is a statement that assumes there is no significant difference between the groups or samples being compared. The alternative hypothesis (H1 or Ha) is a statement that assumes there is a significant difference between the groups or samples being compared.\n",
    "\n",
    "eg : \n",
    "H0: The mean weight of apples picked from two different farms is the same. \n",
    "HA: The mean weight of apples picked from two different farms is different.\n",
    "\n",
    "H0: There is no relationship between smoking and lung cancer. \n",
    "HA: There is a positive relationship between smoking and lung cancer."
   ]
  },
  {
   "cell_type": "markdown",
   "id": "b4864963-29cc-41c7-913c-30a3589ffd4b",
   "metadata": {},
   "source": [
    "## Q7: Write down the steps involved in hypothesis testing."
   ]
  },
  {
   "cell_type": "markdown",
   "id": "b091caef-efc6-46ca-89a0-2c4f53909e06",
   "metadata": {},
   "source": [
    "1. state null hypothesis and alternative hypothesis.\n",
    "2. choose the level of significance.\n",
    "3. Determine the appropriate statistical test.\n",
    "4. collect dataset and conduct the statistical test.\n",
    "5. determine the p-value\n",
    "6. compare the p-value to the level of significance.\n",
    "7. interpret the results."
   ]
  },
  {
   "cell_type": "markdown",
   "id": "2ffba393-a359-4b50-b87d-efe6a80e7b55",
   "metadata": {},
   "source": [
    "## Q8. Define p-value and explain its significance in hypothesis testing."
   ]
  },
  {
   "cell_type": "markdown",
   "id": "067f4dea-fe6a-4d2b-9253-9926fa98c47a",
   "metadata": {},
   "source": [
    "The p-value is the probability of obtaining a statistical measure that is equal to or greater than the observed value from the sample, if the null hypothesis is true. \n",
    "It provides a measure of the strength of evidence against the null hypothesis. A very small p-value means that such an extreme observed outcome would be very unlikely under the null hypothesis, and we reject the null hypothesis. On the other hand, if the p-value is large, such an extreme observed outcome would be very likely under the null hypothesis, and we fail to reject the null hypothesis. So, it is essential in hypothesis testing."
   ]
  },
  {
   "cell_type": "markdown",
   "id": "3575cf2b-6cee-4a21-9344-e436fe17481b",
   "metadata": {},
   "source": [
    "## Q9. Generate a Student's t-distribution plot using Python's matplotlib library, with the degrees of freedom parameter set to 10."
   ]
  },
  {
   "cell_type": "code",
   "execution_count": 2,
   "id": "234bfad4-3d9b-4feb-86c8-fc8c654a260a",
   "metadata": {},
   "outputs": [
    {
     "data": {
      "image/png": "[encoded data removed]",
      "text/plain": [
       "<Figure size 640x480 with 1 Axes>"
      ]
     },
     "metadata": {},
     "output_type": "display_data"
    }
   ],
   "source": [
    "import numpy as np\n",
    "import matplotlib.pyplot as plt\n",
    "from scipy.stats import t\n",
    "\n",
    "df = 10\n",
    "x = np.linspace(-5, 5, 1000)\n",
    "y = t.pdf(x, df)\n",
    "\n",
    "plt.plot(x, y)\n",
    "plt.title(\"Student's t-distribution with 10 degrees of freedom\")\n",
    "plt.xlabel('x')\n",
    "plt.ylabel('PDF')\n",
    "plt.show()\n"
   ]
  },
  {
   "cell_type": "markdown",
   "id": "dac18d0d-848c-4f66-88ec-0533ce885e29",
   "metadata": {},
   "source": [
    "## Q10. Write a Python program to calculate the two-sample t-test for independent samples, given two random samples of equal size and a null hypothesis that the population means are equal."
   ]
  },
  {
   "cell_type": "code",
   "execution_count": 22,
   "id": "0e8d85f9-749d-4d5c-8008-a8ac7cdc2bce",
   "metadata": {},
   "outputs": [
    {
     "name": "stdout",
     "output_type": "stream",
     "text": [
      "There is a significant difference between the mean of two samples, null hypothesis is rejected\n"
     ]
    }
   ],
   "source": [
    "import numpy as np\n",
    "from scipy import stats\n",
    "\n",
    "def t_test(sample_a, sample_b):\n",
    "    t_stat, p_value = stats.ttest_ind(sample_a, sample_b)\n",
    "\n",
    "    if p_value < 0.025 or p_value > 0.975:\n",
    "        print(\"There is a significant difference between the mean of two samples, null hypothesis is rejected\")\n",
    "    else:\n",
    "        print(\"There is not a significant difference between the mean of two samples, null hypothesis is not rejected\")\n",
    "\n",
    "sample_a = np.random.normal(45, 2, size=100)\n",
    "sample_b = np.random.normal(6, 2, size=100)\n",
    "\n",
    "t_test(sample_a, sample_b)"
   ]
  },
  {
   "cell_type": "markdown",
   "id": "6b636b5e-e0e2-46e6-90a0-905729d694a7",
   "metadata": {},
   "source": [
    "## Q11: What is Student’s t distribution? When to use the t-Distribution."
   ]
  },
  {
   "cell_type": "markdown",
   "id": "f473b3e8-5ea8-4f20-b2a2-a516788826f2",
   "metadata": {},
   "source": [
    "Student's t-distribution is a probability distribution used to estimate population parameters when the sample size is small (less than 30) or when the population standard deviation is unknown. It is similar to the standard normal distribution but with heavier tails, which accounts for greater variability in small sample sizes."
   ]
  },
  {
   "cell_type": "markdown",
   "id": "3dc00e64-485e-4825-94b9-39a5306d60b5",
   "metadata": {},
   "source": [
    "## Q12: What is t-statistic? State the formula for t-statistic."
   ]
  },
  {
   "cell_type": "markdown",
   "id": "e5b14e84-d954-430f-b00a-2e753a11229e",
   "metadata": {},
   "source": [
    "It is used to test whether the mean of a sample is significantly different from the population mean.\n",
    "\n",
    "t = (sample mean - population mean)/(sample standard deviation/square root of sample size)"
   ]
  },
  {
   "cell_type": "markdown",
   "id": "83565b51-7a2f-4e75-a5c6-908673ab5df4",
   "metadata": {},
   "source": [
    "## Q13. A coffee shop owner wants to estimate the average daily revenue for their shop. They take a random sample of 50 days and find the sample mean revenue to be 500 usd with a standard deviation of 50 usd. Estimate the population mean revenue with a 95% confidence interval."
   ]
  },
  {
   "cell_type": "code",
   "execution_count": 26,
   "id": "b1a8e3f8-1c41-4da8-80ae-5083005f709e",
   "metadata": {},
   "outputs": [
    {
     "name": "stdout",
     "output_type": "stream",
     "text": [
      "Population mean is between 485.79015724388137 and 514.2098427561186 with 95 % confidence interval\n"
     ]
    }
   ],
   "source": [
    "import numpy as np\n",
    "from scipy.stats import t\n",
    "\n",
    "def pop_mean(sample_mean, n, sample_std):\n",
    "    df = n - 1\n",
    "    alpha = 0.05\n",
    "    t_value = t.ppf(1 - alpha/2, df)\n",
    "\n",
    "    lower = sample_mean - t_value * sample_std/np.sqrt(n)\n",
    "    upper = sample_mean + t_value * sample_std/np.sqrt(n)\n",
    "    \n",
    "    print(\"Population mean is between {} and {} with 95 % confidence interval\".format(lower, upper))\n",
    "    \n",
    "pop_mean(500, 50, 50)\n",
    "    "
   ]
  },
  {
   "cell_type": "markdown",
   "id": "4101993f-abaf-4774-af31-d0aadd7a4926",
   "metadata": {},
   "source": [
    "## Q14. A researcher hypothesizes that a new drug will decrease blood pressure by 10 mmHg. They conduct a clinical trial with 100 patients and find that the sample mean decrease in blood pressure is 8 mmHg with a standard deviation of 3 mmHg. Test the hypothesis with a significance level of 0.05."
   ]
  },
  {
   "cell_type": "markdown",
   "id": "952b52e3-8651-4156-9ad0-19acad945f52",
   "metadata": {},
   "source": [
    "H0: A new drug will decrease the blood pressure by 10 mmHg <br>\n",
    "H1: A new drung will decrease the blood pressure by less than 10 mmHg\n",
    "\n",
    "Here the standard deviation of the population is not known. So, t-test the appropriate test."
   ]
  },
  {
   "cell_type": "code",
   "execution_count": 3,
   "id": "27f5fc75-ddc0-459c-9412-f366c04eee81",
   "metadata": {},
   "outputs": [
    {
     "name": "stdout",
     "output_type": "stream",
     "text": [
      "There is a significant difference sample mean and population mean, null hypothesis is rejected\n"
     ]
    }
   ],
   "source": [
    "import numpy as np\n",
    "from scipy import stats\n",
    "\n",
    "## it is a one tailed test\n",
    "\n",
    "def t_test(pop_mean, sam_mean, sam_std, alpha, n, mode):\n",
    "    t_value = (sam_mean - pop_mean)/(sam_std/np.sqrt(n))\n",
    "    p_value = stats.t.cdf(t_value, (n - 1))\n",
    "    if mode == 'left':\n",
    "        if p_value < alpha:\n",
    "            print(\"There is a significant difference sample mean and population mean, null hypothesis is rejected\")\n",
    "        else:\n",
    "            print(\"There is not a significant difference sample mean and population mean, null hypothesis is not rejected\")\n",
    "            \n",
    "    elif mode == 'right':\n",
    "        if p_value  > (1 - alpha):\n",
    "            print(\"There is a significant difference sample mean and population mean, null hypothesis is rejected\")\n",
    "        else:\n",
    "            print(\"There is not a significant difference sample mean and population mean, null hypothesis is not rejected\")\n",
    "\n",
    "    elif mode == 'two-tailed':\n",
    "        if p_value  < alpha/2 or p_vlaue > (1-alpha/2):\n",
    "            print(\"There is a significant difference the sample mean and the population mean, null hypothesis is rejected\")\n",
    "        else:\n",
    "            print(\"There is not a significant difference betweeen sample mean and the population mean, null hypothesis is not rejected\")\n",
    "\n",
    "        \n",
    "\n",
    "pop_mean = 10\n",
    "sam_mean = 8\n",
    "sam_std = 3\n",
    "alpha = 0.05\n",
    "n = 100\n",
    "mode = \"left\"\n",
    "\n",
    "t_test(pop_mean, sam_mean, sam_std, alpha, n, mode)"
   ]
  },
  {
   "cell_type": "markdown",
   "id": "8ae61af5-f355-4fd0-bbf4-e83be3542e40",
   "metadata": {},
   "source": [
    "## Q15. An electronics company produces a certain type of product with a mean weight of 5 pounds and a standard deviation of 0.5 pounds. A random sample of 25 products is taken, and the sample mean weight is found to be 4.8 pounds. Test the hypothesis that the true mean weight of the products is less than 5 pounds with a significance level of 0.01."
   ]
  },
  {
   "cell_type": "markdown",
   "id": "96979fab-d5ad-421c-a72f-4bbd71114f30",
   "metadata": {},
   "source": [
    "H0: Mean of weight of the certain type of product is 5 pounds. <br>\n",
    "HA: Mean of weight of the certain type of product is less than 5 pounds.\n",
    "\n",
    "standard deviation of the population is known. So, z-test is the appropriate test."
   ]
  },
  {
   "cell_type": "code",
   "execution_count": 12,
   "id": "431b3e30-d540-4ec9-a5c5-9faed96138a5",
   "metadata": {},
   "outputs": [
    {
     "name": "stdout",
     "output_type": "stream",
     "text": [
      "There is not a significant difference sample mean and population mean, null hypothesis is not rejected\n"
     ]
    }
   ],
   "source": [
    "import numpy as np\n",
    "from scipy import stats\n",
    "\n",
    "## it is a one tailed test\n",
    "\n",
    "def z_test(pop_mean, sam_mean, pop_std, alpha, n, mode):\n",
    "    z_value = (sam_mean - pop_mean)/(pop_std / np.sqrt(n))\n",
    "    p_value = stats.norm.cdf(z_value)\n",
    "    if mode == 'left':\n",
    "        if p_value < alpha:\n",
    "            print(\"There is a significant difference sample mean and population mean, null hypothesis is rejected\")\n",
    "        else:\n",
    "            print(\"There is not a significant difference sample mean and population mean, null hypothesis is not rejected\")\n",
    "            \n",
    "    elif mode == 'right':\n",
    "        if p_value  > (1 - alpha):\n",
    "            print(\"There is a significant difference sample mean and population mean, null hypothesis is rejected\")\n",
    "        else:\n",
    "            print(\"There is not a significant difference sample mean and population mean, null hypothesis is not rejected\")\n",
    "\n",
    "    elif mode == 'two-tailed':\n",
    "        if p_value  < alpha/2 or p_vlaue > (1-alpha/2):\n",
    "            print(\"There is a significant difference the sample mean and the population mean, null hypothesis is rejected\")\n",
    "        else:\n",
    "            print(\"There is not a significant difference betweeen sample mean and the population mean, null hypothesis is not rejected\")\n",
    "\n",
    "        \n",
    "\n",
    "pop_mean = 5\n",
    "sam_mean = 4.8\n",
    "pop_std = 0.5\n",
    "alpha = 0.01\n",
    "n = 25\n",
    "mode = \"left\"\n",
    "\n",
    "z_test(pop_mean, sam_mean, pop_std, alpha, n, mode)"
   ]
  },
  {
   "cell_type": "markdown",
   "id": "9ba6f6bc-3c57-452e-8cbe-886c16c236a0",
   "metadata": {},
   "source": [
    "## Q16. Two groups of students are given different study materials to prepare for a test. The first group (n1 = 30) has a mean score of 80 with a standard deviation of 10, and the second group (n2 = 40) has a mean score of 75 with a standard deviation of 8. Test the hypothesis that the population means for the two groups are equal with a significance level of 0.01."
   ]
  },
  {
   "cell_type": "markdown",
   "id": "fba9229b-bf27-47ed-9e92-31c026fc3e53",
   "metadata": {},
   "source": [
    "H0: Population mean for the two groups are equal. <br>\n",
    "HA: Population mean for the two groups are not equal.\n"
   ]
  },
  {
   "cell_type": "code",
   "execution_count": 21,
   "id": "6a8cb23b-a177-4809-8642-dac6cd7eb69e",
   "metadata": {},
   "outputs": [
    {
     "name": "stdout",
     "output_type": "stream",
     "text": [
      "There is not a significant difference between the mean of two groups, null hypothesis is accepted\n"
     ]
    }
   ],
   "source": [
    "#group 1\n",
    "n1 = 30\n",
    "mean_1 = 80\n",
    "std_1 = 10\n",
    "\n",
    "#group 2\n",
    "n2 = 40\n",
    "mean_2 = 75\n",
    "std_2 = 8\n",
    "\n",
    "alpha = 0.01\n",
    "\n",
    "sp = np.sqrt(((n1-1)*std_1**2 + (n2-1)*std_2**2)/(n1+n2-2))\n",
    "s = sp * np.sqrt(1/n1 + 1/n2)\n",
    "t = (mean_1 - mean_2)/s\n",
    "\n",
    "p_value = stats.t.cdf(t, (n1 + n2 - 2))\n",
    "# print(t, p_value)\n",
    "## two tailed test\n",
    "\n",
    "if p_value < alpha or p_value > (1-alpha):\n",
    "    print(\"There is a significant difference between the mean of two groups, null hypothesis is rejected\")\n",
    "else:\n",
    "    print(\"There is not a significant difference between the mean of two groups, null hypothesis is accepted\")    "
   ]
  },
  {
   "cell_type": "markdown",
   "id": "4c7f23c0-3eef-4340-b103-3b7a7889054a",
   "metadata": {},
   "source": [
    "## Q17. A marketing company wants to estimate the average number of ads watched by viewers during a TV program. They take a random sample of 50 viewers and find that the sample mean is 4 with a standard deviation of 1.5. Estimate the population mean with a 99% confidence interval."
   ]
  },
  {
   "cell_type": "code",
   "execution_count": 50,
   "id": "ff33b095-c9eb-4705-8fc0-7381fcb53ffe",
   "metadata": {},
   "outputs": [
    {
     "name": "stdout",
     "output_type": "stream",
     "text": [
      "Population mean is between 3.4314963358572577 and 4.568503664142742 with 99 % confidence interval\n"
     ]
    }
   ],
   "source": [
    "import numpy as np\n",
    "from scipy.stats import t\n",
    "n = 50\n",
    "df = n - 1\n",
    "alpha = 0.01\n",
    "t_value = t.ppf(1- alpha/2, df)\n",
    "sample_mean = 4\n",
    "sample_std = 1.5\n",
    "\n",
    "lower = sample_mean - t_value * sample_std/np.sqrt(n)\n",
    "upper = sample_mean + t_value * sample_std/np.sqrt(n)\n",
    "\n",
    "print(\"Population mean is between {} and {} with 99 % confidence interval\".format(lower, upper))"
   ]
  },
  {
   "cell_type": "code",
   "execution_count": null,
   "id": "58e256af-dc5a-4928-9194-f8124929aaa8",
   "metadata": {},
   "outputs": [],
   "source": []
  }
 ],
 "metadata": {
  "kernelspec": {
   "display_name": "Python 3 (ipykernel)",
   "language": "python",
   "name": "python3"
  },
  "language_info": {
   "codemirror_mode": {
    "name": "ipython",
    "version": 3
   },
   "file_extension": ".py",
   "mimetype": "text/x-python",
   "name": "python",
   "nbconvert_exporter": "python",
   "pygments_lexer": "ipython3",
   "version": "3.10.8"
  }
 },
 "nbformat": 4,
 "nbformat_minor": 5
}
