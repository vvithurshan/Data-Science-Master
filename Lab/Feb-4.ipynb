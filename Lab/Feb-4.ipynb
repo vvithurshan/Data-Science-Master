{
 "cells": [
  {
   "cell_type": "markdown",
   "id": "2674013a-25d4-44fb-9f72-4ae75a02d685",
   "metadata": {
    "tags": []
   },
   "source": [
    "# Lamda "
   ]
  },
  {
   "cell_type": "code",
   "execution_count": 1,
   "id": "3e7e62e3-adc6-4e3a-89db-0ea26becffef",
   "metadata": {},
   "outputs": [],
   "source": [
    "def pow(n,p):\n",
    "    return n**p"
   ]
  },
  {
   "cell_type": "code",
   "execution_count": 2,
   "id": "c2934e1f-4c5b-4fa4-8234-2ef2c2c820e5",
   "metadata": {},
   "outputs": [
    {
     "data": {
      "text/plain": [
       "25"
      ]
     },
     "execution_count": 2,
     "metadata": {},
     "output_type": "execute_result"
    }
   ],
   "source": [
    "pow(5,2)"
   ]
  },
  {
   "cell_type": "code",
   "execution_count": 7,
   "id": "bafc64f3-c3d0-4e77-98dc-a04d09ddd92b",
   "metadata": {},
   "outputs": [],
   "source": [
    "l = lambda n,p:n**p ## lambda function"
   ]
  },
  {
   "cell_type": "code",
   "execution_count": 8,
   "id": "6865cf79-2352-406f-989c-aa48b18bac6b",
   "metadata": {},
   "outputs": [
    {
     "data": {
      "text/plain": [
       "25"
      ]
     },
     "execution_count": 8,
     "metadata": {},
     "output_type": "execute_result"
    }
   ],
   "source": [
    "l(5,2)"
   ]
  },
  {
   "cell_type": "code",
   "execution_count": 9,
   "id": "5d72687a-50e0-4efd-930b-046be300e13f",
   "metadata": {},
   "outputs": [
    {
     "data": {
      "text/plain": [
       "27"
      ]
     },
     "execution_count": 9,
     "metadata": {},
     "output_type": "execute_result"
    }
   ],
   "source": [
    "l(3,3)"
   ]
  },
  {
   "cell_type": "code",
   "execution_count": 10,
   "id": "287faf3d-c042-4e48-a985-8b41ffec6b63",
   "metadata": {},
   "outputs": [],
   "source": [
    "add = lambda x,y: x+y"
   ]
  },
  {
   "cell_type": "code",
   "execution_count": 11,
   "id": "dbe59518-60d0-46b7-bcb8-941cb2e128b6",
   "metadata": {},
   "outputs": [
    {
     "data": {
      "text/plain": [
       "15"
      ]
     },
     "execution_count": 11,
     "metadata": {},
     "output_type": "execute_result"
    }
   ],
   "source": [
    "add(5,10)"
   ]
  },
  {
   "cell_type": "code",
   "execution_count": 12,
   "id": "4480b2be-b5af-4210-9048-fac60e71ed05",
   "metadata": {},
   "outputs": [],
   "source": [
    "c_to_f = lambda c: (9/5)*c+32"
   ]
  },
  {
   "cell_type": "code",
   "execution_count": 14,
   "id": "6bc12714-c0b5-4d4e-8969-96340b337f84",
   "metadata": {},
   "outputs": [
    {
     "data": {
      "text/plain": [
       "93.2"
      ]
     },
     "execution_count": 14,
     "metadata": {},
     "output_type": "execute_result"
    }
   ],
   "source": [
    "c_to_f(34)"
   ]
  },
  {
   "cell_type": "code",
   "execution_count": 19,
   "id": "4810df6d-039b-4c30-8830-3fa158d2bd7c",
   "metadata": {},
   "outputs": [],
   "source": [
    "max_finder = lambda a, b: a if a > b else b"
   ]
  },
  {
   "cell_type": "code",
   "execution_count": 20,
   "id": "e91e41c7-75dd-4250-82b6-330b92a6ea3b",
   "metadata": {},
   "outputs": [
    {
     "data": {
      "text/plain": [
       "10"
      ]
     },
     "execution_count": 20,
     "metadata": {},
     "output_type": "execute_result"
    }
   ],
   "source": [
    "max_finder(10,-10)"
   ]
  },
  {
   "cell_type": "code",
   "execution_count": 24,
   "id": "7ed8cc48-c7e1-498a-87bd-d61dd3547de0",
   "metadata": {},
   "outputs": [],
   "source": [
    "sum_list = lambda n: sum([i for i in range(n+1)])"
   ]
  },
  {
   "cell_type": "markdown",
   "id": "f5109521-35cf-43fd-8956-d89ba1d5186c",
   "metadata": {},
   "source": [
    "sum_list(10)"
   ]
  },
  {
   "cell_type": "code",
   "execution_count": 27,
   "id": "c300bdd1-dc16-49db-99b7-17a27bf0c2d2",
   "metadata": {},
   "outputs": [],
   "source": [
    "min_list = lambda n: min(n)"
   ]
  },
  {
   "cell_type": "code",
   "execution_count": 29,
   "id": "34267fe5-1928-46d6-b1e5-85c6b5a15235",
   "metadata": {},
   "outputs": [
    {
     "data": {
      "text/plain": [
       "-10"
      ]
     },
     "execution_count": 29,
     "metadata": {},
     "output_type": "execute_result"
    }
   ],
   "source": [
    "min_list([0,1,10,-1,-10])"
   ]
  },
  {
   "cell_type": "markdown",
   "id": "74896e94-9fc9-4a22-90ec-5dc81d14c475",
   "metadata": {
    "tags": []
   },
   "source": [
    "## Labmda practice"
   ]
  },
  {
   "cell_type": "code",
   "execution_count": 93,
   "id": "2f9a2ead-5c20-48b5-9ca3-e3d327d50958",
   "metadata": {
    "collapsed": true,
    "jupyter": {
     "outputs_hidden": true
    },
    "tags": []
   },
   "outputs": [
    {
     "ename": "SyntaxError",
     "evalue": "invalid syntax (453084998.py, line 1)",
     "output_type": "error",
     "traceback": [
      "\u001b[0;36m  Cell \u001b[0;32mIn[93], line 1\u001b[0;36m\u001b[0m\n\u001b[0;31m    Sorting a list based on a certain key or attribute\u001b[0m\n\u001b[0m            ^\u001b[0m\n\u001b[0;31mSyntaxError\u001b[0m\u001b[0;31m:\u001b[0m invalid syntax\n"
     ]
    }
   ],
   "source": [
    "Sorting a list based on a certain key or attribute\n",
    "Applying a certain operation to all elements in a list\n",
    "Performing mathematical operations like sum, multiplication, etc.\n",
    "Filtering elements from a list based on a certain condition\n",
    "Creating a simple function for use within another function\n",
    "Creating a small, throw-away function for a quick operation\n",
    "Mapping values of one list to another using a lambda function\n",
    "Grouping elements in a list based on a certain criterion\n",
    "Modifying the behavior of a function or class method\n",
    "Converting strings to uppercase or lowercase\n",
    "Transforming dates or times into a specific format\n",
    "Calculating the running total of a list of numbers\n",
    "Multiplying all elements of a list by a constant\n",
    "Checking if a string is a palindrome\n",
    "Performing conditional operations in a concise way\n",
    "Removing punctuation or white spaces from strings\n",
    "Getting the highest or lowest value from a list\n",
    "Flattening nested lists into a single list\n",
    "Splitting strings into words or lines\n",
    "Taking the average of a list of numbers\n",
    "Merging dictionaries into a single dictionary\n",
    "Reversing the order of elements in a list\n",
    "Determining the frequency of elements in a list\n",
    "Counting the number of words or characters in a string\n",
    "Summing the elements of a list of lists\n",
    "Finding the difference between two lists\n",
    "Filtering duplicates from a list\n",
    "Generating permutations or combinations of a list\n",
    "Normalizing text by converting it to lowercase and removing unwanted characters\n",
    "Creating a custom rounding function\n",
    "Transforming lists into dictionaries\n",
    "Implementing a simple switch statement\n",
    "Generating a random number\n",
    "Converting strings into numerical data types\n",
    "Determining the greatest common divisor or least common multiple of a set of numbers\n",
    "Transforming dictionaries into lists\n",
    "Encoding or decoding strings with base64\n",
    "Calculating the factorial of a number\n",
    "Implementing the Fibonacci sequence\n",
    "Removing elements from a list based on a certain criterion\n",
    "Parsing a string into a data structure\n",
    "Implementing a simple key-value store\n",
    "Checking if a number is even or odd\n",
    "Creating a decorator function\n",
    "Transforming the values in a dictionary into a list\n",
    "Merging elements in a list of dictionaries based on a common key\n",
    "Performing set operations like union, intersection, difference, etc.\n",
    "Flattening a nested dictionary into a single dictionary\n",
    "Replacing elements in a string based on a certain pattern\n",
    "Implementing a simple memoization technique to improve the performance of a function."
   ]
  },
  {
   "cell_type": "code",
   "execution_count": 92,
   "id": "83237f86-e403-45e1-b39e-a1356f3ed3d5",
   "metadata": {},
   "outputs": [
    {
     "name": "stdin",
     "output_type": "stream",
     "text": [
      "Enter first number:  10\n",
      "Enter second number:  20\n"
     ]
    },
    {
     "name": "stdout",
     "output_type": "stream",
     "text": [
      "The sum of 10 and 20 is 30\n"
     ]
    }
   ],
   "source": [
    "# Program to add two numbers using a lambda function\n",
    "\n",
    "addition = lambda x, y: x + y\n",
    "\n",
    "# Take input from the user\n",
    "num1 = int(input(\"Enter first number: \"))\n",
    "num2 = int(input(\"Enter second number: \"))\n",
    "\n",
    "# Calculate the sum\n",
    "result = addition(num1, num2)\n",
    "\n",
    "# Display the result\n",
    "print(\"The sum of\", num1, \"and\", num2, \"is\", result)"
   ]
  },
  {
   "cell_type": "code",
   "execution_count": 108,
   "id": "73d0607a-f58c-4610-9581-9024a5203df6",
   "metadata": {},
   "outputs": [
    {
     "name": "stdout",
     "output_type": "stream",
     "text": [
      "['Steve Aardvark', 'Mike Mo', 'Alf Zed']\n"
     ]
    }
   ],
   "source": [
    "#list sorting according to the last name\n",
    "names = ['Alf Zed', 'Mike Mo', 'Steve Aardvark']\n",
    "names.sort(key = lambda x: x.split()[-1].lower())\n",
    "print(names)"
   ]
  },
  {
   "cell_type": "code",
   "execution_count": null,
   "id": "9ba71746-9f38-4473-9cb9-b304012580a1",
   "metadata": {},
   "outputs": [],
   "source": []
  },
  {
   "cell_type": "markdown",
   "id": "8e7f23eb-5818-4b69-b554-b268eb0aa385",
   "metadata": {
    "tags": []
   },
   "source": [
    "# map reduce filter functions"
   ]
  },
  {
   "cell_type": "code",
   "execution_count": 2,
   "id": "b48cfc67-6164-4cee-9089-83e2a3f2fa61",
   "metadata": {},
   "outputs": [],
   "source": [
    "l = [1,2,3,4,45,5]"
   ]
  },
  {
   "cell_type": "code",
   "execution_count": 3,
   "id": "6b96eab7-c79f-4c6d-a02f-dd499d2a3e3d",
   "metadata": {},
   "outputs": [],
   "source": [
    "def sqr(l2):\n",
    "    print(id(l2))\n",
    "    for i in range(len(l2)):\n",
    "        l2[i] = l2[i]**2\n",
    "    return l2"
   ]
  },
  {
   "cell_type": "code",
   "execution_count": 4,
   "id": "a4b8f423-9ff5-4023-b724-0ffa58748544",
   "metadata": {},
   "outputs": [
    {
     "name": "stdout",
     "output_type": "stream",
     "text": [
      "140655648249152\n",
      "140655648249152\n"
     ]
    },
    {
     "data": {
      "text/plain": [
       "[1, 4, 9, 16, 2025, 25]"
      ]
     },
     "execution_count": 4,
     "metadata": {},
     "output_type": "execute_result"
    }
   ],
   "source": [
    "print(id(l)) ## \n",
    "l2 = sqr(l)\n",
    "l2"
   ]
  },
  {
   "cell_type": "raw",
   "id": "aeb799e1-50b2-40d0-9ae7-06dd2ca6084e",
   "metadata": {},
   "source": [
    "The issue with the above approach is that it modifies the original list \"l\" in place and doesn't create a new list to store the squared values. If the original list needs to be preserved, a new list needs to be created and the squared values should be appended to it."
   ]
  },
  {
   "cell_type": "code",
   "execution_count": 5,
   "id": "79149de0-84a6-48c4-9bc4-244a9cad1922",
   "metadata": {},
   "outputs": [],
   "source": [
    "def sqr_2(l):\n",
    "    l2 = []\n",
    "    for i in l:\n",
    "        l2.append(i*i)\n",
    "    return l2"
   ]
  },
  {
   "cell_type": "code",
   "execution_count": 6,
   "id": "a7569684-c573-4356-b07c-15cb7560d423",
   "metadata": {},
   "outputs": [
    {
     "data": {
      "text/plain": [
       "[1, 16, 81, 256, 4100625, 625]"
      ]
     },
     "execution_count": 6,
     "metadata": {},
     "output_type": "execute_result"
    }
   ],
   "source": [
    "sqr_2(l)"
   ]
  },
  {
   "cell_type": "code",
   "execution_count": 7,
   "id": "6308c863-364c-43f8-803a-df9fe6fce228",
   "metadata": {},
   "outputs": [
    {
     "data": {
      "text/plain": [
       "[1, 16, 81, 256, 4100625, 625]"
      ]
     },
     "execution_count": 7,
     "metadata": {},
     "output_type": "execute_result"
    }
   ],
   "source": [
    "[i*i for i in l]"
   ]
  },
  {
   "cell_type": "markdown",
   "id": "a55c6d92-0747-40f3-9eaf-fb4598ad030d",
   "metadata": {},
   "source": [
    "### Same task in one line"
   ]
  },
  {
   "cell_type": "code",
   "execution_count": 8,
   "id": "6ea10734-930e-41b3-ae31-8b102cb0a29e",
   "metadata": {},
   "outputs": [],
   "source": [
    "def sq(x):\n",
    "    return x**2"
   ]
  },
  {
   "cell_type": "code",
   "execution_count": 9,
   "id": "97f81200-dc0e-45ba-aa3a-0ec3cebfeb92",
   "metadata": {},
   "outputs": [
    {
     "data": {
      "text/plain": [
       "<map at 0x7fecf1453a90>"
      ]
     },
     "execution_count": 9,
     "metadata": {},
     "output_type": "execute_result"
    }
   ],
   "source": [
    "map(sq, l) ## it gives map object"
   ]
  },
  {
   "cell_type": "code",
   "execution_count": 10,
   "id": "92f97e27-31db-4a10-9b17-f917b745fb60",
   "metadata": {},
   "outputs": [
    {
     "data": {
      "text/plain": [
       "[1, 16, 81, 256, 4100625, 625]"
      ]
     },
     "execution_count": 10,
     "metadata": {},
     "output_type": "execute_result"
    }
   ],
   "source": [
    "list(map(sq, l)) ## it pass each element one by one"
   ]
  },
  {
   "cell_type": "code",
   "execution_count": 11,
   "id": "3fabf24f-94df-46df-a0cd-6a91008250a9",
   "metadata": {},
   "outputs": [
    {
     "data": {
      "text/plain": [
       "[1, 16, 81, 256, 4100625, 625]"
      ]
     },
     "execution_count": 11,
     "metadata": {},
     "output_type": "execute_result"
    }
   ],
   "source": [
    "list(map(lambda x:x**2, l))"
   ]
  },
  {
   "cell_type": "code",
   "execution_count": 12,
   "id": "08481e6a-7c09-4a0e-84a0-01ef032ab95b",
   "metadata": {},
   "outputs": [],
   "source": [
    "l1 = [ 1,2,3,4,5]\n",
    "l2 =[ 6,7,8,9,10]\n",
    "# output [7,9,11,12,15]"
   ]
  },
  {
   "cell_type": "code",
   "execution_count": 13,
   "id": "3bd91d4a-50ac-48f9-add4-4f920bbad5e9",
   "metadata": {},
   "outputs": [
    {
     "data": {
      "text/plain": [
       "[8, 10, 12, 14, 16]"
      ]
     },
     "execution_count": 13,
     "metadata": {},
     "output_type": "execute_result"
    }
   ],
   "source": [
    "list(map(lambda x,y,z: x + y + z, l1, l2,[1,1,1,1,1]))"
   ]
  },
  {
   "cell_type": "code",
   "execution_count": 18,
   "id": "997333b0-b030-424a-867e-b63e5e4fb8f6",
   "metadata": {},
   "outputs": [
    {
     "data": {
      "text/plain": [
       "[8, 10, 12, 14, 16]"
      ]
     },
     "execution_count": 18,
     "metadata": {},
     "output_type": "execute_result"
    }
   ],
   "source": [
    "list(map(lambda x,y,z: x + y + z, l1, l2,[1,1,1,1,1]))"
   ]
  },
  {
   "cell_type": "code",
   "execution_count": 81,
   "id": "8ba0587a-3ca2-4de1-a36a-95cec13b3286",
   "metadata": {},
   "outputs": [
    {
     "data": {
      "text/plain": [
       "[8, 10, 12, 14, 16]"
      ]
     },
     "execution_count": 81,
     "metadata": {},
     "output_type": "execute_result"
    }
   ],
   "source": [
    "lmd = lambda x,y,z: x + y + z\n",
    "list(map(lmd,  l1, l2,[1,1,1,1,1]))"
   ]
  },
  {
   "cell_type": "code",
   "execution_count": 82,
   "id": "80eb8386-b62e-44cc-90d8-2d83089a5c42",
   "metadata": {},
   "outputs": [],
   "source": [
    "## convert each char into a upper case"
   ]
  },
  {
   "cell_type": "code",
   "execution_count": 84,
   "id": "e82806a1-362a-4d38-b830-8b8862db5a86",
   "metadata": {},
   "outputs": [],
   "source": [
    "s = \"convert\"\n",
    "s_map = list(map(lambda x:x.upper(),s))"
   ]
  },
  {
   "cell_type": "code",
   "execution_count": 85,
   "id": "ade1c3ad-268b-40da-a9e3-683f28479d05",
   "metadata": {},
   "outputs": [
    {
     "data": {
      "text/plain": [
       "'CONVERT'"
      ]
     },
     "execution_count": 85,
     "metadata": {},
     "output_type": "execute_result"
    }
   ],
   "source": [
    "''.join(s_map)"
   ]
  },
  {
   "cell_type": "code",
   "execution_count": 19,
   "id": "8eeb35fa-e030-40a9-969c-9f2bbbf5560b",
   "metadata": {},
   "outputs": [],
   "source": [
    "## practice"
   ]
  },
  {
   "cell_type": "code",
   "execution_count": 66,
   "id": "94e87fb5-2512-45b4-ad13-682143e225b3",
   "metadata": {
    "tags": []
   },
   "outputs": [],
   "source": [
    "lst_1 = [chr(i+64) for i in range(1,5)]\n",
    "lst_2 = [i for i in range(1,5)]"
   ]
  },
  {
   "cell_type": "code",
   "execution_count": 88,
   "id": "b652f765-5924-49bb-a917-5fb79ad986d7",
   "metadata": {},
   "outputs": [],
   "source": [
    "## they are going to return the same output\n",
    "a=alp_to_num = dict(map(lambda x,y: [x,y],lst_1,lst_2))\n",
    "b=alp_to_num = dict(map(lambda x,y: (x,y),lst_1,lst_2))\n",
    "c=alp_to_num = dict(map(lambda x,y: {x,y},lst_1,lst_2))"
   ]
  },
  {
   "cell_type": "code",
   "execution_count": 89,
   "id": "d19db99b-8e88-4e98-9b90-e63ece199f19",
   "metadata": {
    "tags": []
   },
   "outputs": [
    {
     "name": "stdout",
     "output_type": "stream",
     "text": [
      "{'a': 1, 'b': 2, 'c': 3, 'd': 4}\n",
      "{'a': 1, 'b': 2, 'c': 3, 'd': 4}\n",
      "{'a': 1, 'b': 2, 3: 'c', 'd': 4}\n"
     ]
    }
   ],
   "source": [
    "print(a)\n",
    "print(b)\n",
    "print(c)"
   ]
  },
  {
   "cell_type": "code",
   "execution_count": 70,
   "id": "664a8cf1-c9c3-43c1-b341-ae163de547cd",
   "metadata": {},
   "outputs": [
    {
     "data": {
      "text/plain": [
       "{'a': 1, 'b': 2, 'c': 3, 'd': 4}"
      ]
     },
     "execution_count": 70,
     "metadata": {},
     "output_type": "execute_result"
    }
   ],
   "source": [
    "lst_1 = ['a', 'b', 'c', 'd']\n",
    "lst_2 = [1, 2, 3, 4]\n",
    "alp_to_num = dict(map(lambda x,y: (x,y),lst_1,lst_2))\n",
    "alp_to_num"
   ]
  },
  {
   "cell_type": "code",
   "execution_count": 91,
   "id": "9859f644-8b9a-4ebd-a6ee-f9fe9054ce20",
   "metadata": {},
   "outputs": [
    {
     "data": {
      "text/plain": [
       "{'a': 1, 'b': 2, 'c': 3, 'd': 4}"
      ]
     },
     "execution_count": 91,
     "metadata": {},
     "output_type": "execute_result"
    }
   ],
   "source": [
    "alp_to_num = {x: y for x, y in zip(lst_1, lst_2)}\n",
    "alp_to_num"
   ]
  },
  {
   "cell_type": "code",
   "execution_count": 72,
   "id": "2f530761-c87f-402a-a3b9-6c806b254d84",
   "metadata": {},
   "outputs": [
    {
     "data": {
      "text/plain": [
       "{'a': 1, 'b': 2, 'c': 3, 'd': 4}"
      ]
     },
     "execution_count": 72,
     "metadata": {},
     "output_type": "execute_result"
    }
   ],
   "source": [
    "def alp_to_num(lst_1, lst_2):\n",
    "    return {x: y for x, y in zip(lst_1, lst_2)}\n",
    "alp_to_num(lst_1,lst_2)"
   ]
  },
  {
   "cell_type": "markdown",
   "id": "45d85bd2-02b6-4004-a211-c714852cd7a6",
   "metadata": {},
   "source": [
    "## reduce function"
   ]
  },
  {
   "cell_type": "code",
   "execution_count": 87,
   "id": "df60e8f8-e096-45c5-9fc5-2f5309c3defb",
   "metadata": {},
   "outputs": [],
   "source": [
    "from functools import reduce"
   ]
  },
  {
   "cell_type": "code",
   "execution_count": 89,
   "id": "a3412698-6b64-481e-af25-79447d719089",
   "metadata": {},
   "outputs": [],
   "source": [
    "l = [1,2,3,4,5,4]"
   ]
  },
  {
   "cell_type": "code",
   "execution_count": 93,
   "id": "3ee11174-f8e1-4558-a788-22f9fe46d674",
   "metadata": {},
   "outputs": [
    {
     "data": {
      "text/plain": [
       "19"
      ]
     },
     "execution_count": 93,
     "metadata": {},
     "output_type": "execute_result"
    }
   ],
   "source": [
    "reduce(lambda x,y:x+y,l) ##((1+2) + 3) + 4)... this is how it work, reduce element one by one"
   ]
  },
  {
   "cell_type": "code",
   "execution_count": 99,
   "id": "5648f729-f6fc-4ebf-a303-610db74c21df",
   "metadata": {},
   "outputs": [
    {
     "ename": "TypeError",
     "evalue": "<lambda>() missing 1 required positional argument: 'z'",
     "output_type": "error",
     "traceback": [
      "\u001b[0;31m---------------------------------------------------------------------------\u001b[0m",
      "\u001b[0;31mTypeError\u001b[0m                                 Traceback (most recent call last)",
      "Cell \u001b[0;32mIn[99], line 1\u001b[0m\n\u001b[0;32m----> 1\u001b[0m \u001b[43mreduce\u001b[49m\u001b[43m(\u001b[49m\u001b[38;5;28;43;01mlambda\u001b[39;49;00m\u001b[43m \u001b[49m\u001b[43mx\u001b[49m\u001b[43m,\u001b[49m\u001b[43my\u001b[49m\u001b[43m,\u001b[49m\u001b[43mz\u001b[49m\u001b[43m:\u001b[49m\u001b[43mx\u001b[49m\u001b[38;5;241;43m+\u001b[39;49m\u001b[43my\u001b[49m\u001b[38;5;241;43m+\u001b[39;49m\u001b[43mz\u001b[49m\u001b[43m,\u001b[49m\u001b[43ml\u001b[49m\u001b[43m)\u001b[49m \u001b[38;5;66;03m# but sometimes it works. better to take two arg at time\u001b[39;00m\n",
      "\u001b[0;31mTypeError\u001b[0m: <lambda>() missing 1 required positional argument: 'z'"
     ]
    }
   ],
   "source": [
    "reduce(lambda x,y,z:x+y+z,l) # but sometimes it works. better to take two arg at time"
   ]
  },
  {
   "cell_type": "code",
   "execution_count": 102,
   "id": "08713022-5645-4820-b0f9-0889301d3e69",
   "metadata": {},
   "outputs": [
    {
     "data": {
      "text/plain": [
       "1"
      ]
     },
     "execution_count": 102,
     "metadata": {},
     "output_type": "execute_result"
    }
   ],
   "source": [
    "reduce(lambda x,y:x+y,[1]) # it is an exceptional case"
   ]
  },
  {
   "cell_type": "code",
   "execution_count": 100,
   "id": "0d526be1-4d24-4034-9e54-6763fea95a24",
   "metadata": {},
   "outputs": [],
   "source": [
    "def add(x,y):\n",
    "    return x + y"
   ]
  },
  {
   "cell_type": "code",
   "execution_count": 101,
   "id": "2c190e84-6fc8-4973-8363-eff0d0240237",
   "metadata": {},
   "outputs": [
    {
     "data": {
      "text/plain": [
       "19"
      ]
     },
     "execution_count": 101,
     "metadata": {},
     "output_type": "execute_result"
    }
   ],
   "source": [
    "reduce(add,l) ## first arg > function, second > iterable variable"
   ]
  },
  {
   "cell_type": "code",
   "execution_count": 103,
   "id": "e5d293b3-cf05-4b9a-8d73-82216c92208b",
   "metadata": {},
   "outputs": [],
   "source": [
    "This## find max\n",
    "l3 = [1,2,5,10,-10]"
   ]
  },
  {
   "cell_type": "code",
   "execution_count": 105,
   "id": "a5be6019-2795-4140-a19b-760388c86bdd",
   "metadata": {},
   "outputs": [
    {
     "data": {
      "text/plain": [
       "10"
      ]
     },
     "execution_count": 105,
     "metadata": {},
     "output_type": "execute_result"
    }
   ],
   "source": [
    "reduce(lambda x,y: x if x >y else y, l3)"
   ]
  },
  {
   "cell_type": "markdown",
   "id": "ed29ee15-e219-473b-94fe-792d88cf05ad",
   "metadata": {
    "jp-MarkdownHeadingCollapsed": true,
    "tags": []
   },
   "source": [
    "# filter function"
   ]
  },
  {
   "cell_type": "code",
   "execution_count": 109,
   "id": "e4b60401-9799-454d-803a-f5c4d4305c56",
   "metadata": {},
   "outputs": [],
   "source": [
    "l4 = [i for i in range(10)] ## only even"
   ]
  },
  {
   "cell_type": "code",
   "execution_count": 112,
   "id": "cb2be24a-7da8-4863-8774-181a578be9fb",
   "metadata": {},
   "outputs": [
    {
     "data": {
      "text/plain": [
       "[0, 2, 4, 6, 8]"
      ]
     },
     "execution_count": 112,
     "metadata": {},
     "output_type": "execute_result"
    }
   ],
   "source": [
    "list(filter(lambda x: x % 2 == 0,l4))"
   ]
  },
  {
   "cell_type": "code",
   "execution_count": 113,
   "id": "81f3ba02-c178-45ee-bc0a-c3c268909bfc",
   "metadata": {},
   "outputs": [],
   "source": [
    "l5 = [-1, 0, -2, -10,10,20]"
   ]
  },
  {
   "cell_type": "code",
   "execution_count": 114,
   "id": "ef999846-490e-4414-acd5-9ed870922ed5",
   "metadata": {},
   "outputs": [
    {
     "data": {
      "text/plain": [
       "[-1, -2, -10]"
      ]
     },
     "execution_count": 114,
     "metadata": {},
     "output_type": "execute_result"
    }
   ],
   "source": [
    "list(filter(lambda x: x < 0,l5))"
   ]
  },
  {
   "cell_type": "code",
   "execution_count": 115,
   "id": "204972b7-3ccc-4269-9535-374e68d6bb17",
   "metadata": {},
   "outputs": [],
   "source": [
    "## filter element whose len < 6"
   ]
  },
  {
   "cell_type": "code",
   "execution_count": 116,
   "id": "3228c0aa-cb98-4d0c-9404-1c024431301a",
   "metadata": {},
   "outputs": [],
   "source": [
    "l6 = [\"aaaa\",\"bbbbbb\",\"ccccc\",\"dddddddd\",\"e\"]"
   ]
  },
  {
   "cell_type": "code",
   "execution_count": 117,
   "id": "ec6b8987-fab0-4ae7-bf10-634088c639fb",
   "metadata": {},
   "outputs": [
    {
     "data": {
      "text/plain": [
       "['aaaa', 'ccccc', 'e']"
      ]
     },
     "execution_count": 117,
     "metadata": {},
     "output_type": "execute_result"
    }
   ],
   "source": [
    "list(filter(lambda x: len(x) < 6, l6))"
   ]
  },
  {
   "cell_type": "code",
   "execution_count": null,
   "id": "a1794f89-7be4-41d0-8d17-2a93fdbd3bd1",
   "metadata": {},
   "outputs": [],
   "source": []
  }
 ],
 "metadata": {
  "kernelspec": {
   "display_name": "Python 3 (ipykernel)",
   "language": "python",
   "name": "python3"
  },
  "language_info": {
   "codemirror_mode": {
    "name": "ipython",
    "version": 3
   },
   "file_extension": ".py",
   "mimetype": "text/x-python",
   "name": "python",
   "nbconvert_exporter": "python",
   "pygments_lexer": "ipython3",
   "version": "3.10.8"
  }
 },
 "nbformat": 4,
 "nbformat_minor": 5
}
