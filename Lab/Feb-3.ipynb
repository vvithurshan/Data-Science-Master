{
 "cells": [
  {
   "cell_type": "markdown",
   "id": "58a9ebab-df6b-4186-bce7-7840940c48e8",
   "metadata": {
    "jp-MarkdownHeadingCollapsed": true,
    "tags": []
   },
   "source": [
    "## Function"
   ]
  },
  {
   "cell_type": "markdown",
   "id": "ee564c22-e32b-4a1a-a03b-db3af0ab059a",
   "metadata": {},
   "source": [
    "def test():\n",
    "    pass"
   ]
  },
  {
   "cell_type": "code",
   "execution_count": 4,
   "id": "fac1338f-0b56-4d89-8b2e-75f3f9ede1b7",
   "metadata": {},
   "outputs": [
    {
     "name": "stdout",
     "output_type": "stream",
     "text": [
      "This is not my first function\n",
      "This is not my first function\n"
     ]
    },
    {
     "ename": "TypeError",
     "evalue": "unsupported operand type(s) for +: 'NoneType' and 'str'",
     "output_type": "error",
     "traceback": [
      "\u001b[0;31m---------------------------------------------------------------------------\u001b[0m",
      "\u001b[0;31mTypeError\u001b[0m                                 Traceback (most recent call last)",
      "Cell \u001b[0;32mIn[4], line 5\u001b[0m\n\u001b[1;32m      2\u001b[0m     \u001b[38;5;28mprint\u001b[39m(\u001b[38;5;124m\"\u001b[39m\u001b[38;5;124mThis is not my first function\u001b[39m\u001b[38;5;124m\"\u001b[39m)\n\u001b[1;32m      4\u001b[0m test1()\n\u001b[0;32m----> 5\u001b[0m \u001b[43mtest1\u001b[49m\u001b[43m(\u001b[49m\u001b[43m)\u001b[49m\u001b[43m \u001b[49m\u001b[38;5;241;43m+\u001b[39;49m\u001b[43m \u001b[49m\u001b[38;5;124;43m\"\u001b[39;49m\u001b[38;5;124;43mHi\u001b[39;49m\u001b[38;5;124;43m\"\u001b[39;49m\n",
      "\u001b[0;31mTypeError\u001b[0m: unsupported operand type(s) for +: 'NoneType' and 'str'"
     ]
    }
   ],
   "source": [
    "def test1():\n",
    "    print(\"This is not my first function\")\n",
    "    \n",
    "test1()\n",
    "test1() + \"Hi\" # it returns None"
   ]
  },
  {
   "cell_type": "code",
   "execution_count": 11,
   "id": "ec79a39e-8fcb-43a4-b71b-c45e3fb8b649",
   "metadata": {},
   "outputs": [
    {
     "data": {
      "text/plain": [
       "'HI HI Vithurshan'"
      ]
     },
     "execution_count": 11,
     "metadata": {},
     "output_type": "execute_result"
    }
   ],
   "source": [
    "def test3():\n",
    "    return \"HI \" * 2\n",
    "\n",
    "test3() + \"Vithurshan\""
   ]
  },
  {
   "cell_type": "code",
   "execution_count": 18,
   "id": "d7f23301-5284-4e6f-90b8-370e6335d199",
   "metadata": {},
   "outputs": [
    {
     "name": "stdout",
     "output_type": "stream",
     "text": [
      "<class 'tuple'>\n"
     ]
    }
   ],
   "source": [
    "def test4():\n",
    "    return 1,4,'hi',5.5 ## it returns in the form of tuple\n",
    "\n",
    "print(type(test4()))"
   ]
  },
  {
   "cell_type": "code",
   "execution_count": 19,
   "id": "acb73f9f-cfc4-4c7c-af6d-146965f3458a",
   "metadata": {},
   "outputs": [
    {
     "name": "stdout",
     "output_type": "stream",
     "text": [
      "<class 'list'>\n"
     ]
    }
   ],
   "source": [
    "def test4():\n",
    "    return [1,4,'hi',5.5]\n",
    "\n",
    "print(type(test4()))"
   ]
  },
  {
   "cell_type": "code",
   "execution_count": 22,
   "id": "22124629-7925-4e91-810f-21b089b3bcff",
   "metadata": {},
   "outputs": [
    {
     "name": "stdout",
     "output_type": "stream",
     "text": [
      "1 4 hi 5.5\n",
      "hi\n"
     ]
    }
   ],
   "source": [
    "def test4():\n",
    "    return [1,4,'hi',5.5]\n",
    "\n",
    "a,b,c,d = test4()\n",
    "print(a, b, c, d)\n",
    "print(test4()[2])\n"
   ]
  },
  {
   "cell_type": "code",
   "execution_count": 24,
   "id": "a6cc8a10-cd56-4c8d-a520-90ebfc8ed19b",
   "metadata": {},
   "outputs": [
    {
     "name": "stdout",
     "output_type": "stream",
     "text": [
      "hi how are you\n"
     ]
    }
   ],
   "source": [
    "def test5(a,b):\n",
    "    return a + b\n",
    "\n",
    "print(test5(a = \"hi \", b = \"how are you\"))"
   ]
  },
  {
   "cell_type": "code",
   "execution_count": 25,
   "id": "5dfa67aa-3fca-4842-9ce2-cfa2b1cd7458",
   "metadata": {},
   "outputs": [],
   "source": [
    "# create a function which will take list as a input and give me a final list with all the numeric value"
   ]
  },
  {
   "cell_type": "code",
   "execution_count": 36,
   "id": "0b972039-a75b-448a-9201-38b24baba338",
   "metadata": {},
   "outputs": [],
   "source": [
    "l = [1,2,3,4,5,\"hi\",\"how\",[i for i in range(10,20)],(x for x in range(20,30)),{y for y in range(30,40)}]"
   ]
  },
  {
   "cell_type": "code",
   "execution_count": 39,
   "id": "eede99b4-f1b3-434f-8018-f69ccc8b422d",
   "metadata": {},
   "outputs": [
    {
     "name": "stdout",
     "output_type": "stream",
     "text": [
      "[1, 2, 3, 4, 5, [10, 11, 12, 13, 14, 15, 16, 17, 18, 19]]\n"
     ]
    }
   ],
   "source": [
    "def test6(l1):\n",
    "    n = []\n",
    "    for i in l1:\n",
    "        if type(i) == int or type(i) == float:\n",
    "            n.append(i)\n",
    "        elif type(i)  == list:\n",
    "            lst = []\n",
    "            for l in i:\n",
    "                if type(l) == int or type(l) == float:\n",
    "                    lst.append(l)\n",
    "            n.append(lst)\n",
    "        elif type(i) == tuple:\n",
    "            tup = ()\n",
    "            for t in i:\n",
    "                if type(t) == int or type(t) == float:\n",
    "                    tup.append(t)\n",
    "            n.append(tup)\n",
    "        # elif type(i) == set:\n",
    "        #     set_emp = set()\n",
    "        #     for s in i:\n",
    "        #         if type(s) == int or type(s) == float:\n",
    "        #             set_emp.append(s)\n",
    "        #     n.append(set_emp)\n",
    "    return n\n",
    "\n",
    "print(test6(l))"
   ]
  },
  {
   "cell_type": "markdown",
   "id": "82ec8726-c225-44cf-886b-fa309b04a242",
   "metadata": {},
   "source": [
    "### Part 2"
   ]
  },
  {
   "cell_type": "code",
   "execution_count": 40,
   "id": "7132caab-f103-47ff-ae15-2fe9cff2587a",
   "metadata": {},
   "outputs": [],
   "source": [
    "def t(a,b,c,d,e):\n",
    "    pass"
   ]
  },
  {
   "cell_type": "code",
   "execution_count": 41,
   "id": "e59fe748-d11e-4fcd-afd1-a454bc5d49d4",
   "metadata": {},
   "outputs": [
    {
     "ename": "NameError",
     "evalue": "name 't' is not defined",
     "output_type": "error",
     "traceback": [
      "\u001b[0;31m---------------------------------------------------------------------------\u001b[0m",
      "\u001b[0;31mNameError\u001b[0m                                 Traceback (most recent call last)",
      "Cell \u001b[0;32mIn[41], line 1\u001b[0m\n\u001b[0;32m----> 1\u001b[0m \u001b[43mt\u001b[49m(\u001b[38;5;241m1\u001b[39m,\u001b[38;5;241m2\u001b[39m,\u001b[38;5;241m3\u001b[39m,\u001b[38;5;241m4\u001b[39m,\u001b[38;5;241m5\u001b[39m,\u001b[38;5;241m6\u001b[39m,\u001b[38;5;241m7\u001b[39m)\n",
      "\u001b[0;31mNameError\u001b[0m: name 't' is not defined"
     ]
    }
   ],
   "source": [
    "t(1,2,3,4,5,6,7)"
   ]
  },
  {
   "cell_type": "code",
   "execution_count": 46,
   "id": "b3fdfa72-c6ef-4b09-a6f9-e91879295477",
   "metadata": {},
   "outputs": [
    {
     "name": "stdout",
     "output_type": "stream",
     "text": [
      "[1, 2, 3, 4, 5, 6, 7]\n"
     ]
    }
   ],
   "source": [
    "def t1(* args): ## args is not a keyword, any word can be used\n",
    "    return list(args)\n",
    "print(t1(1,2,3,4,5,6,7))"
   ]
  },
  {
   "cell_type": "code",
   "execution_count": 47,
   "id": "d2931d43-09eb-4e74-be57-e469deedbca7",
   "metadata": {},
   "outputs": [
    {
     "name": "stdout",
     "output_type": "stream",
     "text": [
      "[1, 2, 3, 4, 5, 6, 7]\n"
     ]
    }
   ],
   "source": [
    "def t1(*paras):\n",
    "    return list(paras)\n",
    "print(t1(1,2,3,4,5,6,7))"
   ]
  },
  {
   "cell_type": "code",
   "execution_count": 51,
   "id": "7b1d639e-6185-4049-be47-5e5fc86d0b2f",
   "metadata": {},
   "outputs": [
    {
     "name": "stdout",
     "output_type": "stream",
     "text": [
      "((10, 11, 12), 40)\n"
     ]
    }
   ],
   "source": [
    "def t3(*args, a):\n",
    "    return args, a\n",
    "print(t3(10,11, 12, a=40))"
   ]
  },
  {
   "cell_type": "code",
   "execution_count": 55,
   "id": "6dd57aac-b93b-401c-908c-344d2f6688f9",
   "metadata": {},
   "outputs": [],
   "source": [
    "def t4(*args): ## args stores the data in the form of tuple\n",
    "    l = []\n",
    "    for i in args:\n",
    "        if type(i) == list:\n",
    "            l.append(i)\n",
    "    return l"
   ]
  },
  {
   "cell_type": "code",
   "execution_count": 56,
   "id": "db0f4886-c1ed-480d-8af0-011ba68899cc",
   "metadata": {},
   "outputs": [
    {
     "data": {
      "text/plain": [
       "[[1, 1, 1]]"
      ]
     },
     "execution_count": 56,
     "metadata": {},
     "output_type": "execute_result"
    }
   ],
   "source": [
    "t4(1,2,[1,1,1],(0,0,0),\"hi\")"
   ]
  },
  {
   "cell_type": "code",
   "execution_count": 1,
   "id": "989930e0-88d1-47a0-ae89-4b483b142002",
   "metadata": {},
   "outputs": [],
   "source": [
    "def t5(**dict):\n",
    "    return dict"
   ]
  },
  {
   "cell_type": "code",
   "execution_count": 2,
   "id": "111588d7-aad1-4525-a8f3-bd37a9813195",
   "metadata": {},
   "outputs": [
    {
     "data": {
      "text/plain": [
       "{}"
      ]
     },
     "execution_count": 2,
     "metadata": {},
     "output_type": "execute_result"
    }
   ],
   "source": [
    "t5() ## it return dictionary"
   ]
  },
  {
   "cell_type": "code",
   "execution_count": 3,
   "id": "a7a98e6d-7dda-4951-ab51-fd72401954d5",
   "metadata": {},
   "outputs": [
    {
     "name": "stdout",
     "output_type": "stream",
     "text": [
      "<class 'dict'>\n",
      "{'a': 34, 'b': 30, 'c': [1, 2, 3], 'd': (5.5, 'hi', 2)}\n"
     ]
    }
   ],
   "source": [
    "print(type(t5(a=34,b=30,c=[1,2,3],d=(5.5,'hi',2))))\n",
    "print(t5(a=34,b=30,c=[1,2,3],d=(5.5,'hi',2)))"
   ]
  },
  {
   "cell_type": "code",
   "execution_count": 11,
   "id": "ce78139e-f02f-4d8f-9c1d-4a4fd73dbeb4",
   "metadata": {},
   "outputs": [],
   "source": [
    "def t6(**dict):\n",
    "    for i in dict.keys(): ## dict is also fine, dict == dict.keys()\n",
    "        if type(dict[i]) == list:\n",
    "            return i, dict[i]\n",
    "        "
   ]
  },
  {
   "cell_type": "code",
   "execution_count": 12,
   "id": "9354d875-59d1-4546-aa29-145cd8224a35",
   "metadata": {},
   "outputs": [
    {
     "data": {
      "text/plain": [
       "('c', [1, 2, 3])"
      ]
     },
     "execution_count": 12,
     "metadata": {},
     "output_type": "execute_result"
    }
   ],
   "source": [
    "t6(a=34,b=30,c=[1,2,3],d=(5.5,'hi',2))"
   ]
  },
  {
   "cell_type": "code",
   "execution_count": 84,
   "id": "18ba9251-1ea3-45a1-9d4e-37b5b81b9884",
   "metadata": {},
   "outputs": [],
   "source": [
    "def t7(*args, **dict):\n",
    "    return args, dict"
   ]
  },
  {
   "cell_type": "code",
   "execution_count": 87,
   "id": "c7b20536-158d-450d-8736-6966619f0e52",
   "metadata": {},
   "outputs": [
    {
     "data": {
      "text/plain": [
       "((2, 3, 4, 5), {'a': 34, 'b': 100})"
      ]
     },
     "execution_count": 87,
     "metadata": {},
     "output_type": "execute_result"
    }
   ],
   "source": [
    "t7(2,3,4,5,a=34,b=100)"
   ]
  },
  {
   "cell_type": "markdown",
   "id": "9d62c010-2ebb-43be-a9bc-9f9c2748d406",
   "metadata": {
    "jp-MarkdownHeadingCollapsed": true,
    "tags": []
   },
   "source": [
    "## Generator Function"
   ]
  },
  {
   "cell_type": "code",
   "execution_count": null,
   "id": "a1c2310b-750b-4e11-81db-7ff5ac8db874",
   "metadata": {},
   "outputs": [],
   "source": [
    "Generating a sequence of Fibonacci numbers\n",
    "Generating an infinite sequence of random numbers\n",
    "Generating a sequence of prime numbers\n",
    "Generating all possible combinations of a list of items\n",
    "Implementing a file line by line reader\n",
    "Generating a sequence of factorials\n",
    "Generating the powers of a number\n",
    "Implementing a custom generator for large data processing\n",
    "Generating all permutations of a list of items\n",
    "Generating the permutations of a string\n",
    "Generating the combinations of a string\n",
    "Implementing a generator to find the prime factorization of a number\n",
    "Implementing a generator that generates all substrings of a string\n",
    "Implementing a generator that generates all subsequences of a list\n",
    "Generating a sequence of Pascal's triangle\n",
    "Implementing a generator that generates all possible Sudoku puzzles\n",
    "Implementing a generator that generates all permutations of a given length\n",
    "Generating the partitions of a number\n",
    "Implementing a generator that generates all combinations of a set of items\n",
    "Implementing a generator that generates all subsets of a set\n",
    "Generating all permutations with repetition of a set of items\n",
    "Generating all combinations with repetition of a set of items\n",
    "Generating the Catalan numbers\n",
    "Implementing a generator for the Bell numbers\n",
    "Implementing a generator for the Stirling numbers of the second kind\n",
    "Implementing a generator for the Bernoulli numbers\n",
    "Generating the triangular numbers\n",
    "Implementing a generator for the Lucas numbers\n",
    "Generating the palindromic numbers\n",
    "Implementing a generator for the square numbers\n",
    "Implementing a generator for the cube numbers\n",
    "Generating the hexagonal numbers\n",
    "Implementing a generator for the octagonal numbers\n",
    "Generating the decagonal numbers\n",
    "Generating the dodecagonal numbers\n",
    "Generating the tetragonal numbers\n",
    "Generating the pentagonal numbers\n",
    "Generating the pentatope numbers\n",
    "Implementing a generator for the tetrahedral numbers\n",
    "Generating the hypercube numbers\n",
    "Implementing a generator for the n-dimensional sphere numbers\n",
    "Generating the pyramid numbers\n",
    "Implementing a generator for the trapezoidal numbers\n",
    "Generating the rhombic dodecahedron numbers\n",
    "Implementing a generator for the rhombic triacontahedron numbers\n",
    "Generating the deltoidal icositetrahedron numbers\n",
    "Implementing a generator for the snub cube numbers\n",
    "Generating the snub dodecahedron numbers\n",
    "Implementing a generator for the great rhombicuboctahedron numbers\n",
    "Generating the great dodecahedron numbers"
   ]
  },
  {
   "cell_type": "code",
   "execution_count": 88,
   "id": "bc937a8f-4282-4795-abec-24543804fa70",
   "metadata": {},
   "outputs": [],
   "source": [
    "a = range(10)"
   ]
  },
  {
   "cell_type": "code",
   "execution_count": 90,
   "id": "dd3e03cc-6765-4710-aa8f-7630c753b6f2",
   "metadata": {},
   "outputs": [
    {
     "data": {
      "text/plain": [
       "range(0, 10)"
      ]
     },
     "execution_count": 90,
     "metadata": {},
     "output_type": "execute_result"
    }
   ],
   "source": [
    "a ## it is not returning any values unless loop is used"
   ]
  },
  {
   "cell_type": "code",
   "execution_count": 93,
   "id": "5bc8d547-b158-4216-9e3f-0a19b2eede9c",
   "metadata": {},
   "outputs": [],
   "source": [
    "## it is useful when we want to create a list with millions of dataset\n",
    "## there is not need to store the data into computer\n",
    "## it just print only when we call it"
   ]
  },
  {
   "cell_type": "code",
   "execution_count": 94,
   "id": "b1bac57a-9fad-4ae6-bd96-525c5f0fffc5",
   "metadata": {},
   "outputs": [
    {
     "name": "stdout",
     "output_type": "stream",
     "text": [
      "0\n",
      "1\n",
      "2\n",
      "3\n",
      "4\n",
      "5\n",
      "6\n",
      "7\n",
      "8\n",
      "9\n"
     ]
    }
   ],
   "source": [
    "for i in a: ## here the values are not stored in the memory, it just prints one by one (it is not stored)\n",
    "    print(i) "
   ]
  },
  {
   "cell_type": "code",
   "execution_count": 25,
   "id": "045e6971-3626-42ad-9e0e-99a478d15a03",
   "metadata": {},
   "outputs": [],
   "source": [
    "def fib(n):\n",
    "    a,b = 0,1\n",
    "    for i in range(n):\n",
    "        yield a\n",
    "        a, b = b, a + b"
   ]
  },
  {
   "cell_type": "code",
   "execution_count": 26,
   "id": "3fca6de8-73a8-4dba-93be-e67b9e897f45",
   "metadata": {},
   "outputs": [
    {
     "data": {
      "text/plain": [
       "<generator object fib at 0x7fe5b7ea3220>"
      ]
     },
     "execution_count": 26,
     "metadata": {},
     "output_type": "execute_result"
    }
   ],
   "source": [
    "fib(10)"
   ]
  },
  {
   "cell_type": "code",
   "execution_count": 29,
   "id": "8d535859-63d9-4ef8-a0de-e8c214d84581",
   "metadata": {},
   "outputs": [
    {
     "data": {
      "text/plain": [
       "[0, 1, 1, 2, 3, 5, 8, 13, 21, 34, 55]"
      ]
     },
     "execution_count": 29,
     "metadata": {},
     "output_type": "execute_result"
    }
   ],
   "source": [
    "n = 10\n",
    "[i for i in fib(n+1)] ## memory optimization"
   ]
  },
  {
   "cell_type": "code",
   "execution_count": 28,
   "id": "dc4a8e32-2bb5-4093-bbf7-3585beabb8f3",
   "metadata": {},
   "outputs": [
    {
     "data": {
      "text/plain": [
       "55"
      ]
     },
     "execution_count": 28,
     "metadata": {},
     "output_type": "execute_result"
    }
   ],
   "source": [
    "n = 10\n",
    "[i for i in fib(n+1)][10] ## memory optimization"
   ]
  },
  {
   "cell_type": "code",
   "execution_count": 115,
   "id": "2133866b-e671-4857-9bea-2242fdef1ba6",
   "metadata": {},
   "outputs": [],
   "source": [
    "## By doing the calculation this way, no need of saving a list into the memory"
   ]
  },
  {
   "cell_type": "markdown",
   "id": "4b5162a3-9afc-4f9b-8c75-67389f3eebe9",
   "metadata": {},
   "source": [
    "### prime number finder using generator"
   ]
  },
  {
   "cell_type": "code",
   "execution_count": 23,
   "id": "c4c6d323-6dc4-4ad2-8de3-ecc76b4ac714",
   "metadata": {},
   "outputs": [],
   "source": [
    "def prime_numbers(n):\n",
    "    def is_prime(num):\n",
    "        if num <= 1:\n",
    "            return False\n",
    "        for i in range(2, num):\n",
    "            if num % i == 0:\n",
    "                return False\n",
    "        return True\n",
    "\n",
    "    for i in range(2, n + 1):\n",
    "        if is_prime(i):\n",
    "            yield i\n",
    "\n",
    "# Use the generator\n",
    "for prime in prime_numbers(50):\n",
    "    pass\n",
    "    # print(prime)"
   ]
  },
  {
   "cell_type": "markdown",
   "id": "82cfc959-c246-45cc-9a6e-c2fbfd88830f",
   "metadata": {},
   "source": [
    "### prime number finder without generator"
   ]
  },
  {
   "cell_type": "code",
   "execution_count": 24,
   "id": "6b8c709e-dd5b-4446-bc08-29d2559f4eb2",
   "metadata": {},
   "outputs": [
    {
     "name": "stdout",
     "output_type": "stream",
     "text": [
      "[2, 3, 5, 7, 11, 13, 17, 19, 23, 29, 31, 37, 41, 43, 47]\n"
     ]
    }
   ],
   "source": [
    "def prime_numbers(n):\n",
    "    prime_list = []\n",
    "    for num in range(2, n+1):\n",
    "        for i in range(2, num):\n",
    "            if (num % i) == 0:\n",
    "                break\n",
    "        else:\n",
    "            prime_list.append(num)\n",
    "    return prime_list\n",
    "\n",
    "print(prime_numbers(50))"
   ]
  },
  {
   "cell_type": "raw",
   "id": "64272343-c258-440d-9410-679e461b5938",
   "metadata": {},
   "source": [
    "Do Python generators return multiple times while normal functions only return once?\n",
    "\n",
    "Yes, that's correct. A generator function returns values one at a time as it iterates, allowing it to generate a potentially infinite stream of values. On the other hand, a normal function only returns a single value when it's called, and the data is stored in memory. By using a generator function, you can save memory and compute the values as you need them."
   ]
  },
  {
   "cell_type": "raw",
   "id": "47c15810-162b-41ac-9f5d-28dcbd842459",
   "metadata": {},
   "source": [
    "The difference between the two methods is that the code using the generator creates the values on the fly as they are needed, rather than generating a complete list of values beforehand. This can be useful in situations where the number of values is very large or if the calculation of each value is expensive, as the generator allows you to generate only the values you need, when you need them. This can lead to significant memory savings compared to generating the complete list ahead of time, which can be important in resource-constrained systems."
   ]
  },
  {
   "cell_type": "code",
   "execution_count": 43,
   "id": "a346b934-d64e-44d3-9960-2fef581dcaa9",
   "metadata": {},
   "outputs": [],
   "source": [
    "def test(t):\n",
    "    for i in range(1,t+1):\n",
    "        yield i*i"
   ]
  },
  {
   "cell_type": "code",
   "execution_count": 45,
   "id": "7652d859-b87b-479d-bc78-b46bea6f7bdb",
   "metadata": {},
   "outputs": [
    {
     "data": {
      "text/plain": [
       "{1: 2, 4: 5, 9: 10, 16: 17, 25: 26, 36: 37, 49: 50, 64: 65, 81: 82, 100: 101}"
      ]
     },
     "execution_count": 45,
     "metadata": {},
     "output_type": "execute_result"
    }
   ],
   "source": [
    "{i:i+1 for i in test(10)}"
   ]
  },
  {
   "cell_type": "code",
   "execution_count": null,
   "id": "cfd68289-511f-4d8a-8a14-213899a18e06",
   "metadata": {},
   "outputs": [],
   "source": []
  }
 ],
 "metadata": {
  "kernelspec": {
   "display_name": "Python 3 (ipykernel)",
   "language": "python",
   "name": "python3"
  },
  "language_info": {
   "codemirror_mode": {
    "name": "ipython",
    "version": 3
   },
   "file_extension": ".py",
   "mimetype": "text/x-python",
   "name": "python",
   "nbconvert_exporter": "python",
   "pygments_lexer": "ipython3",
   "version": "3.10.8"
  }
 },
 "nbformat": 4,
 "nbformat_minor": 5
}
