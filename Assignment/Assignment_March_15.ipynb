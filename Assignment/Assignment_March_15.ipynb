{
 "cells": [
  {
   "cell_type": "markdown",
   "id": "5f94527f-3fde-4dd5-aae7-0e46bb141127",
   "metadata": {},
   "source": [
    "## Q1. Explain the following"
   ]
  },
  {
   "cell_type": "markdown",
   "id": "cd7f05cb-f46e-4db8-bd6c-7c225dd6169a",
   "metadata": {},
   "source": [
    "1. AI - Any smart application that can perform its own task without any human intervention.\n",
    "eg : Self driving cars, robots\n",
    "\n",
    "2. ML - It is a subclass of AI that focuses on developing computer algorithms and models to learn, analyze, visualize, and make predictions without being explicitly programmed.\n",
    "eg : Recommendation systems available in youtube, google, amazon, netflix\n",
    "\n",
    "3. DL - It is a subclass of ML that involves the use of artificial neural network with multi layers to analyze and learn from large amount of data.\n",
    "eg : language processing system, object detection, image recognition."
   ]
  },
  {
   "cell_type": "markdown",
   "id": "ebbf90ae-95fc-4cc7-9bda-93cb512b9aea",
   "metadata": {},
   "source": [
    "## Q2. Supervised Learning"
   ]
  },
  {
   "cell_type": "markdown",
   "id": "1fd53998-6358-4b82-b35a-889e56714c7f",
   "metadata": {},
   "source": [
    "Supervised learning is a type of machine learning in which an algorithm learn to make predictions from labeled data.\n",
    "eg : regression, classification"
   ]
  },
  {
   "cell_type": "markdown",
   "id": "5b064a9a-8f1c-4f56-a615-c6cfb237ff10",
   "metadata": {},
   "source": [
    "## Q3. Unsupervised learning"
   ]
  },
  {
   "cell_type": "markdown",
   "id": "243b6120-22c1-4262-af74-1e39eb093d88",
   "metadata": {},
   "source": [
    "Unsupervised learning is a type of machine learning in which an algorithms learns from unlabled data.\n",
    "eg : Clustering"
   ]
  },
  {
   "cell_type": "markdown",
   "id": "0119dddc-47c6-4900-aa3d-14000686c6db",
   "metadata": {},
   "source": [
    "## Q4. AI VS ML VS DL VS DS"
   ]
  },
  {
   "cell_type": "markdown",
   "id": "0ca58500-c9dd-4b91-86db-a0da9c060b70",
   "metadata": {},
   "source": [
    "AI involves the development of algorithms, software, and hardware that enable machines to perform tasks that would typically require human-level intelligence.\n",
    "\n",
    "Data Science is a multidisciplinary field that combines statistics, mathematics, computer science, and domain expertise to extract insights from structured and unstructured data.\n",
    "\n",
    "Deep Learning is a subset of Machine Learning that involves the use of neural networks to model complex patterns in data. It is a set of algorithms that uses multiple layers of artificial neural networks to extract features from data and learn from it.\n",
    "\n",
    "Machine Learning is a subfield of AI that involves the development of algorithms that can learn from data without being explicitly programmed. It involves the use of statistical and mathematical techniques to enable machines to learn from data and make predictions or decisions based on that learning."
   ]
  },
  {
   "cell_type": "markdown",
   "id": "228e8c41-dc9c-4b4a-8d30-86434769b308",
   "metadata": {},
   "source": [
    "## Q5. Supvervised unsupervised semi supervised learning"
   ]
  },
  {
   "cell_type": "markdown",
   "id": "566a024b-5adf-4e56-9dee-18dd8ddf9548",
   "metadata": {},
   "source": [
    "In supervised learning labled data is used to train the model to make predictions. However, in unsupervised learning unlabled data is used to train the model. Semi-supervised learning is a combination of supervised and unsupervised learning. In semi-supervised learning, the algorithm is trained on a mix of labeled and unlabeled data."
   ]
  },
  {
   "cell_type": "markdown",
   "id": "f0e22f53-afe5-424c-9830-ef0fc0c740cf",
   "metadata": {},
   "source": [
    "## Q6. Train vs Validation vs Test data"
   ]
  },
  {
   "cell_type": "markdown",
   "id": "ba0b47eb-c26c-4f33-9810-6a9dc7f5a0a3",
   "metadata": {},
   "source": [
    "Training data is the data used to train the model. Validation data is used to evaluate the performance of the model while tuning hyperparameters. Test data is the data used to evaluate the performace of the fully trained model."
   ]
  },
  {
   "cell_type": "markdown",
   "id": "c48ae55b-6317-436a-b9f0-f857a9468e2b",
   "metadata": {},
   "source": [
    "## Q7. Unsupervised learning in anomaly detection"
   ]
  },
  {
   "cell_type": "markdown",
   "id": "9baab86f-71fa-4d71-b652-cd7da89ab7e4",
   "metadata": {},
   "source": [
    "Anomaly detection is the process the identifying data points that are difference from other data. Therefore, an unsupervised algorithm called clustering can be used to separate data points that are different from each other."
   ]
  },
  {
   "cell_type": "markdown",
   "id": "f0740c09-6d41-4d84-a067-a90037c7d514",
   "metadata": {},
   "source": [
    "## Q8. Supervised and Unsupervised algorithms"
   ]
  },
  {
   "cell_type": "markdown",
   "id": "2495be34-a73b-46a3-bfb6-583c6f92b751",
   "metadata": {},
   "source": [
    "Supervised - linear regression, support machine vectors, logistic regression, AdaBoost, decision trees.\n",
    "\n",
    "Unsupervised -  Clustering algorithms such as K-means, hierarchical clustering, PCA"
   ]
  }
 ],
 "metadata": {
  "kernelspec": {
   "display_name": "Python 3 (ipykernel)",
   "language": "python",
   "name": "python3"
  },
  "language_info": {
   "codemirror_mode": {
    "name": "ipython",
    "version": 3
   },
   "file_extension": ".py",
   "mimetype": "text/x-python",
   "name": "python",
   "nbconvert_exporter": "python",
   "pygments_lexer": "ipython3",
   "version": "3.10.8"
  }
 },
 "nbformat": 4,
 "nbformat_minor": 5
}
