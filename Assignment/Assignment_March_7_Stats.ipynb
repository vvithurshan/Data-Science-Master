{
 "cells": [
  {
   "cell_type": "markdown",
   "id": "9d294ba6-949a-4034-86aa-13afce07d839",
   "metadata": {},
   "source": [
    "## Q1. What are the three measures of central tendency?"
   ]
  },
  {
   "cell_type": "markdown",
   "id": "ff1d939e-2d41-46e1-99fa-2471c0a32a64",
   "metadata": {},
   "source": [
    "Mean, Median, and Mode"
   ]
  },
  {
   "cell_type": "markdown",
   "id": "a4d69782-6096-4674-b9d6-f789ab37bade",
   "metadata": {},
   "source": [
    "## Q2. What is the difference between the mean, median, and mode? How are they used to measure the central tendency of a dataset?"
   ]
  },
  {
   "cell_type": "markdown",
   "id": "482afb5a-74a9-4c08-9d41-90b0fd594e69",
   "metadata": {},
   "source": [
    "mean is the sum of all the values of the dataset divided by the number of observations. Median is the middle value of the dataset after arranging the dataset in a ascending or descending order. Mode is the most frequently occurring value in the dataset.\n",
    "\n",
    "The Mean is affected by outliers in the dataset. However, median is not heavily affected by the outliers. Therefore, depending on the dataset, either mean or median can be taken to measure the central tendency of a dataset. Since mode represents the most common value in the dataset, it can be used to describe the central tendency of a dataset with categorical or nominal data."
   ]
  },
  {
   "cell_type": "markdown",
   "id": "4fd0544f-8f73-4890-b4df-d12be58a1d29",
   "metadata": {},
   "source": [
    "## Q3. Measure the three measures of central tendency for the given height data:\n",
    "#### [178,177,176,177,178.2,178,175,179,180,175,178.9,176.2,177,172.5,178,176.5]"
   ]
  },
  {
   "cell_type": "code",
   "execution_count": 4,
   "id": "c18c6987-91ce-4596-b60d-f7901d0904d1",
   "metadata": {},
   "outputs": [
    {
     "name": "stdout",
     "output_type": "stream",
     "text": [
      "Mean is 177.01875, Median is 177.0, and Mode is 177\n"
     ]
    },
    {
     "name": "stderr",
     "output_type": "stream",
     "text": [
      "/tmp/ipykernel_147/2949735012.py:10: FutureWarning: Unlike other reduction functions (e.g. `skew`, `kurtosis`), the default behavior of `mode` typically preserves the axis it acts along. In SciPy 1.11.0, this behavior will change: the default value of `keepdims` will become False, the `axis` over which the statistic is taken will be eliminated, and the value None will no longer be accepted. Set `keepdims` to True or False to avoid this warning.\n",
      "  mode = stats.mode(lst)\n"
     ]
    }
   ],
   "source": [
    "lst = [178,177,176,177,178.2,178,175,179,180,175,178.9,176.2,177,172.5,178,176.5]\n",
    "\n",
    "import numpy as np\n",
    "from scipy import stats\n",
    "\n",
    "mean = np.mean(lst)\n",
    "\n",
    "median = np.median(lst)\n",
    "\n",
    "mode = stats.mode(lst)\n",
    "\n",
    "print(\"Mean is {}, Median is {}, and Mode is {}\".format(mean, median, int(mode.mode)))"
   ]
  },
  {
   "cell_type": "markdown",
   "id": "16dc990b-c499-4fe7-b8fd-51a9f2d7a20a",
   "metadata": {},
   "source": [
    "## Q4. Find the standard deviation for the given data:\n",
    "### [178,177,176,177,178.2,178,175,179,180,175,178.9,176.2,177,172.5,178,176.5]"
   ]
  },
  {
   "cell_type": "code",
   "execution_count": 6,
   "id": "e0459d94-4af5-419e-8141-02e085a4a438",
   "metadata": {},
   "outputs": [
    {
     "name": "stdout",
     "output_type": "stream",
     "text": [
      "Standard deviation is 1.7885814036548633\n"
     ]
    }
   ],
   "source": [
    "data = [178,177,176,177,178.2,178,175,179,180,175,178.9,176.2,177,172.5,178,176.5]\n",
    "\n",
    "std = np.std(data)\n",
    "\n",
    "print(\"Standard deviation is {}\".format(std))"
   ]
  },
  {
   "cell_type": "markdown",
   "id": "0bf677c7-ad09-49e7-9040-d75c20e41415",
   "metadata": {},
   "source": [
    "## Q5. How are measures of dispersion such as range, variance, and standard deviation used to describe the spread of a dataset? Provide an example."
   ]
  },
  {
   "cell_type": "markdown",
   "id": "790d3d1d-0488-41ae-863f-64037b440f4e",
   "metadata": {},
   "source": [
    "Measures of despersion such as range, variance, and standard deviation are used to describe the variability of the dataset. The provide how far data points are away from the central tendency of measures ,and how spread out the values in the dataset are from each other.\n",
    "\n",
    "1. range - it gives the difference between maximum and minimum values.\n",
    "2. variance - it measures how much the individual values in a dataset differ from the mean.\n",
    "3. standard deviation - it measures how much the values in a dataset are spread out from the mean."
   ]
  },
  {
   "cell_type": "code",
   "execution_count": 12,
   "id": "634f574c-db06-4103-9046-f87157e83e7c",
   "metadata": {},
   "outputs": [
    {
     "name": "stdout",
     "output_type": "stream",
     "text": [
      "Range of d1 is 0 - 39\n"
     ]
    }
   ],
   "source": [
    "## Range\n",
    "d1 = [i for i in range(40)]\n",
    "min_d1 = min(d1)\n",
    "max_d1 = max(d1)\n",
    "\n",
    "print(\"Range of d1 is {} - {}\".format(min_d1,max_d1))"
   ]
  },
  {
   "cell_type": "code",
   "execution_count": 7,
   "id": "e9f5bdda-03b2-46cd-bddb-ce8e813f4b8e",
   "metadata": {},
   "outputs": [],
   "source": [
    "np.random.seed(123)\n",
    "d1 = np.random.normal(loc=50, scale=20, size=100)\n",
    "d2 = np.random.normal(loc=50, scale=5, size=100)"
   ]
  },
  {
   "cell_type": "code",
   "execution_count": 14,
   "id": "6810ea9e-11b9-4141-84be-17fa7fa366ea",
   "metadata": {},
   "outputs": [
    {
     "name": "stdout",
     "output_type": "stream",
     "text": [
      "Variance of d1 133.25, variance of d2 23.525099114360838\n",
      "Standard deviation of d1 11.543396380615196, standard deviation of d2 4.850267942532746\n"
     ]
    }
   ],
   "source": [
    "var_d1 = np.var(d1)\n",
    "var_d2 = np.var(d2)\n",
    "\n",
    "std_d1 = np.std(d1)\n",
    "std_d2 = np.std(d2)\n",
    "\n",
    "print(\"Variance of d1 {}, variance of d2 {}\".format(var_d1,var_d2))\n",
    "print(\"Standard deviation of d1 {}, standard deviation of d2 {}\".format(std_d1,std_d2))"
   ]
  },
  {
   "cell_type": "markdown",
   "id": "d6e02cde-38a5-40c5-9a06-2ddb230eb679",
   "metadata": {},
   "source": [
    "In the above example, variance of D1 is higher the that of d2. It can be concluded that values in the d1 are spread out over a wide range of values than d2.\n",
    "\n",
    "At the same time, std of d1 and d2 are 11.54 and 4.85 respectively. It indicates that data points of d1 are spread out from the mean about 11.54 on average, while data points of d2 are spread out from the mean about 4.85 on average."
   ]
  },
  {
   "cell_type": "markdown",
   "id": "36321813-417d-48a1-bba4-ed2389047af0",
   "metadata": {},
   "source": [
    "## Q6. What is a Venn diagram?"
   ]
  },
  {
   "cell_type": "markdown",
   "id": "c8388c00-7e24-4487-b713-c635725c0226",
   "metadata": {},
   "source": [
    "A Venn diagram is a visual representation of the relationships between sets of data. It consists of overlapping circles or ellipses, each representing a set, with the area of overlap representing the intersection of the sets."
   ]
  },
  {
   "cell_type": "markdown",
   "id": "40c7a053-f14b-4b13-b5ae-ba079d90a760",
   "metadata": {},
   "source": [
    "## Q7. For the two given sets A = (2,3,4,5,6,7) & B = (0,2,6,8,10). Find:"
   ]
  },
  {
   "cell_type": "code",
   "execution_count": 17,
   "id": "89232019-726e-4324-9ee6-23aa90fe709f",
   "metadata": {},
   "outputs": [],
   "source": [
    "A = {2,3,4,5,6,7} \n",
    "B = {0,2,6,8,10}"
   ]
  },
  {
   "cell_type": "markdown",
   "id": "b4d54679-6585-42f0-a399-90095b6f7403",
   "metadata": {},
   "source": [
    "### (i) A ^ B"
   ]
  },
  {
   "cell_type": "code",
   "execution_count": 20,
   "id": "380c15a2-944d-4968-9a9f-7d1a85811b85",
   "metadata": {},
   "outputs": [
    {
     "data": {
      "text/plain": [
       "{2, 6}"
      ]
     },
     "execution_count": 20,
     "metadata": {},
     "output_type": "execute_result"
    }
   ],
   "source": [
    "A.intersection(B)"
   ]
  },
  {
   "cell_type": "markdown",
   "id": "b89101fe-5b4c-4c9d-a3fe-a12c32a831d8",
   "metadata": {},
   "source": [
    "### (ii) A ⋃ B"
   ]
  },
  {
   "cell_type": "code",
   "execution_count": 21,
   "id": "de7212f5-b2b2-451d-b59a-941017ea9da7",
   "metadata": {},
   "outputs": [
    {
     "data": {
      "text/plain": [
       "{0, 2, 3, 4, 5, 6, 7, 8, 10}"
      ]
     },
     "execution_count": 21,
     "metadata": {},
     "output_type": "execute_result"
    }
   ],
   "source": [
    "A.union(B)"
   ]
  },
  {
   "cell_type": "markdown",
   "id": "5c8ce665-a9ca-4fbb-9f09-305c58df732d",
   "metadata": {},
   "source": [
    "## Q8. What do you understand about skewness in data?"
   ]
  },
  {
   "cell_type": "markdown",
   "id": "42cca0ea-b5a6-4540-9b55-14fd53a1138d",
   "metadata": {},
   "source": [
    "Skewness refers to the degree of asymmetry of a distribution. A distribution is said to be skewed if it is not symmetric.\n",
    "Skewness can be positive, negative, or zero. A positive skewness indicates that the tail of the distribution is longer on the right side, while a negative skewness indicates that the tail is longer on the left side. Zero skewness indicates that the distribution is symmetric."
   ]
  },
  {
   "cell_type": "markdown",
   "id": "9f9e1136-e528-4ee9-9b2f-f777675f863f",
   "metadata": {},
   "source": [
    "## Q9. If a data is right skewed then what will be the position of median with respect to mean?"
   ]
  },
  {
   "cell_type": "markdown",
   "id": "62cc78f8-66e5-4d94-8d51-319b1b76f7e2",
   "metadata": {},
   "source": [
    "Median will be left site to the mean or mean will be greater than the median."
   ]
  },
  {
   "cell_type": "markdown",
   "id": "36c1a1b1-ef83-4e6a-9803-a771c0d8de70",
   "metadata": {},
   "source": [
    "## Q10. Explain the difference between covariance and correlation. How are these measures used in statistical analysis?"
   ]
  },
  {
   "cell_type": "markdown",
   "id": "065a5f23-4deb-4e31-900a-920f07cdf562",
   "metadata": {},
   "source": [
    "Covariance measures how much two variables change together. Covariance can take on both positive and negative values, with positive values indicating a positive relationship between the variables and negative values indicating a negative relationship. However, covariance by itself does not provide information on the strength or direction of the relationship between the variables.\n",
    "\n",
    "Correlation, on the other hand, measures the strength and direction of the linear relationship between two variables. It ranges from -1 to 1, with a correlation coefficient of 1 indicating a perfect positive linear relationship, a correlation coefficient of -1 indicating a perfect negative linear relationship, and a correlation coefficient of 0 indicating no linear relationship between the variables.\n",
    "\n",
    "In statistical analysis, both covariance and correlation are used to assess the relationship between two variables."
   ]
  },
  {
   "cell_type": "markdown",
   "id": "090892b2-9094-4468-abbc-d9c3cd76faa7",
   "metadata": {},
   "source": [
    "## Q11. What is the formula for calculating the sample mean? Provide an example calculation for a dataset."
   ]
  },
  {
   "cell_type": "markdown",
   "id": "c4b0b6a7-0f91-47f0-b4c8-17927ff22bee",
   "metadata": {},
   "source": [
    "sample mean is calcuated by sum of all values in the dataset divided by number of dataset.\n",
    "\n",
    "let's consider the dataset,\n",
    "\n",
    "data = [0, 1, 2, 3, 4, 5, 6, 7, 8, 9, 10, 11, 12, 13, 14, 15, 16, 17, 18, 19, 20, 21, 22, 23, 24, 25, 26, 27, 28, 29, 30, 31, 32, 33, 34, 35, 36, 37, 38, 39, 40, 41, 42, 43, 44, 45, 46, 47, 48, 49]\n",
    "\n",
    "length of the dataset is 50. \n",
    "\n",
    "so, mean = sum of all the dataset / length of the datast"
   ]
  },
  {
   "cell_type": "code",
   "execution_count": 22,
   "id": "0d9f5231-72cb-436e-907a-8057e88a56cf",
   "metadata": {},
   "outputs": [],
   "source": [
    "data = [i for i in range(50)]"
   ]
  },
  {
   "cell_type": "code",
   "execution_count": 27,
   "id": "a0142bb3-3f3d-4b63-b853-0b3561648c7d",
   "metadata": {},
   "outputs": [
    {
     "name": "stdout",
     "output_type": "stream",
     "text": [
      "Mean of data is 24.5\n"
     ]
    }
   ],
   "source": [
    "print(\"Mean of data is {}\".format(np.mean(data)))"
   ]
  },
  {
   "cell_type": "markdown",
   "id": "685c6c64-5d1d-4cf1-ab62-e61f8c9e342c",
   "metadata": {},
   "source": [
    "## Q12. For a normal distribution data what is the relationship between its measure of central tendency?"
   ]
  },
  {
   "cell_type": "markdown",
   "id": "fc6064fa-bc03-4bb7-b7d6-c5bbb2d31b55",
   "metadata": {},
   "source": [
    "Normal distribution is symmetric. Therefore, mean, median, and mode will be the same, and are located at the central of the distribution."
   ]
  },
  {
   "cell_type": "markdown",
   "id": "39a6ae75-ce1c-42e6-97dc-d58301ba3dce",
   "metadata": {},
   "source": [
    "## Q13. How is covariance different from correlation?"
   ]
  },
  {
   "cell_type": "markdown",
   "id": "fc512dd0-9f09-4c14-9588-1be6b8bd82a8",
   "metadata": {},
   "source": [
    "## Q13. How is covariance different from correlation?"
   ]
  },
  {
   "cell_type": "markdown",
   "id": "9bcbcecc-7947-46e7-a7bb-766f5c78f15c",
   "metadata": {},
   "source": [
    "Though both covariance and correlation are used to measure the correlation between two variables. However,  covariance does not have a standardized scale, and its magnitude is difficult to interpret. Correlation, on the other hand, has a scale between -1 to +1. So, correlation is more interpretable than covariance."
   ]
  },
  {
   "cell_type": "markdown",
   "id": "b26a9a6b-d8fe-4921-b936-2de4a19db063",
   "metadata": {},
   "source": [
    "## Q14. How do outliers affect measures of central tendency and dispersion? Provide an example."
   ]
  },
  {
   "cell_type": "markdown",
   "id": "0f9944c9-238e-4ad1-b0bd-981c4f8c30ed",
   "metadata": {},
   "source": [
    "Outliers affects central tendency and dispersion. \n",
    "\n",
    "mean - outliers can pull the mean away from the typical position, making the distribution skewed. \n",
    "\n",
    "median - median is also get affected by outliers. However, it less affected compared to mean.\n",
    "\n",
    "mode - The mode may also be affected if the outlier value is the most frequently occurring value in the dataset.\n",
    "\n",
    "The variance and standard deviation are also influenced by outliers since they are based on the distance of each data point from the mean. An outlier that is far from the mean can significantly increase the variance and standard deviation of the dataset."
   ]
  },
  {
   "cell_type": "code",
   "execution_count": 28,
   "id": "8812126b-eb1c-41d0-9195-259e6520ac6f",
   "metadata": {},
   "outputs": [],
   "source": [
    "data_without_outliers = [1, 5, 10, 15, 20, 25]\n",
    "data_with_outliers = [1, 5, 10, 15, 20, 25, 100]"
   ]
  },
  {
   "cell_type": "code",
   "execution_count": 47,
   "id": "473d7678-b167-4ad2-a406-81e3a89e35fe",
   "metadata": {},
   "outputs": [
    {
     "name": "stderr",
     "output_type": "stream",
     "text": [
      "/tmp/ipykernel_147/4257562873.py:3: FutureWarning: Unlike other reduction functions (e.g. `skew`, `kurtosis`), the default behavior of `mode` typically preserves the axis it acts along. In SciPy 1.11.0, this behavior will change: the default value of `keepdims` will become False, the `axis` over which the statistic is taken will be eliminated, and the value None will no longer be accepted. Set `keepdims` to True or False to avoid this warning.\n",
      "  mode_data_without_outliers = stats.mode(data_without_outliers).mode\n",
      "/tmp/ipykernel_147/4257562873.py:9: FutureWarning: Unlike other reduction functions (e.g. `skew`, `kurtosis`), the default behavior of `mode` typically preserves the axis it acts along. In SciPy 1.11.0, this behavior will change: the default value of `keepdims` will become False, the `axis` over which the statistic is taken will be eliminated, and the value None will no longer be accepted. Set `keepdims` to True or False to avoid this warning.\n",
      "  mode_data_with_outliers = stats.mode(data_with_outliers).mode\n"
     ]
    }
   ],
   "source": [
    "mean_data_without_outliers = np.mean(data_without_outliers)\n",
    "median_data_without_outliers = np.median(data_without_outliers)\n",
    "mode_data_without_outliers = stats.mode(data_without_outliers).mode\n",
    "var_data_without_outliers = np.var(data_without_outliers)\n",
    "std_data_without_outliers = np.std(data_without_outliers)\n",
    "\n",
    "mean_data_with_outliers = np.mean(data_with_outliers)\n",
    "median_data_with_outliers = np.median(data_with_outliers)\n",
    "mode_data_with_outliers = stats.mode(data_with_outliers).mode\n",
    "var_data_with_outliers = np.var(data_with_outliers)\n",
    "std_data_with_outliers = np.std(data_with_outliers)"
   ]
  },
  {
   "cell_type": "code",
   "execution_count": 48,
   "id": "3803edf0-97b4-42de-bfa8-e3644b7c8ea5",
   "metadata": {},
   "outputs": [
    {
     "name": "stdout",
     "output_type": "stream",
     "text": [
      "mean of data_with_outliers : 25.142857142857142, data_without_outliers : 12.666666666666666\n",
      "median of data_with_outliers : 15.0, data_without_outliers : 12.5\n",
      "mode of data_with_outliers : [1], data_without_outliers : [1]\n",
      "variance of data_with_outliers : 992.9795918367348, data_without_outliers : 68.8888888888889\n",
      "standard deviation of data_with_outliers : 31.51157869477083, data_without_outliers : 8.299933065325822\n"
     ]
    }
   ],
   "source": [
    "print(\"mean of data_with_outliers : {}, data_without_outliers : {}\".format(mean_data_with_outliers,mean_data_without_outliers))\n",
    "print(\"median of data_with_outliers : {}, data_without_outliers : {}\".format(median_data_with_outliers,median_data_without_outliers))\n",
    "print(\"mode of data_with_outliers : {}, data_without_outliers : {}\".format(mode_data_with_outliers,mode_data_without_outliers))\n",
    "print(\"variance of data_with_outliers : {}, data_without_outliers : {}\".format(var_data_with_outliers,var_data_without_outliers))\n",
    "print(\"standard deviation of data_with_outliers : {}, data_without_outliers : {}\".format(std_data_with_outliers,std_data_without_outliers))"
   ]
  },
  {
   "cell_type": "markdown",
   "id": "79b2c5d2-9d34-49b5-b36c-22551fd3dd04",
   "metadata": {},
   "source": [
    "**In the above example, it is clear that outliers affected both the measures of central tendency and dispersion. However, median is not heavily affected.**"
   ]
  },
  {
   "cell_type": "code",
   "execution_count": null,
   "id": "bd2e40b1-78ae-4da8-8224-084a5f6720c5",
   "metadata": {},
   "outputs": [],
   "source": []
  }
 ],
 "metadata": {
  "kernelspec": {
   "display_name": "Python 3 (ipykernel)",
   "language": "python",
   "name": "python3"
  },
  "language_info": {
   "codemirror_mode": {
    "name": "ipython",
    "version": 3
   },
   "file_extension": ".py",
   "mimetype": "text/x-python",
   "name": "python",
   "nbconvert_exporter": "python",
   "pygments_lexer": "ipython3",
   "version": "3.10.8"
  }
 },
 "nbformat": 4,
 "nbformat_minor": 5
}
