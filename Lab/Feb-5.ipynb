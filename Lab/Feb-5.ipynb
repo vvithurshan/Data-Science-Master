{
 "cells": [
  {
   "cell_type": "markdown",
   "id": "8674b165-d254-4a84-950f-63418e5a1b32",
   "metadata": {},
   "source": [
    "# Object oriented programming"
   ]
  },
  {
   "cell_type": "code",
   "execution_count": 1,
   "id": "4615db3f-6450-4c7a-8895-f2f996960939",
   "metadata": {},
   "outputs": [],
   "source": [
    "# human is a class\n",
    "# laptop is a class"
   ]
  },
  {
   "cell_type": "code",
   "execution_count": 2,
   "id": "b9824f9c-c0d7-4cd4-b654-2d91072a1ed6",
   "metadata": {},
   "outputs": [],
   "source": [
    "class test:\n",
    "    pass"
   ]
  },
  {
   "cell_type": "code",
   "execution_count": 6,
   "id": "8e31ebd2-1cf6-4694-8d87-4a12398e87dd",
   "metadata": {},
   "outputs": [],
   "source": [
    "a = test() ## a is an object, it is a variable/instance/object of class test"
   ]
  },
  {
   "cell_type": "code",
   "execution_count": 4,
   "id": "bfd35ad3-54bc-49a1-98f4-fbc8ff397f60",
   "metadata": {},
   "outputs": [
    {
     "name": "stdout",
     "output_type": "stream",
     "text": [
      "<class '__main__.test'>\n"
     ]
    }
   ],
   "source": [
    "print(type(a))"
   ]
  },
  {
   "cell_type": "code",
   "execution_count": 11,
   "id": "af290819-fb6f-4834-aab4-9dc32366c853",
   "metadata": {},
   "outputs": [],
   "source": [
    "class skill:\n",
    "    def welcome_msg(self):\n",
    "        print(\"welcome\")"
   ]
  },
  {
   "cell_type": "code",
   "execution_count": 12,
   "id": "8909628f-0631-4536-b3f0-43a8d86f38e5",
   "metadata": {},
   "outputs": [],
   "source": [
    "std1 = skill()"
   ]
  },
  {
   "cell_type": "code",
   "execution_count": 13,
   "id": "baf87274-765d-4ca8-96e8-ed9eae63f88f",
   "metadata": {},
   "outputs": [
    {
     "name": "stdout",
     "output_type": "stream",
     "text": [
      "welcome\n"
     ]
    }
   ],
   "source": [
    "std1.welcome_msg()"
   ]
  },
  {
   "cell_type": "code",
   "execution_count": 14,
   "id": "1fdfda24-c954-4942-9b98-56c3e57dd13f",
   "metadata": {},
   "outputs": [],
   "source": [
    "std2 = skill()"
   ]
  },
  {
   "cell_type": "code",
   "execution_count": 15,
   "id": "64e54b2d-f6ab-4065-a357-0a8ca03f10fb",
   "metadata": {},
   "outputs": [
    {
     "name": "stdout",
     "output_type": "stream",
     "text": [
      "welcome\n"
     ]
    }
   ],
   "source": [
    "std2.welcome_msg()"
   ]
  },
  {
   "cell_type": "code",
   "execution_count": 17,
   "id": "c89ecb33-514c-4c9e-a150-1693af6bbdb1",
   "metadata": {},
   "outputs": [],
   "source": [
    "class skills():\n",
    "    def __init__(self,phone_number, email_id, student_id):\n",
    "        self.phone_number = phone_number\n",
    "        self.email_id = email_id\n",
    "        self.student_id = student_id\n",
    "    \n",
    "    def return_student_details(self):\n",
    "        return self.phone_number, self.email_id, self.student_id"
   ]
  },
  {
   "cell_type": "code",
   "execution_count": 26,
   "id": "97a942da-91b5-4400-9495-ccd4ef3528a4",
   "metadata": {},
   "outputs": [],
   "source": [
    "std_1 = skills('000','std_1@mail.com','#0001')"
   ]
  },
  {
   "cell_type": "code",
   "execution_count": 27,
   "id": "e3b913b1-1b48-464b-afef-a0aad3d070de",
   "metadata": {},
   "outputs": [],
   "source": [
    "std_2 = skills('001','std_2@mail.com','#0002')"
   ]
  },
  {
   "cell_type": "code",
   "execution_count": 28,
   "id": "8cd56e01-61fa-4ce5-b712-fc1b4b99449a",
   "metadata": {},
   "outputs": [
    {
     "data": {
      "text/plain": [
       "'std_1@mail.com'"
      ]
     },
     "execution_count": 28,
     "metadata": {},
     "output_type": "execute_result"
    }
   ],
   "source": [
    "std_1.email_id"
   ]
  },
  {
   "cell_type": "code",
   "execution_count": 29,
   "id": "2e35a14c-7760-4590-9593-0aea65f3c795",
   "metadata": {},
   "outputs": [
    {
     "data": {
      "text/plain": [
       "('000', 'std_1@mail.com', '#0001')"
      ]
     },
     "execution_count": 29,
     "metadata": {},
     "output_type": "execute_result"
    }
   ],
   "source": [
    "std_1.return_student_details()"
   ]
  },
  {
   "cell_type": "code",
   "execution_count": 34,
   "id": "c046ae5d-6873-4bf8-9a7b-6e8a77cbaee3",
   "metadata": {},
   "outputs": [
    {
     "data": {
      "text/plain": [
       "('001', 'std_2@mail.com', '#0002')"
      ]
     },
     "execution_count": 34,
     "metadata": {},
     "output_type": "execute_result"
    }
   ],
   "source": [
    "skills.return_student_details(std_2)"
   ]
  },
  {
   "cell_type": "markdown",
   "id": "a2418ddc-c61f-44ac-b9ea-1a0fb2232da1",
   "metadata": {},
   "source": [
    "## self is not a keyword. We can use any word\n",
    "### it is just a reference to the class"
   ]
  },
  {
   "cell_type": "code",
   "execution_count": 35,
   "id": "0f25f49e-a448-419d-b4bb-4222e743a0f4",
   "metadata": {},
   "outputs": [],
   "source": [
    "class skills2():\n",
    "    def __init__(pointer,phone_number, email_id, student_id):\n",
    "        pointer.phone_number = phone_number\n",
    "        pointer.email_id = email_id\n",
    "        pointer.student_id = student_id\n",
    "    \n",
    "    def return_student_details(pointer):\n",
    "        return pointer.phone_number, pointer.email_id, pointer.student_id"
   ]
  },
  {
   "cell_type": "code",
   "execution_count": 36,
   "id": "582f2915-593d-425c-b38d-3dfc136f1d13",
   "metadata": {},
   "outputs": [],
   "source": [
    "std_3 = skills2('003','std_3@email.com','#0002')"
   ]
  },
  {
   "cell_type": "code",
   "execution_count": 38,
   "id": "f2e8db32-3cbe-43f6-91e8-c8c664bb49d9",
   "metadata": {},
   "outputs": [
    {
     "data": {
      "text/plain": [
       "'003'"
      ]
     },
     "execution_count": 38,
     "metadata": {},
     "output_type": "execute_result"
    }
   ],
   "source": [
    "std_3.phone_number "
   ]
  },
  {
   "cell_type": "code",
   "execution_count": 44,
   "id": "5007eac2-758d-4c80-94e2-4e38fd7032f9",
   "metadata": {},
   "outputs": [],
   "source": [
    "class skills3():\n",
    "    def __init__(pointer,phone_number, email_id, student_id):\n",
    "        pointer.phone_number1 = phone_number\n",
    "        ## phone_number1 is a variable of the class skills3, not phone_number\n",
    "        pointer.email_id = email_id\n",
    "        pointer.student_id = student_id\n",
    "    \n",
    "    def return_student_details(pointer):\n",
    "        return pointer.phone_number, pointer.email_id, pointer.student_id"
   ]
  },
  {
   "cell_type": "code",
   "execution_count": 45,
   "id": "11a028dc-0687-4a04-855d-63bd36ea641c",
   "metadata": {},
   "outputs": [],
   "source": [
    "std_4 = skills3('004','std_4@email.com','#0004')"
   ]
  },
  {
   "cell_type": "code",
   "execution_count": 46,
   "id": "b1e17005-69c5-4fbd-972e-d3d288844c5d",
   "metadata": {},
   "outputs": [
    {
     "data": {
      "text/plain": [
       "'004'"
      ]
     },
     "execution_count": 46,
     "metadata": {},
     "output_type": "execute_result"
    }
   ],
   "source": [
    "std_4.phone_number1 ##"
   ]
  },
  {
   "cell_type": "code",
   "execution_count": null,
   "id": "443a71ed-0ef4-44dc-aee3-8675ce37a541",
   "metadata": {},
   "outputs": [],
   "source": []
  }
 ],
 "metadata": {
  "kernelspec": {
   "display_name": "Python 3 (ipykernel)",
   "language": "python",
   "name": "python3"
  },
  "language_info": {
   "codemirror_mode": {
    "name": "ipython",
    "version": 3
   },
   "file_extension": ".py",
   "mimetype": "text/x-python",
   "name": "python",
   "nbconvert_exporter": "python",
   "pygments_lexer": "ipython3",
   "version": "3.10.8"
  }
 },
 "nbformat": 4,
 "nbformat_minor": 5
}
